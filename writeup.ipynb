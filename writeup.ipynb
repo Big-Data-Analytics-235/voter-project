{
 "cells": [
  {
   "cell_type": "markdown",
   "id": "a5b28054-4af3-4738-b79c-dd228e99c35f",
   "metadata": {},
   "source": [
    "# Analysis of Voter Turnout in Indiana Pre- and Post- Voter ID Law\n",
    "### Authors: Christopher Lefrak, Hannah Li, George Yang, and Kuai Yu\n",
    "### PSTAT 235"
   ]
  },
  {
   "cell_type": "code",
   "execution_count": 6,
   "id": "a3dc0141-f2f9-4733-8481-125321cc4cea",
   "metadata": {},
   "outputs": [],
   "source": [
    "#import packages\n"
   ]
  },
  {
   "cell_type": "markdown",
   "id": "821a2d3b-0c12-4ebc-a7db-91ad51fefd29",
   "metadata": {},
   "source": [
    "## Introduction\n",
    "\n",
    "[importance/potential effect of voter ID law]\n",
    "\n",
    "Thirty-five of the fifty states of the U.S. have passed stricter voter ID laws that require or request voters to present a form of identification at the polls. \n",
    "The remaining fifteen states do not require voters to present any documentation to vote at the polls. States such as Indiana, Wisconsin, and Tennessee have strict photo ID laws for voters, while states such as Minnesota, Nebraska, North Carolina, and Pennsylvania have no requirements for voter identification. A visualization of the levels of strictness of voter photo identification laws for each state can be seen in https://www.ncsl.org/elections-and-campaigns/voter-id#undefined. \n",
    "\n",
    "![Voter ID Laws](voteridmap.png)\n",
    "\n",
    "Advantages of implementing stricter voter identification requirements include preventing voter impersonation, thus  increasing public confidence in election processes. Disadvantages of implementing stricter laws unnecessarily burdens voters and administrators.\n",
    "\n",
    "## Goals\n",
    "In this project we focus our investigations of voter identification laws on the state of Indiana, which implemented a strict voter identification law in 2008. We seek to analyze how much voter turnout would have decreased or increased without the implentation of the law. \n",
    "\n",
    "> Project Goals\n",
    "> - Apply the matching method on pre- voter identification law features.\n",
    "> - Conduct k-Nearest-Neighbors (k-NN) classification to make predictions on voter data and cross validation to evaluate.\n",
    "> - Strengthen our pyspark data analysis skills, collaborative skills, and project organization skills\n",
    "\n",
    "[technologies, packages, skills...]"
   ]
  },
  {
   "cell_type": "markdown",
   "id": "52ff4d48-f0d5-44ff-ad6c-638ef44b5a47",
   "metadata": {},
   "source": [
    "## Indiana Voter Data\n",
    "\n",
    "### Dataset Overview\n",
    "\n",
    "Our data is from the course's voter files folder. We primarily use the dataset corresponding to Indiana. At a glance, the dataset contains 726 columns and 946908 rows, records beginning from .... and ending at March 5, 2021\n",
    "\n",
    "[eda/visualizations]\n",
    "\n",
    "### Data Cleaning\n",
    "\n",
    "Many of the columns of the dataset have missing values.\n",
    "We narrowed down our focus to individuals who were of the legal voting age of 18 or older at the time of voting.\n",
    "\n",
    "\n",
    "We subsetted the dataset to focus on a narrower set of voter attributes. We selected the following columns from the original dataset:\n",
    "[table with column names and descriptions]\n",
    "\n",
    "\n"
   ]
  },
  {
   "cell_type": "markdown",
   "id": "5f44f676-544a-4150-8874-c1e71d7baf1a",
   "metadata": {},
   "source": [
    "## Conditional Independence Assumption (CIA)\n",
    "\n",
    "Treatment assignment is as good as random in subgroups of the data with the same values of some covariates $X$.\n",
    "\n",
    "The potential outcomes are independent of the treatment assignment after adjusting for a set of covariates $X$"
   ]
  },
  {
   "cell_type": "markdown",
   "id": "51ba59e8-3537-4c35-aee3-5b7a9eee6d88",
   "metadata": {
    "tags": []
   },
   "source": [
    "## Regression vs Matching\n",
    "### Regression\n",
    "Regression is parametric as it has a function linking the treatment $D$ and covariates $X$ with the outcome $Y$, and has parameters $\\beta$'s to be estimated\n",
    "\n",
    "\n",
    "#### Problem with regression\n",
    "- doesn’t estimate weight based on weighted average- proportional on variance of the treatment in that group\n",
    "- Assumes linear relationships bt covariates and outcome\n",
    "- Underfitting, underestimating\n",
    "- instead: knn for matching thing\n",
    "\n",
    "### Matching\n",
    "\n",
    "Matching is non-parametric as it does not assume a functional form, and does not rely on the assumption of linearity.\n",
    "\n",
    "\n",
    "Matching not perfect, there’s bias\n",
    "\n",
    "Central limit thm doesn’t always hold-> bias correction\n",
    "\n",
    "\n"
   ]
  },
  {
   "cell_type": "markdown",
   "id": "5762ff81-5d44-4c5d-86ce-26f0a6be2f75",
   "metadata": {},
   "source": [
    "### Application to Voter ID Laws and Voter Turnout\n",
    "- x: (sex)\n",
    "- T=treatment assignment under natural circumstances(whether u have a voter - turnout law passed in your state) (drug)\n",
    "- Y= treatment effect/outcome (voter turnout) (days)\n",
    "- Y1,Y0= realized outcomes (if u were treated (have laws), if u weren’t treated (no laws))\n",
    "- Average treatment effect (how much voter turnout would have increased or decreased without law)\n",
    "- If we have independence bt (Y0,Y1) and T, easy\n",
    "- If not, must do things including matching\n",
    "\n",
    "Do for Indiana, then other states\n"
   ]
  },
  {
   "cell_type": "markdown",
   "id": "11734024-a001-421e-85de-a420cf7a5b1e",
   "metadata": {},
   "source": [
    "## Other States...."
   ]
  },
  {
   "cell_type": "markdown",
   "id": "dfb77773-514b-4c75-935f-185cd8530507",
   "metadata": {},
   "source": [
    "## k-Nearest-Neighbors (k-NN)\n",
    "\n",
    "We build a k-NN model, which is a supervised machine learning model. Thus, it learns from already la\n",
    "- curse of dimensionality\n",
    "### Cross Validation\n",
    "- see how well knn performs"
   ]
  },
  {
   "cell_type": "markdown",
   "id": "9abc2e49-f80b-4ba0-85a2-1b2a0a42e8bc",
   "metadata": {},
   "source": [
    "## Backup: Logistic Regression\n",
    "- use non-indiana data to predict Indiana data"
   ]
  },
  {
   "cell_type": "markdown",
   "id": "64a2c481-e077-4f9d-8692-88cf9d0c097d",
   "metadata": {},
   "source": [
    "## Summary of Findings\n",
    "\n",
    "\n",
    "## Conclusion\n",
    "\n",
    "[summary of everything]\n",
    "\n",
    "[issues]\n",
    "\n",
    "[significance]\n",
    "\n",
    "[possible future work]"
   ]
  },
  {
   "cell_type": "code",
   "execution_count": null,
   "id": "241dbe37-9a67-4ae3-b7b0-2af5fc2d9709",
   "metadata": {},
   "outputs": [],
   "source": []
  }
 ],
 "metadata": {
  "kernelspec": {
   "display_name": "Python 3",
   "language": "python",
   "name": "python3"
  },
  "language_info": {
   "codemirror_mode": {
    "name": "ipython",
    "version": 3
   },
   "file_extension": ".py",
   "mimetype": "text/x-python",
   "name": "python",
   "nbconvert_exporter": "python",
   "pygments_lexer": "ipython3",
   "version": "3.8.15"
  }
 },
 "nbformat": 4,
 "nbformat_minor": 5
}