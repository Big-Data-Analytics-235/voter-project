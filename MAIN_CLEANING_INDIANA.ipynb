{
 "cells": [
  {
   "cell_type": "code",
   "execution_count": null,
   "id": "7c68ff21-e7c7-4ec3-9ff2-685b9dc51049",
   "metadata": {},
   "outputs": [],
   "source": [
    "# Importing necessary modules\n",
    "import seaborn as sns\n",
    "import pyspark.sql.functions as F\n",
    "import pandas as pd\n",
    "import matplotlib.pyplot as plt\n",
    "from operator import add\n",
    "from functools import reduce\n",
    "import numpy as np\n",
    "import re\n",
    "import os\n",
    "from pyspark.sql.types import StructField, StructType, StringType, LongType\n",
    "from pyspark.sql.functions import *\n",
    "import random\n",
    "\n",
    "# Setting up visualization\n",
    "import matplotlib.pyplot as plt\n",
    "import pandas as pd\n",
    "%matplotlib inline"
   ]
  },
  {
   "cell_type": "markdown",
   "id": "c5254d59-a405-48c8-b3a6-7e80eb8c0cdc",
   "metadata": {},
   "source": []
  },
  {
   "cell_type": "code",
   "execution_count": null,
   "id": "d5929ec2-c109-452d-9526-54d1effaf42a",
   "metadata": {},
   "outputs": [],
   "source": [
    "indi_full = spark.read.parquet(\"gs://voter-project-235-25/VM2Uniform--IN--2021-01-15_parq\")"
   ]
  },
  {
   "cell_type": "markdown",
   "id": "c61fb663-d642-4d45-8e22-5a5738388857",
   "metadata": {},
   "source": [
    "NOTE for future: important to add in competitiveness of the election?"
   ]
  },
  {
   "cell_type": "code",
   "execution_count": null,
   "id": "b89da364-ce3f-406d-8736-f1ba095f6eeb",
   "metadata": {},
   "outputs": [],
   "source": [
    "cols_to_keep = [\n",
    "    \"Voters_Gender\",\n",
    "    \"Voters_Age\",\n",
    "    \"Voters_BirthDate\",\n",
    "    \"Residence_Families_HHCount\",\n",
    "    \"Residence_HHGender_Description\",\n",
    "    \"Mailing_Families_HHCount\",\n",
    "    \"Mailing_HHGender_Description\",\n",
    "\n",
    "#   !! voter party affiliation\n",
    "    \"Parties_Description\", \n",
    "    \n",
    "    \"CommercialData_PropertyType\",\n",
    "    \"AddressDistricts_Change_Changed_CD\",\n",
    "    \"AddressDistricts_Change_Changed_SD\",\n",
    "    \"AddressDistricts_Change_Changed_HD\",\n",
    "    \"AddressDistricts_Change_Changed_County\",\n",
    "    \"Residence_Addresses_Density\",\n",
    "    \"CommercialData_EstimatedHHIncome\",\n",
    "    \"CommercialData_ISPSA\",\n",
    "    \"CommercialData_AreaMedianEducationYears\",\n",
    "    \"CommercialData_AreaMedianHousingValue\",\n",
    "    \"CommercialData_MosaicZ4Global\",\n",
    "    \"CommercialData_AreaPcntHHMarriedCoupleNoChild\",\n",
    "    \"CommercialData_AreaPcntHHMarriedCoupleWithChild\",\n",
    "    \"CommercialData_AreaPcntHHSpanishSpeaking\",\n",
    "    \"CommercialData_AreaPcntHHWithChildren\",\n",
    "    \"CommercialData_StateIncomeDecile\",\n",
    "    \"Ethnic_Description\",\n",
    "    \"EthnicGroups_EthnicGroup1Desc\",\n",
    "    \"CommercialData_DwellingType\",\n",
    "    \"CommercialData_PresenceOfChildrenCode\",\n",
    "    \"CommercialData_PresenceOfPremCredCrdInHome\",\n",
    "    \"CommercialData_DonatesToCharityInHome\",\n",
    "    \"CommercialData_DwellingUnitSize\",\n",
    "    \"CommercialData_ComputerOwnerInHome\",\n",
    "    \"CommercialData_DonatesEnvironmentCauseInHome\",\n",
    "    \"CommercialData_Education\",\n",
    "    \n",
    "#   Don't include because of lookahead bias  \n",
    "#     \"Voters_VotingPerformanceEvenYearGeneral\",\n",
    "#     \"Voters_VotingPerformanceEvenYearPrimary\",\n",
    "#     \"Voters_VotingPerformanceEvenYearGeneralAndPrimary\",\n",
    "#     \"Voters_VotingPerformanceMinorElection\",\n",
    "    \n",
    "#   Other control variables that expect to be highly associated with outcome:\n",
    "#     \"ElectionReturns_P08CountyTurnoutAllRegisteredVoters\",\n",
    "#     \"ElectionReturns_P08CountyTurnoutDemocrats\",\n",
    "#     \"ElectionReturns_P08CountyTurnoutRepublicans\",\n",
    "    \"General_2000\",\n",
    "    \"General_2004\",\n",
    "    \"PresidentialPrimary_2000\",\n",
    "    \"PresidentialPrimary_2004\",\n",
    "        \n",
    "#   Outcome variable (indiana law happens in 2005, approved by SCOTUS before presidential election in 2008)\n",
    "    \"General_2008\"\n",
    "]\n"
   ]
  },
  {
   "cell_type": "code",
   "execution_count": null,
   "id": "310b0c2d-7304-4aaf-937d-51e866149130",
   "metadata": {},
   "outputs": [],
   "source": [
    "indi = (indi_full\n",
    "        .select(cols_to_keep))"
   ]
  },
  {
   "cell_type": "markdown",
   "id": "936ccf0a-dc83-4937-8da8-2e3ba7ca01d0",
   "metadata": {},
   "source": [
    "Based on the voter AGE, calculate the DATE at which they turn 18.\n",
    "Make a new vaiable that is the YEAR of the earliest election that someone COULD participate in\n",
    "IF the DATE is less than Nov 3rd, take the year at which they turn 18. If the date is greater than Nov 3rd,\n",
    "get the year afterwards."
   ]
  },
  {
   "cell_type": "code",
   "execution_count": null,
   "id": "87c3b054-7aba-4550-9df4-680e6fb640f6",
   "metadata": {},
   "outputs": [],
   "source": [
    "yrs_add = 18\n",
    "months_add = 18*12\n",
    "\n",
    "# date of national \n",
    "target_month_day_presidential = \"11-03\"\n",
    "\n",
    "# date of Indiana's presidential primary\n",
    "target_month_day_primary = \"05-03\" \n",
    "\n",
    "indi = indi.withColumn(\"DATE_18\", add_months(to_date(col(\"Voters_BirthDate\"),\"MM/dd/yyyy\"), months_add))\n",
    "indi.select([\"Voters_BirthDate\", \"DATE_18\"]).show(10)\n",
    "indi = indi.dropna(subset = \"Voters_BirthDate\")\n",
    "indi = indi.withColumn(\"YEAR_18\", year(\"DATE_18\"))\n",
    "indi = indi.withColumn(\"comparator_date_presidential\", to_date(concat(col(\"YEAR_18\"), lit(\"-\"), lit(target_month_day_presidential))))\n",
    "indi = indi.withColumn(\"comparator_date_primary\", to_date(concat(col(\"YEAR_18\"), lit(\"-\"), lit(target_month_day_primary))))\n",
    "indi = indi.withColumn(\"YEAR_ELIGIBLE_TO_VOTE_PRESIDENTIAL\", \\\n",
    "                             when(col(\"DATE_18\")<=col(\"comparator_date_presidential\"), col(\"YEAR_18\")) \\\n",
    "                             .otherwise(col(\"YEAR_18\") + 1) \\\n",
    "                            )\n",
    "indi = indi.withColumn(\"YEAR_ELIGIBLE_TO_VOTE_PRIMARY\", \\\n",
    "                             when(col(\"DATE_18\")<=col(\"comparator_date_primary\"), col(\"YEAR_18\")) \\\n",
    "                             .otherwise(col(\"YEAR_18\") + 1) \\\n",
    "                            )\n",
    "\n",
    "# check no missing vals:\n",
    "indi.where(col(\"YEAR_18\").isNull()).select(\"YEAR_18\").show(10)\n",
    "\n",
    "# get rid of rows where the voter was not old enough to vote in the 2008 general election\n",
    "indi = indi.filter(col(\"YEAR_ELIGIBLE_TO_VOTE_PRESIDENTIAL\")<=2008).fillna(\"N\", subset = [\"General_2008\"])\n",
    "\n",
    "# for the 2000 and 2004 general elections, replace with \"N\" IF the person was old enough to vote at the time\n",
    "indi = indi.withColumn(\"General_2000\", \\\n",
    "                      when((col(\"YEAR_ELIGIBLE_TO_VOTE_PRESIDENTIAL\")<= 2004) & \\\n",
    "                           (col(\"General_2000\").isNull()), \"N\") \\\n",
    "                      .otherwise(col(\"General_2000\")) \\\n",
    "                      )\n",
    "\n",
    "indi = indi.withColumn(\"General_2004\", \\\n",
    "                      when((col(\"YEAR_ELIGIBLE_TO_VOTE_PRESIDENTIAL\")<= 2004) & \\\n",
    "                           (col(\"General_2004\").isNull()), \"N\") \\\n",
    "                      .otherwise(col(\"General_2004\")) \\\n",
    "                      )\n",
    "\n",
    "# do the same for the primaries:\n",
    "indi = indi.withColumn(\"PresidentialPrimary_2000\", \\\n",
    "                      when((col(\"YEAR_ELIGIBLE_TO_VOTE_PRIMARY\")<= 2004) & \\\n",
    "                           (col(\"PresidentialPrimary_2000\").isNull()), \"N\") \\\n",
    "                      .otherwise(col(\"PresidentialPrimary_2000\")) \\\n",
    "                      )\n",
    "\n",
    "indi = indi.withColumn(\"PresidentialPrimary_2004\", \\\n",
    "                      when((col(\"YEAR_ELIGIBLE_TO_VOTE_PRIMARY\")<= 2004) & \\\n",
    "                           (col(\"PresidentialPrimary_2004\").isNull()), \"N\") \\\n",
    "                      .otherwise(col(\"PresidentialPrimary_2004\")) \\\n",
    "                      )\n",
    "\n",
    "# make the general voting for 2008 a numeric variable; since we've deleted\n",
    "# everyone who was not eligible to vote, this can be directly calculated with a 1-0.\n",
    "indi = indi.withColumn(\"Voted_General_2008\", when(indi.General_2008 == \"Y\",1).otherwise(0))\n",
    "indi = indi.drop(\"General_2008\")"
   ]
  },
  {
   "cell_type": "code",
   "execution_count": null,
   "id": "0dff591b-2847-4a37-bf6b-b46b1dd5b889",
   "metadata": {},
   "outputs": [],
   "source": [
    "indi.printSchema()"
   ]
  },
  {
   "cell_type": "code",
   "execution_count": null,
   "id": "dcdf8af2-1d97-49e2-adc7-c3c24b547f4a",
   "metadata": {},
   "outputs": [],
   "source": [
    "# get a subset of the data to prototype code:\n",
    "\n",
    "sampleind = indi.sample(True, 0.1, seed = 19480384)"
   ]
  },
  {
   "cell_type": "code",
   "execution_count": null,
   "id": "36e2bb9d-2195-4a60-93bb-dabf18dd7cc6",
   "metadata": {},
   "outputs": [],
   "source": [
    "sampleind.count()"
   ]
  },
  {
   "cell_type": "markdown",
   "id": "3881c85a-de57-4491-a8ca-68ec14478f85",
   "metadata": {},
   "source": [
    "Go through each of the columns and print the percentage missing or NULL:"
   ]
  },
  {
   "cell_type": "code",
   "execution_count": null,
   "id": "3cda0520-ca02-4a57-940e-5fad6f0bb890",
   "metadata": {},
   "outputs": [],
   "source": [
    "num_rows = sampleind.count()\n",
    "for col_name in sampleind.columns:\n",
    "    missing_pct = 100*sampleind.filter(col(col_name).isNull()).count() / num_rows\n",
    "    print(f\"{col_name}: {missing_pct}% missing\")"
   ]
  },
  {
   "cell_type": "code",
   "execution_count": null,
   "id": "db1154cb-cd5f-42dd-8b22-1ee4a97b0d24",
   "metadata": {},
   "outputs": [],
   "source": [
    "# GET THE UNIQUE VALUES OF EACH COLUMN\n",
    "# for i in sampleind.columns:\n",
    "#     print(sampleind.select(i).distinct().collect())\n",
    "#     print(i)"
   ]
  },
  {
   "cell_type": "code",
   "execution_count": null,
   "id": "a5b6398c-1361-43e0-a1e5-bf8e29d93fcd",
   "metadata": {},
   "outputs": [],
   "source": [
    "# Convert CommercialData_EstimatedHHIncome to numeric by just taking the right-most number, and replacing all \"$\", \"-\", and \"+\"\n",
    "\n",
    "sampleind = sampleind.withColumn(\"CommercialData_EstimatedHHIncome\", regexp_extract(col(\"CommercialData_EstimatedHHIncome\"), \"(?<=-).*\", 0))\n",
    "\n",
    "sampleind = sampleind.withColumn(\"CommercialData_EstimatedHHIncome\", \\\n",
    "                             regexp_replace('CommercialData_EstimatedHHIncome', \"[\\$,+]\", \"\") \\\n",
    "                            )\n",
    "\n",
    "sampleind = sampleind.withColumn(\"CommercialData_EstimatedHHIncome\",col(\"CommercialData_EstimatedHHIncome\").cast('double'))"
   ]
  },
  {
   "cell_type": "code",
   "execution_count": null,
   "id": "8fb81e99-f4c4-4520-a94f-353316db8c11",
   "metadata": {},
   "outputs": [],
   "source": [
    "sampleind.select([\"CommercialData_EstimatedHHIncome\"]).show(10, truncate=False)"
   ]
  },
  {
   "cell_type": "code",
   "execution_count": null,
   "id": "73ab145c-4c7d-4af3-b36a-0d3473331667",
   "metadata": {},
   "outputs": [],
   "source": [
    "# Convert CommercialData_AreaMedianHousingValue to numeric by replacing \"$\"\n",
    "\n",
    "sampleind = sampleind.withColumn(\"CommercialData_AreaMedianHousingValue\", regexp_replace(\"CommercialData_AreaMedianHousingValue\", \"\\$\", \"\"))\n",
    "sampleind = sampleind.withColumn(\"CommercialData_AreaMedianHousingValue\",col(\"CommercialData_AreaMedianHousingValue\").cast('double'))\n",
    "sampleind.select([\"CommercialData_AreaMedianHousingValue\"]).show(10, truncate=False)"
   ]
  },
  {
   "cell_type": "code",
   "execution_count": null,
   "id": "3023cd6f-f9b9-4316-a29d-22d05a87f081",
   "metadata": {},
   "outputs": [],
   "source": [
    "# Search for \"Pnct\" in the column name, and convert to numeric by replacing \"%\"\n",
    "\n",
    "cols_to_convert = [c for c in sampleind.columns if \"Pcnt\" in c]\n",
    "cols_to_convert"
   ]
  },
  {
   "cell_type": "code",
   "execution_count": null,
   "id": "a69bab30-7f51-4eb8-b348-27a07266feed",
   "metadata": {},
   "outputs": [],
   "source": [
    "for col_name in cols_to_convert:\n",
    "    sampleind = sampleind.withColumn(col_name, regexp_replace(col_name, \"\\%\", \"\"))\n",
    "    sampleind = sampleind.withColumn(col_name, col(col_name).cast('double'))\n",
    "    sampleind.select([col_name]).show(5, truncate=False)"
   ]
  },
  {
   "cell_type": "code",
   "execution_count": null,
   "id": "5642f7a9-b94f-45e9-b97b-bda6963ff59f",
   "metadata": {},
   "outputs": [],
   "source": [
    "# delete columns used for getting voter turnout data\n",
    "\n",
    "columns_to_drop = [\"comparator_date_presidential\", \"target_month_day_primary\", \n",
    "                   \"YEAR_ELIGIBLE_TO_VOTE_PRESIDENTIAL\", \"comparator_date_primary\", \n",
    "                   \"YEAR_ELIGIBLE_TO_VOTE_PRIMARY\", \"YEAR_18\", \"DATE_18\"]\n",
    "\n",
    "sampleind = sampleind.drop(*columns_to_drop)"
   ]
  },
  {
   "cell_type": "code",
   "execution_count": null,
   "id": "d1c46a4f-fbc7-4f5f-9778-4e78dcc753f6",
   "metadata": {},
   "outputs": [],
   "source": [
    "sampleind.columns"
   ]
  },
  {
   "cell_type": "markdown",
   "id": "79ad7352-ac84-4506-b74d-fe5d8cee6df8",
   "metadata": {},
   "source": [
    "# IMPUTATION OF MISSING VALUES"
   ]
  },
  {
   "cell_type": "code",
   "execution_count": null,
   "id": "1b641985-29ad-471b-92e3-2a6db492f9ad",
   "metadata": {},
   "outputs": [],
   "source": [
    "# for categorical variables, replace missing value with \"O\" for \n",
    "# other (including General_2000, General_2004, PresidentialPrimary_2000, PresidentialPrimary_2004)\n",
    "\n",
    "# Get a list of all column types:\n",
    "numeric_cols = [item[0] for item in sampleind.dtypes if item[1].startswith('string')]\n",
    "categorical_cols = [item[0] for item in sampleind.dtypes if not item[1].startswith('string')]\n",
    "\n",
    "numeric_cols\n",
    "\n",
    "# Replace missing values with \"O\" for other\n",
    "sampleind = sampleind.fillna(\"O\", subset=categorical_cols)"
   ]
  },
  {
   "cell_type": "code",
   "execution_count": null,
   "id": "fcf1c477-cf7c-4e4c-a238-6314ce4ffa37",
   "metadata": {},
   "outputs": [],
   "source": [
    "# for numeric values, replace missing values with median:\n",
    "\n",
    "from pyspark.ml.feature import Imputer\n",
    "\n",
    "# Currently Imputer does not support categorical features and possibly creates incorrect values for a categorical feature.\n",
    "# https://www.analyticsvidhya.com/blog/2022/05/data-preprocessing-using-pyspark-handling-missing-values/\n",
    "\n",
    "sampleind = sampleind.select(*(col(c).cast(\"float\").alias(c) for c in sampleind.columns))\n",
    "\n",
    "imputer = Imputer(\n",
    "    inputCols=sampleind.columns, \n",
    "    outputCols=[\"{}_imputed\".format(c) for c in sampleind.columns]\n",
    "    ).setStrategy(\"median\")\n",
    "\n",
    "# Add imputation cols to sampleind\n",
    "sampleind = imputer.fit(sampleind).transform(sampleind)"
   ]
  },
  {
   "cell_type": "code",
   "execution_count": null,
   "id": "2afdee51-ce78-4574-a87c-4df1a089eb28",
   "metadata": {},
   "outputs": [],
   "source": [
    "# scale all data with z score\n",
    "from pyspark.ml.feature import StandardScaler\n",
    "from pyspark.ml.feature import VectorAssembler\n",
    "\n",
    "# Create a VectorAssembler to assemble all numeric columns into a single vector column\n",
    "assembler = VectorAssembler(inputCols=numeric_cols, outputCol=\"features\")\n",
    "\n",
    "# Apply VectorAssembler to the DataFrame\n",
    "sampleind_assembled = assembler.transform(sampleind)\n",
    "\n",
    "# Scale the vector column using StandardScaler\n",
    "scaler = StandardScaler(inputCol=\"features\", outputCol=\"scaled_features\", withStd=True, withMean=True)\n",
    "scalerModel = scaler.fit(sampleind_assembled)\n",
    "sampleind_scaled = scalerModel.transform(sampleind_assembled)\n",
    "\n",
    "# Extract the scaled numeric columns from the scaled vector column\n",
    "for i, col_name in enumerate(numeric_cols):\n",
    "    sampleind_scaled = sampleind_scaled.withColumn(col_name + \"_scaled\", sampleind_scaled.scaled_features[i])\n",
    "\n",
    "# Drop the original numeric columns and the vector and scaled vector columns\n",
    "sampleind_scaled = sampleind_scaled.drop(*numeric_cols).drop(\"features\", \"scaled_features\")"
   ]
  },
  {
   "cell_type": "code",
   "execution_count": null,
   "id": "fb7b768d-4ad9-4053-93db-24c4f93ab39e",
   "metadata": {},
   "outputs": [],
   "source": [
    "# subset columns by regular expression\n",
    "def select_matched(df, pattern, printSchema = False, void = False):\n",
    "    \"\"\"\n",
    "    Function that selects the columns of `df` that match the regular expression `pattern`.\n",
    "    Parameters:\n",
    "        df -- PySpark dataframe\n",
    "        pattern: string -- regular expression\n",
    "        printSchema: bool -- If True, print schema of resulting dataframe\n",
    "        void: bool -- If True, return None, otherwise, return resulting dataframe\n",
    "    \"\"\"\n",
    "    pattern = re.compile(pattern)\n",
    "    selected = [s for s in df.columns if pattern.match(s)]\n",
    "    if (printSchema) & (not void):\n",
    "        df = df.select(selected)\n",
    "        df.printSchema()\n",
    "        return df\n",
    "    elif printSchema:\n",
    "        df.select(selected).printSchema()\n",
    "    elif not void:\n",
    "        return df.select(selected)"
   ]
  },
  {
   "cell_type": "code",
   "execution_count": null,
   "id": "1c6f4d7e-5ad8-42c0-aa75-96adaf29dc92",
   "metadata": {},
   "outputs": [],
   "source": [
    "select_matched(sampleind, \"Voters\").select(\"Voters_Gender\").show()"
   ]
  }
 ],
 "metadata": {
  "kernelspec": {
   "display_name": "PySpark",
   "language": "python",
   "name": "pyspark"
  },
  "language_info": {
   "codemirror_mode": {
    "name": "ipython",
    "version": 3
   },
   "file_extension": ".py",
   "mimetype": "text/x-python",
   "name": "python",
   "nbconvert_exporter": "python",
   "pygments_lexer": "ipython3",
   "version": "3.8.15"
  }
 },
 "nbformat": 4,
 "nbformat_minor": 5
}