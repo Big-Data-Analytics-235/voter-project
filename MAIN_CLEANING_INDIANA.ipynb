{
 "cells": [
  {
   "cell_type": "code",
   "execution_count": 50,
   "id": "7c68ff21-e7c7-4ec3-9ff2-685b9dc51049",
   "metadata": {},
   "outputs": [],
   "source": [
    "# Importing necessary modules\n",
    "import seaborn as sns\n",
    "import pyspark.sql.functions as F\n",
    "import pandas as pd\n",
    "import matplotlib.pyplot as plt\n",
    "from operator import add\n",
    "from functools import reduce\n",
    "import numpy as np\n",
    "import re\n",
    "import os\n",
    "from pyspark.sql.types import StructField, StructType, StringType, LongType\n",
    "from pyspark.sql.functions import *\n",
    "import random\n",
    "\n",
    "# Setting up visualization\n",
    "import matplotlib.pyplot as plt\n",
    "import pandas as pd\n",
    "%matplotlib inline"
   ]
  },
  {
   "cell_type": "code",
   "execution_count": 51,
   "id": "d5929ec2-c109-452d-9526-54d1effaf42a",
   "metadata": {},
   "outputs": [],
   "source": [
    "indi_full = spark.read.parquet(\"gs://voter-project-235-25/VM2Uniform--IN--2021-01-15_parq\")"
   ]
  },
  {
   "cell_type": "markdown",
   "id": "c61fb663-d642-4d45-8e22-5a5738388857",
   "metadata": {},
   "source": [
    "NOTE for future: important to add in competitiveness of the election?"
   ]
  },
  {
   "cell_type": "code",
   "execution_count": 52,
   "id": "b89da364-ce3f-406d-8736-f1ba095f6eeb",
   "metadata": {},
   "outputs": [],
   "source": [
    "cols_to_keep = [\n",
    "    \"Voters_Gender\",\n",
    "    \"Voters_Age\",\n",
    "    \"Voters_BirthDate\",\n",
    "    \"Residence_Families_HHCount\",\n",
    "    \"Residence_HHGender_Description\",\n",
    "    \"Mailing_Families_HHCount\",\n",
    "    \"Mailing_HHGender_Description\",\n",
    "\n",
    "#   !! voter party affiliation\n",
    "    \"Parties_Description\", \n",
    "    \n",
    "    \"CommercialData_PropertyType\",\n",
    "    \"AddressDistricts_Change_Changed_CD\",\n",
    "    \"AddressDistricts_Change_Changed_SD\",\n",
    "    \"AddressDistricts_Change_Changed_HD\",\n",
    "    \"AddressDistricts_Change_Changed_County\",\n",
    "    \"Residence_Addresses_Density\",\n",
    "    \"CommercialData_EstimatedHHIncome\",\n",
    "    \"CommercialData_ISPSA\",\n",
    "    \"CommercialData_AreaMedianEducationYears\",\n",
    "    \"CommercialData_AreaMedianHousingValue\",\n",
    "    \"CommercialData_MosaicZ4Global\",\n",
    "    \"CommercialData_AreaPcntHHMarriedCoupleNoChild\",\n",
    "    \"CommercialData_AreaPcntHHMarriedCoupleWithChild\",\n",
    "    \"CommercialData_AreaPcntHHSpanishSpeaking\",\n",
    "    \"CommercialData_AreaPcntHHWithChildren\",\n",
    "    \"CommercialData_StateIncomeDecile\",\n",
    "    \"Ethnic_Description\",\n",
    "    \"EthnicGroups_EthnicGroup1Desc\",\n",
    "    \"CommercialData_DwellingType\",\n",
    "    \"CommercialData_PresenceOfChildrenCode\",\n",
    "    \"CommercialData_PresenceOfPremCredCrdInHome\",\n",
    "    \"CommercialData_DonatesToCharityInHome\",\n",
    "    \"CommercialData_DwellingUnitSize\",\n",
    "    \"CommercialData_ComputerOwnerInHome\",\n",
    "    \"CommercialData_DonatesEnvironmentCauseInHome\",\n",
    "    \"CommercialData_Education\",\n",
    "    \n",
    "#   Don't include because of lookahead bias  \n",
    "#     \"Voters_VotingPerformanceEvenYearGeneral\",\n",
    "#     \"Voters_VotingPerformanceEvenYearPrimary\",\n",
    "#     \"Voters_VotingPerformanceEvenYearGeneralAndPrimary\",\n",
    "#     \"Voters_VotingPerformanceMinorElection\",\n",
    "    \n",
    "#   Other control variables that expect to be highly associated with outcome:\n",
    "#     \"ElectionReturns_P08CountyTurnoutAllRegisteredVoters\",\n",
    "#     \"ElectionReturns_P08CountyTurnoutDemocrats\",\n",
    "#     \"ElectionReturns_P08CountyTurnoutRepublicans\",\n",
    "    \"General_2000\",\n",
    "    \"General_2004\",\n",
    "    \"PresidentialPrimary_2000\",\n",
    "    \"PresidentialPrimary_2004\",\n",
    "        \n",
    "#   Outcome variable (indiana law happens in 2005, approved by SCOTUS before presidential election in 2008)\n",
    "    \"General_2008\"\n",
    "]\n"
   ]
  },
  {
   "cell_type": "code",
   "execution_count": 53,
   "id": "310b0c2d-7304-4aaf-937d-51e866149130",
   "metadata": {},
   "outputs": [],
   "source": [
    "indi = (indi_full\n",
    "        .select(cols_to_keep))"
   ]
  },
  {
   "cell_type": "markdown",
   "id": "936ccf0a-dc83-4937-8da8-2e3ba7ca01d0",
   "metadata": {},
   "source": [
    "Based on the voter AGE, calculate the DATE at which they turn 18.\n",
    "Make a new vaiable that is the YEAR of the earliest election that someone COULD participate in\n",
    "IF the DATE is less than Nov 3rd, take the year at which they turn 18. If the date is greater than Nov 3rd,\n",
    "get the year afterwards."
   ]
  },
  {
   "cell_type": "code",
   "execution_count": 57,
   "id": "87c3b054-7aba-4550-9df4-680e6fb640f6",
   "metadata": {},
   "outputs": [
    {
     "name": "stdout",
     "output_type": "stream",
     "text": [
      "+----------------+----------+\n",
      "|Voters_BirthDate|   DATE_18|\n",
      "+----------------+----------+\n",
      "|      05/25/1951|1969-05-25|\n",
      "|      04/05/1954|1972-04-05|\n",
      "|      12/04/1959|1977-12-04|\n",
      "|      08/02/1955|1973-08-02|\n",
      "|      07/13/1953|1971-07-13|\n",
      "|      05/26/1961|1979-05-26|\n",
      "|      06/08/1990|2008-06-08|\n",
      "|      06/26/1956|1974-06-26|\n",
      "|      04/15/1985|2003-04-15|\n",
      "|      03/01/1951|1969-03-01|\n",
      "+----------------+----------+\n",
      "only showing top 10 rows\n",
      "\n"
     ]
    },
    {
     "name": "stderr",
     "output_type": "stream",
     "text": [
      "                                                                                \r"
     ]
    },
    {
     "name": "stdout",
     "output_type": "stream",
     "text": [
      "+-------+\n",
      "|YEAR_18|\n",
      "+-------+\n",
      "+-------+\n",
      "\n"
     ]
    }
   ],
   "source": [
    "yrs_add = 18\n",
    "months_add = 18*12\n",
    "\n",
    "# date of national \n",
    "target_month_day_presidential = \"11-03\"\n",
    "\n",
    "# date of Indiana's presidential primary\n",
    "target_month_day_primary = \"05-03\" \n",
    "\n",
    "indi = indi.withColumn(\"DATE_18\", add_months(to_date(col(\"Voters_BirthDate\"),\"MM/dd/yyyy\"), months_add))\n",
    "indi.select([\"Voters_BirthDate\", \"DATE_18\"]).show(10)\n",
    "indi = indi.dropna(subset = \"Voters_BirthDate\")\n",
    "indi = indi.withColumn(\"YEAR_18\", year(\"DATE_18\"))\n",
    "indi = indi.withColumn(\"comparator_date_presidential\", to_date(concat(col(\"YEAR_18\"), lit(\"-\"), lit(target_month_day_presidential))))\n",
    "indi = indi.withColumn(\"comparator_date_primary\", to_date(concat(col(\"YEAR_18\"), lit(\"-\"), lit(target_month_day_primary))))\n",
    "indi = indi.withColumn(\"YEAR_ELIGIBLE_TO_VOTE_PRESIDENTIAL\", \\\n",
    "                             when(col(\"DATE_18\")<=col(\"comparator_date_presidential\"), col(\"YEAR_18\")) \\\n",
    "                             .otherwise(col(\"YEAR_18\") + 1) \\\n",
    "                            )\n",
    "indi = indi.withColumn(\"YEAR_ELIGIBLE_TO_VOTE_PRIMARY\", \\\n",
    "                             when(col(\"DATE_18\")<=col(\"comparator_date_primary\"), col(\"YEAR_18\")) \\\n",
    "                             .otherwise(col(\"YEAR_18\") + 1) \\\n",
    "                            )\n",
    "\n",
    "# check no missing vals:\n",
    "indi.where(col(\"YEAR_18\").isNull()).select(\"YEAR_18\").show(10)\n",
    "\n",
    "# get rid of rows where the voter was not old enough to vote in the 2008 general election\n",
    "indi = indi.filter(col(\"YEAR_ELIGIBLE_TO_VOTE_PRESIDENTIAL\")<=2008).fillna(\"N\", subset = [\"General_2008\"])\n",
    "\n",
    "# for the 2000 and 2004 general elections, replace with \"N\" IF the person was old enough to vote at the time\n",
    "indi = indi.withColumn(\"General_2000\", \\\n",
    "                      when((col(\"YEAR_ELIGIBLE_TO_VOTE_PRESIDENTIAL\")<= 2004) & \\\n",
    "                           (col(\"General_2000\").isNull()), \"N\") \\\n",
    "                      .otherwise(col(\"General_2000\")) \\\n",
    "                      )\n",
    "\n",
    "indi = indi.withColumn(\"General_2004\", \\\n",
    "                      when((col(\"YEAR_ELIGIBLE_TO_VOTE_PRESIDENTIAL\")<= 2004) & \\\n",
    "                           (col(\"General_2004\").isNull()), \"N\") \\\n",
    "                      .otherwise(col(\"General_2004\")) \\\n",
    "                      )\n",
    "\n",
    "# do the same for the primaries:\n",
    "indi = indi.withColumn(\"PresidentialPrimary_2000\", \\\n",
    "                      when((col(\"YEAR_ELIGIBLE_TO_VOTE_PRIMARY\")<= 2004) & \\\n",
    "                           (col(\"PresidentialPrimary_2000\").isNull()), \"N\") \\\n",
    "                      .otherwise(col(\"PresidentialPrimary_2000\")) \\\n",
    "                      )\n",
    "\n",
    "indi = indi.withColumn(\"PresidentialPrimary_2004\", \\\n",
    "                      when((col(\"YEAR_ELIGIBLE_TO_VOTE_PRIMARY\")<= 2004) & \\\n",
    "                           (col(\"PresidentialPrimary_2004\").isNull()), \"N\") \\\n",
    "                      .otherwise(col(\"PresidentialPrimary_2004\")) \\\n",
    "                      )\n",
    "\n",
    "# make the general voting for 2008 a numeric variable; since we've deleted\n",
    "# everyone who was not eligible to vote, this can be directly calculated with a 1-0.\n",
    "indi = indi.withColumn(\"Voted_General_2008\", when(indi.General_2008 == \"Y\",1).otherwise(0))\n",
    "indi = indi.drop(\"General_2008\")"
   ]
  },
  {
   "cell_type": "code",
   "execution_count": 58,
   "id": "0dff591b-2847-4a37-bf6b-b46b1dd5b889",
   "metadata": {},
   "outputs": [
    {
     "name": "stdout",
     "output_type": "stream",
     "text": [
      "root\n",
      " |-- Voters_Gender: string (nullable = true)\n",
      " |-- Voters_Age: integer (nullable = true)\n",
      " |-- Voters_BirthDate: string (nullable = true)\n",
      " |-- Residence_Families_HHCount: integer (nullable = true)\n",
      " |-- Residence_HHGender_Description: string (nullable = true)\n",
      " |-- Mailing_Families_HHCount: integer (nullable = true)\n",
      " |-- Mailing_HHGender_Description: string (nullable = true)\n",
      " |-- Parties_Description: string (nullable = true)\n",
      " |-- CommercialData_PropertyType: string (nullable = true)\n",
      " |-- AddressDistricts_Change_Changed_CD: string (nullable = true)\n",
      " |-- AddressDistricts_Change_Changed_SD: string (nullable = true)\n",
      " |-- AddressDistricts_Change_Changed_HD: string (nullable = true)\n",
      " |-- AddressDistricts_Change_Changed_County: string (nullable = true)\n",
      " |-- Residence_Addresses_Density: integer (nullable = true)\n",
      " |-- CommercialData_EstimatedHHIncome: string (nullable = true)\n",
      " |-- CommercialData_ISPSA: integer (nullable = true)\n",
      " |-- CommercialData_AreaMedianEducationYears: integer (nullable = true)\n",
      " |-- CommercialData_AreaMedianHousingValue: string (nullable = true)\n",
      " |-- CommercialData_MosaicZ4Global: string (nullable = true)\n",
      " |-- CommercialData_AreaPcntHHMarriedCoupleNoChild: string (nullable = true)\n",
      " |-- CommercialData_AreaPcntHHMarriedCoupleWithChild: string (nullable = true)\n",
      " |-- CommercialData_AreaPcntHHSpanishSpeaking: string (nullable = true)\n",
      " |-- CommercialData_AreaPcntHHWithChildren: string (nullable = true)\n",
      " |-- CommercialData_StateIncomeDecile: integer (nullable = true)\n",
      " |-- Ethnic_Description: string (nullable = true)\n",
      " |-- EthnicGroups_EthnicGroup1Desc: string (nullable = true)\n",
      " |-- CommercialData_DwellingType: string (nullable = true)\n",
      " |-- CommercialData_PresenceOfChildrenCode: string (nullable = true)\n",
      " |-- CommercialData_PresenceOfPremCredCrdInHome: string (nullable = true)\n",
      " |-- CommercialData_DonatesToCharityInHome: string (nullable = true)\n",
      " |-- CommercialData_DwellingUnitSize: string (nullable = true)\n",
      " |-- CommercialData_ComputerOwnerInHome: string (nullable = true)\n",
      " |-- CommercialData_DonatesEnvironmentCauseInHome: string (nullable = true)\n",
      " |-- CommercialData_Education: string (nullable = true)\n",
      " |-- General_2000: string (nullable = true)\n",
      " |-- General_2004: string (nullable = true)\n",
      " |-- PresidentialPrimary_2000: string (nullable = true)\n",
      " |-- PresidentialPrimary_2004: string (nullable = true)\n",
      " |-- DATE_18: date (nullable = true)\n",
      " |-- YEAR_18: integer (nullable = true)\n",
      " |-- comparator_date_presidential: date (nullable = true)\n",
      " |-- target_month_day_primary: date (nullable = true)\n",
      " |-- YEAR_ELIGIBLE_TO_VOTE_PRESIDENTIAL: integer (nullable = true)\n",
      " |-- comparator_date_primary: date (nullable = true)\n",
      " |-- YEAR_ELIGIBLE_TO_VOTE_PRIMARY: integer (nullable = true)\n",
      " |-- Voted_General_2008: integer (nullable = false)\n",
      "\n"
     ]
    }
   ],
   "source": [
    "indi.printSchema()"
   ]
  },
  {
   "cell_type": "code",
   "execution_count": 79,
   "id": "dcdf8af2-1d97-49e2-adc7-c3c24b547f4a",
   "metadata": {},
   "outputs": [],
   "source": [
    "# get a subset of the data to prototype code:\n",
    "\n",
    "sampleind = indi.sample(True, 0.1, seed = 19480384)"
   ]
  },
  {
   "cell_type": "code",
   "execution_count": 60,
   "id": "36e2bb9d-2195-4a60-93bb-dabf18dd7cc6",
   "metadata": {},
   "outputs": [
    {
     "name": "stderr",
     "output_type": "stream",
     "text": [
      "                                                                                \r"
     ]
    },
    {
     "data": {
      "text/plain": [
       "355879"
      ]
     },
     "execution_count": 60,
     "metadata": {},
     "output_type": "execute_result"
    }
   ],
   "source": [
    "sampleind.count()"
   ]
  },
  {
   "cell_type": "markdown",
   "id": "3881c85a-de57-4491-a8ca-68ec14478f85",
   "metadata": {},
   "source": [
    "Go through each of the columns and print the percentage missing or NULL:"
   ]
  },
  {
   "cell_type": "code",
   "execution_count": 61,
   "id": "3cda0520-ca02-4a57-940e-5fad6f0bb890",
   "metadata": {},
   "outputs": [
    {
     "name": "stderr",
     "output_type": "stream",
     "text": [
      "                                                                                \r"
     ]
    },
    {
     "name": "stdout",
     "output_type": "stream",
     "text": [
      "Voters_Gender: 0.051983960840622796% missing\n"
     ]
    },
    {
     "name": "stderr",
     "output_type": "stream",
     "text": [
      "                                                                                \r"
     ]
    },
    {
     "name": "stdout",
     "output_type": "stream",
     "text": [
      "Voters_Age: 0.0% missing\n"
     ]
    },
    {
     "name": "stderr",
     "output_type": "stream",
     "text": [
      "                                                                                \r"
     ]
    },
    {
     "name": "stdout",
     "output_type": "stream",
     "text": [
      "Voters_BirthDate: 0.0% missing\n"
     ]
    },
    {
     "name": "stderr",
     "output_type": "stream",
     "text": [
      "                                                                                \r"
     ]
    },
    {
     "name": "stdout",
     "output_type": "stream",
     "text": [
      "Residence_Families_HHCount: 0.0% missing\n"
     ]
    },
    {
     "name": "stderr",
     "output_type": "stream",
     "text": [
      "                                                                                \r"
     ]
    },
    {
     "name": "stdout",
     "output_type": "stream",
     "text": [
      "Residence_HHGender_Description: 0.0% missing\n"
     ]
    },
    {
     "name": "stderr",
     "output_type": "stream",
     "text": [
      "                                                                                \r"
     ]
    },
    {
     "name": "stdout",
     "output_type": "stream",
     "text": [
      "Mailing_Families_HHCount: 0.0% missing\n"
     ]
    },
    {
     "name": "stderr",
     "output_type": "stream",
     "text": [
      "                                                                                \r"
     ]
    },
    {
     "name": "stdout",
     "output_type": "stream",
     "text": [
      "Mailing_HHGender_Description: 0.0% missing\n"
     ]
    },
    {
     "name": "stderr",
     "output_type": "stream",
     "text": [
      "                                                                                \r"
     ]
    },
    {
     "name": "stdout",
     "output_type": "stream",
     "text": [
      "Parties_Description: 0.0% missing\n"
     ]
    },
    {
     "name": "stderr",
     "output_type": "stream",
     "text": [
      "                                                                                \r"
     ]
    },
    {
     "name": "stdout",
     "output_type": "stream",
     "text": [
      "CommercialData_PropertyType: 0.0008429831487668562% missing\n"
     ]
    },
    {
     "name": "stderr",
     "output_type": "stream",
     "text": [
      "                                                                                \r"
     ]
    },
    {
     "name": "stdout",
     "output_type": "stream",
     "text": [
      "AddressDistricts_Change_Changed_CD: 0.0% missing\n"
     ]
    },
    {
     "name": "stderr",
     "output_type": "stream",
     "text": [
      "                                                                                \r"
     ]
    },
    {
     "name": "stdout",
     "output_type": "stream",
     "text": [
      "AddressDistricts_Change_Changed_SD: 0.0% missing\n"
     ]
    },
    {
     "name": "stderr",
     "output_type": "stream",
     "text": [
      "                                                                                \r"
     ]
    },
    {
     "name": "stdout",
     "output_type": "stream",
     "text": [
      "AddressDistricts_Change_Changed_HD: 0.0% missing\n"
     ]
    },
    {
     "name": "stderr",
     "output_type": "stream",
     "text": [
      "                                                                                \r"
     ]
    },
    {
     "name": "stdout",
     "output_type": "stream",
     "text": [
      "AddressDistricts_Change_Changed_County: 0.0% missing\n"
     ]
    },
    {
     "name": "stderr",
     "output_type": "stream",
     "text": [
      "                                                                                \r"
     ]
    },
    {
     "name": "stdout",
     "output_type": "stream",
     "text": [
      "Residence_Addresses_Density: 0.20512589953326832% missing\n"
     ]
    },
    {
     "name": "stderr",
     "output_type": "stream",
     "text": [
      "                                                                                \r"
     ]
    },
    {
     "name": "stdout",
     "output_type": "stream",
     "text": [
      "CommercialData_EstimatedHHIncome: 2.11476372587312% missing\n"
     ]
    },
    {
     "name": "stderr",
     "output_type": "stream",
     "text": [
      "                                                                                \r"
     ]
    },
    {
     "name": "stdout",
     "output_type": "stream",
     "text": [
      "CommercialData_ISPSA: 3.251386004793764% missing\n"
     ]
    },
    {
     "name": "stderr",
     "output_type": "stream",
     "text": [
      "                                                                                \r"
     ]
    },
    {
     "name": "stdout",
     "output_type": "stream",
     "text": [
      "CommercialData_AreaMedianEducationYears: 3.251386004793764% missing\n"
     ]
    },
    {
     "name": "stderr",
     "output_type": "stream",
     "text": [
      "                                                                                \r"
     ]
    },
    {
     "name": "stdout",
     "output_type": "stream",
     "text": [
      "CommercialData_AreaMedianHousingValue: 3.2556009205375984% missing\n"
     ]
    },
    {
     "name": "stderr",
     "output_type": "stream",
     "text": [
      "                                                                                \r"
     ]
    },
    {
     "name": "stdout",
     "output_type": "stream",
     "text": [
      "CommercialData_MosaicZ4Global: 3.2556009205375984% missing\n"
     ]
    },
    {
     "name": "stderr",
     "output_type": "stream",
     "text": [
      "                                                                                \r"
     ]
    },
    {
     "name": "stdout",
     "output_type": "stream",
     "text": [
      "CommercialData_AreaPcntHHMarriedCoupleNoChild: 3.251386004793764% missing\n"
     ]
    },
    {
     "name": "stderr",
     "output_type": "stream",
     "text": [
      "                                                                                \r"
     ]
    },
    {
     "name": "stdout",
     "output_type": "stream",
     "text": [
      "CommercialData_AreaPcntHHMarriedCoupleWithChild: 3.251386004793764% missing\n"
     ]
    },
    {
     "name": "stderr",
     "output_type": "stream",
     "text": [
      "                                                                                \r"
     ]
    },
    {
     "name": "stdout",
     "output_type": "stream",
     "text": [
      "CommercialData_AreaPcntHHSpanishSpeaking: 3.251386004793764% missing\n"
     ]
    },
    {
     "name": "stderr",
     "output_type": "stream",
     "text": [
      "                                                                                \r"
     ]
    },
    {
     "name": "stdout",
     "output_type": "stream",
     "text": [
      "CommercialData_AreaPcntHHWithChildren: 3.251386004793764% missing\n"
     ]
    },
    {
     "name": "stderr",
     "output_type": "stream",
     "text": [
      "                                                                                \r"
     ]
    },
    {
     "name": "stdout",
     "output_type": "stream",
     "text": [
      "CommercialData_StateIncomeDecile: 3.251386004793764% missing\n"
     ]
    },
    {
     "name": "stderr",
     "output_type": "stream",
     "text": [
      "                                                                                \r"
     ]
    },
    {
     "name": "stdout",
     "output_type": "stream",
     "text": [
      "Ethnic_Description: 8.489121302465163% missing\n"
     ]
    },
    {
     "name": "stderr",
     "output_type": "stream",
     "text": [
      "                                                                                \r"
     ]
    },
    {
     "name": "stdout",
     "output_type": "stream",
     "text": [
      "EthnicGroups_EthnicGroup1Desc: 8.489121302465163% missing\n"
     ]
    },
    {
     "name": "stderr",
     "output_type": "stream",
     "text": [
      "                                                                                \r"
     ]
    },
    {
     "name": "stdout",
     "output_type": "stream",
     "text": [
      "CommercialData_DwellingType: 10.381618471446755% missing\n"
     ]
    },
    {
     "name": "stderr",
     "output_type": "stream",
     "text": [
      "                                                                                \r"
     ]
    },
    {
     "name": "stdout",
     "output_type": "stream",
     "text": [
      "CommercialData_PresenceOfChildrenCode: 18.179493591923098% missing\n"
     ]
    },
    {
     "name": "stderr",
     "output_type": "stream",
     "text": [
      "                                                                                \r"
     ]
    },
    {
     "name": "stdout",
     "output_type": "stream",
     "text": [
      "CommercialData_PresenceOfPremCredCrdInHome: 87.02761331800977% missing\n"
     ]
    },
    {
     "name": "stderr",
     "output_type": "stream",
     "text": [
      "                                                                                \r"
     ]
    },
    {
     "name": "stdout",
     "output_type": "stream",
     "text": [
      "CommercialData_DonatesToCharityInHome: 20.48111858243954% missing\n"
     ]
    },
    {
     "name": "stderr",
     "output_type": "stream",
     "text": [
      "                                                                                \r"
     ]
    },
    {
     "name": "stdout",
     "output_type": "stream",
     "text": [
      "CommercialData_DwellingUnitSize: 23.77774468288379% missing\n"
     ]
    },
    {
     "name": "stderr",
     "output_type": "stream",
     "text": [
      "                                                                                \r"
     ]
    },
    {
     "name": "stdout",
     "output_type": "stream",
     "text": [
      "CommercialData_ComputerOwnerInHome: 26.40785210703638% missing\n"
     ]
    },
    {
     "name": "stderr",
     "output_type": "stream",
     "text": [
      "                                                                                \r"
     ]
    },
    {
     "name": "stdout",
     "output_type": "stream",
     "text": [
      "CommercialData_DonatesEnvironmentCauseInHome: 26.40391818567547% missing\n"
     ]
    },
    {
     "name": "stderr",
     "output_type": "stream",
     "text": [
      "                                                                                \r"
     ]
    },
    {
     "name": "stdout",
     "output_type": "stream",
     "text": [
      "CommercialData_Education: 31.75405123651578% missing\n"
     ]
    },
    {
     "name": "stderr",
     "output_type": "stream",
     "text": [
      "                                                                                \r"
     ]
    },
    {
     "name": "stdout",
     "output_type": "stream",
     "text": [
      "General_2000: 8.339351296367585% missing\n"
     ]
    },
    {
     "name": "stderr",
     "output_type": "stream",
     "text": [
      "                                                                                \r"
     ]
    },
    {
     "name": "stdout",
     "output_type": "stream",
     "text": [
      "General_2004: 8.338227318835896% missing\n"
     ]
    },
    {
     "name": "stderr",
     "output_type": "stream",
     "text": [
      "                                                                                \r"
     ]
    },
    {
     "name": "stdout",
     "output_type": "stream",
     "text": [
      "PresidentialPrimary_2000: 9.38127846824342% missing\n"
     ]
    },
    {
     "name": "stderr",
     "output_type": "stream",
     "text": [
      "                                                                                \r"
     ]
    },
    {
     "name": "stdout",
     "output_type": "stream",
     "text": [
      "PresidentialPrimary_2004: 9.357674940077947% missing\n"
     ]
    },
    {
     "name": "stderr",
     "output_type": "stream",
     "text": [
      "                                                                                \r"
     ]
    },
    {
     "name": "stdout",
     "output_type": "stream",
     "text": [
      "DATE_18: 0.0% missing\n"
     ]
    },
    {
     "name": "stderr",
     "output_type": "stream",
     "text": [
      "                                                                                \r"
     ]
    },
    {
     "name": "stdout",
     "output_type": "stream",
     "text": [
      "YEAR_18: 0.0% missing\n"
     ]
    },
    {
     "name": "stderr",
     "output_type": "stream",
     "text": [
      "                                                                                \r"
     ]
    },
    {
     "name": "stdout",
     "output_type": "stream",
     "text": [
      "comparator_date_presidential: 0.0% missing\n"
     ]
    },
    {
     "name": "stderr",
     "output_type": "stream",
     "text": [
      "                                                                                \r"
     ]
    },
    {
     "name": "stdout",
     "output_type": "stream",
     "text": [
      "target_month_day_primary: 0.0% missing\n"
     ]
    },
    {
     "name": "stderr",
     "output_type": "stream",
     "text": [
      "                                                                                \r"
     ]
    },
    {
     "name": "stdout",
     "output_type": "stream",
     "text": [
      "YEAR_ELIGIBLE_TO_VOTE_PRESIDENTIAL: 0.0% missing\n"
     ]
    },
    {
     "name": "stderr",
     "output_type": "stream",
     "text": [
      "                                                                                \r"
     ]
    },
    {
     "name": "stdout",
     "output_type": "stream",
     "text": [
      "comparator_date_primary: 0.0% missing\n"
     ]
    },
    {
     "name": "stderr",
     "output_type": "stream",
     "text": [
      "[Stage 561:==================================================>      (8 + 1) / 9]\r"
     ]
    },
    {
     "name": "stdout",
     "output_type": "stream",
     "text": [
      "YEAR_ELIGIBLE_TO_VOTE_PRIMARY: 0.0% missing\n",
      "Voted_General_2008: 0.0% missing\n"
     ]
    },
    {
     "name": "stderr",
     "output_type": "stream",
     "text": [
      "                                                                                \r"
     ]
    }
   ],
   "source": [
    "num_rows = sampleind.count()\n",
    "for col_name in sampleind.columns:\n",
    "    missing_pct = 100*sampleind.filter(col(col_name).isNull()).count() / num_rows\n",
    "    print(f\"{col_name}: {missing_pct}% missing\")"
   ]
  },
  {
   "cell_type": "code",
   "execution_count": null,
   "id": "db1154cb-cd5f-42dd-8b22-1ee4a97b0d24",
   "metadata": {},
   "outputs": [],
   "source": [
    "# GET THE UNIQUE VALUES OF EACH COLUMN\n",
    "# for i in sampleind.columns:\n",
    "#     print(sampleind.select(i).distinct().collect())\n",
    "#     print(i)"
   ]
  },
  {
   "cell_type": "code",
   "execution_count": 80,
   "id": "a5b6398c-1361-43e0-a1e5-bf8e29d93fcd",
   "metadata": {},
   "outputs": [],
   "source": [
    "# Convert CommercialData_EstimatedHHIncome to numeric by just taking the right-most number, and replacing all \"$\", \"-\", and \"+\"\n",
    "\n",
    "sampleind = sampleind.withColumn(\"CommercialData_EstimatedHHIncome\", regexp_extract(col(\"CommercialData_EstimatedHHIncome\"), \"(?<=-).*\", 0))\n",
    "\n",
    "sampleind = sampleind.withColumn(\"CommercialData_EstimatedHHIncome\", \\\n",
    "                             regexp_replace('CommercialData_EstimatedHHIncome', \"[\\$,+]\", \"\") \\\n",
    "                            )\n",
    "\n",
    "sampleind = sampleind.withColumn(\"CommercialData_EstimatedHHIncome\",col(\"CommercialData_EstimatedHHIncome\").cast('double'))"
   ]
  },
  {
   "cell_type": "code",
   "execution_count": 81,
   "id": "8fb81e99-f4c4-4520-a94f-353316db8c11",
   "metadata": {},
   "outputs": [
    {
     "name": "stdout",
     "output_type": "stream",
     "text": [
      "+--------------------------------+\n",
      "|CommercialData_EstimatedHHIncome|\n",
      "+--------------------------------+\n",
      "|24999.0                         |\n",
      "|24999.0                         |\n",
      "|74999.0                         |\n",
      "|74999.0                         |\n",
      "|74999.0                         |\n",
      "|74999.0                         |\n",
      "|99999.0                         |\n",
      "|74999.0                         |\n",
      "|34999.0                         |\n",
      "|74999.0                         |\n",
      "+--------------------------------+\n",
      "only showing top 10 rows\n",
      "\n"
     ]
    }
   ],
   "source": [
    "sampleind.select([\"CommercialData_EstimatedHHIncome\"]).show(10, truncate=False)"
   ]
  },
  {
   "cell_type": "code",
   "execution_count": 82,
   "id": "73ab145c-4c7d-4af3-b36a-0d3473331667",
   "metadata": {},
   "outputs": [
    {
     "name": "stdout",
     "output_type": "stream",
     "text": [
      "+-------------------------------------+\n",
      "|CommercialData_AreaMedianHousingValue|\n",
      "+-------------------------------------+\n",
      "|139950.0                             |\n",
      "|139950.0                             |\n",
      "|172582.0                             |\n",
      "|172582.0                             |\n",
      "|140565.0                             |\n",
      "|140565.0                             |\n",
      "|139950.0                             |\n",
      "|172582.0                             |\n",
      "|172582.0                             |\n",
      "|172582.0                             |\n",
      "+-------------------------------------+\n",
      "only showing top 10 rows\n",
      "\n"
     ]
    }
   ],
   "source": [
    "# Convert CommercialData_AreaMedianHousingValue to numeric by replacing \"$\"\n",
    "\n",
    "sampleind = sampleind.withColumn(\"CommercialData_AreaMedianHousingValue\", regexp_replace(\"CommercialData_AreaMedianHousingValue\", \"\\$\", \"\"))\n",
    "sampleind = sampleind.withColumn(\"CommercialData_AreaMedianHousingValue\",col(\"CommercialData_AreaMedianHousingValue\").cast('double'))\n",
    "sampleind.select([\"CommercialData_AreaMedianHousingValue\"]).show(10, truncate=False)"
   ]
  },
  {
   "cell_type": "code",
   "execution_count": 86,
   "id": "3023cd6f-f9b9-4316-a29d-22d05a87f081",
   "metadata": {},
   "outputs": [
    {
     "data": {
      "text/plain": [
       "['CommercialData_AreaPcntHHMarriedCoupleNoChild',\n",
       " 'CommercialData_AreaPcntHHMarriedCoupleWithChild',\n",
       " 'CommercialData_AreaPcntHHSpanishSpeaking',\n",
       " 'CommercialData_AreaPcntHHWithChildren']"
      ]
     },
     "execution_count": 86,
     "metadata": {},
     "output_type": "execute_result"
    }
   ],
   "source": [
    "# Search for \"Pnct\" in the column name, and convert to numeric by replacing \"%\"\n",
    "\n",
    "cols_to_convert = [c for c in sampleind.columns if \"Pcnt\" in c]\n",
    "cols_to_convert"
   ]
  },
  {
   "cell_type": "code",
   "execution_count": null,
   "id": "a69bab30-7f51-4eb8-b348-27a07266feed",
   "metadata": {},
   "outputs": [],
   "source": [
    "for col_name in cols_to_convert:\n",
    "    sampleind = sampleind.withColumn(col_name, regexp_replace(col_name, \"\\%\", \"\"))\n",
    "    sampleind = sampleind.withColumn(col_name, col(col_name).cast('double'))\n",
    "    sampleind.select([col_name]).show(5, truncate=False)"
   ]
  },
  {
   "cell_type": "code",
   "execution_count": 92,
   "id": "5642f7a9-b94f-45e9-b97b-bda6963ff59f",
   "metadata": {},
   "outputs": [],
   "source": [
    "# delete columns used for getting voter turnout data\n",
    "\n",
    "columns_to_drop = [\"comparator_date_presidential\", \"target_month_day_primary\", \n",
    "                   \"YEAR_ELIGIBLE_TO_VOTE_PRESIDENTIAL\", \"comparator_date_primary\", \n",
    "                   \"YEAR_ELIGIBLE_TO_VOTE_PRIMARY\", \"YEAR_18\", \"DATE_18\"]\n",
    "\n",
    "sampleind = sampleind.drop(*columns_to_drop)"
   ]
  },
  {
   "cell_type": "code",
   "execution_count": 93,
   "id": "d1c46a4f-fbc7-4f5f-9778-4e78dcc753f6",
   "metadata": {},
   "outputs": [
    {
     "data": {
      "text/plain": [
       "['Voters_Gender',\n",
       " 'Voters_Age',\n",
       " 'Voters_BirthDate',\n",
       " 'Residence_Families_HHCount',\n",
       " 'Residence_HHGender_Description',\n",
       " 'Mailing_Families_HHCount',\n",
       " 'Mailing_HHGender_Description',\n",
       " 'Parties_Description',\n",
       " 'CommercialData_PropertyType',\n",
       " 'AddressDistricts_Change_Changed_CD',\n",
       " 'AddressDistricts_Change_Changed_SD',\n",
       " 'AddressDistricts_Change_Changed_HD',\n",
       " 'AddressDistricts_Change_Changed_County',\n",
       " 'Residence_Addresses_Density',\n",
       " 'CommercialData_EstimatedHHIncome',\n",
       " 'CommercialData_ISPSA',\n",
       " 'CommercialData_AreaMedianEducationYears',\n",
       " 'CommercialData_AreaMedianHousingValue',\n",
       " 'CommercialData_MosaicZ4Global',\n",
       " 'CommercialData_AreaPcntHHMarriedCoupleNoChild',\n",
       " 'CommercialData_AreaPcntHHMarriedCoupleWithChild',\n",
       " 'CommercialData_AreaPcntHHSpanishSpeaking',\n",
       " 'CommercialData_AreaPcntHHWithChildren',\n",
       " 'CommercialData_StateIncomeDecile',\n",
       " 'Ethnic_Description',\n",
       " 'EthnicGroups_EthnicGroup1Desc',\n",
       " 'CommercialData_DwellingType',\n",
       " 'CommercialData_PresenceOfChildrenCode',\n",
       " 'CommercialData_PresenceOfPremCredCrdInHome',\n",
       " 'CommercialData_DonatesToCharityInHome',\n",
       " 'CommercialData_DwellingUnitSize',\n",
       " 'CommercialData_ComputerOwnerInHome',\n",
       " 'CommercialData_DonatesEnvironmentCauseInHome',\n",
       " 'CommercialData_Education',\n",
       " 'General_2000',\n",
       " 'General_2004',\n",
       " 'PresidentialPrimary_2000',\n",
       " 'PresidentialPrimary_2004',\n",
       " 'Voted_General_2008']"
      ]
     },
     "execution_count": 93,
     "metadata": {},
     "output_type": "execute_result"
    }
   ],
   "source": [
    "sampleind.columns"
   ]
  },
  {
   "cell_type": "markdown",
   "id": "79ad7352-ac84-4506-b74d-fe5d8cee6df8",
   "metadata": {},
   "source": [
    "# IMPUTATION OF MISSING VALUES"
   ]
  },
  {
   "cell_type": "code",
   "execution_count": 98,
   "id": "1b641985-29ad-471b-92e3-2a6db492f9ad",
   "metadata": {},
   "outputs": [],
   "source": [
    "# for categorical variables, replace missing value with \"O\" for \n",
    "# other (including General_2000, General_2004, PresidentialPrimary_2000, PresidentialPrimary_2004)\n",
    "\n",
    "# Get a list of all column types:\n",
    "numeric_cols = [item[0] for item in sampleind.dtypes if item[1].startswith('string')]\n",
    "categorical_cols = [item[0] for item in sampleind.dtypes if not item[1].startswith('string')]\n",
    "\n",
    "numeric_cols\n",
    "\n",
    "# Replace missing values with \"O\" for other\n",
    "sampleind = sampleind.fillna(\"O\", subset=categorical_cols)"
   ]
  },
  {
   "cell_type": "code",
   "execution_count": null,
   "id": "fcf1c477-cf7c-4e4c-a238-6314ce4ffa37",
   "metadata": {},
   "outputs": [
    {
     "name": "stderr",
     "output_type": "stream",
     "text": [
      "                                                                                \r"
     ]
    },
    {
     "ename": "Py4JJavaError",
     "evalue": "An error occurred while calling o2051.fit.\n: org.apache.spark.SparkException: surrogate cannot be computed. All the values in Voters_Gender,Voters_BirthDate,Residence_HHGender_Description,Mailing_HHGender_Description,Parties_Description,CommercialData_PropertyType,AddressDistricts_Change_Changed_CD,AddressDistricts_Change_Changed_SD,AddressDistricts_Change_Changed_HD,AddressDistricts_Change_Changed_County,CommercialData_MosaicZ4Global,Ethnic_Description,EthnicGroups_EthnicGroup1Desc,CommercialData_DwellingType,CommercialData_PresenceOfChildrenCode,CommercialData_PresenceOfPremCredCrdInHome,CommercialData_DonatesToCharityInHome,CommercialData_ComputerOwnerInHome,CommercialData_DonatesEnvironmentCauseInHome,CommercialData_Education,General_2000,General_2004,PresidentialPrimary_2000,PresidentialPrimary_2004 are Null, Nan or missingValue(NaN)\n\tat org.apache.spark.ml.feature.Imputer.fit(Imputer.scala:198)\n\tat sun.reflect.NativeMethodAccessorImpl.invoke0(Native Method)\n\tat sun.reflect.NativeMethodAccessorImpl.invoke(NativeMethodAccessorImpl.java:62)\n\tat sun.reflect.DelegatingMethodAccessorImpl.invoke(DelegatingMethodAccessorImpl.java:43)\n\tat java.lang.reflect.Method.invoke(Method.java:498)\n\tat py4j.reflection.MethodInvoker.invoke(MethodInvoker.java:244)\n\tat py4j.reflection.ReflectionEngine.invoke(ReflectionEngine.java:357)\n\tat py4j.Gateway.invoke(Gateway.java:282)\n\tat py4j.commands.AbstractCommand.invokeMethod(AbstractCommand.java:132)\n\tat py4j.commands.CallCommand.execute(CallCommand.java:79)\n\tat py4j.GatewayConnection.run(GatewayConnection.java:238)\n\tat java.lang.Thread.run(Thread.java:750)\n",
     "output_type": "error",
     "traceback": [
      "\u001b[0;31m---------------------------------------------------------------------------\u001b[0m",
      "\u001b[0;31mPy4JJavaError\u001b[0m                             Traceback (most recent call last)",
      "Cell \u001b[0;32mIn[105], line 16\u001b[0m\n\u001b[1;32m     10\u001b[0m imputer \u001b[38;5;241m=\u001b[39m Imputer(\n\u001b[1;32m     11\u001b[0m     inputCols\u001b[38;5;241m=\u001b[39msampleind\u001b[38;5;241m.\u001b[39mcolumns, \n\u001b[1;32m     12\u001b[0m     outputCols\u001b[38;5;241m=\u001b[39m[\u001b[38;5;124m\"\u001b[39m\u001b[38;5;132;01m{}\u001b[39;00m\u001b[38;5;124m_imputed\u001b[39m\u001b[38;5;124m\"\u001b[39m\u001b[38;5;241m.\u001b[39mformat(c) \u001b[38;5;28;01mfor\u001b[39;00m c \u001b[38;5;129;01min\u001b[39;00m sampleind\u001b[38;5;241m.\u001b[39mcolumns]\n\u001b[1;32m     13\u001b[0m     )\u001b[38;5;241m.\u001b[39msetStrategy(\u001b[38;5;124m\"\u001b[39m\u001b[38;5;124mmedian\u001b[39m\u001b[38;5;124m\"\u001b[39m)\n\u001b[1;32m     15\u001b[0m \u001b[38;5;66;03m# Add imputation cols to sampleind\u001b[39;00m\n\u001b[0;32m---> 16\u001b[0m sampleind \u001b[38;5;241m=\u001b[39m \u001b[43mimputer\u001b[49m\u001b[38;5;241;43m.\u001b[39;49m\u001b[43mfit\u001b[49m\u001b[43m(\u001b[49m\u001b[43msampleind\u001b[49m\u001b[43m)\u001b[49m\u001b[38;5;241m.\u001b[39mtransform(sampleind)\n",
      "File \u001b[0;32m/usr/lib/spark/python/pyspark/ml/base.py:161\u001b[0m, in \u001b[0;36mEstimator.fit\u001b[0;34m(self, dataset, params)\u001b[0m\n\u001b[1;32m    159\u001b[0m         \u001b[38;5;28;01mreturn\u001b[39;00m \u001b[38;5;28mself\u001b[39m\u001b[38;5;241m.\u001b[39mcopy(params)\u001b[38;5;241m.\u001b[39m_fit(dataset)\n\u001b[1;32m    160\u001b[0m     \u001b[38;5;28;01melse\u001b[39;00m:\n\u001b[0;32m--> 161\u001b[0m         \u001b[38;5;28;01mreturn\u001b[39;00m \u001b[38;5;28;43mself\u001b[39;49m\u001b[38;5;241;43m.\u001b[39;49m\u001b[43m_fit\u001b[49m\u001b[43m(\u001b[49m\u001b[43mdataset\u001b[49m\u001b[43m)\u001b[49m\n\u001b[1;32m    162\u001b[0m \u001b[38;5;28;01melse\u001b[39;00m:\n\u001b[1;32m    163\u001b[0m     \u001b[38;5;28;01mraise\u001b[39;00m \u001b[38;5;167;01mValueError\u001b[39;00m(\u001b[38;5;124m\"\u001b[39m\u001b[38;5;124mParams must be either a param map or a list/tuple of param maps, \u001b[39m\u001b[38;5;124m\"\u001b[39m\n\u001b[1;32m    164\u001b[0m                      \u001b[38;5;124m\"\u001b[39m\u001b[38;5;124mbut got \u001b[39m\u001b[38;5;132;01m%s\u001b[39;00m\u001b[38;5;124m.\u001b[39m\u001b[38;5;124m\"\u001b[39m \u001b[38;5;241m%\u001b[39m \u001b[38;5;28mtype\u001b[39m(params))\n",
      "File \u001b[0;32m/usr/lib/spark/python/pyspark/ml/wrapper.py:335\u001b[0m, in \u001b[0;36mJavaEstimator._fit\u001b[0;34m(self, dataset)\u001b[0m\n\u001b[1;32m    334\u001b[0m \u001b[38;5;28;01mdef\u001b[39;00m \u001b[38;5;21m_fit\u001b[39m(\u001b[38;5;28mself\u001b[39m, dataset):\n\u001b[0;32m--> 335\u001b[0m     java_model \u001b[38;5;241m=\u001b[39m \u001b[38;5;28;43mself\u001b[39;49m\u001b[38;5;241;43m.\u001b[39;49m\u001b[43m_fit_java\u001b[49m\u001b[43m(\u001b[49m\u001b[43mdataset\u001b[49m\u001b[43m)\u001b[49m\n\u001b[1;32m    336\u001b[0m     model \u001b[38;5;241m=\u001b[39m \u001b[38;5;28mself\u001b[39m\u001b[38;5;241m.\u001b[39m_create_model(java_model)\n\u001b[1;32m    337\u001b[0m     \u001b[38;5;28;01mreturn\u001b[39;00m \u001b[38;5;28mself\u001b[39m\u001b[38;5;241m.\u001b[39m_copyValues(model)\n",
      "File \u001b[0;32m/usr/lib/spark/python/pyspark/ml/wrapper.py:332\u001b[0m, in \u001b[0;36mJavaEstimator._fit_java\u001b[0;34m(self, dataset)\u001b[0m\n\u001b[1;32m    318\u001b[0m \u001b[38;5;250m\u001b[39m\u001b[38;5;124;03m\"\"\"\u001b[39;00m\n\u001b[1;32m    319\u001b[0m \u001b[38;5;124;03mFits a Java model to the input dataset.\u001b[39;00m\n\u001b[1;32m    320\u001b[0m \n\u001b[0;32m   (...)\u001b[0m\n\u001b[1;32m    329\u001b[0m \u001b[38;5;124;03m    fitted Java model\u001b[39;00m\n\u001b[1;32m    330\u001b[0m \u001b[38;5;124;03m\"\"\"\u001b[39;00m\n\u001b[1;32m    331\u001b[0m \u001b[38;5;28mself\u001b[39m\u001b[38;5;241m.\u001b[39m_transfer_params_to_java()\n\u001b[0;32m--> 332\u001b[0m \u001b[38;5;28;01mreturn\u001b[39;00m \u001b[38;5;28;43mself\u001b[39;49m\u001b[38;5;241;43m.\u001b[39;49m\u001b[43m_java_obj\u001b[49m\u001b[38;5;241;43m.\u001b[39;49m\u001b[43mfit\u001b[49m\u001b[43m(\u001b[49m\u001b[43mdataset\u001b[49m\u001b[38;5;241;43m.\u001b[39;49m\u001b[43m_jdf\u001b[49m\u001b[43m)\u001b[49m\n",
      "File \u001b[0;32m/usr/lib/spark/python/lib/py4j-0.10.9-src.zip/py4j/java_gateway.py:1304\u001b[0m, in \u001b[0;36mJavaMember.__call__\u001b[0;34m(self, *args)\u001b[0m\n\u001b[1;32m   1298\u001b[0m command \u001b[38;5;241m=\u001b[39m proto\u001b[38;5;241m.\u001b[39mCALL_COMMAND_NAME \u001b[38;5;241m+\u001b[39m\\\n\u001b[1;32m   1299\u001b[0m     \u001b[38;5;28mself\u001b[39m\u001b[38;5;241m.\u001b[39mcommand_header \u001b[38;5;241m+\u001b[39m\\\n\u001b[1;32m   1300\u001b[0m     args_command \u001b[38;5;241m+\u001b[39m\\\n\u001b[1;32m   1301\u001b[0m     proto\u001b[38;5;241m.\u001b[39mEND_COMMAND_PART\n\u001b[1;32m   1303\u001b[0m answer \u001b[38;5;241m=\u001b[39m \u001b[38;5;28mself\u001b[39m\u001b[38;5;241m.\u001b[39mgateway_client\u001b[38;5;241m.\u001b[39msend_command(command)\n\u001b[0;32m-> 1304\u001b[0m return_value \u001b[38;5;241m=\u001b[39m \u001b[43mget_return_value\u001b[49m\u001b[43m(\u001b[49m\n\u001b[1;32m   1305\u001b[0m \u001b[43m    \u001b[49m\u001b[43manswer\u001b[49m\u001b[43m,\u001b[49m\u001b[43m \u001b[49m\u001b[38;5;28;43mself\u001b[39;49m\u001b[38;5;241;43m.\u001b[39;49m\u001b[43mgateway_client\u001b[49m\u001b[43m,\u001b[49m\u001b[43m \u001b[49m\u001b[38;5;28;43mself\u001b[39;49m\u001b[38;5;241;43m.\u001b[39;49m\u001b[43mtarget_id\u001b[49m\u001b[43m,\u001b[49m\u001b[43m \u001b[49m\u001b[38;5;28;43mself\u001b[39;49m\u001b[38;5;241;43m.\u001b[39;49m\u001b[43mname\u001b[49m\u001b[43m)\u001b[49m\n\u001b[1;32m   1307\u001b[0m \u001b[38;5;28;01mfor\u001b[39;00m temp_arg \u001b[38;5;129;01min\u001b[39;00m temp_args:\n\u001b[1;32m   1308\u001b[0m     temp_arg\u001b[38;5;241m.\u001b[39m_detach()\n",
      "File \u001b[0;32m/usr/lib/spark/python/pyspark/sql/utils.py:111\u001b[0m, in \u001b[0;36mcapture_sql_exception.<locals>.deco\u001b[0;34m(*a, **kw)\u001b[0m\n\u001b[1;32m    109\u001b[0m \u001b[38;5;28;01mdef\u001b[39;00m \u001b[38;5;21mdeco\u001b[39m(\u001b[38;5;241m*\u001b[39ma, \u001b[38;5;241m*\u001b[39m\u001b[38;5;241m*\u001b[39mkw):\n\u001b[1;32m    110\u001b[0m     \u001b[38;5;28;01mtry\u001b[39;00m:\n\u001b[0;32m--> 111\u001b[0m         \u001b[38;5;28;01mreturn\u001b[39;00m \u001b[43mf\u001b[49m\u001b[43m(\u001b[49m\u001b[38;5;241;43m*\u001b[39;49m\u001b[43ma\u001b[49m\u001b[43m,\u001b[49m\u001b[43m \u001b[49m\u001b[38;5;241;43m*\u001b[39;49m\u001b[38;5;241;43m*\u001b[39;49m\u001b[43mkw\u001b[49m\u001b[43m)\u001b[49m\n\u001b[1;32m    112\u001b[0m     \u001b[38;5;28;01mexcept\u001b[39;00m py4j\u001b[38;5;241m.\u001b[39mprotocol\u001b[38;5;241m.\u001b[39mPy4JJavaError \u001b[38;5;28;01mas\u001b[39;00m e:\n\u001b[1;32m    113\u001b[0m         converted \u001b[38;5;241m=\u001b[39m convert_exception(e\u001b[38;5;241m.\u001b[39mjava_exception)\n",
      "File \u001b[0;32m/usr/lib/spark/python/lib/py4j-0.10.9-src.zip/py4j/protocol.py:326\u001b[0m, in \u001b[0;36mget_return_value\u001b[0;34m(answer, gateway_client, target_id, name)\u001b[0m\n\u001b[1;32m    324\u001b[0m value \u001b[38;5;241m=\u001b[39m OUTPUT_CONVERTER[\u001b[38;5;28mtype\u001b[39m](answer[\u001b[38;5;241m2\u001b[39m:], gateway_client)\n\u001b[1;32m    325\u001b[0m \u001b[38;5;28;01mif\u001b[39;00m answer[\u001b[38;5;241m1\u001b[39m] \u001b[38;5;241m==\u001b[39m REFERENCE_TYPE:\n\u001b[0;32m--> 326\u001b[0m     \u001b[38;5;28;01mraise\u001b[39;00m Py4JJavaError(\n\u001b[1;32m    327\u001b[0m         \u001b[38;5;124m\"\u001b[39m\u001b[38;5;124mAn error occurred while calling \u001b[39m\u001b[38;5;132;01m{0}\u001b[39;00m\u001b[38;5;132;01m{1}\u001b[39;00m\u001b[38;5;132;01m{2}\u001b[39;00m\u001b[38;5;124m.\u001b[39m\u001b[38;5;130;01m\\n\u001b[39;00m\u001b[38;5;124m\"\u001b[39m\u001b[38;5;241m.\u001b[39m\n\u001b[1;32m    328\u001b[0m         \u001b[38;5;28mformat\u001b[39m(target_id, \u001b[38;5;124m\"\u001b[39m\u001b[38;5;124m.\u001b[39m\u001b[38;5;124m\"\u001b[39m, name), value)\n\u001b[1;32m    329\u001b[0m \u001b[38;5;28;01melse\u001b[39;00m:\n\u001b[1;32m    330\u001b[0m     \u001b[38;5;28;01mraise\u001b[39;00m Py4JError(\n\u001b[1;32m    331\u001b[0m         \u001b[38;5;124m\"\u001b[39m\u001b[38;5;124mAn error occurred while calling \u001b[39m\u001b[38;5;132;01m{0}\u001b[39;00m\u001b[38;5;132;01m{1}\u001b[39;00m\u001b[38;5;132;01m{2}\u001b[39;00m\u001b[38;5;124m. Trace:\u001b[39m\u001b[38;5;130;01m\\n\u001b[39;00m\u001b[38;5;132;01m{3}\u001b[39;00m\u001b[38;5;130;01m\\n\u001b[39;00m\u001b[38;5;124m\"\u001b[39m\u001b[38;5;241m.\u001b[39m\n\u001b[1;32m    332\u001b[0m         \u001b[38;5;28mformat\u001b[39m(target_id, \u001b[38;5;124m\"\u001b[39m\u001b[38;5;124m.\u001b[39m\u001b[38;5;124m\"\u001b[39m, name, value))\n",
      "\u001b[0;31mPy4JJavaError\u001b[0m: An error occurred while calling o2051.fit.\n: org.apache.spark.SparkException: surrogate cannot be computed. All the values in Voters_Gender,Voters_BirthDate,Residence_HHGender_Description,Mailing_HHGender_Description,Parties_Description,CommercialData_PropertyType,AddressDistricts_Change_Changed_CD,AddressDistricts_Change_Changed_SD,AddressDistricts_Change_Changed_HD,AddressDistricts_Change_Changed_County,CommercialData_MosaicZ4Global,Ethnic_Description,EthnicGroups_EthnicGroup1Desc,CommercialData_DwellingType,CommercialData_PresenceOfChildrenCode,CommercialData_PresenceOfPremCredCrdInHome,CommercialData_DonatesToCharityInHome,CommercialData_ComputerOwnerInHome,CommercialData_DonatesEnvironmentCauseInHome,CommercialData_Education,General_2000,General_2004,PresidentialPrimary_2000,PresidentialPrimary_2004 are Null, Nan or missingValue(NaN)\n\tat org.apache.spark.ml.feature.Imputer.fit(Imputer.scala:198)\n\tat sun.reflect.NativeMethodAccessorImpl.invoke0(Native Method)\n\tat sun.reflect.NativeMethodAccessorImpl.invoke(NativeMethodAccessorImpl.java:62)\n\tat sun.reflect.DelegatingMethodAccessorImpl.invoke(DelegatingMethodAccessorImpl.java:43)\n\tat java.lang.reflect.Method.invoke(Method.java:498)\n\tat py4j.reflection.MethodInvoker.invoke(MethodInvoker.java:244)\n\tat py4j.reflection.ReflectionEngine.invoke(ReflectionEngine.java:357)\n\tat py4j.Gateway.invoke(Gateway.java:282)\n\tat py4j.commands.AbstractCommand.invokeMethod(AbstractCommand.java:132)\n\tat py4j.commands.CallCommand.execute(CallCommand.java:79)\n\tat py4j.GatewayConnection.run(GatewayConnection.java:238)\n\tat java.lang.Thread.run(Thread.java:750)\n"
     ]
    }
   ],
   "source": [
    "# for numeric values, replace missing values with median:\n",
    "\n",
    "from pyspark.ml.feature import Imputer\n",
    "\n",
    "# Currently Imputer does not support categorical features and possibly creates incorrect values for a categorical feature.\n",
    "# https://www.analyticsvidhya.com/blog/2022/05/data-preprocessing-using-pyspark-handling-missing-values/\n",
    "\n",
    "sampleind = sampleind.select(*(col(c).cast(\"float\").alias(c) for c in sampleind.columns))\n",
    "\n",
    "imputer = Imputer(\n",
    "    inputCols=sampleind.columns, \n",
    "    outputCols=[\"{}_imputed\".format(c) for c in sampleind.columns]\n",
    "    ).setStrategy(\"median\")\n",
    "\n",
    "# Add imputation cols to sampleind\n",
    "sampleind = imputer.fit(sampleind).transform(sampleind)"
   ]
  },
  {
   "cell_type": "code",
   "execution_count": null,
   "id": "2afdee51-ce78-4574-a87c-4df1a089eb28",
   "metadata": {},
   "outputs": [],
   "source": [
    "# scale all data with z score\n",
    "from pyspark.ml.feature import StandardScaler\n",
    "from pyspark.ml.feature import VectorAssembler\n",
    "\n",
    "# Create a VectorAssembler to assemble all numeric columns into a single vector column\n",
    "assembler = VectorAssembler(inputCols=numeric_cols, outputCol=\"features\")\n",
    "\n",
    "# Apply VectorAssembler to the DataFrame\n",
    "sampleind_assembled = assembler.transform(sampleind)\n",
    "\n",
    "# Scale the vector column using StandardScaler\n",
    "scaler = StandardScaler(inputCol=\"features\", outputCol=\"scaled_features\", withStd=True, withMean=True)\n",
    "scalerModel = scaler.fit(sampleind_assembled)\n",
    "sampleind_scaled = scalerModel.transform(sampleind_assembled)\n",
    "\n",
    "# Extract the scaled numeric columns from the scaled vector column\n",
    "for i, col_name in enumerate(numeric_cols):\n",
    "    sampleind_scaled = sampleind_scaled.withColumn(col_name + \"_scaled\", sampleind_scaled.scaled_features[i])\n",
    "\n",
    "# Drop the original numeric columns and the vector and scaled vector columns\n",
    "sampleind_scaled = sampleind_scaled.drop(*numeric_cols).drop(\"features\", \"scaled_features\")"
   ]
  },
  {
   "cell_type": "code",
   "execution_count": 35,
   "id": "fb7b768d-4ad9-4053-93db-24c4f93ab39e",
   "metadata": {},
   "outputs": [],
   "source": [
    "# subset columns by regular expression\n",
    "def select_matched(df, pattern, printSchema = False, void = False):\n",
    "    \"\"\"\n",
    "    Function that selects the columns of `df` that match the regular expression `pattern`.\n",
    "    Parameters:\n",
    "        df -- PySpark dataframe\n",
    "        pattern: string -- regular expression\n",
    "        printSchema: bool -- If True, print schema of resulting dataframe\n",
    "        void: bool -- If True, return None, otherwise, return resulting dataframe\n",
    "    \"\"\"\n",
    "    pattern = re.compile(pattern)\n",
    "    selected = [s for s in df.columns if pattern.match(s)]\n",
    "    if (printSchema) & (not void):\n",
    "        df = df.select(selected)\n",
    "        df.printSchema()\n",
    "        return df\n",
    "    elif printSchema:\n",
    "        df.select(selected).printSchema()\n",
    "    elif not void:\n",
    "        return df.select(selected)"
   ]
  },
  {
   "cell_type": "code",
   "execution_count": null,
   "id": "1c6f4d7e-5ad8-42c0-aa75-96adaf29dc92",
   "metadata": {},
   "outputs": [],
   "source": [
    "select_matched(sampleind, \"Voters\").select(\"Voters_Gender\").show()"
   ]
  }
 ],
 "metadata": {
  "kernelspec": {
   "display_name": "PySpark",
   "language": "python",
   "name": "pyspark"
  },
  "language_info": {
   "codemirror_mode": {
    "name": "ipython",
    "version": 3
   },
   "file_extension": ".py",
   "mimetype": "text/x-python",
   "name": "python",
   "nbconvert_exporter": "python",
   "pygments_lexer": "ipython3",
   "version": "3.8.15"
  }
 },
 "nbformat": 4,
 "nbformat_minor": 5
}