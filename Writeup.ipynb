{
 "cells": [
  {
   "cell_type": "markdown",
   "id": "eb503c19-167b-45c3-9e70-a6b3367ac4ea",
   "metadata": {},
   "source": [
    "# Analysis of Voter Turnout in Indiana Pre- and Post- Voter Identification Law\n",
    "### Authors: Christopher Lefrak, Hannah Li, George Yang, and Kuai Yu\n",
    "### PSTAT 235\n",
    "\n",
    "NOTES/TO-DO:\n",
    "- truncate/limit outputs so the writeup looks polished and professional (no raw outputs/errors)\n",
    "- interpret findings\n",
    "- include visualizations and graphs (EDA? theoretical concepts?)\n",
    "- run and write all code (label all code clearly too) in the \"Final Code file.ipynb\" file, save all visualizations as images to embedd in this writeup document so it's more organized.\n",
    "- submission: \"Writeup.ipynb\" file and \"Final Code file.ipynb\"\n"
   ]
  },
  {
   "cell_type": "markdown",
   "id": "d7884d1f-e6de-4760-8fa3-d992e469dd05",
   "metadata": {},
   "source": [
    "## Introduction\n",
    "\n",
    "[importance/potential effect of voter ID law]\n",
    "\n",
    "Thirty-five of the fifty states of the U.S. have passed stricter voter ID laws that require or request voters to present a form of identification at the polls. \n",
    "The remaining fifteen states do not require voters to present any documentation to vote at the polls. States such as Indiana, Wisconsin, and Tennessee have strict photo ID laws for voters, while states such as Minnesota, Nebraska, North Carolina, and Pennsylvania have no requirements for voter identification. A visualization of the levels of strictness of voter photo identification laws for each state can be seen in the map in **Fig. 1** below.\n",
    "\n",
    "<figure>\n",
    "<img src=\"https://drive.google.com/uc?export=view&id=1-bKVXaRl_j3trfCus6iWYylx3RX4ACPz\" style=\"width:100%\">\n",
    "<figcaption align = \"center\"> Fig. 1: Strictness Levels of US Voter ID Laws </figcaption>\n",
    "</figure>\n",
    "\n",
    "Advantages of implementing stricter voter identification requirements include preventing voter impersonation, thus  increasing public confidence in election processes. Disadvantages of implementing stricter laws unnecessarily burdens voters and administrators.\n",
    "\n",
    "## Goals\n",
    "In this project we focus our investigations of voter identification laws on the state of Indiana, which implemented a strict voter identification law in 2008. We seek to analyze how much voter turnout would have decreased or increased without the implentation of the law. \n",
    "\n",
    "> Project Goals\n",
    "> - Propensity score \n",
    "> - Conduct logistic regression\n",
    "> - Strengthen our pyspark data analysis skills, collaborative skills, and project organization skills\n",
    "\n",
    "[technologies, packages, skills...]"
   ]
  },
  {
   "cell_type": "markdown",
   "id": "37618699-8047-4911-8c96-f5dd2d1292d5",
   "metadata": {},
   "source": [
    "## Indiana Voter Data\n",
    "\n",
    "### Dataset Overview\n",
    "\n",
    "Our data is from the course's voter files folder. We primarily use the dataset corresponding to Indiana. At a glance, the dataset contains 726 columns and 946908 rows, records beginning from .... and ending at March 5, 2021\n",
    "\n",
    "[eda/visualizations]\n",
    "\n",
    "### Data Cleaning\n",
    "\n",
    "Many of the columns of the dataset have missing values.\n",
    "We narrowed down our focus to individuals who were of the legal voting age of 18 or older at the time of voting.\n",
    "\n",
    "\n",
    "We subsetted the dataset to focus on a narrower set of voter attributes. We selected the following columns from the original dataset:\n",
    "\n",
    "[table with column names and descriptions]\n",
    "\n",
    "\n"
   ]
  },
  {
   "cell_type": "markdown",
   "id": "fb4d210c-1eb9-4c83-82c3-341838a26566",
   "metadata": {},
   "source": [
    "Based on the voter's age, we calculate the date at which they turn eighteen. We create a new variable whose value is the year of the earliest election that the voter could potentially participate in. So, if the date at which they turn eighteen is earlier than November 3rd, we set the value to the year at which they turn eighteen. If the date at which they turn eighteen is later than November 3rd, we set the value to the year of the following election."
   ]
  },
  {
   "cell_type": "code",
   "execution_count": null,
   "id": "29b970f9-61c1-4449-8a46-9b0be94642d3",
   "metadata": {},
   "outputs": [],
   "source": [
    "yrs_add = 18\n",
    "months_add = 18*12\n",
    "\n",
    "# date of national \n",
    "target_month_day_presidential = \"11-03\"\n",
    "\n",
    "# date of Indiana's presidential primary\n",
    "target_month_day_primary = \"05-03\" \n",
    "\n",
    "indi = indi.withColumn(\"DATE_18\", add_months(to_date(col(\"Voters_BirthDate\"),\"MM/dd/yyyy\"), months_add))\n",
    "indi.select([\"Voters_BirthDate\", \"DATE_18\"]).show(10)\n",
    "indi = indi.dropna(subset = \"Voters_BirthDate\")\n",
    "indi = indi.withColumn(\"YEAR_18\", year(\"DATE_18\"))\n",
    "indi = indi.withColumn(\"comparator_date_presidential\", to_date(concat(col(\"YEAR_18\"), lit(\"-\"), lit(target_month_day_presidential))))\n",
    "indi = indi.withColumn(\"comparator_date_primary\", to_date(concat(col(\"YEAR_18\"), lit(\"-\"), lit(target_month_day_primary))))\n",
    "indi = indi.withColumn(\"YEAR_ELIGIBLE_TO_VOTE_PRESIDENTIAL\", \\\n",
    "                             when(col(\"DATE_18\")<=col(\"comparator_date_presidential\"), col(\"YEAR_18\")) \\\n",
    "                             .otherwise(col(\"YEAR_18\") + 1) \\\n",
    "                            )\n",
    "indi = indi.withColumn(\"YEAR_ELIGIBLE_TO_VOTE_PRIMARY\", \\\n",
    "                             when(col(\"DATE_18\")<=col(\"comparator_date_primary\"), col(\"YEAR_18\")) \\\n",
    "                             .otherwise(col(\"YEAR_18\") + 1) \\\n",
    "                            )\n",
    "\n",
    "# check no missing vals:\n",
    "indi.where(col(\"YEAR_18\").isNull()).select(\"YEAR_18\").show(10)\n",
    "\n",
    "# get rid of rows where the voter was not old enough to vote in the 2008 general election\n",
    "indi = indi.filter(col(\"YEAR_ELIGIBLE_TO_VOTE_PRESIDENTIAL\")<=2008).fillna(\"N\", subset = [\"General_2008\"])\n",
    "\n",
    "# for the 2000 and 2004 general elections, replace with \"N\" IF the person was old enough to vote at the time\n",
    "indi = indi.withColumn(\"General_2000\", \\\n",
    "                      when((col(\"YEAR_ELIGIBLE_TO_VOTE_PRESIDENTIAL\")<= 2004) & \\\n",
    "                           (col(\"General_2000\").isNull()), \"N\") \\\n",
    "                      .otherwise(col(\"General_2000\")) \\\n",
    "                      )\n",
    "\n",
    "indi = indi.withColumn(\"General_2004\", \\\n",
    "                      when((col(\"YEAR_ELIGIBLE_TO_VOTE_PRESIDENTIAL\")<= 2004) & \\\n",
    "                           (col(\"General_2004\").isNull()), \"N\") \\\n",
    "                      .otherwise(col(\"General_2004\")) \\\n",
    "                      )\n",
    "\n",
    "# do the same for the primaries:\n",
    "indi = indi.withColumn(\"PresidentialPrimary_2000\", \\\n",
    "                      when((col(\"YEAR_ELIGIBLE_TO_VOTE_PRIMARY\")<= 2004) & \\\n",
    "                           (col(\"PresidentialPrimary_2000\").isNull()), \"N\") \\\n",
    "                      .otherwise(col(\"PresidentialPrimary_2000\")) \\\n",
    "                      )\n",
    "\n",
    "indi = indi.withColumn(\"PresidentialPrimary_2004\", \\\n",
    "                      when((col(\"YEAR_ELIGIBLE_TO_VOTE_PRIMARY\")<= 2004) & \\\n",
    "                           (col(\"PresidentialPrimary_2004\").isNull()), \"N\") \\\n",
    "                      .otherwise(col(\"PresidentialPrimary_2004\")) \\\n",
    "                      )\n",
    "\n",
    "# make the general voting for 2008 a numeric variable; since we've deleted\n",
    "# everyone who was not eligible to vote, this can be directly calculated with a 1-0.\n",
    "indi = indi.withColumn(\"Voted_General_2008\", when(indi.General_2008 == \"Y\",1).otherwise(0))\n",
    "indi = indi.drop(\"General_2008\")"
   ]
  },
  {
   "cell_type": "markdown",
   "id": "6f299dc2-da24-4eb5-aa65-eeb930dc76fc",
   "metadata": {},
   "source": [
    "We begin by obtaining a subset of the dataset to prototype code.\n"
   ]
  },
  {
   "cell_type": "code",
   "execution_count": null,
   "id": "0ce57261-fb9e-4390-8ae2-337d1c3737c1",
   "metadata": {},
   "outputs": [],
   "source": [
    "sampleind = indi.sample(True, 0.1, seed = 19480384)"
   ]
  },
  {
   "cell_type": "markdown",
   "id": "7c7674c8-28c9-49e8-948a-10252f8a9db8",
   "metadata": {},
   "source": [
    "We then convert the column `CommercialData_EstimatedHHIncome` from type string to type numeric by removing the right-most number, and replacing all symbols \"$\", \"-\", and \"+\"."
   ]
  },
  {
   "cell_type": "code",
   "execution_count": null,
   "id": "af79d733-f22e-415f-b62e-831abddaf0ed",
   "metadata": {},
   "outputs": [],
   "source": [
    "sampleind = sampleind.withColumn(\"CommercialData_EstimatedHHIncome\", regexp_extract(col(\"CommercialData_EstimatedHHIncome\"), \"(?<=-).*\", 0))\n",
    "\n",
    "sampleind = sampleind.withColumn(\"CommercialData_EstimatedHHIncome\", \\\n",
    "                             regexp_replace('CommercialData_EstimatedHHIncome', \"[\\$,+]\", \"\") \\\n",
    "                            )\n",
    "\n",
    "sampleind = sampleind.withColumn(\"CommercialData_EstimatedHHIncome\",col(\"CommercialData_EstimatedHHIncome\").cast('double'))\n",
    "\n",
    "sampleind.select([\"CommercialData_EstimatedHHIncome\"]).show(10, truncate=False)\n"
   ]
  },
  {
   "cell_type": "markdown",
   "id": "073450da-1a0e-419b-bb3e-1758959e5dff",
   "metadata": {},
   "source": [
    "We also convert the column `CommercialData_AreaMedianHousingValue` from type string to type numeric by replacing the symbol \"$\"."
   ]
  },
  {
   "cell_type": "code",
   "execution_count": null,
   "id": "e293eb90-b78e-46de-b1d8-8fe46e18b054",
   "metadata": {},
   "outputs": [],
   "source": [
    "sampleind = sampleind.withColumn(\"CommercialData_AreaMedianHousingValue\", regexp_replace(\"CommercialData_AreaMedianHousingValue\", \"\\$\", \"\"))\n",
    "sampleind = sampleind.withColumn(\"CommercialData_AreaMedianHousingValue\",col(\"CommercialData_AreaMedianHousingValue\").cast('double'))\n",
    "sampleind.select([\"CommercialData_AreaMedianHousingValue\"]).show(10, truncate=False)"
   ]
  },
  {
   "cell_type": "markdown",
   "id": "286e7796-ede5-4223-a6b6-ac651e6e1e58",
   "metadata": {},
   "source": [
    "We proceed to search for the string \"Pnct\" in all of the column names in our dataset, and convert these columns\n",
    "\n",
    "> - 'CommercialData_AreaPcntHHMarriedCoupleNoChild'\n",
    "> - 'CommercialData_AreaPcntHHMarriedCoupleWithChild'\n",
    "> - 'CommercialData_AreaPcntHHSpanishSpeaking'\n",
    "> -'CommercialData_AreaPcntHHWithChildren'\n",
    " \n",
    "to numeric types by replacing the symbol \"%\".\n"
   ]
  },
  {
   "cell_type": "code",
   "execution_count": null,
   "id": "4d1b951d-118a-49a2-8791-0688abda0bda",
   "metadata": {},
   "outputs": [],
   "source": [
    "cols_to_convert = [c for c in sampleind.columns if \"Pcnt\" in c]\n",
    "\n",
    "for col_name in cols_to_convert:\n",
    "    sampleind = sampleind.withColumn(col_name, regexp_replace(col_name, \"\\%\", \"\"))\n",
    "    sampleind = sampleind.withColumn(col_name, col(col_name).cast('double'))\n",
    "    sampleind.select([col_name]).show(5, truncate=False)\n",
    "    "
   ]
  },
  {
   "cell_type": "markdown",
   "id": "1881a1d1-169b-4e94-a1d5-d48ed320a2f5",
   "metadata": {},
   "source": [
    "We then remove the columns that were used for obtaining voter turnout data from our dataset.\n",
    "\n"
   ]
  },
  {
   "cell_type": "code",
   "execution_count": null,
   "id": "4d8663b6-65d5-4310-94e6-96c87799a0b6",
   "metadata": {},
   "outputs": [],
   "source": [
    "columns_to_drop = [\"comparator_date_presidential\", \"target_month_day_primary\", \n",
    "                   \"YEAR_ELIGIBLE_TO_VOTE_PRESIDENTIAL\", \"comparator_date_primary\", \n",
    "                   \"YEAR_ELIGIBLE_TO_VOTE_PRIMARY\", \"YEAR_18\", \"DATE_18\"]\n",
    "\n",
    "sampleind = sampleind.drop(*columns_to_drop)"
   ]
  },
  {
   "cell_type": "markdown",
   "id": "aa50cd16-acd7-49e4-bdf4-8c98940df2e3",
   "metadata": {},
   "source": [
    "## Propensity Score\n",
    "Our goal is to predict if a voter has passed the law or not.\n",
    "\n",
    "We want to be able to find the probability if someone votes if they did not have the voter identification law implented.\n",
    "\n",
    "Assumption: People outside of Indiana are representative of the people in indiana.\n",
    "\n",
    "\n",
    "> Variables:\n",
    "> - T = whether they have the law\n",
    "> - Y = whether they voted in 2008\n",
    "> - P = predicted T\n",
    "\n",
    "To compare the voter data with and without the implementation of a voter identification law, we observe that the difference in means $E[Y|T=1]-E[Y|T=0]$ is [...]. Thus, the treated voters (with implementation of a voter identification law) have a [...] compared to non-treated voters.\n",
    "\n",
    "The propensity score is the conditional probability of receiving the treatment, the implementation of the voter identification law. Using this score means that we do not have to achieve conditional independence $(Y_1,Y_0) \\perp |X$. In other words, we do not have to condition on the whole $X$ to achieve independence of potential outcomes of the treatment. Instead, it is sufficient to control confounders $X$ for a propensity score $P(x)=P(T|X)=E[T|X]$ to achieve $(Y_1,Y_0) \\perp |P(x)$.\n",
    "\n",
    "The propensity score essentially converts $X$ into the treatment $T$, acting as a middleman between $X$ and $T$. Initially, we cannot compare treated and non-treated osbervations. However, we can compare a treated and a non-treated observation if they have the same probability of receiving the treatment since receiving or not receiving the treatment would be attributed to randomness. Thus, we hold the propensity score constant to make the data appear more random.\n",
    "\n",
    "\n",
    "### Propensity Weighting and Estimation\n",
    "\n",
    "We write the difference in means again, but we now condition on $X$: \n",
    "$$E[Y|X,T=1]-E[Y|X,T=0]=E[\\frac{Y}{P(x)}|X,T=1]P(x)-E[\\frac{Y}{(1-P(x))}|X,T=0](1-P(x))$$\n",
    "\n",
    "In other words, the propensity score more heavily weights the observations with a low probability of receiving treatment, and weakly weights\n",
    "\n",
    "\n",
    "#### Positivity Assumption\n",
    "We simplify our propensity score weighting estimator to $E[Y\\frac{T-P(x)}{P(x)(1-P(x)}]$, where $P(x)$ and $(1-P(x))$ both must be greater than $0$. Thus, each voter must have some probability of both receiving and not receiving the treatment of the implementation of a voter identification law.\n",
    "\n",
    "\n",
    "We now estimate the true propensity score $P(x)$ with $\\hat{P}(x)$ using logistic regression.\n",
    "\n",
    "In order to complete this, we convert categorical variables in our dataset into dummy variables.\n",
    "\n",
    "\n",
    "> Issues\n",
    "> - The propensity score's strong predictive power can hurt our goals of causal inference.\n",
    ">> - We want out prediction to control for confounding variables, not neccesarily to predict the treatment very well."
   ]
  },
  {
   "cell_type": "markdown",
   "id": "7a49f655-3d29-4562-af07-95ec42f55f91",
   "metadata": {},
   "source": [
    "## Logistic Regression\n",
    "\n",
    "Logistic regression is a statistical method\n",
    "- use non-indiana data to predict Indiana data"
   ]
  },
  {
   "cell_type": "markdown",
   "id": "8050987d-c997-4233-bdc1-79ccab1d2e75",
   "metadata": {},
   "source": [
    "## Summary of Findings\n",
    "\n",
    "\n",
    "## Conclusion\n",
    "\n",
    "[summary of everything]\n",
    "\n",
    "[issues - curse of dimensionality]\n",
    "\n",
    "[significance]\n",
    "\n",
    "[possible future work]"
   ]
  },
  {
   "cell_type": "markdown",
   "id": "5695cfde-2314-4c63-ad5f-b11126a094b2",
   "metadata": {},
   "source": [
    "## Resources\n",
    "https://www.ncsl.org/elections-and-campaigns/voter-id#undefined \n",
    "\n",
    "https://matheusfacure.github.io/python-causality-handbook/11-Propensity-Score.html\n"
   ]
  },
  {
   "cell_type": "code",
   "execution_count": null,
   "id": "d97aada5-4621-472c-8e6b-fa133117e5e5",
   "metadata": {},
   "outputs": [],
   "source": []
  }
 ],
 "metadata": {
  "kernelspec": {
   "display_name": "Python 3",
   "language": "python",
   "name": "python3"
  },
  "language_info": {
   "codemirror_mode": {
    "name": "ipython",
    "version": 3
   },
   "file_extension": ".py",
   "mimetype": "text/x-python",
   "name": "python",
   "nbconvert_exporter": "python",
   "pygments_lexer": "ipython3",
   "version": "3.8.15"
  }
 },
 "nbformat": 4,
 "nbformat_minor": 5
}