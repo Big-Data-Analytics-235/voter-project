{
 "cells": [
  {
   "cell_type": "markdown",
   "id": "1d753d16-e679-400a-ac53-17a341fa1608",
   "metadata": {},
   "source": [
    "# Cleaning"
   ]
  },
  {
   "cell_type": "code",
   "execution_count": 3,
   "id": "e81c0e0c-3106-46ee-b8e6-c31c0975d403",
   "metadata": {
    "tags": []
   },
   "outputs": [],
   "source": [
    "# Importing necessary modules\n",
    "import seaborn as sns\n",
    "import pyspark.sql.functions as F\n",
    "import pandas as pd\n",
    "import matplotlib.pyplot as plt\n",
    "from operator import add\n",
    "from functools import reduce\n",
    "import numpy as np\n",
    "import re\n",
    "import os\n",
    "from pyspark.sql.types import StructField, StructType, StringType, LongType, FloatType\n",
    "from pyspark.sql.functions import *\n",
    "import random\n",
    "from pyspark.ml.feature import StandardScaler, VectorAssembler, Imputer, StringIndexer\n",
    "from pyspark.ml.functions import vector_to_array\n",
    "from pyspark.ml.classification import LogisticRegression\n",
    "from pyspark.ml.feature import RFormula\n",
    "import time\n",
    "\n",
    "# Setting up visualization\n",
    "import matplotlib.pyplot as plt\n",
    "import pandas as pd\n",
    "%matplotlib inline"
   ]
  },
  {
   "cell_type": "code",
   "execution_count": 4,
   "id": "2a222e23-7414-4f9c-9869-37de6c9419f3",
   "metadata": {
    "tags": []
   },
   "outputs": [],
   "source": [
    "cols_to_keep = [\n",
    "    \"Voters_Gender\", # cat\n",
    "#     \"Voters_Age\", # num\n",
    "    \"Voters_BirthDate\", # ignore\n",
    "    \"Residence_Families_HHCount\", # num\n",
    "    \"Residence_HHGender_Description\", # cat\n",
    "    \"Mailing_Families_HHCount\", # num\n",
    "    \"Mailing_HHGender_Description\", # cat\n",
    "\n",
    "#   !! voter party affiliation\n",
    "    \"Parties_Description\", \n",
    "    \n",
    "    # cat\n",
    "    \"CommercialData_PropertyType\",\n",
    "    \"AddressDistricts_Change_Changed_CD\",\n",
    "    \"AddressDistricts_Change_Changed_SD\",\n",
    "    \"AddressDistricts_Change_Changed_HD\",\n",
    "    \"AddressDistricts_Change_Changed_County\",\n",
    "    \n",
    "    \"Residence_Addresses_Density\", # num\n",
    "    \n",
    "    # cat\n",
    "    \"CommercialData_EstimatedHHIncome\",\n",
    "    \"CommercialData_ISPSA\",\n",
    "    # num\n",
    "    \"CommercialData_AreaMedianEducationYears\",\n",
    "    \"CommercialData_AreaMedianHousingValue\",\n",
    "#    \"CommercialData_MosaicZ4Global\",\n",
    "    # cat\n",
    "     \"CommercialData_AreaPcntHHMarriedCoupleNoChild\",  \n",
    "     \"CommercialData_AreaPcntHHMarriedCoupleWithChild\",\n",
    "     \"CommercialData_AreaPcntHHSpanishSpeaking\",\n",
    "     \"CommercialData_AreaPcntHHWithChildren\",\n",
    "     \"CommercialData_StateIncomeDecile\",\n",
    "#    \"Ethnic_Description\",\n",
    "    \"EthnicGroups_EthnicGroup1Desc\",\n",
    "    \"CommercialData_DwellingType\",\n",
    "    \"CommercialData_PresenceOfChildrenCode\",\n",
    "#    \"CommercialData_PresenceOfPremCredCrdInHome\", ## too many missing\n",
    "    \"CommercialData_DonatesToCharityInHome\",\n",
    "    \"CommercialData_DwellingUnitSize\",\n",
    "    \"CommercialData_ComputerOwnerInHome\",\n",
    "    \"CommercialData_DonatesEnvironmentCauseInHome\",\n",
    "    \"CommercialData_Education\",\n",
    "    \n",
    "#   Don't include because of lookahead bias  \n",
    "#     \"Voters_VotingPerformanceEvenYearGeneral\",\n",
    "#     \"Voters_VotingPerformanceEvenYearPrimary\",\n",
    "#     \"Voters_VotingPerformanceEvenYearGeneralAndPrimary\",\n",
    "#     \"Voters_VotingPerformanceMinorElection\",\n",
    "    \n",
    "#   Other control variables that expect to be highly associated with outcome:\n",
    "#     \"ElectionReturns_P08CountyTurnoutAllRegisteredVoters\",\n",
    "#     \"ElectionReturns_P08CountyTurnoutDemocrats\",\n",
    "#     \"ElectionReturns_P08CountyTurnoutRepublicans\",\n",
    "    \"General_2000\",\n",
    "    \"General_2004\",\n",
    "    \"PresidentialPrimary_2000\",\n",
    "    \"PresidentialPrimary_2004\",\n",
    "        \n",
    "#   Outcome variable (indiana law happens in 2005, approved by SCOTUS before presidential election in 2008)\n",
    "    \"General_2008\"\n",
    "]"
   ]
  },
  {
   "cell_type": "code",
   "execution_count": 5,
   "id": "3c1b9cbc-1d10-44e3-93a0-649e524540c5",
   "metadata": {
    "tags": []
   },
   "outputs": [
    {
     "name": "stdout",
     "output_type": "stream",
     "text": [
      "VM2Uniform--VT--2021-05-28\n"
     ]
    },
    {
     "name": "stderr",
     "output_type": "stream",
     "text": [
      "                                                                                \r"
     ]
    },
    {
     "name": "stdout",
     "output_type": "stream",
     "text": [
      "463261\n",
      "VM2Uniform--IL--2021-03-05: "
     ]
    },
    {
     "name": "stderr",
     "output_type": "stream",
     "text": [
      "                                                                                \r"
     ]
    },
    {
     "name": "stdout",
     "output_type": "stream",
     "text": [
      "8336875\n",
      "VM2Uniform--MA--2021-01-19: "
     ]
    },
    {
     "name": "stderr",
     "output_type": "stream",
     "text": [
      "                                                                                \r"
     ]
    },
    {
     "name": "stdout",
     "output_type": "stream",
     "text": [
      "4572639\n",
      "VM2Uniform--MD--2021-02-15: "
     ]
    },
    {
     "name": "stderr",
     "output_type": "stream",
     "text": [
      "                                                                                \r"
     ]
    },
    {
     "name": "stdout",
     "output_type": "stream",
     "text": [
      "4110570\n",
      "VM2Uniform--ME--2021-05-28: "
     ]
    },
    {
     "name": "stderr",
     "output_type": "stream",
     "text": [
      "                                                                                \r"
     ]
    },
    {
     "name": "stdout",
     "output_type": "stream",
     "text": [
      "1040452\n",
      "VM2Uniform--MN--2021-02-14: "
     ]
    },
    {
     "name": "stderr",
     "output_type": "stream",
     "text": [
      "                                                                                \r"
     ]
    },
    {
     "name": "stdout",
     "output_type": "stream",
     "text": [
      "3563623\n",
      "VM2Uniform--NC--2021-05-18: "
     ]
    },
    {
     "name": "stderr",
     "output_type": "stream",
     "text": [
      "                                                                                \r"
     ]
    },
    {
     "name": "stdout",
     "output_type": "stream",
     "text": [
      "6616158\n",
      "VM2Uniform--NE--2021-01-20: "
     ]
    },
    {
     "name": "stderr",
     "output_type": "stream",
     "text": [
      "                                                                                \r"
     ]
    },
    {
     "name": "stdout",
     "output_type": "stream",
     "text": [
      "1201308\n",
      "VM2Uniform--NJ--2021-03-11: "
     ]
    },
    {
     "name": "stderr",
     "output_type": "stream",
     "text": [
      "                                                                                \r"
     ]
    },
    {
     "name": "stdout",
     "output_type": "stream",
     "text": [
      "6109844\n",
      "VM2Uniform--NM--2021-02-25: "
     ]
    },
    {
     "name": "stderr",
     "output_type": "stream",
     "text": [
      "                                                                                \r"
     ]
    },
    {
     "name": "stdout",
     "output_type": "stream",
     "text": [
      "1205712\n",
      "VM2Uniform--NV--2021-06-13: "
     ]
    },
    {
     "name": "stderr",
     "output_type": "stream",
     "text": [
      "                                                                                \r"
     ]
    },
    {
     "name": "stdout",
     "output_type": "stream",
     "text": [
      "1866442\n",
      "VM2Uniform--OR--2021-02-05: "
     ]
    },
    {
     "name": "stderr",
     "output_type": "stream",
     "text": [
      "                                                                                \r"
     ]
    },
    {
     "name": "stdout",
     "output_type": "stream",
     "text": [
      "3166785\n",
      "VM2Uniform--PA--2021-05-20: "
     ]
    },
    {
     "name": "stderr",
     "output_type": "stream",
     "text": [
      "                                                                                \r"
     ]
    },
    {
     "name": "stdout",
     "output_type": "stream",
     "text": [
      "8359764\n",
      "VM2Uniform--CA--2021-05-02: "
     ]
    },
    {
     "name": "stderr",
     "output_type": "stream",
     "text": [
      "                                                                                \r"
     ]
    },
    {
     "name": "stdout",
     "output_type": "stream",
     "text": [
      "21779518\n",
      "VM2Uniform--NY--2021-03-15: "
     ]
    },
    {
     "name": "stderr",
     "output_type": "stream",
     "text": [
      "                                                                                \r"
     ]
    },
    {
     "name": "stdout",
     "output_type": "stream",
     "text": [
      "12570650\n",
      "root\n",
      " |-- Voters_Gender: string (nullable = true)\n",
      " |-- Voters_BirthDate: string (nullable = true)\n",
      " |-- Residence_Families_HHCount: string (nullable = true)\n",
      " |-- Residence_HHGender_Description: string (nullable = true)\n",
      " |-- Mailing_Families_HHCount: string (nullable = true)\n",
      " |-- Mailing_HHGender_Description: string (nullable = true)\n",
      " |-- Parties_Description: string (nullable = true)\n",
      " |-- CommercialData_PropertyType: string (nullable = true)\n",
      " |-- AddressDistricts_Change_Changed_CD: string (nullable = true)\n",
      " |-- AddressDistricts_Change_Changed_SD: string (nullable = true)\n",
      " |-- AddressDistricts_Change_Changed_HD: string (nullable = true)\n",
      " |-- AddressDistricts_Change_Changed_County: string (nullable = true)\n",
      " |-- Residence_Addresses_Density: string (nullable = true)\n",
      " |-- CommercialData_EstimatedHHIncome: string (nullable = true)\n",
      " |-- CommercialData_ISPSA: string (nullable = true)\n",
      " |-- CommercialData_AreaMedianEducationYears: string (nullable = true)\n",
      " |-- CommercialData_AreaMedianHousingValue: string (nullable = true)\n",
      " |-- CommercialData_AreaPcntHHMarriedCoupleNoChild: string (nullable = true)\n",
      " |-- CommercialData_AreaPcntHHMarriedCoupleWithChild: string (nullable = true)\n",
      " |-- CommercialData_AreaPcntHHSpanishSpeaking: string (nullable = true)\n",
      " |-- CommercialData_AreaPcntHHWithChildren: string (nullable = true)\n",
      " |-- CommercialData_StateIncomeDecile: string (nullable = true)\n",
      " |-- EthnicGroups_EthnicGroup1Desc: string (nullable = true)\n",
      " |-- CommercialData_DwellingType: string (nullable = true)\n",
      " |-- CommercialData_PresenceOfChildrenCode: string (nullable = true)\n",
      " |-- CommercialData_DonatesToCharityInHome: string (nullable = true)\n",
      " |-- CommercialData_DwellingUnitSize: string (nullable = true)\n",
      " |-- CommercialData_ComputerOwnerInHome: string (nullable = true)\n",
      " |-- CommercialData_DonatesEnvironmentCauseInHome: string (nullable = true)\n",
      " |-- CommercialData_Education: string (nullable = true)\n",
      " |-- General_2000: string (nullable = true)\n",
      " |-- General_2004: string (nullable = true)\n",
      " |-- PresidentialPrimary_2000: string (nullable = true)\n",
      " |-- PresidentialPrimary_2004: string (nullable = true)\n",
      " |-- General_2008: string (nullable = true)\n",
      " |-- STATE: string (nullable = false)\n",
      "\n"
     ]
    },
    {
     "name": "stderr",
     "output_type": "stream",
     "text": [
      "                                                                                \r"
     ]
    },
    {
     "data": {
      "text/plain": [
       "84963601"
      ]
     },
     "execution_count": 5,
     "metadata": {},
     "output_type": "execute_result"
    }
   ],
   "source": [
    "# These are the states that do not have strict voter ID laws:\n",
    "#  'VM2Uniform--CA--2021-05-02',\tVM2Uniform--CA--2021-05-02\tCA\tx\tCalifornia\n",
    "#  'VM2Uniform--IL--2021-03-05',\tVM2Uniform--IL--2021-03-05\tIL\tx\tIllinois\n",
    "#  'VM2Uniform--MA--2021-01-19',\tVM2Uniform--MA--2021-01-19\tMA\tx\tMassachusetts\n",
    "#  'VM2Uniform--MD--2021-02-15',\tVM2Uniform--MD--2021-02-15\tMD\tx\tMaryland\n",
    "#  'VM2Uniform--ME--2021-05-28',\tVM2Uniform--ME--2021-05-28\tME\tx\tMaine\n",
    "#  'VM2Uniform--MN--2021-02-14',\tVM2Uniform--MN--2021-02-14\tMN\tx\tMinnesota\n",
    "#  'VM2Uniform--NC--2021-05-18',\tVM2Uniform--NC--2021-05-18\tNC\tx\tNorth Carolina\n",
    "#  'VM2Uniform--NE--2021-01-20',\tVM2Uniform--NE--2021-01-20\tNE\tx\tNebraska\n",
    "#  'VM2Uniform--NJ--2021-03-11',\tVM2Uniform--NJ--2021-03-11\tNJ\tx\tNew Jersey\n",
    "#  'VM2Uniform--NM--2021-02-25',\tVM2Uniform--NM--2021-02-25\tNM\tx\tNew Mexico\n",
    "#  'VM2Uniform--NV--2021-06-13',\tVM2Uniform--NV--2021-06-13\tNV\tx\tNevada\n",
    "#  'VM2Uniform--NY--2021-03-15',\tVM2Uniform--NY--2021-03-15\tNY\tx\tNew York\n",
    "#  'VM2Uniform--OR--2021-02-05',\tVM2Uniform--OR--2021-02-05\tOR\tx\tOregon\n",
    "#  'VM2Uniform--PA--2021-05-20',\tVM2Uniform--PA--2021-05-20\tPA\tx\tPennsylvania\n",
    "#  'VM2Uniform--VT--2021-05-28',\tVM2Uniform--VT--2021-05-28\tVT\tx\tVermont\n",
    "\n",
    "# For each of these states, I want to pull enough samples to get a total sample of 1/2 M; can increase later\n",
    "\n",
    "# grab files\n",
    "states =  [\n",
    "# For now, just exclude New York and Califonria, because the parquet files take too long to read\n",
    "'VM2Uniform--VT--2021-05-28', \n",
    "'VM2Uniform--IL--2021-03-05',\n",
    "'VM2Uniform--MA--2021-01-19',\n",
    "'VM2Uniform--MD--2021-02-15',\n",
    "'VM2Uniform--ME--2021-05-28',\n",
    "'VM2Uniform--MN--2021-02-14',\n",
    "'VM2Uniform--NC--2021-05-18',\n",
    "'VM2Uniform--NE--2021-01-20',\n",
    "'VM2Uniform--NJ--2021-03-11',\n",
    "'VM2Uniform--NM--2021-02-25',\n",
    "'VM2Uniform--NV--2021-06-13',\n",
    "'VM2Uniform--OR--2021-02-05',\n",
    "'VM2Uniform--PA--2021-05-20',\n",
    "'VM2Uniform--CA--2021-05-02',\n",
    "'VM2Uniform--NY--2021-03-15',\n",
    "]\n",
    "\n",
    "# bucket file path for all state parquet files\n",
    "gcs_path = 'gs://pstat135-voter-file/VM2Uniform'\n",
    "\n",
    "# create list of state abbreviations\n",
    "pattern = re.compile(r\"(?<=--)[A-Z]{2}\")\n",
    "state_abvs = re.findall(pattern, ''.join(states))\n",
    "\n",
    "# do first iteration\n",
    "print('VM2Uniform--VT--2021-05-28')\n",
    "\n",
    "# num_per_state = 500\n",
    "\n",
    "df_ref = spark.read.parquet(\"/\".join([gcs_path, 'VM2Uniform--VT--2021-05-28']))\n",
    "df_ref = df_ref.select(cols_to_keep)\n",
    "\n",
    "numrows = {'VM2Uniform--VT--2021-05-28': df_ref.count()}\n",
    "\n",
    "print(\"%d\" % (numrows['VM2Uniform--VT--2021-05-28']))\n",
    "    \n",
    "# percentage_sample = num_per_state / numrows['VM2Uniform--VT--2021-05-28']\n",
    "    \n",
    "# df_ref = df_ref.sample(True, percentage_sample, seed = 19480384)\n",
    "df_ref = df_ref.withColumn('STATE', F.lit(state_abvs[0]))\n",
    " \n",
    "next_states = states[1:]\n",
    "\n",
    "# do the rest of the iterations\n",
    "for i, one_state in enumerate(next_states):\n",
    "\n",
    "    print(\"%s: \" % (one_state), end=\"\")\n",
    "    \n",
    "    # read dataframe for one_state\n",
    "    tmp_ref = spark.read.parquet(\"/\".join([gcs_path, one_state]))\n",
    "    tmp_ref = tmp_ref.select(cols_to_keep)\n",
    "    numrows[one_state] = tmp_ref.count()\n",
    "    print(\"%d\" % (numrows[one_state]))\n",
    "    \n",
    "#     percentage_sample = num_per_state / numrows[one_state]\n",
    "    \n",
    "#     tmp_ref = tmp_ref.sample(True, percentage_sample, seed = 19480384)\n",
    "    tmp_ref = tmp_ref.withColumn('STATE', F.lit(state_abvs[i+1]))\n",
    "    \n",
    "    df_ref = df_ref.union(tmp_ref)      \n",
    "\n",
    "df_ref.printSchema()\n",
    "df_ref.count()"
   ]
  },
  {
   "cell_type": "code",
   "execution_count": null,
   "id": "817211b7-c20f-4104-9cb3-599bb1e818cd",
   "metadata": {},
   "outputs": [],
   "source": []
  },
  {
   "cell_type": "markdown",
   "id": "4cc248f4-cb77-4bd9-b108-6cc201c91b91",
   "metadata": {},
   "source": [
    "### FUNCTIONS TO CLEAN DATASET"
   ]
  },
  {
   "cell_type": "code",
   "execution_count": 6,
   "id": "23dfa990-c35e-4f57-8fa3-5eb03f7e5fff",
   "metadata": {
    "tags": []
   },
   "outputs": [],
   "source": [
    "def clean_numeric_categorical(input_df: DataFrame) -> DataFrame:\n",
    "    \n",
    "    # remove special symbols ($, %) from relevant columns\n",
    "    input_df = input_df.withColumn(\n",
    "        \"CommercialData_AreaMedianHousingValue\",\n",
    "        F.expr(\"substring(CommercialData_AreaMedianHousingValue, 2, length(CommercialData_AreaMedianHousingValue))\"))\n",
    "\n",
    "    pct = [\"CommercialData_AreaPcntHHMarriedCoupleNoChild\",  \n",
    "           \"CommercialData_AreaPcntHHMarriedCoupleWithChild\",\n",
    "           \"CommercialData_AreaPcntHHSpanishSpeaking\",\n",
    "           \"CommercialData_AreaPcntHHWithChildren\"]\n",
    "\n",
    "    for c in pct:\n",
    "        input_df = input_df.withColumn(\n",
    "            c,\n",
    "            F.expr(f\"substring({c}, 1, length({c})-1)\")\n",
    "        )\n",
    "    input_df.select([\"CommercialData_AreaMedianHousingValue\"]+pct).show()\n",
    "\n",
    "    numeric_cols = [\n",
    "        'Residence_Families_HHCount',\n",
    "        'Mailing_Families_HHCount',\n",
    "        'Residence_Addresses_Density',\n",
    "        \"CommercialData_AreaMedianEducationYears\",\n",
    "        \"CommercialData_AreaMedianHousingValue\"\n",
    "    ] + pct\n",
    "\n",
    "    trinary_cols = [\n",
    "        'CommercialData_DonatesToCharityInHome',\n",
    "        'CommercialData_ComputerOwnerInHome',\n",
    "        'CommercialData_DonatesEnvironmentCauseInHome'\n",
    "    ]\n",
    "\n",
    "    binary_cols = []\n",
    "\n",
    "    dont_touch_cols = [\n",
    "        \"General_2008\", \n",
    "        \"Voters_BirthDate\", \n",
    "        \"General_2000\",\n",
    "        \"General_2004\",\n",
    "        \"PresidentialPrimary_2000\",\n",
    "        \"PresidentialPrimary_2004\"\n",
    "    ]\n",
    "    \n",
    "    other_cols = [c for c in input_df.columns if c not in dont_touch_cols]\n",
    "    other_cols = [c for c in other_cols if c not in (numeric_cols + trinary_cols + binary_cols)]\n",
    "\n",
    "    categorical_cols = other_cols + binary_cols + trinary_cols\n",
    "\n",
    "    for c in numeric_cols:\n",
    "        input_df = input_df.withColumn(c, F.col(c).cast(\"float\").alias(c))\n",
    "    input_df = input_df.fillna(\"U\", subset= trinary_cols)\n",
    "    input_df = input_df.fillna(\"Missing\", subset = other_cols)\n",
    "#   input_df = input_df.fillna(\"N\", subset = binary_cols)\n",
    "    \n",
    "    return input_df"
   ]
  },
  {
   "cell_type": "code",
   "execution_count": 7,
   "id": "ec695ff1-2c8e-48c1-b6ac-e3c03f660ea2",
   "metadata": {},
   "outputs": [
    {
     "name": "stderr",
     "output_type": "stream",
     "text": [
      "                                                                                \r"
     ]
    },
    {
     "name": "stdout",
     "output_type": "stream",
     "text": [
      "+-------------------------------------+---------------------------------------------+-----------------------------------------------+----------------------------------------+-------------------------------------+\n",
      "|CommercialData_AreaMedianHousingValue|CommercialData_AreaPcntHHMarriedCoupleNoChild|CommercialData_AreaPcntHHMarriedCoupleWithChild|CommercialData_AreaPcntHHSpanishSpeaking|CommercialData_AreaPcntHHWithChildren|\n",
      "+-------------------------------------+---------------------------------------------+-----------------------------------------------+----------------------------------------+-------------------------------------+\n",
      "|                               223238|                                           39|                                             20|                                       1|                                   29|\n",
      "|                               223238|                                           39|                                             20|                                       1|                                   29|\n",
      "|                               223238|                                           39|                                             20|                                       1|                                   29|\n",
      "|                               223238|                                           39|                                             20|                                       1|                                   29|\n",
      "|                               223238|                                           39|                                             20|                                       1|                                   29|\n",
      "|                               223238|                                           39|                                             20|                                       1|                                   29|\n",
      "|                               223238|                                           39|                                             20|                                       1|                                   29|\n",
      "|                               223238|                                           39|                                             20|                                       1|                                   29|\n",
      "|                               223238|                                           39|                                             20|                                       1|                                   29|\n",
      "|                               223238|                                           39|                                             20|                                       1|                                   29|\n",
      "|                               223238|                                           39|                                             20|                                       1|                                   29|\n",
      "|                               223238|                                           39|                                             20|                                       1|                                   29|\n",
      "|                               194999|                                           33|                                             21|                                       2|                                   31|\n",
      "|                                 null|                                         null|                                           null|                                    null|                                 null|\n",
      "|                                 null|                                         null|                                           null|                                    null|                                 null|\n",
      "|                                 null|                                         null|                                           null|                                    null|                                 null|\n",
      "|                                 null|                                         null|                                           null|                                    null|                                 null|\n",
      "|                                 null|                                         null|                                           null|                                    null|                                 null|\n",
      "|                                 null|                                         null|                                           null|                                    null|                                 null|\n",
      "|                                 null|                                         null|                                           null|                                    null|                                 null|\n",
      "+-------------------------------------+---------------------------------------------+-----------------------------------------------+----------------------------------------+-------------------------------------+\n",
      "only showing top 20 rows\n",
      "\n",
      "root\n",
      " |-- Voters_Gender: string (nullable = false)\n",
      " |-- Voters_BirthDate: string (nullable = true)\n",
      " |-- Residence_Families_HHCount: float (nullable = true)\n",
      " |-- Residence_HHGender_Description: string (nullable = false)\n",
      " |-- Mailing_Families_HHCount: float (nullable = true)\n",
      " |-- Mailing_HHGender_Description: string (nullable = false)\n",
      " |-- Parties_Description: string (nullable = false)\n",
      " |-- CommercialData_PropertyType: string (nullable = false)\n",
      " |-- AddressDistricts_Change_Changed_CD: string (nullable = false)\n",
      " |-- AddressDistricts_Change_Changed_SD: string (nullable = false)\n",
      " |-- AddressDistricts_Change_Changed_HD: string (nullable = false)\n",
      " |-- AddressDistricts_Change_Changed_County: string (nullable = false)\n",
      " |-- Residence_Addresses_Density: float (nullable = true)\n",
      " |-- CommercialData_EstimatedHHIncome: string (nullable = false)\n",
      " |-- CommercialData_ISPSA: string (nullable = false)\n",
      " |-- CommercialData_AreaMedianEducationYears: float (nullable = true)\n",
      " |-- CommercialData_AreaMedianHousingValue: float (nullable = true)\n",
      " |-- CommercialData_AreaPcntHHMarriedCoupleNoChild: float (nullable = true)\n",
      " |-- CommercialData_AreaPcntHHMarriedCoupleWithChild: float (nullable = true)\n",
      " |-- CommercialData_AreaPcntHHSpanishSpeaking: float (nullable = true)\n",
      " |-- CommercialData_AreaPcntHHWithChildren: float (nullable = true)\n",
      " |-- CommercialData_StateIncomeDecile: string (nullable = false)\n",
      " |-- EthnicGroups_EthnicGroup1Desc: string (nullable = false)\n",
      " |-- CommercialData_DwellingType: string (nullable = false)\n",
      " |-- CommercialData_PresenceOfChildrenCode: string (nullable = false)\n",
      " |-- CommercialData_DonatesToCharityInHome: string (nullable = false)\n",
      " |-- CommercialData_DwellingUnitSize: string (nullable = false)\n",
      " |-- CommercialData_ComputerOwnerInHome: string (nullable = false)\n",
      " |-- CommercialData_DonatesEnvironmentCauseInHome: string (nullable = false)\n",
      " |-- CommercialData_Education: string (nullable = false)\n",
      " |-- General_2000: string (nullable = true)\n",
      " |-- General_2004: string (nullable = true)\n",
      " |-- PresidentialPrimary_2000: string (nullable = true)\n",
      " |-- PresidentialPrimary_2004: string (nullable = true)\n",
      " |-- General_2008: string (nullable = true)\n",
      " |-- STATE: string (nullable = false)\n",
      "\n"
     ]
    }
   ],
   "source": [
    "df_ref = clean_numeric_categorical(df_ref)\n",
    "df_ref.printSchema()"
   ]
  },
  {
   "cell_type": "code",
   "execution_count": 8,
   "id": "be71f1d3-acba-4634-a776-6470d8400031",
   "metadata": {
    "tags": []
   },
   "outputs": [],
   "source": [
    "def impute_values_function(input_df: DataFrame) -> DataFrame:\n",
    "\n",
    "    # Create copy of working df\n",
    "    input_df = input_df.alias('input_df')\n",
    "    \n",
    "    pct = [\"CommercialData_AreaPcntHHMarriedCoupleNoChild\",  \n",
    "           \"CommercialData_AreaPcntHHMarriedCoupleWithChild\",\n",
    "           \"CommercialData_AreaPcntHHSpanishSpeaking\",\n",
    "           \"CommercialData_AreaPcntHHWithChildren\"]\n",
    "    \n",
    "    numeric_cols = [\n",
    "        'Residence_Families_HHCount',\n",
    "        'Mailing_Families_HHCount',\n",
    "        'Residence_Addresses_Density',\n",
    "        \"CommercialData_AreaMedianEducationYears\",\n",
    "        \"CommercialData_AreaMedianHousingValue\"\n",
    "    ] + pct\n",
    "\n",
    "    trinary_cols = [\n",
    "        'CommercialData_DonatesToCharityInHome',\n",
    "        'CommercialData_ComputerOwnerInHome',\n",
    "        'CommercialData_DonatesEnvironmentCauseInHome'\n",
    "    ]\n",
    "\n",
    "    binary_cols = []\n",
    "\n",
    "    dont_touch_cols = [\n",
    "        \"General_2008\", \n",
    "        \"Voters_BirthDate\", \n",
    "        \"General_2000\",\n",
    "        \"General_2004\",\n",
    "        \"PresidentialPrimary_2000\",\n",
    "        \"PresidentialPrimary_2004\"\n",
    "    ]\n",
    "    \n",
    "    other_cols = [c for c in input_df.columns if c not in dont_touch_cols]\n",
    "    other_cols = [c for c in other_cols if c not in (numeric_cols + trinary_cols + binary_cols)]\n",
    "\n",
    "    categorical_cols = other_cols + binary_cols + trinary_cols\n",
    "\n",
    "    # Impute the missing values in the numerical columns with the mean -- minimize change to z-scores of given data\n",
    "    imputer = Imputer(\n",
    "        inputCols=numeric_cols, \n",
    "        outputCols=[\"{}_imp\".format(c) for c in numeric_cols]\n",
    "    )\n",
    "\n",
    "    input_df = imputer.fit(input_df).transform(input_df)\n",
    "\n",
    "    # Impute categorical columns -- maybe it's better to drop these records\n",
    "    # input_df = input_df.fillna(\"missing\", subset = categorical_cols)\n",
    "\n",
    "    indexed_cols = [f\"{c}_ind\" for c in categorical_cols]\n",
    "\n",
    "    # Ecode categorical variables\n",
    "    indexer = StringIndexer(inputCols = categorical_cols, outputCols = indexed_cols)\n",
    "    input_df = indexer.fit(input_df).transform(input_df)\n",
    "    \n",
    "    return input_df"
   ]
  },
  {
   "cell_type": "code",
   "execution_count": 9,
   "id": "495d4243-b1c7-4d40-8e4e-2ef892ac2c58",
   "metadata": {},
   "outputs": [
    {
     "name": "stderr",
     "output_type": "stream",
     "text": [
      "23/03/18 21:52:06 WARN org.apache.spark.sql.catalyst.util.package: Truncated the string representation of a plan since it was too large. This behavior can be adjusted by setting 'spark.sql.debug.maxToStringFields'.\n",
      "                                                                                \r"
     ]
    },
    {
     "name": "stdout",
     "output_type": "stream",
     "text": [
      "root\n",
      " |-- Voters_Gender: string (nullable = false)\n",
      " |-- Voters_BirthDate: string (nullable = true)\n",
      " |-- Residence_Families_HHCount: float (nullable = true)\n",
      " |-- Residence_HHGender_Description: string (nullable = false)\n",
      " |-- Mailing_Families_HHCount: float (nullable = true)\n",
      " |-- Mailing_HHGender_Description: string (nullable = false)\n",
      " |-- Parties_Description: string (nullable = false)\n",
      " |-- CommercialData_PropertyType: string (nullable = false)\n",
      " |-- AddressDistricts_Change_Changed_CD: string (nullable = false)\n",
      " |-- AddressDistricts_Change_Changed_SD: string (nullable = false)\n",
      " |-- AddressDistricts_Change_Changed_HD: string (nullable = false)\n",
      " |-- AddressDistricts_Change_Changed_County: string (nullable = false)\n",
      " |-- Residence_Addresses_Density: float (nullable = true)\n",
      " |-- CommercialData_EstimatedHHIncome: string (nullable = false)\n",
      " |-- CommercialData_ISPSA: string (nullable = false)\n",
      " |-- CommercialData_AreaMedianEducationYears: float (nullable = true)\n",
      " |-- CommercialData_AreaMedianHousingValue: float (nullable = true)\n",
      " |-- CommercialData_AreaPcntHHMarriedCoupleNoChild: float (nullable = true)\n",
      " |-- CommercialData_AreaPcntHHMarriedCoupleWithChild: float (nullable = true)\n",
      " |-- CommercialData_AreaPcntHHSpanishSpeaking: float (nullable = true)\n",
      " |-- CommercialData_AreaPcntHHWithChildren: float (nullable = true)\n",
      " |-- CommercialData_StateIncomeDecile: string (nullable = false)\n",
      " |-- EthnicGroups_EthnicGroup1Desc: string (nullable = false)\n",
      " |-- CommercialData_DwellingType: string (nullable = false)\n",
      " |-- CommercialData_PresenceOfChildrenCode: string (nullable = false)\n",
      " |-- CommercialData_DonatesToCharityInHome: string (nullable = false)\n",
      " |-- CommercialData_DwellingUnitSize: string (nullable = false)\n",
      " |-- CommercialData_ComputerOwnerInHome: string (nullable = false)\n",
      " |-- CommercialData_DonatesEnvironmentCauseInHome: string (nullable = false)\n",
      " |-- CommercialData_Education: string (nullable = false)\n",
      " |-- General_2000: string (nullable = true)\n",
      " |-- General_2004: string (nullable = true)\n",
      " |-- PresidentialPrimary_2000: string (nullable = true)\n",
      " |-- PresidentialPrimary_2004: string (nullable = true)\n",
      " |-- General_2008: string (nullable = true)\n",
      " |-- STATE: string (nullable = false)\n",
      " |-- Residence_Families_HHCount_imp: float (nullable = true)\n",
      " |-- Mailing_Families_HHCount_imp: float (nullable = true)\n",
      " |-- Residence_Addresses_Density_imp: float (nullable = true)\n",
      " |-- CommercialData_AreaMedianEducationYears_imp: float (nullable = true)\n",
      " |-- CommercialData_AreaMedianHousingValue_imp: float (nullable = true)\n",
      " |-- CommercialData_AreaPcntHHMarriedCoupleNoChild_imp: float (nullable = true)\n",
      " |-- CommercialData_AreaPcntHHMarriedCoupleWithChild_imp: float (nullable = true)\n",
      " |-- CommercialData_AreaPcntHHSpanishSpeaking_imp: float (nullable = true)\n",
      " |-- CommercialData_AreaPcntHHWithChildren_imp: float (nullable = true)\n",
      " |-- Voters_Gender_ind: double (nullable = false)\n",
      " |-- Residence_HHGender_Description_ind: double (nullable = false)\n",
      " |-- Mailing_HHGender_Description_ind: double (nullable = false)\n",
      " |-- Parties_Description_ind: double (nullable = false)\n",
      " |-- CommercialData_PropertyType_ind: double (nullable = false)\n",
      " |-- AddressDistricts_Change_Changed_CD_ind: double (nullable = false)\n",
      " |-- AddressDistricts_Change_Changed_SD_ind: double (nullable = false)\n",
      " |-- AddressDistricts_Change_Changed_HD_ind: double (nullable = false)\n",
      " |-- AddressDistricts_Change_Changed_County_ind: double (nullable = false)\n",
      " |-- CommercialData_EstimatedHHIncome_ind: double (nullable = false)\n",
      " |-- CommercialData_ISPSA_ind: double (nullable = false)\n",
      " |-- CommercialData_StateIncomeDecile_ind: double (nullable = false)\n",
      " |-- EthnicGroups_EthnicGroup1Desc_ind: double (nullable = false)\n",
      " |-- CommercialData_DwellingType_ind: double (nullable = false)\n",
      " |-- CommercialData_PresenceOfChildrenCode_ind: double (nullable = false)\n",
      " |-- CommercialData_DwellingUnitSize_ind: double (nullable = false)\n",
      " |-- CommercialData_Education_ind: double (nullable = false)\n",
      " |-- STATE_ind: double (nullable = false)\n",
      " |-- CommercialData_DonatesToCharityInHome_ind: double (nullable = false)\n",
      " |-- CommercialData_ComputerOwnerInHome_ind: double (nullable = false)\n",
      " |-- CommercialData_DonatesEnvironmentCauseInHome_ind: double (nullable = false)\n",
      "\n"
     ]
    }
   ],
   "source": [
    "df_ref = impute_values_function(df_ref)\n",
    "df_ref.printSchema()"
   ]
  },
  {
   "cell_type": "code",
   "execution_count": 10,
   "id": "d6583f33-e168-4822-bb6d-26939d3117ae",
   "metadata": {},
   "outputs": [
    {
     "name": "stdout",
     "output_type": "stream",
     "text": [
      "+----------------+\n",
      "|Voters_BirthDate|\n",
      "+----------------+\n",
      "|      12/06/1957|\n",
      "|      12/13/1953|\n",
      "|      03/24/1977|\n",
      "|      08/30/1976|\n",
      "|      01/01/1986|\n",
      "|      01/01/1963|\n",
      "|      01/01/1998|\n",
      "|      01/01/1997|\n",
      "|      12/28/1963|\n",
      "|      11/03/1936|\n",
      "+----------------+\n",
      "only showing top 10 rows\n",
      "\n"
     ]
    }
   ],
   "source": [
    "df_ref.select(\"Voters_BirthDate\").show(10)"
   ]
  },
  {
   "cell_type": "code",
   "execution_count": 11,
   "id": "6e36bfdf-a9fb-4e69-b410-e28badae9f76",
   "metadata": {
    "tags": []
   },
   "outputs": [],
   "source": [
    "def clean_voter_participation(input_df: DataFrame) -> DataFrame:\n",
    "\n",
    "    yrs_add = 18\n",
    "    months_add = 18*12\n",
    "\n",
    "    # date of national \n",
    "    target_month_day_presidential = \"11-03\"\n",
    "\n",
    "    # date of presidential primary (ideally we should do this state by state, but this is the date for Indiana's)\n",
    "    target_month_day_primary = \"05-03\" \n",
    "\n",
    "    input_df = input_df.withColumn(\"DATE_18\", add_months(to_date(col(\"Voters_BirthDate\"),\"MM/dd/yyyy\"), months_add))\n",
    "    input_df.select([\"Voters_BirthDate\", \"DATE_18\"]).show(10)\n",
    "    input_df = input_df.dropna(subset = \"Voters_BirthDate\")\n",
    "    input_df = input_df.withColumn(\"YEAR_18\", year(\"DATE_18\"))\n",
    "    input_df = input_df.withColumn(\"comparator_date_presidential\", to_date(concat(col(\"YEAR_18\"), lit(\"-\"), lit(target_month_day_presidential))))\n",
    "    input_df = input_df.withColumn(\"comparator_date_primary\", to_date(concat(col(\"YEAR_18\"), lit(\"-\"), lit(target_month_day_primary))))\n",
    "\n",
    "    for election in [\"PRESIDENTIAL\", \"PRIMARY\"]:\n",
    "        input_df = input_df.withColumn(f\"YEAR_ELIGIBLE_TO_VOTE_{election}\", \\\n",
    "                                    when(col(\"DATE_18\")<=col(f\"comparator_date_{election.lower()}\"), col(\"YEAR_18\")) \\\n",
    "                                   .otherwise(col(\"YEAR_18\") + 1) \\\n",
    "                                  )\n",
    "\n",
    "    # check no missing vals:\n",
    "    input_df.where(col(\"YEAR_18\").isNull()).select(\"YEAR_18\").show(10)\n",
    "\n",
    "    # get rid of rows where the voter was not old enough to vote in the 2008 general election\n",
    "    input_df = input_df.filter(col(\"YEAR_ELIGIBLE_TO_VOTE_PRESIDENTIAL\")<=2008).fillna(\"N\", subset = [\"General_2008\"])\n",
    "\n",
    "    # for the 2000 and 2004 general elections, replace with \"N\" IF the person was old enough to vote at the time\n",
    "\n",
    "    for election in [\"2000\", \"2004\"]:\n",
    "        input_df = input_df.withColumn(f\"General_{election}\", \\\n",
    "                                   when((col(\"YEAR_ELIGIBLE_TO_VOTE_PRESIDENTIAL\")<= int(election)) & \\\n",
    "                                        (col(f\"General_{election}\").isNull()), \"N\") \\\n",
    "                                   .otherwise(col(f\"General_{election}\")) \\\n",
    "                                  )\n",
    "\n",
    "        input_df = input_df.withColumn(f\"PresidentialPrimary_{election}\", \\\n",
    "                                   when((col(\"YEAR_ELIGIBLE_TO_VOTE_PRIMARY\")<= int(election)) & \\\n",
    "                                        (col(f\"PresidentialPrimary_{election}\").isNull()), \"N\") \\\n",
    "                                   .otherwise(col(f\"PresidentialPrimary_{election}\")) \\\n",
    "                                  )\n",
    "\n",
    "    # make the general voting for 2008 a numeric variable; since we've deleted\n",
    "    # everyone who was not eligible to vote, this can be directly calculated with a 1-0.\n",
    "    input_df = input_df.withColumn(\"Voted_General_2008\", when(input_df.General_2008 == \"Y\",1).otherwise(0))\n",
    "    input_df = input_df.drop(\"General_2008\")\n",
    "    \n",
    "    return input_df"
   ]
  },
  {
   "cell_type": "code",
   "execution_count": 12,
   "id": "71ffc4c7-5719-4921-8631-2f7bf11d8ea4",
   "metadata": {},
   "outputs": [
    {
     "name": "stdout",
     "output_type": "stream",
     "text": [
      "+----------------+----------+\n",
      "|Voters_BirthDate|   DATE_18|\n",
      "+----------------+----------+\n",
      "|      12/06/1957|1975-12-06|\n",
      "|      12/13/1953|1971-12-13|\n",
      "|      03/24/1977|1995-03-24|\n",
      "|      08/30/1976|1994-08-30|\n",
      "|      01/01/1986|2004-01-01|\n",
      "|      01/01/1963|1981-01-01|\n",
      "|      01/01/1998|2016-01-01|\n",
      "|      01/01/1997|2015-01-01|\n",
      "|      12/28/1963|1981-12-28|\n",
      "|      11/03/1936|1954-11-03|\n",
      "+----------------+----------+\n",
      "only showing top 10 rows\n",
      "\n"
     ]
    },
    {
     "name": "stderr",
     "output_type": "stream",
     "text": [
      "                                                                                \r"
     ]
    },
    {
     "name": "stdout",
     "output_type": "stream",
     "text": [
      "+-------+\n",
      "|YEAR_18|\n",
      "+-------+\n",
      "+-------+\n",
      "\n",
      "root\n",
      " |-- Voters_Gender: string (nullable = false)\n",
      " |-- Voters_BirthDate: string (nullable = true)\n",
      " |-- Residence_Families_HHCount: float (nullable = true)\n",
      " |-- Residence_HHGender_Description: string (nullable = false)\n",
      " |-- Mailing_Families_HHCount: float (nullable = true)\n",
      " |-- Mailing_HHGender_Description: string (nullable = false)\n",
      " |-- Parties_Description: string (nullable = false)\n",
      " |-- CommercialData_PropertyType: string (nullable = false)\n",
      " |-- AddressDistricts_Change_Changed_CD: string (nullable = false)\n",
      " |-- AddressDistricts_Change_Changed_SD: string (nullable = false)\n",
      " |-- AddressDistricts_Change_Changed_HD: string (nullable = false)\n",
      " |-- AddressDistricts_Change_Changed_County: string (nullable = false)\n",
      " |-- Residence_Addresses_Density: float (nullable = true)\n",
      " |-- CommercialData_EstimatedHHIncome: string (nullable = false)\n",
      " |-- CommercialData_ISPSA: string (nullable = false)\n",
      " |-- CommercialData_AreaMedianEducationYears: float (nullable = true)\n",
      " |-- CommercialData_AreaMedianHousingValue: float (nullable = true)\n",
      " |-- CommercialData_AreaPcntHHMarriedCoupleNoChild: float (nullable = true)\n",
      " |-- CommercialData_AreaPcntHHMarriedCoupleWithChild: float (nullable = true)\n",
      " |-- CommercialData_AreaPcntHHSpanishSpeaking: float (nullable = true)\n",
      " |-- CommercialData_AreaPcntHHWithChildren: float (nullable = true)\n",
      " |-- CommercialData_StateIncomeDecile: string (nullable = false)\n",
      " |-- EthnicGroups_EthnicGroup1Desc: string (nullable = false)\n",
      " |-- CommercialData_DwellingType: string (nullable = false)\n",
      " |-- CommercialData_PresenceOfChildrenCode: string (nullable = false)\n",
      " |-- CommercialData_DonatesToCharityInHome: string (nullable = false)\n",
      " |-- CommercialData_DwellingUnitSize: string (nullable = false)\n",
      " |-- CommercialData_ComputerOwnerInHome: string (nullable = false)\n",
      " |-- CommercialData_DonatesEnvironmentCauseInHome: string (nullable = false)\n",
      " |-- CommercialData_Education: string (nullable = false)\n",
      " |-- General_2000: string (nullable = true)\n",
      " |-- General_2004: string (nullable = true)\n",
      " |-- PresidentialPrimary_2000: string (nullable = true)\n",
      " |-- PresidentialPrimary_2004: string (nullable = true)\n",
      " |-- STATE: string (nullable = false)\n",
      " |-- Residence_Families_HHCount_imp: float (nullable = true)\n",
      " |-- Mailing_Families_HHCount_imp: float (nullable = true)\n",
      " |-- Residence_Addresses_Density_imp: float (nullable = true)\n",
      " |-- CommercialData_AreaMedianEducationYears_imp: float (nullable = true)\n",
      " |-- CommercialData_AreaMedianHousingValue_imp: float (nullable = true)\n",
      " |-- CommercialData_AreaPcntHHMarriedCoupleNoChild_imp: float (nullable = true)\n",
      " |-- CommercialData_AreaPcntHHMarriedCoupleWithChild_imp: float (nullable = true)\n",
      " |-- CommercialData_AreaPcntHHSpanishSpeaking_imp: float (nullable = true)\n",
      " |-- CommercialData_AreaPcntHHWithChildren_imp: float (nullable = true)\n",
      " |-- Voters_Gender_ind: double (nullable = false)\n",
      " |-- Residence_HHGender_Description_ind: double (nullable = false)\n",
      " |-- Mailing_HHGender_Description_ind: double (nullable = false)\n",
      " |-- Parties_Description_ind: double (nullable = false)\n",
      " |-- CommercialData_PropertyType_ind: double (nullable = false)\n",
      " |-- AddressDistricts_Change_Changed_CD_ind: double (nullable = false)\n",
      " |-- AddressDistricts_Change_Changed_SD_ind: double (nullable = false)\n",
      " |-- AddressDistricts_Change_Changed_HD_ind: double (nullable = false)\n",
      " |-- AddressDistricts_Change_Changed_County_ind: double (nullable = false)\n",
      " |-- CommercialData_EstimatedHHIncome_ind: double (nullable = false)\n",
      " |-- CommercialData_ISPSA_ind: double (nullable = false)\n",
      " |-- CommercialData_StateIncomeDecile_ind: double (nullable = false)\n",
      " |-- EthnicGroups_EthnicGroup1Desc_ind: double (nullable = false)\n",
      " |-- CommercialData_DwellingType_ind: double (nullable = false)\n",
      " |-- CommercialData_PresenceOfChildrenCode_ind: double (nullable = false)\n",
      " |-- CommercialData_DwellingUnitSize_ind: double (nullable = false)\n",
      " |-- CommercialData_Education_ind: double (nullable = false)\n",
      " |-- STATE_ind: double (nullable = false)\n",
      " |-- CommercialData_DonatesToCharityInHome_ind: double (nullable = false)\n",
      " |-- CommercialData_ComputerOwnerInHome_ind: double (nullable = false)\n",
      " |-- CommercialData_DonatesEnvironmentCauseInHome_ind: double (nullable = false)\n",
      " |-- DATE_18: date (nullable = true)\n",
      " |-- YEAR_18: integer (nullable = true)\n",
      " |-- comparator_date_presidential: date (nullable = true)\n",
      " |-- comparator_date_primary: date (nullable = true)\n",
      " |-- YEAR_ELIGIBLE_TO_VOTE_PRESIDENTIAL: integer (nullable = true)\n",
      " |-- YEAR_ELIGIBLE_TO_VOTE_PRIMARY: integer (nullable = true)\n",
      " |-- Voted_General_2008: integer (nullable = false)\n",
      "\n"
     ]
    }
   ],
   "source": [
    "df_ref = clean_voter_participation(df_ref)\n",
    "df_ref.printSchema()"
   ]
  },
  {
   "cell_type": "code",
   "execution_count": 13,
   "id": "6a4a7958-eadd-4b14-81aa-fbb6ca4c863c",
   "metadata": {},
   "outputs": [
    {
     "ename": "NameError",
     "evalue": "name 'indi' is not defined",
     "output_type": "error",
     "traceback": [
      "\u001b[0;31m---------------------------------------------------------------------------\u001b[0m",
      "\u001b[0;31mNameError\u001b[0m                                 Traceback (most recent call last)",
      "Cell \u001b[0;32mIn[13], line 1\u001b[0m\n\u001b[0;32m----> 1\u001b[0m \u001b[43mindi\u001b[49m\u001b[38;5;241m.\u001b[39mselect(\u001b[38;5;124m\"\u001b[39m\u001b[38;5;124mVoters_BirthDate\u001b[39m\u001b[38;5;124m\"\u001b[39m)\u001b[38;5;241m.\u001b[39mshow(\u001b[38;5;241m10\u001b[39m)\n",
      "\u001b[0;31mNameError\u001b[0m: name 'indi' is not defined"
     ]
    }
   ],
   "source": [
    "indi.select(\"Voters_BirthDate\").show(10)"
   ]
  },
  {
   "cell_type": "code",
   "execution_count": 22,
   "id": "cac33037-8adf-4b87-8359-30c5d3b37dc4",
   "metadata": {
    "tags": []
   },
   "outputs": [
    {
     "name": "stdout",
     "output_type": "stream",
     "text": [
      "+-------------------------------------+---------------------------------------------+-----------------------------------------------+----------------------------------------+-------------------------------------+\n",
      "|CommercialData_AreaMedianHousingValue|CommercialData_AreaPcntHHMarriedCoupleNoChild|CommercialData_AreaPcntHHMarriedCoupleWithChild|CommercialData_AreaPcntHHSpanishSpeaking|CommercialData_AreaPcntHHWithChildren|\n",
      "+-------------------------------------+---------------------------------------------+-----------------------------------------------+----------------------------------------+-------------------------------------+\n",
      "|                               139950|                                           40|                                             25|                                       1|                                   31|\n",
      "|                               139950|                                           40|                                             25|                                       1|                                   31|\n",
      "|                                 null|                                         null|                                           null|                                    null|                                 null|\n",
      "|                               172582|                                           41|                                             28|                                       1|                                   34|\n",
      "|                                 null|                                         null|                                           null|                                    null|                                 null|\n",
      "|                               155858|                                           36|                                             29|                                       3|                                   33|\n",
      "|                               140565|                                           43|                                             23|                                       1|                                   29|\n",
      "|                               140565|                                           43|                                             23|                                       1|                                   29|\n",
      "|                               140565|                                           43|                                             23|                                       1|                                   29|\n",
      "|                               140565|                                           43|                                             23|                                       1|                                   29|\n",
      "|                               140565|                                           43|                                             23|                                       1|                                   29|\n",
      "|                               172582|                                           41|                                             28|                                       1|                                   34|\n",
      "|                               172582|                                           41|                                             28|                                       1|                                   34|\n",
      "|                               172582|                                           41|                                             28|                                       1|                                   34|\n",
      "|                               172582|                                           41|                                             28|                                       1|                                   34|\n",
      "|                               172582|                                           41|                                             28|                                       1|                                   34|\n",
      "|                               172582|                                           41|                                             28|                                       1|                                   34|\n",
      "|                               172582|                                           41|                                             28|                                       1|                                   34|\n",
      "|                               172582|                                           41|                                             28|                                       1|                                   34|\n",
      "|                               172582|                                           41|                                             28|                                       1|                                   34|\n",
      "+-------------------------------------+---------------------------------------------+-----------------------------------------------+----------------------------------------+-------------------------------------+\n",
      "only showing top 20 rows\n",
      "\n"
     ]
    },
    {
     "name": "stderr",
     "output_type": "stream",
     "text": [
      "                                                                                \r"
     ]
    },
    {
     "name": "stdout",
     "output_type": "stream",
     "text": [
      "+----------------+----------+\n",
      "|Voters_BirthDate|   DATE_18|\n",
      "+----------------+----------+\n",
      "|      05/03/1996|2014-05-03|\n",
      "|      05/03/1996|2014-05-03|\n",
      "|      12/04/1959|1977-12-04|\n",
      "|      11/11/1964|1982-11-11|\n",
      "|      05/21/1925|1943-05-21|\n",
      "|      07/22/1998|2016-07-22|\n",
      "|      03/31/1966|1984-03-31|\n",
      "|      12/10/1983|2001-12-10|\n",
      "|      01/05/1977|1995-01-05|\n",
      "|      05/18/1993|2011-05-18|\n",
      "+----------------+----------+\n",
      "only showing top 10 rows\n",
      "\n"
     ]
    },
    {
     "name": "stderr",
     "output_type": "stream",
     "text": [
      "[Stage 188:==========================================>              (3 + 1) / 4]\r"
     ]
    },
    {
     "name": "stdout",
     "output_type": "stream",
     "text": [
      "+-------+\n",
      "|YEAR_18|\n",
      "+-------+\n",
      "+-------+\n",
      "\n",
      "root\n",
      " |-- Voters_Gender: string (nullable = false)\n",
      " |-- Voters_BirthDate: string (nullable = true)\n",
      " |-- Residence_Families_HHCount: float (nullable = true)\n",
      " |-- Residence_HHGender_Description: string (nullable = false)\n",
      " |-- Mailing_Families_HHCount: float (nullable = true)\n",
      " |-- Mailing_HHGender_Description: string (nullable = false)\n",
      " |-- Parties_Description: string (nullable = false)\n",
      " |-- CommercialData_PropertyType: string (nullable = false)\n",
      " |-- AddressDistricts_Change_Changed_CD: string (nullable = false)\n",
      " |-- AddressDistricts_Change_Changed_SD: string (nullable = false)\n",
      " |-- AddressDistricts_Change_Changed_HD: string (nullable = false)\n",
      " |-- AddressDistricts_Change_Changed_County: string (nullable = false)\n",
      " |-- Residence_Addresses_Density: float (nullable = true)\n",
      " |-- CommercialData_EstimatedHHIncome: string (nullable = false)\n",
      " |-- CommercialData_ISPSA: integer (nullable = true)\n",
      " |-- CommercialData_AreaMedianEducationYears: float (nullable = true)\n",
      " |-- CommercialData_AreaMedianHousingValue: float (nullable = true)\n",
      " |-- CommercialData_AreaPcntHHMarriedCoupleNoChild: float (nullable = true)\n",
      " |-- CommercialData_AreaPcntHHMarriedCoupleWithChild: float (nullable = true)\n",
      " |-- CommercialData_AreaPcntHHSpanishSpeaking: float (nullable = true)\n",
      " |-- CommercialData_AreaPcntHHWithChildren: float (nullable = true)\n",
      " |-- CommercialData_StateIncomeDecile: integer (nullable = true)\n",
      " |-- EthnicGroups_EthnicGroup1Desc: string (nullable = false)\n",
      " |-- CommercialData_DwellingType: string (nullable = false)\n",
      " |-- CommercialData_PresenceOfChildrenCode: string (nullable = false)\n",
      " |-- CommercialData_DonatesToCharityInHome: string (nullable = false)\n",
      " |-- CommercialData_DwellingUnitSize: string (nullable = false)\n",
      " |-- CommercialData_ComputerOwnerInHome: string (nullable = false)\n",
      " |-- CommercialData_DonatesEnvironmentCauseInHome: string (nullable = false)\n",
      " |-- CommercialData_Education: string (nullable = false)\n",
      " |-- General_2000: string (nullable = true)\n",
      " |-- General_2004: string (nullable = true)\n",
      " |-- PresidentialPrimary_2000: string (nullable = true)\n",
      " |-- PresidentialPrimary_2004: string (nullable = true)\n",
      " |-- STATE: string (nullable = false)\n",
      " |-- Residence_Families_HHCount_imp: float (nullable = true)\n",
      " |-- Mailing_Families_HHCount_imp: float (nullable = true)\n",
      " |-- Residence_Addresses_Density_imp: float (nullable = true)\n",
      " |-- CommercialData_AreaMedianEducationYears_imp: float (nullable = true)\n",
      " |-- CommercialData_AreaMedianHousingValue_imp: float (nullable = true)\n",
      " |-- CommercialData_AreaPcntHHMarriedCoupleNoChild_imp: float (nullable = true)\n",
      " |-- CommercialData_AreaPcntHHMarriedCoupleWithChild_imp: float (nullable = true)\n",
      " |-- CommercialData_AreaPcntHHSpanishSpeaking_imp: float (nullable = true)\n",
      " |-- CommercialData_AreaPcntHHWithChildren_imp: float (nullable = true)\n",
      " |-- Voters_Gender_ind: double (nullable = false)\n",
      " |-- Residence_HHGender_Description_ind: double (nullable = false)\n",
      " |-- Mailing_HHGender_Description_ind: double (nullable = false)\n",
      " |-- Parties_Description_ind: double (nullable = false)\n",
      " |-- CommercialData_PropertyType_ind: double (nullable = false)\n",
      " |-- AddressDistricts_Change_Changed_CD_ind: double (nullable = false)\n",
      " |-- AddressDistricts_Change_Changed_SD_ind: double (nullable = false)\n",
      " |-- AddressDistricts_Change_Changed_HD_ind: double (nullable = false)\n",
      " |-- AddressDistricts_Change_Changed_County_ind: double (nullable = false)\n",
      " |-- CommercialData_EstimatedHHIncome_ind: double (nullable = false)\n",
      " |-- CommercialData_ISPSA_ind: double (nullable = false)\n",
      " |-- CommercialData_StateIncomeDecile_ind: double (nullable = false)\n",
      " |-- EthnicGroups_EthnicGroup1Desc_ind: double (nullable = false)\n",
      " |-- CommercialData_DwellingType_ind: double (nullable = false)\n",
      " |-- CommercialData_PresenceOfChildrenCode_ind: double (nullable = false)\n",
      " |-- CommercialData_DwellingUnitSize_ind: double (nullable = false)\n",
      " |-- CommercialData_Education_ind: double (nullable = false)\n",
      " |-- STATE_ind: double (nullable = false)\n",
      " |-- CommercialData_DonatesToCharityInHome_ind: double (nullable = false)\n",
      " |-- CommercialData_ComputerOwnerInHome_ind: double (nullable = false)\n",
      " |-- CommercialData_DonatesEnvironmentCauseInHome_ind: double (nullable = false)\n",
      " |-- DATE_18: date (nullable = true)\n",
      " |-- YEAR_18: integer (nullable = true)\n",
      " |-- comparator_date_presidential: date (nullable = true)\n",
      " |-- comparator_date_primary: date (nullable = true)\n",
      " |-- YEAR_ELIGIBLE_TO_VOTE_PRESIDENTIAL: integer (nullable = true)\n",
      " |-- YEAR_ELIGIBLE_TO_VOTE_PRIMARY: integer (nullable = true)\n",
      " |-- Voted_General_2008: integer (nullable = false)\n",
      "\n"
     ]
    },
    {
     "name": "stderr",
     "output_type": "stream",
     "text": [
      "                                                                                \r"
     ]
    }
   ],
   "source": [
    "# do the same process for Indiana:\n",
    "indi = spark.read.parquet(\"gs://voter-project-235-25/VM2Uniform--IN--2021-01-15_parq\")\n",
    "indi = indi.sample(True, 0.1, seed = 19480384)\n",
    "indi = indi.select(cols_to_keep)\n",
    "indi = indi.withColumn(\"STATE\", lit(\"IN\"))\n",
    "\n",
    "indi = clean_numeric_categorical(indi)\n",
    "indi = impute_values_function(indi)\n",
    "indi = clean_voter_participation(indi)\n",
    "indi.printSchema()"
   ]
  },
  {
   "cell_type": "code",
   "execution_count": 23,
   "id": "761a5227-64af-49e7-9fa6-7f4df467d5fa",
   "metadata": {},
   "outputs": [
    {
     "data": {
      "text/plain": [
       "['Voters_Gender',\n",
       " 'Voters_BirthDate',\n",
       " 'Residence_Families_HHCount',\n",
       " 'Residence_HHGender_Description',\n",
       " 'Mailing_Families_HHCount',\n",
       " 'Mailing_HHGender_Description',\n",
       " 'Parties_Description',\n",
       " 'CommercialData_PropertyType',\n",
       " 'AddressDistricts_Change_Changed_CD',\n",
       " 'AddressDistricts_Change_Changed_SD',\n",
       " 'AddressDistricts_Change_Changed_HD',\n",
       " 'AddressDistricts_Change_Changed_County',\n",
       " 'Residence_Addresses_Density',\n",
       " 'CommercialData_EstimatedHHIncome',\n",
       " 'CommercialData_ISPSA',\n",
       " 'CommercialData_AreaMedianEducationYears',\n",
       " 'CommercialData_AreaMedianHousingValue',\n",
       " 'CommercialData_AreaPcntHHMarriedCoupleNoChild',\n",
       " 'CommercialData_AreaPcntHHMarriedCoupleWithChild',\n",
       " 'CommercialData_AreaPcntHHSpanishSpeaking',\n",
       " 'CommercialData_AreaPcntHHWithChildren',\n",
       " 'CommercialData_StateIncomeDecile',\n",
       " 'EthnicGroups_EthnicGroup1Desc',\n",
       " 'CommercialData_DwellingType',\n",
       " 'CommercialData_PresenceOfChildrenCode',\n",
       " 'CommercialData_DonatesToCharityInHome',\n",
       " 'CommercialData_DwellingUnitSize',\n",
       " 'CommercialData_ComputerOwnerInHome',\n",
       " 'CommercialData_DonatesEnvironmentCauseInHome',\n",
       " 'CommercialData_Education',\n",
       " 'General_2000',\n",
       " 'General_2004',\n",
       " 'PresidentialPrimary_2000',\n",
       " 'PresidentialPrimary_2004',\n",
       " 'STATE',\n",
       " 'Residence_Families_HHCount_imp',\n",
       " 'Mailing_Families_HHCount_imp',\n",
       " 'Residence_Addresses_Density_imp',\n",
       " 'CommercialData_AreaMedianEducationYears_imp',\n",
       " 'CommercialData_AreaMedianHousingValue_imp',\n",
       " 'CommercialData_AreaPcntHHMarriedCoupleNoChild_imp',\n",
       " 'CommercialData_AreaPcntHHMarriedCoupleWithChild_imp',\n",
       " 'CommercialData_AreaPcntHHSpanishSpeaking_imp',\n",
       " 'CommercialData_AreaPcntHHWithChildren_imp',\n",
       " 'Voters_Gender_ind',\n",
       " 'Residence_HHGender_Description_ind',\n",
       " 'Mailing_HHGender_Description_ind',\n",
       " 'Parties_Description_ind',\n",
       " 'CommercialData_PropertyType_ind',\n",
       " 'AddressDistricts_Change_Changed_CD_ind',\n",
       " 'AddressDistricts_Change_Changed_SD_ind',\n",
       " 'AddressDistricts_Change_Changed_HD_ind',\n",
       " 'AddressDistricts_Change_Changed_County_ind',\n",
       " 'CommercialData_EstimatedHHIncome_ind',\n",
       " 'CommercialData_ISPSA_ind',\n",
       " 'CommercialData_StateIncomeDecile_ind',\n",
       " 'EthnicGroups_EthnicGroup1Desc_ind',\n",
       " 'CommercialData_DwellingType_ind',\n",
       " 'CommercialData_PresenceOfChildrenCode_ind',\n",
       " 'CommercialData_DwellingUnitSize_ind',\n",
       " 'CommercialData_Education_ind',\n",
       " 'STATE_ind',\n",
       " 'CommercialData_DonatesToCharityInHome_ind',\n",
       " 'CommercialData_ComputerOwnerInHome_ind',\n",
       " 'CommercialData_DonatesEnvironmentCauseInHome_ind',\n",
       " 'DATE_18',\n",
       " 'YEAR_18',\n",
       " 'comparator_date_presidential',\n",
       " 'comparator_date_primary',\n",
       " 'YEAR_ELIGIBLE_TO_VOTE_PRESIDENTIAL',\n",
       " 'YEAR_ELIGIBLE_TO_VOTE_PRIMARY',\n",
       " 'Voted_General_2008']"
      ]
     },
     "execution_count": 23,
     "metadata": {},
     "output_type": "execute_result"
    }
   ],
   "source": [
    "indi.columns"
   ]
  },
  {
   "cell_type": "markdown",
   "id": "9b66ee9d-8b16-4ef1-b7de-44c5ca5420d0",
   "metadata": {},
   "source": [
    "# Estimator with logistic regression index model"
   ]
  },
  {
   "cell_type": "code",
   "execution_count": 33,
   "id": "09d97601-ffc9-4ce5-8f58-2652b337ad55",
   "metadata": {},
   "outputs": [],
   "source": [
    "pct = [\"CommercialData_AreaPcntHHMarriedCoupleNoChild\",  \n",
    "           \"CommercialData_AreaPcntHHMarriedCoupleWithChild\",\n",
    "           \"CommercialData_AreaPcntHHSpanishSpeaking\",\n",
    "           \"CommercialData_AreaPcntHHWithChildren\"]\n",
    "\n",
    "numeric_cols = [\n",
    "    'Residence_Families_HHCount',\n",
    "    'Mailing_Families_HHCount',\n",
    "    'Residence_Addresses_Density',\n",
    "    \"CommercialData_AreaMedianEducationYears\",\n",
    "    \"CommercialData_AreaMedianHousingValue\"\n",
    "] + pct\n",
    "\n",
    "trinary_cols = [\n",
    "    'CommercialData_DonatesToCharityInHome',\n",
    "    'CommercialData_ComputerOwnerInHome',\n",
    "    'CommercialData_DonatesEnvironmentCauseInHome'\n",
    "]\n",
    "\n",
    "binary_cols = []\n",
    "\n",
    "dont_touch_cols = [\n",
    "    \"General_2008\", \n",
    "    \"Voters_BirthDate\", \n",
    "    \"General_2000\",\n",
    "    \"General_2004\",\n",
    "    \"PresidentialPrimary_2000\",\n",
    "    \"PresidentialPrimary_2004\"\n",
    "]\n",
    "\n",
    "cols_excluded_from_regression = [\n",
    "    'Voters_BirthDate', # removed this, but KEPT the YEAR that the voter turned 18.\n",
    "    'STATE',\n",
    "    'STATE_ind',\n",
    "    'DATE_18',\n",
    "    'comparator_date_presidential',\n",
    "    'comparator_date_primary',\n",
    "    'YEAR_ELIGIBLE_TO_VOTE_PRESIDENTIAL',\n",
    "    'YEAR_ELIGIBLE_TO_VOTE_PRIMARY',\n",
    "#    'Voted_General_2008'\n",
    "]\n",
    "\n",
    "other_cols = [c for c in df_ref.columns if c not in (dont_touch_cols+cols_excluded_from_regression)]\n",
    "other_cols = [c for c in other_cols if c not in (numeric_cols + trinary_cols + binary_cols)]\n",
    "\n",
    "categorical_cols = other_cols + binary_cols + trinary_cols\n",
    "\n",
    "new_df = df_ref.drop(*cols_excluded_from_regression)"
   ]
  },
  {
   "cell_type": "code",
   "execution_count": null,
   "id": "b4b37b28-6658-4276-a5c2-a055a0027bc8",
   "metadata": {},
   "outputs": [
    {
     "name": "stderr",
     "output_type": "stream",
     "text": [
      "                                                                                \r"
     ]
    },
    {
     "data": {
      "text/plain": [
       "67924252"
      ]
     },
     "execution_count": 30,
     "metadata": {},
     "output_type": "execute_result"
    }
   ],
   "source": [
    "new_df.count()"
   ]
  },
  {
   "cell_type": "code",
   "execution_count": 34,
   "id": "e52eff85-2988-4b28-a2be-23c35fb08319",
   "metadata": {},
   "outputs": [
    {
     "data": {
      "text/plain": [
       "['Voters_Gender_ind',\n",
       " 'Residence_HHGender_Description_ind',\n",
       " 'Mailing_HHGender_Description_ind',\n",
       " 'Parties_Description_ind',\n",
       " 'CommercialData_PropertyType_ind',\n",
       " 'AddressDistricts_Change_Changed_CD_ind',\n",
       " 'AddressDistricts_Change_Changed_SD_ind',\n",
       " 'AddressDistricts_Change_Changed_HD_ind',\n",
       " 'AddressDistricts_Change_Changed_County_ind',\n",
       " 'CommercialData_EstimatedHHIncome_ind',\n",
       " 'CommercialData_ISPSA_ind',\n",
       " 'CommercialData_StateIncomeDecile_ind',\n",
       " 'EthnicGroups_EthnicGroup1Desc_ind',\n",
       " 'CommercialData_DwellingType_ind',\n",
       " 'CommercialData_PresenceOfChildrenCode_ind',\n",
       " 'CommercialData_DwellingUnitSize_ind',\n",
       " 'CommercialData_Education_ind',\n",
       " 'Residence_Families_HHCount_imp_ind',\n",
       " 'Mailing_Families_HHCount_imp_ind',\n",
       " 'Residence_Addresses_Density_imp_ind',\n",
       " 'CommercialData_AreaMedianEducationYears_imp_ind',\n",
       " 'CommercialData_AreaMedianHousingValue_imp_ind',\n",
       " 'CommercialData_AreaPcntHHMarriedCoupleNoChild_imp_ind',\n",
       " 'CommercialData_AreaPcntHHMarriedCoupleWithChild_imp_ind',\n",
       " 'CommercialData_AreaPcntHHSpanishSpeaking_imp_ind',\n",
       " 'CommercialData_AreaPcntHHWithChildren_imp_ind',\n",
       " 'Voters_Gender_ind_ind',\n",
       " 'Residence_HHGender_Description_ind_ind',\n",
       " 'Mailing_HHGender_Description_ind_ind',\n",
       " 'Parties_Description_ind_ind',\n",
       " 'CommercialData_PropertyType_ind_ind',\n",
       " 'AddressDistricts_Change_Changed_CD_ind_ind',\n",
       " 'AddressDistricts_Change_Changed_SD_ind_ind',\n",
       " 'AddressDistricts_Change_Changed_HD_ind_ind',\n",
       " 'AddressDistricts_Change_Changed_County_ind_ind',\n",
       " 'CommercialData_EstimatedHHIncome_ind_ind',\n",
       " 'CommercialData_ISPSA_ind_ind',\n",
       " 'CommercialData_StateIncomeDecile_ind_ind',\n",
       " 'EthnicGroups_EthnicGroup1Desc_ind_ind',\n",
       " 'CommercialData_DwellingType_ind_ind',\n",
       " 'CommercialData_PresenceOfChildrenCode_ind_ind',\n",
       " 'CommercialData_DwellingUnitSize_ind_ind',\n",
       " 'CommercialData_Education_ind_ind',\n",
       " 'CommercialData_DonatesToCharityInHome_ind_ind',\n",
       " 'CommercialData_ComputerOwnerInHome_ind_ind',\n",
       " 'CommercialData_DonatesEnvironmentCauseInHome_ind_ind',\n",
       " 'YEAR_18_ind',\n",
       " 'Voted_General_2008_ind',\n",
       " 'CommercialData_DonatesToCharityInHome_ind',\n",
       " 'CommercialData_ComputerOwnerInHome_ind',\n",
       " 'CommercialData_DonatesEnvironmentCauseInHome_ind']"
      ]
     },
     "execution_count": 34,
     "metadata": {},
     "output_type": "execute_result"
    }
   ],
   "source": [
    "[f\"{c}_ind\" for c in categorical_cols]"
   ]
  },
  {
   "cell_type": "code",
   "execution_count": 31,
   "id": "08b25e45-9314-4caa-aeb2-39d2e5086218",
   "metadata": {
    "tags": []
   },
   "outputs": [
    {
     "name": "stderr",
     "output_type": "stream",
     "text": [
      "                                                                                \r"
     ]
    },
    {
     "ename": "AnalysisException",
     "evalue": "cannot resolve '`STATE_ind`' given input columns: [input_df.AddressDistricts_Change_Changed_CD, AddressDistricts_Change_Changed_CD_ind, input_df.AddressDistricts_Change_Changed_County, AddressDistricts_Change_Changed_County_ind, input_df.AddressDistricts_Change_Changed_HD, AddressDistricts_Change_Changed_HD_ind, input_df.AddressDistricts_Change_Changed_SD, AddressDistricts_Change_Changed_SD_ind, input_df.CommercialData_AreaMedianEducationYears, CommercialData_AreaMedianEducationYears_imp, input_df.CommercialData_AreaMedianHousingValue, CommercialData_AreaMedianHousingValue_imp, input_df.CommercialData_AreaPcntHHMarriedCoupleNoChild, CommercialData_AreaPcntHHMarriedCoupleNoChild_imp, input_df.CommercialData_AreaPcntHHMarriedCoupleWithChild, CommercialData_AreaPcntHHMarriedCoupleWithChild_imp, input_df.CommercialData_AreaPcntHHSpanishSpeaking, CommercialData_AreaPcntHHSpanishSpeaking_imp, input_df.CommercialData_AreaPcntHHWithChildren, CommercialData_AreaPcntHHWithChildren_imp, input_df.CommercialData_ComputerOwnerInHome, CommercialData_ComputerOwnerInHome_ind, input_df.CommercialData_DonatesEnvironmentCauseInHome, CommercialData_DonatesEnvironmentCauseInHome_ind, input_df.CommercialData_DonatesToCharityInHome, CommercialData_DonatesToCharityInHome_ind, input_df.CommercialData_DwellingType, CommercialData_DwellingType_ind, input_df.CommercialData_DwellingUnitSize, CommercialData_DwellingUnitSize_ind, input_df.CommercialData_Education, CommercialData_Education_ind, input_df.CommercialData_EstimatedHHIncome, CommercialData_EstimatedHHIncome_ind, input_df.CommercialData_ISPSA, CommercialData_ISPSA_ind, input_df.CommercialData_PresenceOfChildrenCode, CommercialData_PresenceOfChildrenCode_ind, input_df.CommercialData_PropertyType, CommercialData_PropertyType_ind, input_df.CommercialData_StateIncomeDecile, CommercialData_StateIncomeDecile_ind, input_df.EthnicGroups_EthnicGroup1Desc, EthnicGroups_EthnicGroup1Desc_ind, General_2000, General_2004, input_df.Mailing_Families_HHCount, Mailing_Families_HHCount_imp, input_df.Mailing_HHGender_Description, Mailing_HHGender_Description_ind, input_df.Parties_Description, Parties_Description_ind, PresidentialPrimary_2000, PresidentialPrimary_2004, input_df.Residence_Addresses_Density, Residence_Addresses_Density_imp, input_df.Residence_Families_HHCount, Residence_Families_HHCount_imp, input_df.Residence_HHGender_Description, Residence_HHGender_Description_ind, Voted_General_2008, input_df.Voters_Gender, Voters_Gender_ind, YEAR_18, label];\n'Project [Residence_Families_HHCount_imp#25088, Mailing_Families_HHCount_imp#25089, Residence_Addresses_Density_imp#25090, CommercialData_AreaMedianEducationYears_imp#25091, CommercialData_AreaMedianHousingValue_imp#25092, CommercialData_AreaPcntHHMarriedCoupleNoChild_imp#25093, CommercialData_AreaPcntHHMarriedCoupleWithChild_imp#25094, CommercialData_AreaPcntHHSpanishSpeaking_imp#25095, CommercialData_AreaPcntHHWithChildren_imp#25096, Voters_Gender_ind#25637, Residence_HHGender_Description_ind#25638, Mailing_HHGender_Description_ind#25639, Parties_Description_ind#25640, CommercialData_PropertyType_ind#25641, AddressDistricts_Change_Changed_CD_ind#25642, AddressDistricts_Change_Changed_SD_ind#25643, AddressDistricts_Change_Changed_HD_ind#25644, AddressDistricts_Change_Changed_County_ind#25645, CommercialData_EstimatedHHIncome_ind#25646, CommercialData_ISPSA_ind#25647, CommercialData_StateIncomeDecile_ind#25648, EthnicGroups_EthnicGroup1Desc_ind#25649, CommercialData_DwellingType_ind#25650, CommercialData_PresenceOfChildrenCode_ind#25651, ... 44 more fields]\n+- Project [Voters_Gender#24739, Residence_Families_HHCount#24287, Residence_HHGender_Description#24740, Mailing_Families_HHCount#24325, Mailing_HHGender_Description#24741, Parties_Description#24742, CommercialData_PropertyType#24743, AddressDistricts_Change_Changed_CD#24744, AddressDistricts_Change_Changed_SD#24745, AddressDistricts_Change_Changed_HD#24746, AddressDistricts_Change_Changed_County#24747, Residence_Addresses_Density#24363, CommercialData_EstimatedHHIncome#24748, CommercialData_ISPSA#24749, CommercialData_AreaMedianEducationYears#24401, CommercialData_AreaMedianHousingValue#24439, CommercialData_AreaPcntHHMarriedCoupleNoChild#24477, CommercialData_AreaPcntHHMarriedCoupleWithChild#24515, CommercialData_AreaPcntHHSpanishSpeaking#24553, CommercialData_AreaPcntHHWithChildren#24591, CommercialData_StateIncomeDecile#24750, EthnicGroups_EthnicGroup1Desc#24751, CommercialData_DwellingType#24752, CommercialData_PresenceOfChildrenCode#24753, ... 41 more fields]\n   +- Project [Voters_Gender#24739, Residence_Families_HHCount#24287, Residence_HHGender_Description#24740, Mailing_Families_HHCount#24325, Mailing_HHGender_Description#24741, Parties_Description#24742, CommercialData_PropertyType#24743, AddressDistricts_Change_Changed_CD#24744, AddressDistricts_Change_Changed_SD#24745, AddressDistricts_Change_Changed_HD#24746, AddressDistricts_Change_Changed_County#24747, Residence_Addresses_Density#24363, CommercialData_EstimatedHHIncome#24748, CommercialData_ISPSA#24749, CommercialData_AreaMedianEducationYears#24401, CommercialData_AreaMedianHousingValue#24439, CommercialData_AreaPcntHHMarriedCoupleNoChild#24477, CommercialData_AreaPcntHHMarriedCoupleWithChild#24515, CommercialData_AreaPcntHHSpanishSpeaking#24553, CommercialData_AreaPcntHHWithChildren#24591, CommercialData_StateIncomeDecile#24750, EthnicGroups_EthnicGroup1Desc#24751, CommercialData_DwellingType#24752, CommercialData_PresenceOfChildrenCode#24753, ... 40 more fields]\n      +- Project [Voters_Gender#24739, Voters_BirthDate#67, Residence_Families_HHCount#24287, Residence_HHGender_Description#24740, Mailing_Families_HHCount#24325, Mailing_HHGender_Description#24741, Parties_Description#24742, CommercialData_PropertyType#24743, AddressDistricts_Change_Changed_CD#24744, AddressDistricts_Change_Changed_SD#24745, AddressDistricts_Change_Changed_HD#24746, AddressDistricts_Change_Changed_County#24747, Residence_Addresses_Density#24363, CommercialData_EstimatedHHIncome#24748, CommercialData_ISPSA#24749, CommercialData_AreaMedianEducationYears#24401, CommercialData_AreaMedianHousingValue#24439, CommercialData_AreaPcntHHMarriedCoupleNoChild#24477, CommercialData_AreaPcntHHMarriedCoupleWithChild#24515, CommercialData_AreaPcntHHSpanishSpeaking#24553, CommercialData_AreaPcntHHWithChildren#24591, CommercialData_StateIncomeDecile#24750, EthnicGroups_EthnicGroup1Desc#24751, CommercialData_DwellingType#24752, ... 48 more fields]\n         +- Project [Voters_Gender#24739, Voters_BirthDate#67, Residence_Families_HHCount#24287, Residence_HHGender_Description#24740, Mailing_Families_HHCount#24325, Mailing_HHGender_Description#24741, Parties_Description#24742, CommercialData_PropertyType#24743, AddressDistricts_Change_Changed_CD#24744, AddressDistricts_Change_Changed_SD#24745, AddressDistricts_Change_Changed_HD#24746, AddressDistricts_Change_Changed_County#24747, Residence_Addresses_Density#24363, CommercialData_EstimatedHHIncome#24748, CommercialData_ISPSA#24749, CommercialData_AreaMedianEducationYears#24401, CommercialData_AreaMedianHousingValue#24439, CommercialData_AreaPcntHHMarriedCoupleNoChild#24477, CommercialData_AreaPcntHHMarriedCoupleWithChild#24515, CommercialData_AreaPcntHHSpanishSpeaking#24553, CommercialData_AreaPcntHHWithChildren#24591, CommercialData_StateIncomeDecile#24750, EthnicGroups_EthnicGroup1Desc#24751, CommercialData_DwellingType#24752, ... 49 more fields]\n            +- Project [Voters_Gender#24739, Voters_BirthDate#67, Residence_Families_HHCount#24287, Residence_HHGender_Description#24740, Mailing_Families_HHCount#24325, Mailing_HHGender_Description#24741, Parties_Description#24742, CommercialData_PropertyType#24743, AddressDistricts_Change_Changed_CD#24744, AddressDistricts_Change_Changed_SD#24745, AddressDistricts_Change_Changed_HD#24746, AddressDistricts_Change_Changed_County#24747, Residence_Addresses_Density#24363, CommercialData_EstimatedHHIncome#24748, CommercialData_ISPSA#24749, CommercialData_AreaMedianEducationYears#24401, CommercialData_AreaMedianHousingValue#24439, CommercialData_AreaPcntHHMarriedCoupleNoChild#24477, CommercialData_AreaPcntHHMarriedCoupleWithChild#24515, CommercialData_AreaPcntHHSpanishSpeaking#24553, CommercialData_AreaPcntHHWithChildren#24591, CommercialData_StateIncomeDecile#24750, EthnicGroups_EthnicGroup1Desc#24751, CommercialData_DwellingType#24752, ... 48 more fields]\n               +- Project [Voters_Gender#24739, Voters_BirthDate#67, Residence_Families_HHCount#24287, Residence_HHGender_Description#24740, Mailing_Families_HHCount#24325, Mailing_HHGender_Description#24741, Parties_Description#24742, CommercialData_PropertyType#24743, AddressDistricts_Change_Changed_CD#24744, AddressDistricts_Change_Changed_SD#24745, AddressDistricts_Change_Changed_HD#24746, AddressDistricts_Change_Changed_County#24747, Residence_Addresses_Density#24363, CommercialData_EstimatedHHIncome#24748, CommercialData_ISPSA#24749, CommercialData_AreaMedianEducationYears#24401, CommercialData_AreaMedianHousingValue#24439, CommercialData_AreaPcntHHMarriedCoupleNoChild#24477, CommercialData_AreaPcntHHMarriedCoupleWithChild#24515, CommercialData_AreaPcntHHSpanishSpeaking#24553, CommercialData_AreaPcntHHWithChildren#24591, CommercialData_StateIncomeDecile#24750, EthnicGroups_EthnicGroup1Desc#24751, CommercialData_DwellingType#24752, ... 48 more fields]\n                  +- Project [Voters_Gender#24739, Voters_BirthDate#67, Residence_Families_HHCount#24287, Residence_HHGender_Description#24740, Mailing_Families_HHCount#24325, Mailing_HHGender_Description#24741, Parties_Description#24742, CommercialData_PropertyType#24743, AddressDistricts_Change_Changed_CD#24744, AddressDistricts_Change_Changed_SD#24745, AddressDistricts_Change_Changed_HD#24746, AddressDistricts_Change_Changed_County#24747, Residence_Addresses_Density#24363, CommercialData_EstimatedHHIncome#24748, CommercialData_ISPSA#24749, CommercialData_AreaMedianEducationYears#24401, CommercialData_AreaMedianHousingValue#24439, CommercialData_AreaPcntHHMarriedCoupleNoChild#24477, CommercialData_AreaPcntHHMarriedCoupleWithChild#24515, CommercialData_AreaPcntHHSpanishSpeaking#24553, CommercialData_AreaPcntHHWithChildren#24591, CommercialData_StateIncomeDecile#24750, EthnicGroups_EthnicGroup1Desc#24751, CommercialData_DwellingType#24752, ... 48 more fields]\n                     +- Project [Voters_Gender#24739, Voters_BirthDate#67, Residence_Families_HHCount#24287, Residence_HHGender_Description#24740, Mailing_Families_HHCount#24325, Mailing_HHGender_Description#24741, Parties_Description#24742, CommercialData_PropertyType#24743, AddressDistricts_Change_Changed_CD#24744, AddressDistricts_Change_Changed_SD#24745, AddressDistricts_Change_Changed_HD#24746, AddressDistricts_Change_Changed_County#24747, Residence_Addresses_Density#24363, CommercialData_EstimatedHHIncome#24748, CommercialData_ISPSA#24749, CommercialData_AreaMedianEducationYears#24401, CommercialData_AreaMedianHousingValue#24439, CommercialData_AreaPcntHHMarriedCoupleNoChild#24477, CommercialData_AreaPcntHHMarriedCoupleWithChild#24515, CommercialData_AreaPcntHHSpanishSpeaking#24553, CommercialData_AreaPcntHHWithChildren#24591, CommercialData_StateIncomeDecile#24750, EthnicGroups_EthnicGroup1Desc#24751, CommercialData_DwellingType#24752, ... 48 more fields]\n                        +- Project [Voters_Gender#24739, Voters_BirthDate#67, Residence_Families_HHCount#24287, Residence_HHGender_Description#24740, Mailing_Families_HHCount#24325, Mailing_HHGender_Description#24741, Parties_Description#24742, CommercialData_PropertyType#24743, AddressDistricts_Change_Changed_CD#24744, AddressDistricts_Change_Changed_SD#24745, AddressDistricts_Change_Changed_HD#24746, AddressDistricts_Change_Changed_County#24747, Residence_Addresses_Density#24363, CommercialData_EstimatedHHIncome#24748, CommercialData_ISPSA#24749, CommercialData_AreaMedianEducationYears#24401, CommercialData_AreaMedianHousingValue#24439, CommercialData_AreaPcntHHMarriedCoupleNoChild#24477, CommercialData_AreaPcntHHMarriedCoupleWithChild#24515, CommercialData_AreaPcntHHSpanishSpeaking#24553, CommercialData_AreaPcntHHWithChildren#24591, CommercialData_StateIncomeDecile#24750, EthnicGroups_EthnicGroup1Desc#24751, CommercialData_DwellingType#24752, ... 48 more fields]\n                           +- Filter (YEAR_ELIGIBLE_TO_VOTE_PRESIDENTIAL#26191 <= 2008)\n                              +- Project [Voters_Gender#24739, Voters_BirthDate#67, Residence_Families_HHCount#24287, Residence_HHGender_Description#24740, Mailing_Families_HHCount#24325, Mailing_HHGender_Description#24741, Parties_Description#24742, CommercialData_PropertyType#24743, AddressDistricts_Change_Changed_CD#24744, AddressDistricts_Change_Changed_SD#24745, AddressDistricts_Change_Changed_HD#24746, AddressDistricts_Change_Changed_County#24747, Residence_Addresses_Density#24363, CommercialData_EstimatedHHIncome#24748, CommercialData_ISPSA#24749, CommercialData_AreaMedianEducationYears#24401, CommercialData_AreaMedianHousingValue#24439, CommercialData_AreaPcntHHMarriedCoupleNoChild#24477, CommercialData_AreaPcntHHMarriedCoupleWithChild#24515, CommercialData_AreaPcntHHSpanishSpeaking#24553, CommercialData_AreaPcntHHWithChildren#24591, CommercialData_StateIncomeDecile#24750, EthnicGroups_EthnicGroup1Desc#24751, CommercialData_DwellingType#24752, ... 48 more fields]\n                                 +- Project [Voters_Gender#24739, Voters_BirthDate#67, Residence_Families_HHCount#24287, Residence_HHGender_Description#24740, Mailing_Families_HHCount#24325, Mailing_HHGender_Description#24741, Parties_Description#24742, CommercialData_PropertyType#24743, AddressDistricts_Change_Changed_CD#24744, AddressDistricts_Change_Changed_SD#24745, AddressDistricts_Change_Changed_HD#24746, AddressDistricts_Change_Changed_County#24747, Residence_Addresses_Density#24363, CommercialData_EstimatedHHIncome#24748, CommercialData_ISPSA#24749, CommercialData_AreaMedianEducationYears#24401, CommercialData_AreaMedianHousingValue#24439, CommercialData_AreaPcntHHMarriedCoupleNoChild#24477, CommercialData_AreaPcntHHMarriedCoupleWithChild#24515, CommercialData_AreaPcntHHSpanishSpeaking#24553, CommercialData_AreaPcntHHWithChildren#24591, CommercialData_StateIncomeDecile#24750, EthnicGroups_EthnicGroup1Desc#24751, CommercialData_DwellingType#24752, ... 47 more fields]\n                                    +- Project [Voters_Gender#24739, Voters_BirthDate#67, Residence_Families_HHCount#24287, Residence_HHGender_Description#24740, Mailing_Families_HHCount#24325, Mailing_HHGender_Description#24741, Parties_Description#24742, CommercialData_PropertyType#24743, AddressDistricts_Change_Changed_CD#24744, AddressDistricts_Change_Changed_SD#24745, AddressDistricts_Change_Changed_HD#24746, AddressDistricts_Change_Changed_County#24747, Residence_Addresses_Density#24363, CommercialData_EstimatedHHIncome#24748, CommercialData_ISPSA#24749, CommercialData_AreaMedianEducationYears#24401, CommercialData_AreaMedianHousingValue#24439, CommercialData_AreaPcntHHMarriedCoupleNoChild#24477, CommercialData_AreaPcntHHMarriedCoupleWithChild#24515, CommercialData_AreaPcntHHSpanishSpeaking#24553, CommercialData_AreaPcntHHWithChildren#24591, CommercialData_StateIncomeDecile#24750, EthnicGroups_EthnicGroup1Desc#24751, CommercialData_DwellingType#24752, ... 46 more fields]\n                                       +- Project [Voters_Gender#24739, Voters_BirthDate#67, Residence_Families_HHCount#24287, Residence_HHGender_Description#24740, Mailing_Families_HHCount#24325, Mailing_HHGender_Description#24741, Parties_Description#24742, CommercialData_PropertyType#24743, AddressDistricts_Change_Changed_CD#24744, AddressDistricts_Change_Changed_SD#24745, AddressDistricts_Change_Changed_HD#24746, AddressDistricts_Change_Changed_County#24747, Residence_Addresses_Density#24363, CommercialData_EstimatedHHIncome#24748, CommercialData_ISPSA#24749, CommercialData_AreaMedianEducationYears#24401, CommercialData_AreaMedianHousingValue#24439, CommercialData_AreaPcntHHMarriedCoupleNoChild#24477, CommercialData_AreaPcntHHMarriedCoupleWithChild#24515, CommercialData_AreaPcntHHSpanishSpeaking#24553, CommercialData_AreaPcntHHWithChildren#24591, CommercialData_StateIncomeDecile#24750, EthnicGroups_EthnicGroup1Desc#24751, CommercialData_DwellingType#24752, ... 45 more fields]\n                                          +- Project [Voters_Gender#24739, Voters_BirthDate#67, Residence_Families_HHCount#24287, Residence_HHGender_Description#24740, Mailing_Families_HHCount#24325, Mailing_HHGender_Description#24741, Parties_Description#24742, CommercialData_PropertyType#24743, AddressDistricts_Change_Changed_CD#24744, AddressDistricts_Change_Changed_SD#24745, AddressDistricts_Change_Changed_HD#24746, AddressDistricts_Change_Changed_County#24747, Residence_Addresses_Density#24363, CommercialData_EstimatedHHIncome#24748, CommercialData_ISPSA#24749, CommercialData_AreaMedianEducationYears#24401, CommercialData_AreaMedianHousingValue#24439, CommercialData_AreaPcntHHMarriedCoupleNoChild#24477, CommercialData_AreaPcntHHMarriedCoupleWithChild#24515, CommercialData_AreaPcntHHSpanishSpeaking#24553, CommercialData_AreaPcntHHWithChildren#24591, CommercialData_StateIncomeDecile#24750, EthnicGroups_EthnicGroup1Desc#24751, CommercialData_DwellingType#24752, ... 44 more fields]\n                                             +- Filter AtLeastNNulls(n, Voters_BirthDate#67)\n                                                +- Project [Voters_Gender#24739, Voters_BirthDate#67, Residence_Families_HHCount#24287, Residence_HHGender_Description#24740, Mailing_Families_HHCount#24325, Mailing_HHGender_Description#24741, Parties_Description#24742, CommercialData_PropertyType#24743, AddressDistricts_Change_Changed_CD#24744, AddressDistricts_Change_Changed_SD#24745, AddressDistricts_Change_Changed_HD#24746, AddressDistricts_Change_Changed_County#24747, Residence_Addresses_Density#24363, CommercialData_EstimatedHHIncome#24748, CommercialData_ISPSA#24749, CommercialData_AreaMedianEducationYears#24401, CommercialData_AreaMedianHousingValue#24439, CommercialData_AreaPcntHHMarriedCoupleNoChild#24477, CommercialData_AreaPcntHHMarriedCoupleWithChild#24515, CommercialData_AreaPcntHHSpanishSpeaking#24553, CommercialData_AreaPcntHHWithChildren#24591, CommercialData_StateIncomeDecile#24750, EthnicGroups_EthnicGroup1Desc#24751, CommercialData_DwellingType#24752, ... 43 more fields]\n                                                   +- Project [Voters_Gender#24739, Voters_BirthDate#67, Residence_Families_HHCount#24287, Residence_HHGender_Description#24740, Mailing_Families_HHCount#24325, Mailing_HHGender_Description#24741, Parties_Description#24742, CommercialData_PropertyType#24743, AddressDistricts_Change_Changed_CD#24744, AddressDistricts_Change_Changed_SD#24745, AddressDistricts_Change_Changed_HD#24746, AddressDistricts_Change_Changed_County#24747, Residence_Addresses_Density#24363, CommercialData_EstimatedHHIncome#24748, CommercialData_ISPSA#24749, CommercialData_AreaMedianEducationYears#24401, CommercialData_AreaMedianHousingValue#24439, CommercialData_AreaPcntHHMarriedCoupleNoChild#24477, CommercialData_AreaPcntHHMarriedCoupleWithChild#24515, CommercialData_AreaPcntHHSpanishSpeaking#24553, CommercialData_AreaPcntHHWithChildren#24591, CommercialData_StateIncomeDecile#24750, EthnicGroups_EthnicGroup1Desc#24751, CommercialData_DwellingType#24752, ... 42 more fields]\n                                                      +- Project [Voters_Gender#24739, Voters_BirthDate#67, Residence_Families_HHCount#24287, Residence_HHGender_Description#24740, Mailing_Families_HHCount#24325, Mailing_HHGender_Description#24741, Parties_Description#24742, CommercialData_PropertyType#24743, AddressDistricts_Change_Changed_CD#24744, AddressDistricts_Change_Changed_SD#24745, AddressDistricts_Change_Changed_HD#24746, AddressDistricts_Change_Changed_County#24747, Residence_Addresses_Density#24363, CommercialData_EstimatedHHIncome#24748, CommercialData_ISPSA#24749, CommercialData_AreaMedianEducationYears#24401, CommercialData_AreaMedianHousingValue#24439, CommercialData_AreaPcntHHMarriedCoupleNoChild#24477, CommercialData_AreaPcntHHMarriedCoupleWithChild#24515, CommercialData_AreaPcntHHSpanishSpeaking#24553, CommercialData_AreaPcntHHWithChildren#24591, CommercialData_StateIncomeDecile#24750, EthnicGroups_EthnicGroup1Desc#24751, CommercialData_DwellingType#24752, ... 21 more fields]\n                                                         +- SubqueryAlias input_df\n                                                            +- Project [coalesce(Voters_Gender#65, cast(Missing as string)) AS Voters_Gender#24739, Voters_BirthDate#67, Residence_Families_HHCount#24287, coalesce(Residence_HHGender_Description#45, cast(Missing as string)) AS Residence_HHGender_Description#24740, Mailing_Families_HHCount#24325, coalesce(Mailing_HHGender_Description#63, cast(Missing as string)) AS Mailing_HHGender_Description#24741, coalesce(Parties_Description#69, cast(Missing as string)) AS Parties_Description#24742, coalesce(CommercialData_PropertyType#374, cast(Missing as string)) AS CommercialData_PropertyType#24743, coalesce(AddressDistricts_Change_Changed_CD#84, cast(Missing as string)) AS AddressDistricts_Change_Changed_CD#24744, coalesce(AddressDistricts_Change_Changed_SD#86, cast(Missing as string)) AS AddressDistricts_Change_Changed_SD#24745, coalesce(AddressDistricts_Change_Changed_HD#88, cast(Missing as string)) AS AddressDistricts_Change_Changed_HD#24746, coalesce(AddressDistricts_Change_Changed_County#97, cast(Missing as string)) AS AddressDistricts_Change_Changed_County#24747, Residence_Addresses_Density#24363, coalesce(CommercialData_EstimatedHHIncome#346, cast(Missing as string)) AS CommercialData_EstimatedHHIncome#24748, coalesce(CommercialData_ISPSA#357, cast(Missing as string)) AS CommercialData_ISPSA#24749, CommercialData_AreaMedianEducationYears#24401, CommercialData_AreaMedianHousingValue#24439, CommercialData_AreaPcntHHMarriedCoupleNoChild#24477, CommercialData_AreaPcntHHMarriedCoupleWithChild#24515, CommercialData_AreaPcntHHSpanishSpeaking#24553, CommercialData_AreaPcntHHWithChildren#24591, coalesce(CommercialData_StateIncomeDecile#377, cast(Missing as string)) AS CommercialData_StateIncomeDecile#24750, coalesce(EthnicGroups_EthnicGroup1Desc#72, cast(Missing as string)) AS EthnicGroups_EthnicGroup1Desc#24751, coalesce(CommercialData_DwellingType#342, cast(Missing as string)) AS CommercialData_DwellingType#24752, ... 12 more fields]\n                                                               +- Project [Voters_Gender#65, Voters_BirthDate#67, Residence_Families_HHCount#24287, Residence_HHGender_Description#45, Mailing_Families_HHCount#24325, Mailing_HHGender_Description#63, Parties_Description#69, CommercialData_PropertyType#374, AddressDistricts_Change_Changed_CD#84, AddressDistricts_Change_Changed_SD#86, AddressDistricts_Change_Changed_HD#88, AddressDistricts_Change_Changed_County#97, Residence_Addresses_Density#24363, CommercialData_EstimatedHHIncome#346, CommercialData_ISPSA#357, CommercialData_AreaMedianEducationYears#24401, CommercialData_AreaMedianHousingValue#24439, CommercialData_AreaPcntHHMarriedCoupleNoChild#24477, CommercialData_AreaPcntHHMarriedCoupleWithChild#24515, CommercialData_AreaPcntHHSpanishSpeaking#24553, CommercialData_AreaPcntHHWithChildren#24591, CommercialData_StateIncomeDecile#377, EthnicGroups_EthnicGroup1Desc#72, CommercialData_DwellingType#342, ... 12 more fields]\n                                                                  +- Project [Voters_Gender#65, Voters_BirthDate#67, Residence_Families_HHCount#24287, Residence_HHGender_Description#45, Mailing_Families_HHCount#24325, Mailing_HHGender_Description#63, Parties_Description#69, CommercialData_PropertyType#374, AddressDistricts_Change_Changed_CD#84, AddressDistricts_Change_Changed_SD#86, AddressDistricts_Change_Changed_HD#88, AddressDistricts_Change_Changed_County#97, Residence_Addresses_Density#24363, CommercialData_EstimatedHHIncome#346, CommercialData_ISPSA#357, CommercialData_AreaMedianEducationYears#24401, CommercialData_AreaMedianHousingValue#24439, CommercialData_AreaPcntHHMarriedCoupleNoChild#24477, CommercialData_AreaPcntHHMarriedCoupleWithChild#24515, CommercialData_AreaPcntHHSpanishSpeaking#24553, cast(CommercialData_AreaPcntHHWithChildren#24153 as float) AS CommercialData_AreaPcntHHWithChildren#24591, CommercialData_StateIncomeDecile#377, EthnicGroups_EthnicGroup1Desc#72, CommercialData_DwellingType#342, ... 12 more fields]\n                                                                     +- Project [Voters_Gender#65, Voters_BirthDate#67, Residence_Families_HHCount#24287, Residence_HHGender_Description#45, Mailing_Families_HHCount#24325, Mailing_HHGender_Description#63, Parties_Description#69, CommercialData_PropertyType#374, AddressDistricts_Change_Changed_CD#84, AddressDistricts_Change_Changed_SD#86, AddressDistricts_Change_Changed_HD#88, AddressDistricts_Change_Changed_County#97, Residence_Addresses_Density#24363, CommercialData_EstimatedHHIncome#346, CommercialData_ISPSA#357, CommercialData_AreaMedianEducationYears#24401, CommercialData_AreaMedianHousingValue#24439, CommercialData_AreaPcntHHMarriedCoupleNoChild#24477, CommercialData_AreaPcntHHMarriedCoupleWithChild#24515, cast(CommercialData_AreaPcntHHSpanishSpeaking#24116 as float) AS CommercialData_AreaPcntHHSpanishSpeaking#24553, CommercialData_AreaPcntHHWithChildren#24153, CommercialData_StateIncomeDecile#377, EthnicGroups_EthnicGroup1Desc#72, CommercialData_DwellingType#342, ... 12 more fields]\n                                                                        +- Project [Voters_Gender#65, Voters_BirthDate#67, Residence_Families_HHCount#24287, Residence_HHGender_Description#45, Mailing_Families_HHCount#24325, Mailing_HHGender_Description#63, Parties_Description#69, CommercialData_PropertyType#374, AddressDistricts_Change_Changed_CD#84, AddressDistricts_Change_Changed_SD#86, AddressDistricts_Change_Changed_HD#88, AddressDistricts_Change_Changed_County#97, Residence_Addresses_Density#24363, CommercialData_EstimatedHHIncome#346, CommercialData_ISPSA#357, CommercialData_AreaMedianEducationYears#24401, CommercialData_AreaMedianHousingValue#24439, CommercialData_AreaPcntHHMarriedCoupleNoChild#24477, cast(CommercialData_AreaPcntHHMarriedCoupleWithChild#24079 as float) AS CommercialData_AreaPcntHHMarriedCoupleWithChild#24515, CommercialData_AreaPcntHHSpanishSpeaking#24116, CommercialData_AreaPcntHHWithChildren#24153, CommercialData_StateIncomeDecile#377, EthnicGroups_EthnicGroup1Desc#72, CommercialData_DwellingType#342, ... 12 more fields]\n                                                                           +- Project [Voters_Gender#65, Voters_BirthDate#67, Residence_Families_HHCount#24287, Residence_HHGender_Description#45, Mailing_Families_HHCount#24325, Mailing_HHGender_Description#63, Parties_Description#69, CommercialData_PropertyType#374, AddressDistricts_Change_Changed_CD#84, AddressDistricts_Change_Changed_SD#86, AddressDistricts_Change_Changed_HD#88, AddressDistricts_Change_Changed_County#97, Residence_Addresses_Density#24363, CommercialData_EstimatedHHIncome#346, CommercialData_ISPSA#357, CommercialData_AreaMedianEducationYears#24401, CommercialData_AreaMedianHousingValue#24439, cast(CommercialData_AreaPcntHHMarriedCoupleNoChild#24042 as float) AS CommercialData_AreaPcntHHMarriedCoupleNoChild#24477, CommercialData_AreaPcntHHMarriedCoupleWithChild#24079, CommercialData_AreaPcntHHSpanishSpeaking#24116, CommercialData_AreaPcntHHWithChildren#24153, CommercialData_StateIncomeDecile#377, EthnicGroups_EthnicGroup1Desc#72, CommercialData_DwellingType#342, ... 12 more fields]\n                                                                              +- Project [Voters_Gender#65, Voters_BirthDate#67, Residence_Families_HHCount#24287, Residence_HHGender_Description#45, Mailing_Families_HHCount#24325, Mailing_HHGender_Description#63, Parties_Description#69, CommercialData_PropertyType#374, AddressDistricts_Change_Changed_CD#84, AddressDistricts_Change_Changed_SD#86, AddressDistricts_Change_Changed_HD#88, AddressDistricts_Change_Changed_County#97, Residence_Addresses_Density#24363, CommercialData_EstimatedHHIncome#346, CommercialData_ISPSA#357, CommercialData_AreaMedianEducationYears#24401, cast(CommercialData_AreaMedianHousingValue#24005 as float) AS CommercialData_AreaMedianHousingValue#24439, CommercialData_AreaPcntHHMarriedCoupleNoChild#24042, CommercialData_AreaPcntHHMarriedCoupleWithChild#24079, CommercialData_AreaPcntHHSpanishSpeaking#24116, CommercialData_AreaPcntHHWithChildren#24153, CommercialData_StateIncomeDecile#377, EthnicGroups_EthnicGroup1Desc#72, CommercialData_DwellingType#342, ... 12 more fields]\n                                                                                 +- Project [Voters_Gender#65, Voters_BirthDate#67, Residence_Families_HHCount#24287, Residence_HHGender_Description#45, Mailing_Families_HHCount#24325, Mailing_HHGender_Description#63, Parties_Description#69, CommercialData_PropertyType#374, AddressDistricts_Change_Changed_CD#84, AddressDistricts_Change_Changed_SD#86, AddressDistricts_Change_Changed_HD#88, AddressDistricts_Change_Changed_County#97, Residence_Addresses_Density#24363, CommercialData_EstimatedHHIncome#346, CommercialData_ISPSA#357, cast(CommercialData_AreaMedianEducationYears#360 as float) AS CommercialData_AreaMedianEducationYears#24401, CommercialData_AreaMedianHousingValue#24005, CommercialData_AreaPcntHHMarriedCoupleNoChild#24042, CommercialData_AreaPcntHHMarriedCoupleWithChild#24079, CommercialData_AreaPcntHHSpanishSpeaking#24116, CommercialData_AreaPcntHHWithChildren#24153, CommercialData_StateIncomeDecile#377, EthnicGroups_EthnicGroup1Desc#72, CommercialData_DwellingType#342, ... 12 more fields]\n                                                                                    +- Project [Voters_Gender#65, Voters_BirthDate#67, Residence_Families_HHCount#24287, Residence_HHGender_Description#45, Mailing_Families_HHCount#24325, Mailing_HHGender_Description#63, Parties_Description#69, CommercialData_PropertyType#374, AddressDistricts_Change_Changed_CD#84, AddressDistricts_Change_Changed_SD#86, AddressDistricts_Change_Changed_HD#88, AddressDistricts_Change_Changed_County#97, cast(Residence_Addresses_Density#42 as float) AS Residence_Addresses_Density#24363, CommercialData_EstimatedHHIncome#346, CommercialData_ISPSA#357, CommercialData_AreaMedianEducationYears#360, CommercialData_AreaMedianHousingValue#24005, CommercialData_AreaPcntHHMarriedCoupleNoChild#24042, CommercialData_AreaPcntHHMarriedCoupleWithChild#24079, CommercialData_AreaPcntHHSpanishSpeaking#24116, CommercialData_AreaPcntHHWithChildren#24153, CommercialData_StateIncomeDecile#377, EthnicGroups_EthnicGroup1Desc#72, CommercialData_DwellingType#342, ... 12 more fields]\n                                                                                       +- Project [Voters_Gender#65, Voters_BirthDate#67, Residence_Families_HHCount#24287, Residence_HHGender_Description#45, cast(Mailing_Families_HHCount#62 as float) AS Mailing_Families_HHCount#24325, Mailing_HHGender_Description#63, Parties_Description#69, CommercialData_PropertyType#374, AddressDistricts_Change_Changed_CD#84, AddressDistricts_Change_Changed_SD#86, AddressDistricts_Change_Changed_HD#88, AddressDistricts_Change_Changed_County#97, Residence_Addresses_Density#42, CommercialData_EstimatedHHIncome#346, CommercialData_ISPSA#357, CommercialData_AreaMedianEducationYears#360, CommercialData_AreaMedianHousingValue#24005, CommercialData_AreaPcntHHMarriedCoupleNoChild#24042, CommercialData_AreaPcntHHMarriedCoupleWithChild#24079, CommercialData_AreaPcntHHSpanishSpeaking#24116, CommercialData_AreaPcntHHWithChildren#24153, CommercialData_StateIncomeDecile#377, EthnicGroups_EthnicGroup1Desc#72, CommercialData_DwellingType#342, ... 12 more fields]\n                                                                                          +- Project [Voters_Gender#65, Voters_BirthDate#67, cast(Residence_Families_HHCount#44 as float) AS Residence_Families_HHCount#24287, Residence_HHGender_Description#45, Mailing_Families_HHCount#62, Mailing_HHGender_Description#63, Parties_Description#69, CommercialData_PropertyType#374, AddressDistricts_Change_Changed_CD#84, AddressDistricts_Change_Changed_SD#86, AddressDistricts_Change_Changed_HD#88, AddressDistricts_Change_Changed_County#97, Residence_Addresses_Density#42, CommercialData_EstimatedHHIncome#346, CommercialData_ISPSA#357, CommercialData_AreaMedianEducationYears#360, CommercialData_AreaMedianHousingValue#24005, CommercialData_AreaPcntHHMarriedCoupleNoChild#24042, CommercialData_AreaPcntHHMarriedCoupleWithChild#24079, CommercialData_AreaPcntHHSpanishSpeaking#24116, CommercialData_AreaPcntHHWithChildren#24153, CommercialData_StateIncomeDecile#377, EthnicGroups_EthnicGroup1Desc#72, CommercialData_DwellingType#342, ... 12 more fields]\n                                                                                             +- Project [Voters_Gender#65, Voters_BirthDate#67, Residence_Families_HHCount#44, Residence_HHGender_Description#45, Mailing_Families_HHCount#62, Mailing_HHGender_Description#63, Parties_Description#69, CommercialData_PropertyType#374, AddressDistricts_Change_Changed_CD#84, AddressDistricts_Change_Changed_SD#86, AddressDistricts_Change_Changed_HD#88, AddressDistricts_Change_Changed_County#97, Residence_Addresses_Density#42, CommercialData_EstimatedHHIncome#346, CommercialData_ISPSA#357, CommercialData_AreaMedianEducationYears#360, CommercialData_AreaMedianHousingValue#24005, CommercialData_AreaPcntHHMarriedCoupleNoChild#24042, CommercialData_AreaPcntHHMarriedCoupleWithChild#24079, CommercialData_AreaPcntHHSpanishSpeaking#24116, substring(CommercialData_AreaPcntHHWithChildren#370, 1, (length(CommercialData_AreaPcntHHWithChildren#370) - 1)) AS CommercialData_AreaPcntHHWithChildren#24153, CommercialData_StateIncomeDecile#377, EthnicGroups_EthnicGroup1Desc#72, CommercialData_DwellingType#342, ... 12 more fields]\n                                                                                                +- Project [Voters_Gender#65, Voters_BirthDate#67, Residence_Families_HHCount#44, Residence_HHGender_Description#45, Mailing_Families_HHCount#62, Mailing_HHGender_Description#63, Parties_Description#69, CommercialData_PropertyType#374, AddressDistricts_Change_Changed_CD#84, AddressDistricts_Change_Changed_SD#86, AddressDistricts_Change_Changed_HD#88, AddressDistricts_Change_Changed_County#97, Residence_Addresses_Density#42, CommercialData_EstimatedHHIncome#346, CommercialData_ISPSA#357, CommercialData_AreaMedianEducationYears#360, CommercialData_AreaMedianHousingValue#24005, CommercialData_AreaPcntHHMarriedCoupleNoChild#24042, CommercialData_AreaPcntHHMarriedCoupleWithChild#24079, substring(CommercialData_AreaPcntHHSpanishSpeaking#369, 1, (length(CommercialData_AreaPcntHHSpanishSpeaking#369) - 1)) AS CommercialData_AreaPcntHHSpanishSpeaking#24116, CommercialData_AreaPcntHHWithChildren#370, CommercialData_StateIncomeDecile#377, EthnicGroups_EthnicGroup1Desc#72, CommercialData_DwellingType#342, ... 12 more fields]\n                                                                                                   +- Project [Voters_Gender#65, Voters_BirthDate#67, Residence_Families_HHCount#44, Residence_HHGender_Description#45, Mailing_Families_HHCount#62, Mailing_HHGender_Description#63, Parties_Description#69, CommercialData_PropertyType#374, AddressDistricts_Change_Changed_CD#84, AddressDistricts_Change_Changed_SD#86, AddressDistricts_Change_Changed_HD#88, AddressDistricts_Change_Changed_County#97, Residence_Addresses_Density#42, CommercialData_EstimatedHHIncome#346, CommercialData_ISPSA#357, CommercialData_AreaMedianEducationYears#360, CommercialData_AreaMedianHousingValue#24005, CommercialData_AreaPcntHHMarriedCoupleNoChild#24042, substring(CommercialData_AreaPcntHHMarriedCoupleWithChild#368, 1, (length(CommercialData_AreaPcntHHMarriedCoupleWithChild#368) - 1)) AS CommercialData_AreaPcntHHMarriedCoupleWithChild#24079, CommercialData_AreaPcntHHSpanishSpeaking#369, CommercialData_AreaPcntHHWithChildren#370, CommercialData_StateIncomeDecile#377, EthnicGroups_EthnicGroup1Desc#72, CommercialData_DwellingType#342, ... 12 more fields]\n                                                                                                      +- Project [Voters_Gender#65, Voters_BirthDate#67, Residence_Families_HHCount#44, Residence_HHGender_Description#45, Mailing_Families_HHCount#62, Mailing_HHGender_Description#63, Parties_Description#69, CommercialData_PropertyType#374, AddressDistricts_Change_Changed_CD#84, AddressDistricts_Change_Changed_SD#86, AddressDistricts_Change_Changed_HD#88, AddressDistricts_Change_Changed_County#97, Residence_Addresses_Density#42, CommercialData_EstimatedHHIncome#346, CommercialData_ISPSA#357, CommercialData_AreaMedianEducationYears#360, CommercialData_AreaMedianHousingValue#24005, substring(CommercialData_AreaPcntHHMarriedCoupleNoChild#367, 1, (length(CommercialData_AreaPcntHHMarriedCoupleNoChild#367) - 1)) AS CommercialData_AreaPcntHHMarriedCoupleNoChild#24042, CommercialData_AreaPcntHHMarriedCoupleWithChild#368, CommercialData_AreaPcntHHSpanishSpeaking#369, CommercialData_AreaPcntHHWithChildren#370, CommercialData_StateIncomeDecile#377, EthnicGroups_EthnicGroup1Desc#72, CommercialData_DwellingType#342, ... 12 more fields]\n                                                                                                         +- Project [Voters_Gender#65, Voters_BirthDate#67, Residence_Families_HHCount#44, Residence_HHGender_Description#45, Mailing_Families_HHCount#62, Mailing_HHGender_Description#63, Parties_Description#69, CommercialData_PropertyType#374, AddressDistricts_Change_Changed_CD#84, AddressDistricts_Change_Changed_SD#86, AddressDistricts_Change_Changed_HD#88, AddressDistricts_Change_Changed_County#97, Residence_Addresses_Density#42, CommercialData_EstimatedHHIncome#346, CommercialData_ISPSA#357, CommercialData_AreaMedianEducationYears#360, substring(CommercialData_AreaMedianHousingValue#361, 2, length(CommercialData_AreaMedianHousingValue#361)) AS CommercialData_AreaMedianHousingValue#24005, CommercialData_AreaPcntHHMarriedCoupleNoChild#367, CommercialData_AreaPcntHHMarriedCoupleWithChild#368, CommercialData_AreaPcntHHSpanishSpeaking#369, CommercialData_AreaPcntHHWithChildren#370, CommercialData_StateIncomeDecile#377, EthnicGroups_EthnicGroup1Desc#72, CommercialData_DwellingType#342, ... 12 more fields]\n                                                                                                            +- Union false, false\n                                                                                                               :- Project [Voters_Gender#65, Voters_BirthDate#67, Residence_Families_HHCount#44, Residence_HHGender_Description#45, Mailing_Families_HHCount#62, Mailing_HHGender_Description#63, Parties_Description#69, CommercialData_PropertyType#374, AddressDistricts_Change_Changed_CD#84, AddressDistricts_Change_Changed_SD#86, AddressDistricts_Change_Changed_HD#88, AddressDistricts_Change_Changed_County#97, Residence_Addresses_Density#42, CommercialData_EstimatedHHIncome#346, CommercialData_ISPSA#357, CommercialData_AreaMedianEducationYears#360, CommercialData_AreaMedianHousingValue#361, CommercialData_AreaPcntHHMarriedCoupleNoChild#367, CommercialData_AreaPcntHHMarriedCoupleWithChild#368, CommercialData_AreaPcntHHSpanishSpeaking#369, CommercialData_AreaPcntHHWithChildren#370, CommercialData_StateIncomeDecile#377, EthnicGroups_EthnicGroup1Desc#72, CommercialData_DwellingType#342, ... 12 more fields]\n                                                                                                               :  +- Project [Voters_Gender#65, Voters_BirthDate#67, Residence_Families_HHCount#44, Residence_HHGender_Description#45, Mailing_Families_HHCount#62, Mailing_HHGender_Description#63, Parties_Description#69, CommercialData_PropertyType#374, AddressDistricts_Change_Changed_CD#84, AddressDistricts_Change_Changed_SD#86, AddressDistricts_Change_Changed_HD#88, AddressDistricts_Change_Changed_County#97, Residence_Addresses_Density#42, CommercialData_EstimatedHHIncome#346, CommercialData_ISPSA#357, CommercialData_AreaMedianEducationYears#360, CommercialData_AreaMedianHousingValue#361, CommercialData_AreaPcntHHMarriedCoupleNoChild#367, CommercialData_AreaPcntHHMarriedCoupleWithChild#368, CommercialData_AreaPcntHHSpanishSpeaking#369, CommercialData_AreaPcntHHWithChildren#370, CommercialData_StateIncomeDecile#377, EthnicGroups_EthnicGroup1Desc#72, CommercialData_DwellingType#342, ... 11 more fields]\n                                                                                                               :     +- Relation[SEQUENCE#0,LALVOTERID#1,Voters_Active#2,Voters_StateVoterID#3,Voters_CountyVoterID#4,VoterTelephones_LandlineAreaCode#5,VoterTelephones_Landline7Digit#6,VoterTelephones_LandlineFormatted#7,VoterTelephones_LandlineUnformatted#8,VoterTelephones_LandlineConfidenceCode#9,VoterTelephones_CellPhoneOnly#10,VoterTelephones_CellPhoneFormatted#11,VoterTelephones_CellPhoneUnformatted#12,VoterTelephones_CellConfidenceCode#13,Voters_FirstName#14,Voters_MiddleName#15,Voters_LastName#16,Voters_NameSuffix#17,Residence_Addresses_AddressLine#18,Residence_Addresses_ExtraAddressLine#19,Residence_Addresses_City#20,Residence_Addresses_State#21,Residence_Addresses_Zip#22,Residence_Addresses_ZipPlus4#23,... 702 more fields] parquet\n                                                                                                               :- Project [Voters_Gender#1629, Voters_BirthDate#1631, Residence_Families_HHCount#1608, Residence_HHGender_Description#1609, Mailing_Families_HHCount#1626, Mailing_HHGender_Description#1627, Parties_Description#1633, CommercialData_PropertyType#1938, AddressDistricts_Change_Changed_CD#1648, AddressDistricts_Change_Changed_SD#1650, AddressDistricts_Change_Changed_HD#1652, AddressDistricts_Change_Changed_County#1661, Residence_Addresses_Density#1606, CommercialData_EstimatedHHIncome#1910, CommercialData_ISPSA#1921, CommercialData_AreaMedianEducationYears#1924, CommercialData_AreaMedianHousingValue#1925, CommercialData_AreaPcntHHMarriedCoupleNoChild#1931, CommercialData_AreaPcntHHMarriedCoupleWithChild#1932, CommercialData_AreaPcntHHSpanishSpeaking#1933, CommercialData_AreaPcntHHWithChildren#1934, CommercialData_StateIncomeDecile#1941, EthnicGroups_EthnicGroup1Desc#1636, CommercialData_DwellingType#1906, ... 12 more fields]\n                                                                                                               :  +- Project [Voters_Gender#1629, Voters_BirthDate#1631, Residence_Families_HHCount#1608, Residence_HHGender_Description#1609, Mailing_Families_HHCount#1626, Mailing_HHGender_Description#1627, Parties_Description#1633, CommercialData_PropertyType#1938, AddressDistricts_Change_Changed_CD#1648, AddressDistricts_Change_Changed_SD#1650, AddressDistricts_Change_Changed_HD#1652, AddressDistricts_Change_Changed_County#1661, Residence_Addresses_Density#1606, CommercialData_EstimatedHHIncome#1910, CommercialData_ISPSA#1921, CommercialData_AreaMedianEducationYears#1924, CommercialData_AreaMedianHousingValue#1925, CommercialData_AreaPcntHHMarriedCoupleNoChild#1931, CommercialData_AreaPcntHHMarriedCoupleWithChild#1932, CommercialData_AreaPcntHHSpanishSpeaking#1933, CommercialData_AreaPcntHHWithChildren#1934, CommercialData_StateIncomeDecile#1941, EthnicGroups_EthnicGroup1Desc#1636, CommercialData_DwellingType#1906, ... 11 more fields]\n                                                                                                               :     +- Relation[SEQUENCE#1564,LALVOTERID#1565,Voters_Active#1566,Voters_StateVoterID#1567,Voters_CountyVoterID#1568,VoterTelephones_LandlineAreaCode#1569,VoterTelephones_Landline7Digit#1570,VoterTelephones_LandlineFormatted#1571,VoterTelephones_LandlineUnformatted#1572,VoterTelephones_LandlineConfidenceCode#1573,VoterTelephones_CellPhoneOnly#1574,VoterTelephones_CellPhoneFormatted#1575,VoterTelephones_CellPhoneUnformatted#1576,VoterTelephones_CellConfidenceCode#1577,Voters_FirstName#1578,Voters_MiddleName#1579,Voters_LastName#1580,Voters_NameSuffix#1581,Residence_Addresses_AddressLine#1582,Residence_Addresses_ExtraAddressLine#1583,Residence_Addresses_City#1584,Residence_Addresses_State#1585,Residence_Addresses_Zip#1586,Residence_Addresses_ZipPlus4#1587,... 702 more fields] parquet\n                                                                                                               :- Project [Voters_Gender#3229, Voters_BirthDate#3231, Residence_Families_HHCount#3208, Residence_HHGender_Description#3209, Mailing_Families_HHCount#3226, Mailing_HHGender_Description#3227, Parties_Description#3233, CommercialData_PropertyType#3538, AddressDistricts_Change_Changed_CD#3248, AddressDistricts_Change_Changed_SD#3250, AddressDistricts_Change_Changed_HD#3252, AddressDistricts_Change_Changed_County#3261, Residence_Addresses_Density#3206, CommercialData_EstimatedHHIncome#3510, CommercialData_ISPSA#3521, CommercialData_AreaMedianEducationYears#3524, CommercialData_AreaMedianHousingValue#3525, CommercialData_AreaPcntHHMarriedCoupleNoChild#3531, CommercialData_AreaPcntHHMarriedCoupleWithChild#3532, CommercialData_AreaPcntHHSpanishSpeaking#3533, CommercialData_AreaPcntHHWithChildren#3534, CommercialData_StateIncomeDecile#3541, EthnicGroups_EthnicGroup1Desc#3236, CommercialData_DwellingType#3506, ... 12 more fields]\n                                                                                                               :  +- Project [Voters_Gender#3229, Voters_BirthDate#3231, Residence_Families_HHCount#3208, Residence_HHGender_Description#3209, Mailing_Families_HHCount#3226, Mailing_HHGender_Description#3227, Parties_Description#3233, CommercialData_PropertyType#3538, AddressDistricts_Change_Changed_CD#3248, AddressDistricts_Change_Changed_SD#3250, AddressDistricts_Change_Changed_HD#3252, AddressDistricts_Change_Changed_County#3261, Residence_Addresses_Density#3206, CommercialData_EstimatedHHIncome#3510, CommercialData_ISPSA#3521, CommercialData_AreaMedianEducationYears#3524, CommercialData_AreaMedianHousingValue#3525, CommercialData_AreaPcntHHMarriedCoupleNoChild#3531, CommercialData_AreaPcntHHMarriedCoupleWithChild#3532, CommercialData_AreaPcntHHSpanishSpeaking#3533, CommercialData_AreaPcntHHWithChildren#3534, CommercialData_StateIncomeDecile#3541, EthnicGroups_EthnicGroup1Desc#3236, CommercialData_DwellingType#3506, ... 11 more fields]\n                                                                                                               :     +- Relation[SEQUENCE#3164,LALVOTERID#3165,Voters_Active#3166,Voters_StateVoterID#3167,Voters_CountyVoterID#3168,VoterTelephones_LandlineAreaCode#3169,VoterTelephones_Landline7Digit#3170,VoterTelephones_LandlineFormatted#3171,VoterTelephones_LandlineUnformatted#3172,VoterTelephones_LandlineConfidenceCode#3173,VoterTelephones_CellPhoneOnly#3174,VoterTelephones_CellPhoneFormatted#3175,VoterTelephones_CellPhoneUnformatted#3176,VoterTelephones_CellConfidenceCode#3177,Voters_FirstName#3178,Voters_MiddleName#3179,Voters_LastName#3180,Voters_NameSuffix#3181,Residence_Addresses_AddressLine#3182,Residence_Addresses_ExtraAddressLine#3183,Residence_Addresses_City#3184,Residence_Addresses_State#3185,Residence_Addresses_Zip#3186,Residence_Addresses_ZipPlus4#3187,... 702 more fields] parquet\n                                                                                                               :- Project [Voters_Gender#4829, Voters_BirthDate#4831, Residence_Families_HHCount#4808, Residence_HHGender_Description#4809, Mailing_Families_HHCount#4826, Mailing_HHGender_Description#4827, Parties_Description#4833, CommercialData_PropertyType#5138, AddressDistricts_Change_Changed_CD#4848, AddressDistricts_Change_Changed_SD#4850, AddressDistricts_Change_Changed_HD#4852, AddressDistricts_Change_Changed_County#4861, Residence_Addresses_Density#4806, CommercialData_EstimatedHHIncome#5110, CommercialData_ISPSA#5121, CommercialData_AreaMedianEducationYears#5124, CommercialData_AreaMedianHousingValue#5125, CommercialData_AreaPcntHHMarriedCoupleNoChild#5131, CommercialData_AreaPcntHHMarriedCoupleWithChild#5132, CommercialData_AreaPcntHHSpanishSpeaking#5133, CommercialData_AreaPcntHHWithChildren#5134, CommercialData_StateIncomeDecile#5141, EthnicGroups_EthnicGroup1Desc#4836, CommercialData_DwellingType#5106, ... 12 more fields]\n                                                                                                               :  +- Project [Voters_Gender#4829, Voters_BirthDate#4831, Residence_Families_HHCount#4808, Residence_HHGender_Description#4809, Mailing_Families_HHCount#4826, Mailing_HHGender_Description#4827, Parties_Description#4833, CommercialData_PropertyType#5138, AddressDistricts_Change_Changed_CD#4848, AddressDistricts_Change_Changed_SD#4850, AddressDistricts_Change_Changed_HD#4852, AddressDistricts_Change_Changed_County#4861, Residence_Addresses_Density#4806, CommercialData_EstimatedHHIncome#5110, CommercialData_ISPSA#5121, CommercialData_AreaMedianEducationYears#5124, CommercialData_AreaMedianHousingValue#5125, CommercialData_AreaPcntHHMarriedCoupleNoChild#5131, CommercialData_AreaPcntHHMarriedCoupleWithChild#5132, CommercialData_AreaPcntHHSpanishSpeaking#5133, CommercialData_AreaPcntHHWithChildren#5134, CommercialData_StateIncomeDecile#5141, EthnicGroups_EthnicGroup1Desc#4836, CommercialData_DwellingType#5106, ... 11 more fields]\n                                                                                                               :     +- Relation[SEQUENCE#4764,LALVOTERID#4765,Voters_Active#4766,Voters_StateVoterID#4767,Voters_CountyVoterID#4768,VoterTelephones_LandlineAreaCode#4769,VoterTelephones_Landline7Digit#4770,VoterTelephones_LandlineFormatted#4771,VoterTelephones_LandlineUnformatted#4772,VoterTelephones_LandlineConfidenceCode#4773,VoterTelephones_CellPhoneOnly#4774,VoterTelephones_CellPhoneFormatted#4775,VoterTelephones_CellPhoneUnformatted#4776,VoterTelephones_CellConfidenceCode#4777,Voters_FirstName#4778,Voters_MiddleName#4779,Voters_LastName#4780,Voters_NameSuffix#4781,Residence_Addresses_AddressLine#4782,Residence_Addresses_ExtraAddressLine#4783,Residence_Addresses_City#4784,Residence_Addresses_State#4785,Residence_Addresses_Zip#4786,Residence_Addresses_ZipPlus4#4787,... 702 more fields] parquet\n                                                                                                               :- Project [Voters_Gender#6429, Voters_BirthDate#6431, Residence_Families_HHCount#6408, Residence_HHGender_Description#6409, Mailing_Families_HHCount#6426, Mailing_HHGender_Description#6427, Parties_Description#6433, CommercialData_PropertyType#6738, AddressDistricts_Change_Changed_CD#6448, AddressDistricts_Change_Changed_SD#6450, AddressDistricts_Change_Changed_HD#6452, AddressDistricts_Change_Changed_County#6461, Residence_Addresses_Density#6406, CommercialData_EstimatedHHIncome#6710, CommercialData_ISPSA#6721, CommercialData_AreaMedianEducationYears#6724, CommercialData_AreaMedianHousingValue#6725, CommercialData_AreaPcntHHMarriedCoupleNoChild#6731, CommercialData_AreaPcntHHMarriedCoupleWithChild#6732, CommercialData_AreaPcntHHSpanishSpeaking#6733, CommercialData_AreaPcntHHWithChildren#6734, CommercialData_StateIncomeDecile#6741, EthnicGroups_EthnicGroup1Desc#6436, CommercialData_DwellingType#6706, ... 12 more fields]\n                                                                                                               :  +- Project [Voters_Gender#6429, Voters_BirthDate#6431, Residence_Families_HHCount#6408, Residence_HHGender_Description#6409, Mailing_Families_HHCount#6426, Mailing_HHGender_Description#6427, Parties_Description#6433, CommercialData_PropertyType#6738, AddressDistricts_Change_Changed_CD#6448, AddressDistricts_Change_Changed_SD#6450, AddressDistricts_Change_Changed_HD#6452, AddressDistricts_Change_Changed_County#6461, Residence_Addresses_Density#6406, CommercialData_EstimatedHHIncome#6710, CommercialData_ISPSA#6721, CommercialData_AreaMedianEducationYears#6724, CommercialData_AreaMedianHousingValue#6725, CommercialData_AreaPcntHHMarriedCoupleNoChild#6731, CommercialData_AreaPcntHHMarriedCoupleWithChild#6732, CommercialData_AreaPcntHHSpanishSpeaking#6733, CommercialData_AreaPcntHHWithChildren#6734, CommercialData_StateIncomeDecile#6741, EthnicGroups_EthnicGroup1Desc#6436, CommercialData_DwellingType#6706, ... 11 more fields]\n                                                                                                               :     +- Relation[SEQUENCE#6364,LALVOTERID#6365,Voters_Active#6366,Voters_StateVoterID#6367,Voters_CountyVoterID#6368,VoterTelephones_LandlineAreaCode#6369,VoterTelephones_Landline7Digit#6370,VoterTelephones_LandlineFormatted#6371,VoterTelephones_LandlineUnformatted#6372,VoterTelephones_LandlineConfidenceCode#6373,VoterTelephones_CellPhoneOnly#6374,VoterTelephones_CellPhoneFormatted#6375,VoterTelephones_CellPhoneUnformatted#6376,VoterTelephones_CellConfidenceCode#6377,Voters_FirstName#6378,Voters_MiddleName#6379,Voters_LastName#6380,Voters_NameSuffix#6381,Residence_Addresses_AddressLine#6382,Residence_Addresses_ExtraAddressLine#6383,Residence_Addresses_City#6384,Residence_Addresses_State#6385,Residence_Addresses_Zip#6386,Residence_Addresses_ZipPlus4#6387,... 702 more fields] parquet\n                                                                                                               :- Project [Voters_Gender#8029, Voters_BirthDate#8031, Residence_Families_HHCount#8008, Residence_HHGender_Description#8009, Mailing_Families_HHCount#8026, Mailing_HHGender_Description#8027, Parties_Description#8033, CommercialData_PropertyType#8338, AddressDistricts_Change_Changed_CD#8048, AddressDistricts_Change_Changed_SD#8050, AddressDistricts_Change_Changed_HD#8052, AddressDistricts_Change_Changed_County#8061, Residence_Addresses_Density#8006, CommercialData_EstimatedHHIncome#8310, CommercialData_ISPSA#8321, CommercialData_AreaMedianEducationYears#8324, CommercialData_AreaMedianHousingValue#8325, CommercialData_AreaPcntHHMarriedCoupleNoChild#8331, CommercialData_AreaPcntHHMarriedCoupleWithChild#8332, CommercialData_AreaPcntHHSpanishSpeaking#8333, CommercialData_AreaPcntHHWithChildren#8334, CommercialData_StateIncomeDecile#8341, EthnicGroups_EthnicGroup1Desc#8036, CommercialData_DwellingType#8306, ... 12 more fields]\n                                                                                                               :  +- Project [Voters_Gender#8029, Voters_BirthDate#8031, Residence_Families_HHCount#8008, Residence_HHGender_Description#8009, Mailing_Families_HHCount#8026, Mailing_HHGender_Description#8027, Parties_Description#8033, CommercialData_PropertyType#8338, AddressDistricts_Change_Changed_CD#8048, AddressDistricts_Change_Changed_SD#8050, AddressDistricts_Change_Changed_HD#8052, AddressDistricts_Change_Changed_County#8061, Residence_Addresses_Density#8006, CommercialData_EstimatedHHIncome#8310, CommercialData_ISPSA#8321, CommercialData_AreaMedianEducationYears#8324, CommercialData_AreaMedianHousingValue#8325, CommercialData_AreaPcntHHMarriedCoupleNoChild#8331, CommercialData_AreaPcntHHMarriedCoupleWithChild#8332, CommercialData_AreaPcntHHSpanishSpeaking#8333, CommercialData_AreaPcntHHWithChildren#8334, CommercialData_StateIncomeDecile#8341, EthnicGroups_EthnicGroup1Desc#8036, CommercialData_DwellingType#8306, ... 11 more fields]\n                                                                                                               :     +- Relation[SEQUENCE#7964,LALVOTERID#7965,Voters_Active#7966,Voters_StateVoterID#7967,Voters_CountyVoterID#7968,VoterTelephones_LandlineAreaCode#7969,VoterTelephones_Landline7Digit#7970,VoterTelephones_LandlineFormatted#7971,VoterTelephones_LandlineUnformatted#7972,VoterTelephones_LandlineConfidenceCode#7973,VoterTelephones_CellPhoneOnly#7974,VoterTelephones_CellPhoneFormatted#7975,VoterTelephones_CellPhoneUnformatted#7976,VoterTelephones_CellConfidenceCode#7977,Voters_FirstName#7978,Voters_MiddleName#7979,Voters_LastName#7980,Voters_NameSuffix#7981,Residence_Addresses_AddressLine#7982,Residence_Addresses_ExtraAddressLine#7983,Residence_Addresses_City#7984,Residence_Addresses_State#7985,Residence_Addresses_Zip#7986,Residence_Addresses_ZipPlus4#7987,... 702 more fields] parquet\n                                                                                                               :- Project [Voters_Gender#9629, Voters_BirthDate#9631, Residence_Families_HHCount#9608, Residence_HHGender_Description#9609, Mailing_Families_HHCount#9626, Mailing_HHGender_Description#9627, Parties_Description#9633, CommercialData_PropertyType#9938, AddressDistricts_Change_Changed_CD#9648, AddressDistricts_Change_Changed_SD#9650, AddressDistricts_Change_Changed_HD#9652, AddressDistricts_Change_Changed_County#9661, Residence_Addresses_Density#9606, CommercialData_EstimatedHHIncome#9910, CommercialData_ISPSA#9921, CommercialData_AreaMedianEducationYears#9924, CommercialData_AreaMedianHousingValue#9925, CommercialData_AreaPcntHHMarriedCoupleNoChild#9931, CommercialData_AreaPcntHHMarriedCoupleWithChild#9932, CommercialData_AreaPcntHHSpanishSpeaking#9933, CommercialData_AreaPcntHHWithChildren#9934, CommercialData_StateIncomeDecile#9941, EthnicGroups_EthnicGroup1Desc#9636, CommercialData_DwellingType#9906, ... 12 more fields]\n                                                                                                               :  +- Project [Voters_Gender#9629, Voters_BirthDate#9631, Residence_Families_HHCount#9608, Residence_HHGender_Description#9609, Mailing_Families_HHCount#9626, Mailing_HHGender_Description#9627, Parties_Description#9633, CommercialData_PropertyType#9938, AddressDistricts_Change_Changed_CD#9648, AddressDistricts_Change_Changed_SD#9650, AddressDistricts_Change_Changed_HD#9652, AddressDistricts_Change_Changed_County#9661, Residence_Addresses_Density#9606, CommercialData_EstimatedHHIncome#9910, CommercialData_ISPSA#9921, CommercialData_AreaMedianEducationYears#9924, CommercialData_AreaMedianHousingValue#9925, CommercialData_AreaPcntHHMarriedCoupleNoChild#9931, CommercialData_AreaPcntHHMarriedCoupleWithChild#9932, CommercialData_AreaPcntHHSpanishSpeaking#9933, CommercialData_AreaPcntHHWithChildren#9934, CommercialData_StateIncomeDecile#9941, EthnicGroups_EthnicGroup1Desc#9636, CommercialData_DwellingType#9906, ... 11 more fields]\n                                                                                                               :     +- Relation[SEQUENCE#9564,LALVOTERID#9565,Voters_Active#9566,Voters_StateVoterID#9567,Voters_CountyVoterID#9568,VoterTelephones_LandlineAreaCode#9569,VoterTelephones_Landline7Digit#9570,VoterTelephones_LandlineFormatted#9571,VoterTelephones_LandlineUnformatted#9572,VoterTelephones_LandlineConfidenceCode#9573,VoterTelephones_CellPhoneOnly#9574,VoterTelephones_CellPhoneFormatted#9575,VoterTelephones_CellPhoneUnformatted#9576,VoterTelephones_CellConfidenceCode#9577,Voters_FirstName#9578,Voters_MiddleName#9579,Voters_LastName#9580,Voters_NameSuffix#9581,Residence_Addresses_AddressLine#9582,Residence_Addresses_ExtraAddressLine#9583,Residence_Addresses_City#9584,Residence_Addresses_State#9585,Residence_Addresses_Zip#9586,Residence_Addresses_ZipPlus4#9587,... 702 more fields] parquet\n                                                                                                               :- Project [Voters_Gender#11229, Voters_BirthDate#11231, Residence_Families_HHCount#11208, Residence_HHGender_Description#11209, Mailing_Families_HHCount#11226, Mailing_HHGender_Description#11227, Parties_Description#11233, CommercialData_PropertyType#11538, AddressDistricts_Change_Changed_CD#11248, AddressDistricts_Change_Changed_SD#11250, AddressDistricts_Change_Changed_HD#11252, AddressDistricts_Change_Changed_County#11261, Residence_Addresses_Density#11206, CommercialData_EstimatedHHIncome#11510, CommercialData_ISPSA#11521, CommercialData_AreaMedianEducationYears#11524, CommercialData_AreaMedianHousingValue#11525, CommercialData_AreaPcntHHMarriedCoupleNoChild#11531, CommercialData_AreaPcntHHMarriedCoupleWithChild#11532, CommercialData_AreaPcntHHSpanishSpeaking#11533, CommercialData_AreaPcntHHWithChildren#11534, CommercialData_StateIncomeDecile#11541, EthnicGroups_EthnicGroup1Desc#11236, CommercialData_DwellingType#11506, ... 12 more fields]\n                                                                                                               :  +- Project [Voters_Gender#11229, Voters_BirthDate#11231, Residence_Families_HHCount#11208, Residence_HHGender_Description#11209, Mailing_Families_HHCount#11226, Mailing_HHGender_Description#11227, Parties_Description#11233, CommercialData_PropertyType#11538, AddressDistricts_Change_Changed_CD#11248, AddressDistricts_Change_Changed_SD#11250, AddressDistricts_Change_Changed_HD#11252, AddressDistricts_Change_Changed_County#11261, Residence_Addresses_Density#11206, CommercialData_EstimatedHHIncome#11510, CommercialData_ISPSA#11521, CommercialData_AreaMedianEducationYears#11524, CommercialData_AreaMedianHousingValue#11525, CommercialData_AreaPcntHHMarriedCoupleNoChild#11531, CommercialData_AreaPcntHHMarriedCoupleWithChild#11532, CommercialData_AreaPcntHHSpanishSpeaking#11533, CommercialData_AreaPcntHHWithChildren#11534, CommercialData_StateIncomeDecile#11541, EthnicGroups_EthnicGroup1Desc#11236, CommercialData_DwellingType#11506, ... 11 more fields]\n                                                                                                               :     +- Relation[SEQUENCE#11164,LALVOTERID#11165,Voters_Active#11166,Voters_StateVoterID#11167,Voters_CountyVoterID#11168,VoterTelephones_LandlineAreaCode#11169,VoterTelephones_Landline7Digit#11170,VoterTelephones_LandlineFormatted#11171,VoterTelephones_LandlineUnformatted#11172,VoterTelephones_LandlineConfidenceCode#11173,VoterTelephones_CellPhoneOnly#11174,VoterTelephones_CellPhoneFormatted#11175,VoterTelephones_CellPhoneUnformatted#11176,VoterTelephones_CellConfidenceCode#11177,Voters_FirstName#11178,Voters_MiddleName#11179,Voters_LastName#11180,Voters_NameSuffix#11181,Residence_Addresses_AddressLine#11182,Residence_Addresses_ExtraAddressLine#11183,Residence_Addresses_City#11184,Residence_Addresses_State#11185,Residence_Addresses_Zip#11186,Residence_Addresses_ZipPlus4#11187,... 702 more fields] parquet\n                                                                                                               :- Project [Voters_Gender#12829, Voters_BirthDate#12831, Residence_Families_HHCount#12808, Residence_HHGender_Description#12809, Mailing_Families_HHCount#12826, Mailing_HHGender_Description#12827, Parties_Description#12833, CommercialData_PropertyType#13138, AddressDistricts_Change_Changed_CD#12848, AddressDistricts_Change_Changed_SD#12850, AddressDistricts_Change_Changed_HD#12852, AddressDistricts_Change_Changed_County#12861, Residence_Addresses_Density#12806, CommercialData_EstimatedHHIncome#13110, CommercialData_ISPSA#13121, CommercialData_AreaMedianEducationYears#13124, CommercialData_AreaMedianHousingValue#13125, CommercialData_AreaPcntHHMarriedCoupleNoChild#13131, CommercialData_AreaPcntHHMarriedCoupleWithChild#13132, CommercialData_AreaPcntHHSpanishSpeaking#13133, CommercialData_AreaPcntHHWithChildren#13134, CommercialData_StateIncomeDecile#13141, EthnicGroups_EthnicGroup1Desc#12836, CommercialData_DwellingType#13106, ... 12 more fields]\n                                                                                                               :  +- Project [Voters_Gender#12829, Voters_BirthDate#12831, Residence_Families_HHCount#12808, Residence_HHGender_Description#12809, Mailing_Families_HHCount#12826, Mailing_HHGender_Description#12827, Parties_Description#12833, CommercialData_PropertyType#13138, AddressDistricts_Change_Changed_CD#12848, AddressDistricts_Change_Changed_SD#12850, AddressDistricts_Change_Changed_HD#12852, AddressDistricts_Change_Changed_County#12861, Residence_Addresses_Density#12806, CommercialData_EstimatedHHIncome#13110, CommercialData_ISPSA#13121, CommercialData_AreaMedianEducationYears#13124, CommercialData_AreaMedianHousingValue#13125, CommercialData_AreaPcntHHMarriedCoupleNoChild#13131, CommercialData_AreaPcntHHMarriedCoupleWithChild#13132, CommercialData_AreaPcntHHSpanishSpeaking#13133, CommercialData_AreaPcntHHWithChildren#13134, CommercialData_StateIncomeDecile#13141, EthnicGroups_EthnicGroup1Desc#12836, CommercialData_DwellingType#13106, ... 11 more fields]\n                                                                                                               :     +- Relation[SEQUENCE#12764,LALVOTERID#12765,Voters_Active#12766,Voters_StateVoterID#12767,Voters_CountyVoterID#12768,VoterTelephones_LandlineAreaCode#12769,VoterTelephones_Landline7Digit#12770,VoterTelephones_LandlineFormatted#12771,VoterTelephones_LandlineUnformatted#12772,VoterTelephones_LandlineConfidenceCode#12773,VoterTelephones_CellPhoneOnly#12774,VoterTelephones_CellPhoneFormatted#12775,VoterTelephones_CellPhoneUnformatted#12776,VoterTelephones_CellConfidenceCode#12777,Voters_FirstName#12778,Voters_MiddleName#12779,Voters_LastName#12780,Voters_NameSuffix#12781,Residence_Addresses_AddressLine#12782,Residence_Addresses_ExtraAddressLine#12783,Residence_Addresses_City#12784,Residence_Addresses_State#12785,Residence_Addresses_Zip#12786,Residence_Addresses_ZipPlus4#12787,... 702 more fields] parquet\n                                                                                                               :- Project [Voters_Gender#14429, Voters_BirthDate#14431, Residence_Families_HHCount#14408, Residence_HHGender_Description#14409, Mailing_Families_HHCount#14426, Mailing_HHGender_Description#14427, Parties_Description#14433, CommercialData_PropertyType#14738, AddressDistricts_Change_Changed_CD#14448, AddressDistricts_Change_Changed_SD#14450, AddressDistricts_Change_Changed_HD#14452, AddressDistricts_Change_Changed_County#14461, Residence_Addresses_Density#14406, CommercialData_EstimatedHHIncome#14710, CommercialData_ISPSA#14721, CommercialData_AreaMedianEducationYears#14724, CommercialData_AreaMedianHousingValue#14725, CommercialData_AreaPcntHHMarriedCoupleNoChild#14731, CommercialData_AreaPcntHHMarriedCoupleWithChild#14732, CommercialData_AreaPcntHHSpanishSpeaking#14733, CommercialData_AreaPcntHHWithChildren#14734, CommercialData_StateIncomeDecile#14741, EthnicGroups_EthnicGroup1Desc#14436, CommercialData_DwellingType#14706, ... 12 more fields]\n                                                                                                               :  +- Project [Voters_Gender#14429, Voters_BirthDate#14431, Residence_Families_HHCount#14408, Residence_HHGender_Description#14409, Mailing_Families_HHCount#14426, Mailing_HHGender_Description#14427, Parties_Description#14433, CommercialData_PropertyType#14738, AddressDistricts_Change_Changed_CD#14448, AddressDistricts_Change_Changed_SD#14450, AddressDistricts_Change_Changed_HD#14452, AddressDistricts_Change_Changed_County#14461, Residence_Addresses_Density#14406, CommercialData_EstimatedHHIncome#14710, CommercialData_ISPSA#14721, CommercialData_AreaMedianEducationYears#14724, CommercialData_AreaMedianHousingValue#14725, CommercialData_AreaPcntHHMarriedCoupleNoChild#14731, CommercialData_AreaPcntHHMarriedCoupleWithChild#14732, CommercialData_AreaPcntHHSpanishSpeaking#14733, CommercialData_AreaPcntHHWithChildren#14734, CommercialData_StateIncomeDecile#14741, EthnicGroups_EthnicGroup1Desc#14436, CommercialData_DwellingType#14706, ... 11 more fields]\n                                                                                                               :     +- Relation[SEQUENCE#14364,LALVOTERID#14365,Voters_Active#14366,Voters_StateVoterID#14367,Voters_CountyVoterID#14368,VoterTelephones_LandlineAreaCode#14369,VoterTelephones_Landline7Digit#14370,VoterTelephones_LandlineFormatted#14371,VoterTelephones_LandlineUnformatted#14372,VoterTelephones_LandlineConfidenceCode#14373,VoterTelephones_CellPhoneOnly#14374,VoterTelephones_CellPhoneFormatted#14375,VoterTelephones_CellPhoneUnformatted#14376,VoterTelephones_CellConfidenceCode#14377,Voters_FirstName#14378,Voters_MiddleName#14379,Voters_LastName#14380,Voters_NameSuffix#14381,Residence_Addresses_AddressLine#14382,Residence_Addresses_ExtraAddressLine#14383,Residence_Addresses_City#14384,Residence_Addresses_State#14385,Residence_Addresses_Zip#14386,Residence_Addresses_ZipPlus4#14387,... 702 more fields] parquet\n                                                                                                               :- Project [Voters_Gender#16029, Voters_BirthDate#16031, Residence_Families_HHCount#16008, Residence_HHGender_Description#16009, Mailing_Families_HHCount#16026, Mailing_HHGender_Description#16027, Parties_Description#16033, CommercialData_PropertyType#16338, AddressDistricts_Change_Changed_CD#16048, AddressDistricts_Change_Changed_SD#16050, AddressDistricts_Change_Changed_HD#16052, AddressDistricts_Change_Changed_County#16061, Residence_Addresses_Density#16006, CommercialData_EstimatedHHIncome#16310, CommercialData_ISPSA#16321, CommercialData_AreaMedianEducationYears#16324, CommercialData_AreaMedianHousingValue#16325, CommercialData_AreaPcntHHMarriedCoupleNoChild#16331, CommercialData_AreaPcntHHMarriedCoupleWithChild#16332, CommercialData_AreaPcntHHSpanishSpeaking#16333, CommercialData_AreaPcntHHWithChildren#16334, CommercialData_StateIncomeDecile#16341, EthnicGroups_EthnicGroup1Desc#16036, CommercialData_DwellingType#16306, ... 12 more fields]\n                                                                                                               :  +- Project [Voters_Gender#16029, Voters_BirthDate#16031, Residence_Families_HHCount#16008, Residence_HHGender_Description#16009, Mailing_Families_HHCount#16026, Mailing_HHGender_Description#16027, Parties_Description#16033, CommercialData_PropertyType#16338, AddressDistricts_Change_Changed_CD#16048, AddressDistricts_Change_Changed_SD#16050, AddressDistricts_Change_Changed_HD#16052, AddressDistricts_Change_Changed_County#16061, Residence_Addresses_Density#16006, CommercialData_EstimatedHHIncome#16310, CommercialData_ISPSA#16321, CommercialData_AreaMedianEducationYears#16324, CommercialData_AreaMedianHousingValue#16325, CommercialData_AreaPcntHHMarriedCoupleNoChild#16331, CommercialData_AreaPcntHHMarriedCoupleWithChild#16332, CommercialData_AreaPcntHHSpanishSpeaking#16333, CommercialData_AreaPcntHHWithChildren#16334, CommercialData_StateIncomeDecile#16341, EthnicGroups_EthnicGroup1Desc#16036, CommercialData_DwellingType#16306, ... 11 more fields]\n                                                                                                               :     +- Relation[SEQUENCE#15964,LALVOTERID#15965,Voters_Active#15966,Voters_StateVoterID#15967,Voters_CountyVoterID#15968,VoterTelephones_LandlineAreaCode#15969,VoterTelephones_Landline7Digit#15970,VoterTelephones_LandlineFormatted#15971,VoterTelephones_LandlineUnformatted#15972,VoterTelephones_LandlineConfidenceCode#15973,VoterTelephones_CellPhoneOnly#15974,VoterTelephones_CellPhoneFormatted#15975,VoterTelephones_CellPhoneUnformatted#15976,VoterTelephones_CellConfidenceCode#15977,Voters_FirstName#15978,Voters_MiddleName#15979,Voters_LastName#15980,Voters_NameSuffix#15981,Residence_Addresses_AddressLine#15982,Residence_Addresses_ExtraAddressLine#15983,Residence_Addresses_City#15984,Residence_Addresses_State#15985,Residence_Addresses_Zip#15986,Residence_Addresses_ZipPlus4#15987,... 702 more fields] parquet\n                                                                                                               :- Project [Voters_Gender#17629, Voters_BirthDate#17631, Residence_Families_HHCount#17608, Residence_HHGender_Description#17609, Mailing_Families_HHCount#17626, Mailing_HHGender_Description#17627, Parties_Description#17633, CommercialData_PropertyType#17938, AddressDistricts_Change_Changed_CD#17648, AddressDistricts_Change_Changed_SD#17650, AddressDistricts_Change_Changed_HD#17652, AddressDistricts_Change_Changed_County#17661, Residence_Addresses_Density#17606, CommercialData_EstimatedHHIncome#17910, CommercialData_ISPSA#17921, CommercialData_AreaMedianEducationYears#17924, CommercialData_AreaMedianHousingValue#17925, CommercialData_AreaPcntHHMarriedCoupleNoChild#17931, CommercialData_AreaPcntHHMarriedCoupleWithChild#17932, CommercialData_AreaPcntHHSpanishSpeaking#17933, CommercialData_AreaPcntHHWithChildren#17934, CommercialData_StateIncomeDecile#17941, EthnicGroups_EthnicGroup1Desc#17636, CommercialData_DwellingType#17906, ... 12 more fields]\n                                                                                                               :  +- Project [Voters_Gender#17629, Voters_BirthDate#17631, Residence_Families_HHCount#17608, Residence_HHGender_Description#17609, Mailing_Families_HHCount#17626, Mailing_HHGender_Description#17627, Parties_Description#17633, CommercialData_PropertyType#17938, AddressDistricts_Change_Changed_CD#17648, AddressDistricts_Change_Changed_SD#17650, AddressDistricts_Change_Changed_HD#17652, AddressDistricts_Change_Changed_County#17661, Residence_Addresses_Density#17606, CommercialData_EstimatedHHIncome#17910, CommercialData_ISPSA#17921, CommercialData_AreaMedianEducationYears#17924, CommercialData_AreaMedianHousingValue#17925, CommercialData_AreaPcntHHMarriedCoupleNoChild#17931, CommercialData_AreaPcntHHMarriedCoupleWithChild#17932, CommercialData_AreaPcntHHSpanishSpeaking#17933, CommercialData_AreaPcntHHWithChildren#17934, CommercialData_StateIncomeDecile#17941, EthnicGroups_EthnicGroup1Desc#17636, CommercialData_DwellingType#17906, ... 11 more fields]\n                                                                                                               :     +- Relation[SEQUENCE#17564,LALVOTERID#17565,Voters_Active#17566,Voters_StateVoterID#17567,Voters_CountyVoterID#17568,VoterTelephones_LandlineAreaCode#17569,VoterTelephones_Landline7Digit#17570,VoterTelephones_LandlineFormatted#17571,VoterTelephones_LandlineUnformatted#17572,VoterTelephones_LandlineConfidenceCode#17573,VoterTelephones_CellPhoneOnly#17574,VoterTelephones_CellPhoneFormatted#17575,VoterTelephones_CellPhoneUnformatted#17576,VoterTelephones_CellConfidenceCode#17577,Voters_FirstName#17578,Voters_MiddleName#17579,Voters_LastName#17580,Voters_NameSuffix#17581,Residence_Addresses_AddressLine#17582,Residence_Addresses_ExtraAddressLine#17583,Residence_Addresses_City#17584,Residence_Addresses_State#17585,Residence_Addresses_Zip#17586,Residence_Addresses_ZipPlus4#17587,... 702 more fields] parquet\n                                                                                                               :- Project [Voters_Gender#19229, Voters_BirthDate#19231, Residence_Families_HHCount#19208, Residence_HHGender_Description#19209, Mailing_Families_HHCount#19226, Mailing_HHGender_Description#19227, Parties_Description#19233, CommercialData_PropertyType#19538, AddressDistricts_Change_Changed_CD#19248, AddressDistricts_Change_Changed_SD#19250, AddressDistricts_Change_Changed_HD#19252, AddressDistricts_Change_Changed_County#19261, Residence_Addresses_Density#19206, CommercialData_EstimatedHHIncome#19510, CommercialData_ISPSA#19521, CommercialData_AreaMedianEducationYears#19524, CommercialData_AreaMedianHousingValue#19525, CommercialData_AreaPcntHHMarriedCoupleNoChild#19531, CommercialData_AreaPcntHHMarriedCoupleWithChild#19532, CommercialData_AreaPcntHHSpanishSpeaking#19533, CommercialData_AreaPcntHHWithChildren#19534, CommercialData_StateIncomeDecile#19541, EthnicGroups_EthnicGroup1Desc#19236, CommercialData_DwellingType#19506, ... 12 more fields]\n                                                                                                               :  +- Project [Voters_Gender#19229, Voters_BirthDate#19231, Residence_Families_HHCount#19208, Residence_HHGender_Description#19209, Mailing_Families_HHCount#19226, Mailing_HHGender_Description#19227, Parties_Description#19233, CommercialData_PropertyType#19538, AddressDistricts_Change_Changed_CD#19248, AddressDistricts_Change_Changed_SD#19250, AddressDistricts_Change_Changed_HD#19252, AddressDistricts_Change_Changed_County#19261, Residence_Addresses_Density#19206, CommercialData_EstimatedHHIncome#19510, CommercialData_ISPSA#19521, CommercialData_AreaMedianEducationYears#19524, CommercialData_AreaMedianHousingValue#19525, CommercialData_AreaPcntHHMarriedCoupleNoChild#19531, CommercialData_AreaPcntHHMarriedCoupleWithChild#19532, CommercialData_AreaPcntHHSpanishSpeaking#19533, CommercialData_AreaPcntHHWithChildren#19534, CommercialData_StateIncomeDecile#19541, EthnicGroups_EthnicGroup1Desc#19236, CommercialData_DwellingType#19506, ... 11 more fields]\n                                                                                                               :     +- Relation[SEQUENCE#19164,LALVOTERID#19165,Voters_Active#19166,Voters_StateVoterID#19167,Voters_CountyVoterID#19168,VoterTelephones_LandlineAreaCode#19169,VoterTelephones_Landline7Digit#19170,VoterTelephones_LandlineFormatted#19171,VoterTelephones_LandlineUnformatted#19172,VoterTelephones_LandlineConfidenceCode#19173,VoterTelephones_CellPhoneOnly#19174,VoterTelephones_CellPhoneFormatted#19175,VoterTelephones_CellPhoneUnformatted#19176,VoterTelephones_CellConfidenceCode#19177,Voters_FirstName#19178,Voters_MiddleName#19179,Voters_LastName#19180,Voters_NameSuffix#19181,Residence_Addresses_AddressLine#19182,Residence_Addresses_ExtraAddressLine#19183,Residence_Addresses_City#19184,Residence_Addresses_State#19185,Residence_Addresses_Zip#19186,Residence_Addresses_ZipPlus4#19187,... 702 more fields] parquet\n                                                                                                               :- Project [Voters_Gender#20829, Voters_BirthDate#20831, Residence_Families_HHCount#20808, Residence_HHGender_Description#20809, Mailing_Families_HHCount#20826, Mailing_HHGender_Description#20827, Parties_Description#20833, CommercialData_PropertyType#21138, AddressDistricts_Change_Changed_CD#20848, AddressDistricts_Change_Changed_SD#20850, AddressDistricts_Change_Changed_HD#20852, AddressDistricts_Change_Changed_County#20861, Residence_Addresses_Density#20806, CommercialData_EstimatedHHIncome#21110, CommercialData_ISPSA#21121, CommercialData_AreaMedianEducationYears#21124, CommercialData_AreaMedianHousingValue#21125, CommercialData_AreaPcntHHMarriedCoupleNoChild#21131, CommercialData_AreaPcntHHMarriedCoupleWithChild#21132, CommercialData_AreaPcntHHSpanishSpeaking#21133, CommercialData_AreaPcntHHWithChildren#21134, CommercialData_StateIncomeDecile#21141, EthnicGroups_EthnicGroup1Desc#20836, CommercialData_DwellingType#21106, ... 12 more fields]\n                                                                                                               :  +- Project [Voters_Gender#20829, Voters_BirthDate#20831, Residence_Families_HHCount#20808, Residence_HHGender_Description#20809, Mailing_Families_HHCount#20826, Mailing_HHGender_Description#20827, Parties_Description#20833, CommercialData_PropertyType#21138, AddressDistricts_Change_Changed_CD#20848, AddressDistricts_Change_Changed_SD#20850, AddressDistricts_Change_Changed_HD#20852, AddressDistricts_Change_Changed_County#20861, Residence_Addresses_Density#20806, CommercialData_EstimatedHHIncome#21110, CommercialData_ISPSA#21121, CommercialData_AreaMedianEducationYears#21124, CommercialData_AreaMedianHousingValue#21125, CommercialData_AreaPcntHHMarriedCoupleNoChild#21131, CommercialData_AreaPcntHHMarriedCoupleWithChild#21132, CommercialData_AreaPcntHHSpanishSpeaking#21133, CommercialData_AreaPcntHHWithChildren#21134, CommercialData_StateIncomeDecile#21141, EthnicGroups_EthnicGroup1Desc#20836, CommercialData_DwellingType#21106, ... 11 more fields]\n                                                                                                               :     +- Relation[SEQUENCE#20764,LALVOTERID#20765,Voters_Active#20766,Voters_StateVoterID#20767,Voters_CountyVoterID#20768,VoterTelephones_LandlineAreaCode#20769,VoterTelephones_Landline7Digit#20770,VoterTelephones_LandlineFormatted#20771,VoterTelephones_LandlineUnformatted#20772,VoterTelephones_LandlineConfidenceCode#20773,VoterTelephones_CellPhoneOnly#20774,VoterTelephones_CellPhoneFormatted#20775,VoterTelephones_CellPhoneUnformatted#20776,VoterTelephones_CellConfidenceCode#20777,Voters_FirstName#20778,Voters_MiddleName#20779,Voters_LastName#20780,Voters_NameSuffix#20781,Residence_Addresses_AddressLine#20782,Residence_Addresses_ExtraAddressLine#20783,Residence_Addresses_City#20784,Residence_Addresses_State#20785,Residence_Addresses_Zip#20786,Residence_Addresses_ZipPlus4#20787,... 702 more fields] parquet\n                                                                                                               +- Project [Voters_Gender#22429, Voters_BirthDate#22431, Residence_Families_HHCount#22408, Residence_HHGender_Description#22409, Mailing_Families_HHCount#22426, Mailing_HHGender_Description#22427, Parties_Description#22433, CommercialData_PropertyType#22738, AddressDistricts_Change_Changed_CD#22448, AddressDistricts_Change_Changed_SD#22450, AddressDistricts_Change_Changed_HD#22452, AddressDistricts_Change_Changed_County#22461, Residence_Addresses_Density#22406, CommercialData_EstimatedHHIncome#22710, CommercialData_ISPSA#22721, CommercialData_AreaMedianEducationYears#22724, CommercialData_AreaMedianHousingValue#22725, CommercialData_AreaPcntHHMarriedCoupleNoChild#22731, CommercialData_AreaPcntHHMarriedCoupleWithChild#22732, CommercialData_AreaPcntHHSpanishSpeaking#22733, CommercialData_AreaPcntHHWithChildren#22734, CommercialData_StateIncomeDecile#22741, EthnicGroups_EthnicGroup1Desc#22436, CommercialData_DwellingType#22706, ... 12 more fields]\n                                                                                                                  +- Project [Voters_Gender#22429, Voters_BirthDate#22431, Residence_Families_HHCount#22408, Residence_HHGender_Description#22409, Mailing_Families_HHCount#22426, Mailing_HHGender_Description#22427, Parties_Description#22433, CommercialData_PropertyType#22738, AddressDistricts_Change_Changed_CD#22448, AddressDistricts_Change_Changed_SD#22450, AddressDistricts_Change_Changed_HD#22452, AddressDistricts_Change_Changed_County#22461, Residence_Addresses_Density#22406, CommercialData_EstimatedHHIncome#22710, CommercialData_ISPSA#22721, CommercialData_AreaMedianEducationYears#22724, CommercialData_AreaMedianHousingValue#22725, CommercialData_AreaPcntHHMarriedCoupleNoChild#22731, CommercialData_AreaPcntHHMarriedCoupleWithChild#22732, CommercialData_AreaPcntHHSpanishSpeaking#22733, CommercialData_AreaPcntHHWithChildren#22734, CommercialData_StateIncomeDecile#22741, EthnicGroups_EthnicGroup1Desc#22436, CommercialData_DwellingType#22706, ... 11 more fields]\n                                                                                                                     +- Relation[SEQUENCE#22364,LALVOTERID#22365,Voters_Active#22366,Voters_StateVoterID#22367,Voters_CountyVoterID#22368,VoterTelephones_LandlineAreaCode#22369,VoterTelephones_Landline7Digit#22370,VoterTelephones_LandlineFormatted#22371,VoterTelephones_LandlineUnformatted#22372,VoterTelephones_LandlineConfidenceCode#22373,VoterTelephones_CellPhoneOnly#22374,VoterTelephones_CellPhoneFormatted#22375,VoterTelephones_CellPhoneUnformatted#22376,VoterTelephones_CellConfidenceCode#22377,Voters_FirstName#22378,Voters_MiddleName#22379,Voters_LastName#22380,Voters_NameSuffix#22381,Residence_Addresses_AddressLine#22382,Residence_Addresses_ExtraAddressLine#22383,Residence_Addresses_City#22384,Residence_Addresses_State#22385,Residence_Addresses_Zip#22386,Residence_Addresses_ZipPlus4#22387,... 702 more fields] parquet\n",
     "output_type": "error",
     "traceback": [
      "\u001b[0;31m---------------------------------------------------------------------------\u001b[0m",
      "\u001b[0;31mAnalysisException\u001b[0m                         Traceback (most recent call last)",
      "Cell \u001b[0;32mIn[31], line 14\u001b[0m\n\u001b[1;32m     11\u001b[0m indexer \u001b[38;5;241m=\u001b[39m StringIndexer(inputCol \u001b[38;5;241m=\u001b[39m \u001b[38;5;124m\"\u001b[39m\u001b[38;5;124mVoted_General_2008\u001b[39m\u001b[38;5;124m\"\u001b[39m, outputCol \u001b[38;5;241m=\u001b[39m \u001b[38;5;124m\"\u001b[39m\u001b[38;5;124mlabel\u001b[39m\u001b[38;5;124m\"\u001b[39m)\n\u001b[1;32m     12\u001b[0m new_df \u001b[38;5;241m=\u001b[39m indexer\u001b[38;5;241m.\u001b[39mfit(new_df)\u001b[38;5;241m.\u001b[39mtransform(new_df)\n\u001b[0;32m---> 14\u001b[0m \u001b[43mnew_df\u001b[49m\u001b[38;5;241;43m.\u001b[39;49m\u001b[43mselect\u001b[49m\u001b[43m(\u001b[49m\n\u001b[1;32m     15\u001b[0m \u001b[43m    \u001b[49m\u001b[43m[\u001b[49m\u001b[38;5;124;43m\"\u001b[39;49m\u001b[38;5;132;43;01m{}\u001b[39;49;00m\u001b[38;5;124;43m_imp\u001b[39;49m\u001b[38;5;124;43m\"\u001b[39;49m\u001b[38;5;241;43m.\u001b[39;49m\u001b[43mformat\u001b[49m\u001b[43m(\u001b[49m\u001b[43mc\u001b[49m\u001b[43m)\u001b[49m\u001b[43m \u001b[49m\u001b[38;5;28;43;01mfor\u001b[39;49;00m\u001b[43m \u001b[49m\u001b[43mc\u001b[49m\u001b[43m \u001b[49m\u001b[38;5;129;43;01min\u001b[39;49;00m\u001b[43m \u001b[49m\u001b[43mnumeric_cols\u001b[49m\u001b[43m]\u001b[49m\u001b[43m \u001b[49m\u001b[38;5;241;43m+\u001b[39;49m\u001b[43m \u001b[49m\u001b[43mindexed_cols\u001b[49m\u001b[43m \u001b[49m\u001b[38;5;241;43m+\u001b[39;49m\u001b[43m \u001b[49m\u001b[43m[\u001b[49m\u001b[38;5;124;43m\"\u001b[39;49m\u001b[38;5;124;43mlabel\u001b[39;49m\u001b[38;5;124;43m\"\u001b[39;49m\u001b[43m]\u001b[49m\u001b[43m    \u001b[49m\n\u001b[1;32m     16\u001b[0m \u001b[43m)\u001b[49m\u001b[38;5;241m.\u001b[39mprintSchema()\n\u001b[1;32m     18\u001b[0m new_df \u001b[38;5;241m=\u001b[39m new_df\u001b[38;5;241m.\u001b[39mselect(\n\u001b[1;32m     19\u001b[0m     [\u001b[38;5;124m\"\u001b[39m\u001b[38;5;132;01m{}\u001b[39;00m\u001b[38;5;124m_imp\u001b[39m\u001b[38;5;124m\"\u001b[39m\u001b[38;5;241m.\u001b[39mformat(c) \u001b[38;5;28;01mfor\u001b[39;00m c \u001b[38;5;129;01min\u001b[39;00m numeric_cols] \u001b[38;5;241m+\u001b[39m indexed_cols \u001b[38;5;241m+\u001b[39m [\u001b[38;5;124m\"\u001b[39m\u001b[38;5;124mlabel\u001b[39m\u001b[38;5;124m\"\u001b[39m]    \n\u001b[1;32m     20\u001b[0m )\n\u001b[1;32m     22\u001b[0m \u001b[38;5;28;01mfrom\u001b[39;00m \u001b[38;5;21;01mpyspark\u001b[39;00m\u001b[38;5;21;01m.\u001b[39;00m\u001b[38;5;21;01mml\u001b[39;00m\u001b[38;5;21;01m.\u001b[39;00m\u001b[38;5;21;01mfeature\u001b[39;00m \u001b[38;5;28;01mimport\u001b[39;00m RFormula\n",
      "File \u001b[0;32m/usr/lib/spark/python/pyspark/sql/dataframe.py:1669\u001b[0m, in \u001b[0;36mDataFrame.select\u001b[0;34m(self, *cols)\u001b[0m\n\u001b[1;32m   1648\u001b[0m \u001b[38;5;28;01mdef\u001b[39;00m \u001b[38;5;21mselect\u001b[39m(\u001b[38;5;28mself\u001b[39m, \u001b[38;5;241m*\u001b[39mcols):\n\u001b[1;32m   1649\u001b[0m \u001b[38;5;250m    \u001b[39m\u001b[38;5;124;03m\"\"\"Projects a set of expressions and returns a new :class:`DataFrame`.\u001b[39;00m\n\u001b[1;32m   1650\u001b[0m \n\u001b[1;32m   1651\u001b[0m \u001b[38;5;124;03m    .. versionadded:: 1.3.0\u001b[39;00m\n\u001b[0;32m   (...)\u001b[0m\n\u001b[1;32m   1667\u001b[0m \u001b[38;5;124;03m    [Row(name='Alice', age=12), Row(name='Bob', age=15)]\u001b[39;00m\n\u001b[1;32m   1668\u001b[0m \u001b[38;5;124;03m    \"\"\"\u001b[39;00m\n\u001b[0;32m-> 1669\u001b[0m     jdf \u001b[38;5;241m=\u001b[39m \u001b[38;5;28;43mself\u001b[39;49m\u001b[38;5;241;43m.\u001b[39;49m\u001b[43m_jdf\u001b[49m\u001b[38;5;241;43m.\u001b[39;49m\u001b[43mselect\u001b[49m\u001b[43m(\u001b[49m\u001b[38;5;28;43mself\u001b[39;49m\u001b[38;5;241;43m.\u001b[39;49m\u001b[43m_jcols\u001b[49m\u001b[43m(\u001b[49m\u001b[38;5;241;43m*\u001b[39;49m\u001b[43mcols\u001b[49m\u001b[43m)\u001b[49m\u001b[43m)\u001b[49m\n\u001b[1;32m   1670\u001b[0m     \u001b[38;5;28;01mreturn\u001b[39;00m DataFrame(jdf, \u001b[38;5;28mself\u001b[39m\u001b[38;5;241m.\u001b[39msql_ctx)\n",
      "File \u001b[0;32m/usr/lib/spark/python/lib/py4j-0.10.9-src.zip/py4j/java_gateway.py:1304\u001b[0m, in \u001b[0;36mJavaMember.__call__\u001b[0;34m(self, *args)\u001b[0m\n\u001b[1;32m   1298\u001b[0m command \u001b[38;5;241m=\u001b[39m proto\u001b[38;5;241m.\u001b[39mCALL_COMMAND_NAME \u001b[38;5;241m+\u001b[39m\\\n\u001b[1;32m   1299\u001b[0m     \u001b[38;5;28mself\u001b[39m\u001b[38;5;241m.\u001b[39mcommand_header \u001b[38;5;241m+\u001b[39m\\\n\u001b[1;32m   1300\u001b[0m     args_command \u001b[38;5;241m+\u001b[39m\\\n\u001b[1;32m   1301\u001b[0m     proto\u001b[38;5;241m.\u001b[39mEND_COMMAND_PART\n\u001b[1;32m   1303\u001b[0m answer \u001b[38;5;241m=\u001b[39m \u001b[38;5;28mself\u001b[39m\u001b[38;5;241m.\u001b[39mgateway_client\u001b[38;5;241m.\u001b[39msend_command(command)\n\u001b[0;32m-> 1304\u001b[0m return_value \u001b[38;5;241m=\u001b[39m \u001b[43mget_return_value\u001b[49m\u001b[43m(\u001b[49m\n\u001b[1;32m   1305\u001b[0m \u001b[43m    \u001b[49m\u001b[43manswer\u001b[49m\u001b[43m,\u001b[49m\u001b[43m \u001b[49m\u001b[38;5;28;43mself\u001b[39;49m\u001b[38;5;241;43m.\u001b[39;49m\u001b[43mgateway_client\u001b[49m\u001b[43m,\u001b[49m\u001b[43m \u001b[49m\u001b[38;5;28;43mself\u001b[39;49m\u001b[38;5;241;43m.\u001b[39;49m\u001b[43mtarget_id\u001b[49m\u001b[43m,\u001b[49m\u001b[43m \u001b[49m\u001b[38;5;28;43mself\u001b[39;49m\u001b[38;5;241;43m.\u001b[39;49m\u001b[43mname\u001b[49m\u001b[43m)\u001b[49m\n\u001b[1;32m   1307\u001b[0m \u001b[38;5;28;01mfor\u001b[39;00m temp_arg \u001b[38;5;129;01min\u001b[39;00m temp_args:\n\u001b[1;32m   1308\u001b[0m     temp_arg\u001b[38;5;241m.\u001b[39m_detach()\n",
      "File \u001b[0;32m/usr/lib/spark/python/pyspark/sql/utils.py:117\u001b[0m, in \u001b[0;36mcapture_sql_exception.<locals>.deco\u001b[0;34m(*a, **kw)\u001b[0m\n\u001b[1;32m    113\u001b[0m converted \u001b[38;5;241m=\u001b[39m convert_exception(e\u001b[38;5;241m.\u001b[39mjava_exception)\n\u001b[1;32m    114\u001b[0m \u001b[38;5;28;01mif\u001b[39;00m \u001b[38;5;129;01mnot\u001b[39;00m \u001b[38;5;28misinstance\u001b[39m(converted, UnknownException):\n\u001b[1;32m    115\u001b[0m     \u001b[38;5;66;03m# Hide where the exception came from that shows a non-Pythonic\u001b[39;00m\n\u001b[1;32m    116\u001b[0m     \u001b[38;5;66;03m# JVM exception message.\u001b[39;00m\n\u001b[0;32m--> 117\u001b[0m     \u001b[38;5;28;01mraise\u001b[39;00m converted \u001b[38;5;28;01mfrom\u001b[39;00m \u001b[38;5;28mNone\u001b[39m\n\u001b[1;32m    118\u001b[0m \u001b[38;5;28;01melse\u001b[39;00m:\n\u001b[1;32m    119\u001b[0m     \u001b[38;5;28;01mraise\u001b[39;00m\n",
      "\u001b[0;31mAnalysisException\u001b[0m: cannot resolve '`STATE_ind`' given input columns: [input_df.AddressDistricts_Change_Changed_CD, AddressDistricts_Change_Changed_CD_ind, input_df.AddressDistricts_Change_Changed_County, AddressDistricts_Change_Changed_County_ind, input_df.AddressDistricts_Change_Changed_HD, AddressDistricts_Change_Changed_HD_ind, input_df.AddressDistricts_Change_Changed_SD, AddressDistricts_Change_Changed_SD_ind, input_df.CommercialData_AreaMedianEducationYears, CommercialData_AreaMedianEducationYears_imp, input_df.CommercialData_AreaMedianHousingValue, CommercialData_AreaMedianHousingValue_imp, input_df.CommercialData_AreaPcntHHMarriedCoupleNoChild, CommercialData_AreaPcntHHMarriedCoupleNoChild_imp, input_df.CommercialData_AreaPcntHHMarriedCoupleWithChild, CommercialData_AreaPcntHHMarriedCoupleWithChild_imp, input_df.CommercialData_AreaPcntHHSpanishSpeaking, CommercialData_AreaPcntHHSpanishSpeaking_imp, input_df.CommercialData_AreaPcntHHWithChildren, CommercialData_AreaPcntHHWithChildren_imp, input_df.CommercialData_ComputerOwnerInHome, CommercialData_ComputerOwnerInHome_ind, input_df.CommercialData_DonatesEnvironmentCauseInHome, CommercialData_DonatesEnvironmentCauseInHome_ind, input_df.CommercialData_DonatesToCharityInHome, CommercialData_DonatesToCharityInHome_ind, input_df.CommercialData_DwellingType, CommercialData_DwellingType_ind, input_df.CommercialData_DwellingUnitSize, CommercialData_DwellingUnitSize_ind, input_df.CommercialData_Education, CommercialData_Education_ind, input_df.CommercialData_EstimatedHHIncome, CommercialData_EstimatedHHIncome_ind, input_df.CommercialData_ISPSA, CommercialData_ISPSA_ind, input_df.CommercialData_PresenceOfChildrenCode, CommercialData_PresenceOfChildrenCode_ind, input_df.CommercialData_PropertyType, CommercialData_PropertyType_ind, input_df.CommercialData_StateIncomeDecile, CommercialData_StateIncomeDecile_ind, input_df.EthnicGroups_EthnicGroup1Desc, EthnicGroups_EthnicGroup1Desc_ind, General_2000, General_2004, input_df.Mailing_Families_HHCount, Mailing_Families_HHCount_imp, input_df.Mailing_HHGender_Description, Mailing_HHGender_Description_ind, input_df.Parties_Description, Parties_Description_ind, PresidentialPrimary_2000, PresidentialPrimary_2004, input_df.Residence_Addresses_Density, Residence_Addresses_Density_imp, input_df.Residence_Families_HHCount, Residence_Families_HHCount_imp, input_df.Residence_HHGender_Description, Residence_HHGender_Description_ind, Voted_General_2008, input_df.Voters_Gender, Voters_Gender_ind, YEAR_18, label];\n'Project [Residence_Families_HHCount_imp#25088, Mailing_Families_HHCount_imp#25089, Residence_Addresses_Density_imp#25090, CommercialData_AreaMedianEducationYears_imp#25091, CommercialData_AreaMedianHousingValue_imp#25092, CommercialData_AreaPcntHHMarriedCoupleNoChild_imp#25093, CommercialData_AreaPcntHHMarriedCoupleWithChild_imp#25094, CommercialData_AreaPcntHHSpanishSpeaking_imp#25095, CommercialData_AreaPcntHHWithChildren_imp#25096, Voters_Gender_ind#25637, Residence_HHGender_Description_ind#25638, Mailing_HHGender_Description_ind#25639, Parties_Description_ind#25640, CommercialData_PropertyType_ind#25641, AddressDistricts_Change_Changed_CD_ind#25642, AddressDistricts_Change_Changed_SD_ind#25643, AddressDistricts_Change_Changed_HD_ind#25644, AddressDistricts_Change_Changed_County_ind#25645, CommercialData_EstimatedHHIncome_ind#25646, CommercialData_ISPSA_ind#25647, CommercialData_StateIncomeDecile_ind#25648, EthnicGroups_EthnicGroup1Desc_ind#25649, CommercialData_DwellingType_ind#25650, CommercialData_PresenceOfChildrenCode_ind#25651, ... 44 more fields]\n+- Project [Voters_Gender#24739, Residence_Families_HHCount#24287, Residence_HHGender_Description#24740, Mailing_Families_HHCount#24325, Mailing_HHGender_Description#24741, Parties_Description#24742, CommercialData_PropertyType#24743, AddressDistricts_Change_Changed_CD#24744, AddressDistricts_Change_Changed_SD#24745, AddressDistricts_Change_Changed_HD#24746, AddressDistricts_Change_Changed_County#24747, Residence_Addresses_Density#24363, CommercialData_EstimatedHHIncome#24748, CommercialData_ISPSA#24749, CommercialData_AreaMedianEducationYears#24401, CommercialData_AreaMedianHousingValue#24439, CommercialData_AreaPcntHHMarriedCoupleNoChild#24477, CommercialData_AreaPcntHHMarriedCoupleWithChild#24515, CommercialData_AreaPcntHHSpanishSpeaking#24553, CommercialData_AreaPcntHHWithChildren#24591, CommercialData_StateIncomeDecile#24750, EthnicGroups_EthnicGroup1Desc#24751, CommercialData_DwellingType#24752, CommercialData_PresenceOfChildrenCode#24753, ... 41 more fields]\n   +- Project [Voters_Gender#24739, Residence_Families_HHCount#24287, Residence_HHGender_Description#24740, Mailing_Families_HHCount#24325, Mailing_HHGender_Description#24741, Parties_Description#24742, CommercialData_PropertyType#24743, AddressDistricts_Change_Changed_CD#24744, AddressDistricts_Change_Changed_SD#24745, AddressDistricts_Change_Changed_HD#24746, AddressDistricts_Change_Changed_County#24747, Residence_Addresses_Density#24363, CommercialData_EstimatedHHIncome#24748, CommercialData_ISPSA#24749, CommercialData_AreaMedianEducationYears#24401, CommercialData_AreaMedianHousingValue#24439, CommercialData_AreaPcntHHMarriedCoupleNoChild#24477, CommercialData_AreaPcntHHMarriedCoupleWithChild#24515, CommercialData_AreaPcntHHSpanishSpeaking#24553, CommercialData_AreaPcntHHWithChildren#24591, CommercialData_StateIncomeDecile#24750, EthnicGroups_EthnicGroup1Desc#24751, CommercialData_DwellingType#24752, CommercialData_PresenceOfChildrenCode#24753, ... 40 more fields]\n      +- Project [Voters_Gender#24739, Voters_BirthDate#67, Residence_Families_HHCount#24287, Residence_HHGender_Description#24740, Mailing_Families_HHCount#24325, Mailing_HHGender_Description#24741, Parties_Description#24742, CommercialData_PropertyType#24743, AddressDistricts_Change_Changed_CD#24744, AddressDistricts_Change_Changed_SD#24745, AddressDistricts_Change_Changed_HD#24746, AddressDistricts_Change_Changed_County#24747, Residence_Addresses_Density#24363, CommercialData_EstimatedHHIncome#24748, CommercialData_ISPSA#24749, CommercialData_AreaMedianEducationYears#24401, CommercialData_AreaMedianHousingValue#24439, CommercialData_AreaPcntHHMarriedCoupleNoChild#24477, CommercialData_AreaPcntHHMarriedCoupleWithChild#24515, CommercialData_AreaPcntHHSpanishSpeaking#24553, CommercialData_AreaPcntHHWithChildren#24591, CommercialData_StateIncomeDecile#24750, EthnicGroups_EthnicGroup1Desc#24751, CommercialData_DwellingType#24752, ... 48 more fields]\n         +- Project [Voters_Gender#24739, Voters_BirthDate#67, Residence_Families_HHCount#24287, Residence_HHGender_Description#24740, Mailing_Families_HHCount#24325, Mailing_HHGender_Description#24741, Parties_Description#24742, CommercialData_PropertyType#24743, AddressDistricts_Change_Changed_CD#24744, AddressDistricts_Change_Changed_SD#24745, AddressDistricts_Change_Changed_HD#24746, AddressDistricts_Change_Changed_County#24747, Residence_Addresses_Density#24363, CommercialData_EstimatedHHIncome#24748, CommercialData_ISPSA#24749, CommercialData_AreaMedianEducationYears#24401, CommercialData_AreaMedianHousingValue#24439, CommercialData_AreaPcntHHMarriedCoupleNoChild#24477, CommercialData_AreaPcntHHMarriedCoupleWithChild#24515, CommercialData_AreaPcntHHSpanishSpeaking#24553, CommercialData_AreaPcntHHWithChildren#24591, CommercialData_StateIncomeDecile#24750, EthnicGroups_EthnicGroup1Desc#24751, CommercialData_DwellingType#24752, ... 49 more fields]\n            +- Project [Voters_Gender#24739, Voters_BirthDate#67, Residence_Families_HHCount#24287, Residence_HHGender_Description#24740, Mailing_Families_HHCount#24325, Mailing_HHGender_Description#24741, Parties_Description#24742, CommercialData_PropertyType#24743, AddressDistricts_Change_Changed_CD#24744, AddressDistricts_Change_Changed_SD#24745, AddressDistricts_Change_Changed_HD#24746, AddressDistricts_Change_Changed_County#24747, Residence_Addresses_Density#24363, CommercialData_EstimatedHHIncome#24748, CommercialData_ISPSA#24749, CommercialData_AreaMedianEducationYears#24401, CommercialData_AreaMedianHousingValue#24439, CommercialData_AreaPcntHHMarriedCoupleNoChild#24477, CommercialData_AreaPcntHHMarriedCoupleWithChild#24515, CommercialData_AreaPcntHHSpanishSpeaking#24553, CommercialData_AreaPcntHHWithChildren#24591, CommercialData_StateIncomeDecile#24750, EthnicGroups_EthnicGroup1Desc#24751, CommercialData_DwellingType#24752, ... 48 more fields]\n               +- Project [Voters_Gender#24739, Voters_BirthDate#67, Residence_Families_HHCount#24287, Residence_HHGender_Description#24740, Mailing_Families_HHCount#24325, Mailing_HHGender_Description#24741, Parties_Description#24742, CommercialData_PropertyType#24743, AddressDistricts_Change_Changed_CD#24744, AddressDistricts_Change_Changed_SD#24745, AddressDistricts_Change_Changed_HD#24746, AddressDistricts_Change_Changed_County#24747, Residence_Addresses_Density#24363, CommercialData_EstimatedHHIncome#24748, CommercialData_ISPSA#24749, CommercialData_AreaMedianEducationYears#24401, CommercialData_AreaMedianHousingValue#24439, CommercialData_AreaPcntHHMarriedCoupleNoChild#24477, CommercialData_AreaPcntHHMarriedCoupleWithChild#24515, CommercialData_AreaPcntHHSpanishSpeaking#24553, CommercialData_AreaPcntHHWithChildren#24591, CommercialData_StateIncomeDecile#24750, EthnicGroups_EthnicGroup1Desc#24751, CommercialData_DwellingType#24752, ... 48 more fields]\n                  +- Project [Voters_Gender#24739, Voters_BirthDate#67, Residence_Families_HHCount#24287, Residence_HHGender_Description#24740, Mailing_Families_HHCount#24325, Mailing_HHGender_Description#24741, Parties_Description#24742, CommercialData_PropertyType#24743, AddressDistricts_Change_Changed_CD#24744, AddressDistricts_Change_Changed_SD#24745, AddressDistricts_Change_Changed_HD#24746, AddressDistricts_Change_Changed_County#24747, Residence_Addresses_Density#24363, CommercialData_EstimatedHHIncome#24748, CommercialData_ISPSA#24749, CommercialData_AreaMedianEducationYears#24401, CommercialData_AreaMedianHousingValue#24439, CommercialData_AreaPcntHHMarriedCoupleNoChild#24477, CommercialData_AreaPcntHHMarriedCoupleWithChild#24515, CommercialData_AreaPcntHHSpanishSpeaking#24553, CommercialData_AreaPcntHHWithChildren#24591, CommercialData_StateIncomeDecile#24750, EthnicGroups_EthnicGroup1Desc#24751, CommercialData_DwellingType#24752, ... 48 more fields]\n                     +- Project [Voters_Gender#24739, Voters_BirthDate#67, Residence_Families_HHCount#24287, Residence_HHGender_Description#24740, Mailing_Families_HHCount#24325, Mailing_HHGender_Description#24741, Parties_Description#24742, CommercialData_PropertyType#24743, AddressDistricts_Change_Changed_CD#24744, AddressDistricts_Change_Changed_SD#24745, AddressDistricts_Change_Changed_HD#24746, AddressDistricts_Change_Changed_County#24747, Residence_Addresses_Density#24363, CommercialData_EstimatedHHIncome#24748, CommercialData_ISPSA#24749, CommercialData_AreaMedianEducationYears#24401, CommercialData_AreaMedianHousingValue#24439, CommercialData_AreaPcntHHMarriedCoupleNoChild#24477, CommercialData_AreaPcntHHMarriedCoupleWithChild#24515, CommercialData_AreaPcntHHSpanishSpeaking#24553, CommercialData_AreaPcntHHWithChildren#24591, CommercialData_StateIncomeDecile#24750, EthnicGroups_EthnicGroup1Desc#24751, CommercialData_DwellingType#24752, ... 48 more fields]\n                        +- Project [Voters_Gender#24739, Voters_BirthDate#67, Residence_Families_HHCount#24287, Residence_HHGender_Description#24740, Mailing_Families_HHCount#24325, Mailing_HHGender_Description#24741, Parties_Description#24742, CommercialData_PropertyType#24743, AddressDistricts_Change_Changed_CD#24744, AddressDistricts_Change_Changed_SD#24745, AddressDistricts_Change_Changed_HD#24746, AddressDistricts_Change_Changed_County#24747, Residence_Addresses_Density#24363, CommercialData_EstimatedHHIncome#24748, CommercialData_ISPSA#24749, CommercialData_AreaMedianEducationYears#24401, CommercialData_AreaMedianHousingValue#24439, CommercialData_AreaPcntHHMarriedCoupleNoChild#24477, CommercialData_AreaPcntHHMarriedCoupleWithChild#24515, CommercialData_AreaPcntHHSpanishSpeaking#24553, CommercialData_AreaPcntHHWithChildren#24591, CommercialData_StateIncomeDecile#24750, EthnicGroups_EthnicGroup1Desc#24751, CommercialData_DwellingType#24752, ... 48 more fields]\n                           +- Filter (YEAR_ELIGIBLE_TO_VOTE_PRESIDENTIAL#26191 <= 2008)\n                              +- Project [Voters_Gender#24739, Voters_BirthDate#67, Residence_Families_HHCount#24287, Residence_HHGender_Description#24740, Mailing_Families_HHCount#24325, Mailing_HHGender_Description#24741, Parties_Description#24742, CommercialData_PropertyType#24743, AddressDistricts_Change_Changed_CD#24744, AddressDistricts_Change_Changed_SD#24745, AddressDistricts_Change_Changed_HD#24746, AddressDistricts_Change_Changed_County#24747, Residence_Addresses_Density#24363, CommercialData_EstimatedHHIncome#24748, CommercialData_ISPSA#24749, CommercialData_AreaMedianEducationYears#24401, CommercialData_AreaMedianHousingValue#24439, CommercialData_AreaPcntHHMarriedCoupleNoChild#24477, CommercialData_AreaPcntHHMarriedCoupleWithChild#24515, CommercialData_AreaPcntHHSpanishSpeaking#24553, CommercialData_AreaPcntHHWithChildren#24591, CommercialData_StateIncomeDecile#24750, EthnicGroups_EthnicGroup1Desc#24751, CommercialData_DwellingType#24752, ... 48 more fields]\n                                 +- Project [Voters_Gender#24739, Voters_BirthDate#67, Residence_Families_HHCount#24287, Residence_HHGender_Description#24740, Mailing_Families_HHCount#24325, Mailing_HHGender_Description#24741, Parties_Description#24742, CommercialData_PropertyType#24743, AddressDistricts_Change_Changed_CD#24744, AddressDistricts_Change_Changed_SD#24745, AddressDistricts_Change_Changed_HD#24746, AddressDistricts_Change_Changed_County#24747, Residence_Addresses_Density#24363, CommercialData_EstimatedHHIncome#24748, CommercialData_ISPSA#24749, CommercialData_AreaMedianEducationYears#24401, CommercialData_AreaMedianHousingValue#24439, CommercialData_AreaPcntHHMarriedCoupleNoChild#24477, CommercialData_AreaPcntHHMarriedCoupleWithChild#24515, CommercialData_AreaPcntHHSpanishSpeaking#24553, CommercialData_AreaPcntHHWithChildren#24591, CommercialData_StateIncomeDecile#24750, EthnicGroups_EthnicGroup1Desc#24751, CommercialData_DwellingType#24752, ... 47 more fields]\n                                    +- Project [Voters_Gender#24739, Voters_BirthDate#67, Residence_Families_HHCount#24287, Residence_HHGender_Description#24740, Mailing_Families_HHCount#24325, Mailing_HHGender_Description#24741, Parties_Description#24742, CommercialData_PropertyType#24743, AddressDistricts_Change_Changed_CD#24744, AddressDistricts_Change_Changed_SD#24745, AddressDistricts_Change_Changed_HD#24746, AddressDistricts_Change_Changed_County#24747, Residence_Addresses_Density#24363, CommercialData_EstimatedHHIncome#24748, CommercialData_ISPSA#24749, CommercialData_AreaMedianEducationYears#24401, CommercialData_AreaMedianHousingValue#24439, CommercialData_AreaPcntHHMarriedCoupleNoChild#24477, CommercialData_AreaPcntHHMarriedCoupleWithChild#24515, CommercialData_AreaPcntHHSpanishSpeaking#24553, CommercialData_AreaPcntHHWithChildren#24591, CommercialData_StateIncomeDecile#24750, EthnicGroups_EthnicGroup1Desc#24751, CommercialData_DwellingType#24752, ... 46 more fields]\n                                       +- Project [Voters_Gender#24739, Voters_BirthDate#67, Residence_Families_HHCount#24287, Residence_HHGender_Description#24740, Mailing_Families_HHCount#24325, Mailing_HHGender_Description#24741, Parties_Description#24742, CommercialData_PropertyType#24743, AddressDistricts_Change_Changed_CD#24744, AddressDistricts_Change_Changed_SD#24745, AddressDistricts_Change_Changed_HD#24746, AddressDistricts_Change_Changed_County#24747, Residence_Addresses_Density#24363, CommercialData_EstimatedHHIncome#24748, CommercialData_ISPSA#24749, CommercialData_AreaMedianEducationYears#24401, CommercialData_AreaMedianHousingValue#24439, CommercialData_AreaPcntHHMarriedCoupleNoChild#24477, CommercialData_AreaPcntHHMarriedCoupleWithChild#24515, CommercialData_AreaPcntHHSpanishSpeaking#24553, CommercialData_AreaPcntHHWithChildren#24591, CommercialData_StateIncomeDecile#24750, EthnicGroups_EthnicGroup1Desc#24751, CommercialData_DwellingType#24752, ... 45 more fields]\n                                          +- Project [Voters_Gender#24739, Voters_BirthDate#67, Residence_Families_HHCount#24287, Residence_HHGender_Description#24740, Mailing_Families_HHCount#24325, Mailing_HHGender_Description#24741, Parties_Description#24742, CommercialData_PropertyType#24743, AddressDistricts_Change_Changed_CD#24744, AddressDistricts_Change_Changed_SD#24745, AddressDistricts_Change_Changed_HD#24746, AddressDistricts_Change_Changed_County#24747, Residence_Addresses_Density#24363, CommercialData_EstimatedHHIncome#24748, CommercialData_ISPSA#24749, CommercialData_AreaMedianEducationYears#24401, CommercialData_AreaMedianHousingValue#24439, CommercialData_AreaPcntHHMarriedCoupleNoChild#24477, CommercialData_AreaPcntHHMarriedCoupleWithChild#24515, CommercialData_AreaPcntHHSpanishSpeaking#24553, CommercialData_AreaPcntHHWithChildren#24591, CommercialData_StateIncomeDecile#24750, EthnicGroups_EthnicGroup1Desc#24751, CommercialData_DwellingType#24752, ... 44 more fields]\n                                             +- Filter AtLeastNNulls(n, Voters_BirthDate#67)\n                                                +- Project [Voters_Gender#24739, Voters_BirthDate#67, Residence_Families_HHCount#24287, Residence_HHGender_Description#24740, Mailing_Families_HHCount#24325, Mailing_HHGender_Description#24741, Parties_Description#24742, CommercialData_PropertyType#24743, AddressDistricts_Change_Changed_CD#24744, AddressDistricts_Change_Changed_SD#24745, AddressDistricts_Change_Changed_HD#24746, AddressDistricts_Change_Changed_County#24747, Residence_Addresses_Density#24363, CommercialData_EstimatedHHIncome#24748, CommercialData_ISPSA#24749, CommercialData_AreaMedianEducationYears#24401, CommercialData_AreaMedianHousingValue#24439, CommercialData_AreaPcntHHMarriedCoupleNoChild#24477, CommercialData_AreaPcntHHMarriedCoupleWithChild#24515, CommercialData_AreaPcntHHSpanishSpeaking#24553, CommercialData_AreaPcntHHWithChildren#24591, CommercialData_StateIncomeDecile#24750, EthnicGroups_EthnicGroup1Desc#24751, CommercialData_DwellingType#24752, ... 43 more fields]\n                                                   +- Project [Voters_Gender#24739, Voters_BirthDate#67, Residence_Families_HHCount#24287, Residence_HHGender_Description#24740, Mailing_Families_HHCount#24325, Mailing_HHGender_Description#24741, Parties_Description#24742, CommercialData_PropertyType#24743, AddressDistricts_Change_Changed_CD#24744, AddressDistricts_Change_Changed_SD#24745, AddressDistricts_Change_Changed_HD#24746, AddressDistricts_Change_Changed_County#24747, Residence_Addresses_Density#24363, CommercialData_EstimatedHHIncome#24748, CommercialData_ISPSA#24749, CommercialData_AreaMedianEducationYears#24401, CommercialData_AreaMedianHousingValue#24439, CommercialData_AreaPcntHHMarriedCoupleNoChild#24477, CommercialData_AreaPcntHHMarriedCoupleWithChild#24515, CommercialData_AreaPcntHHSpanishSpeaking#24553, CommercialData_AreaPcntHHWithChildren#24591, CommercialData_StateIncomeDecile#24750, EthnicGroups_EthnicGroup1Desc#24751, CommercialData_DwellingType#24752, ... 42 more fields]\n                                                      +- Project [Voters_Gender#24739, Voters_BirthDate#67, Residence_Families_HHCount#24287, Residence_HHGender_Description#24740, Mailing_Families_HHCount#24325, Mailing_HHGender_Description#24741, Parties_Description#24742, CommercialData_PropertyType#24743, AddressDistricts_Change_Changed_CD#24744, AddressDistricts_Change_Changed_SD#24745, AddressDistricts_Change_Changed_HD#24746, AddressDistricts_Change_Changed_County#24747, Residence_Addresses_Density#24363, CommercialData_EstimatedHHIncome#24748, CommercialData_ISPSA#24749, CommercialData_AreaMedianEducationYears#24401, CommercialData_AreaMedianHousingValue#24439, CommercialData_AreaPcntHHMarriedCoupleNoChild#24477, CommercialData_AreaPcntHHMarriedCoupleWithChild#24515, CommercialData_AreaPcntHHSpanishSpeaking#24553, CommercialData_AreaPcntHHWithChildren#24591, CommercialData_StateIncomeDecile#24750, EthnicGroups_EthnicGroup1Desc#24751, CommercialData_DwellingType#24752, ... 21 more fields]\n                                                         +- SubqueryAlias input_df\n                                                            +- Project [coalesce(Voters_Gender#65, cast(Missing as string)) AS Voters_Gender#24739, Voters_BirthDate#67, Residence_Families_HHCount#24287, coalesce(Residence_HHGender_Description#45, cast(Missing as string)) AS Residence_HHGender_Description#24740, Mailing_Families_HHCount#24325, coalesce(Mailing_HHGender_Description#63, cast(Missing as string)) AS Mailing_HHGender_Description#24741, coalesce(Parties_Description#69, cast(Missing as string)) AS Parties_Description#24742, coalesce(CommercialData_PropertyType#374, cast(Missing as string)) AS CommercialData_PropertyType#24743, coalesce(AddressDistricts_Change_Changed_CD#84, cast(Missing as string)) AS AddressDistricts_Change_Changed_CD#24744, coalesce(AddressDistricts_Change_Changed_SD#86, cast(Missing as string)) AS AddressDistricts_Change_Changed_SD#24745, coalesce(AddressDistricts_Change_Changed_HD#88, cast(Missing as string)) AS AddressDistricts_Change_Changed_HD#24746, coalesce(AddressDistricts_Change_Changed_County#97, cast(Missing as string)) AS AddressDistricts_Change_Changed_County#24747, Residence_Addresses_Density#24363, coalesce(CommercialData_EstimatedHHIncome#346, cast(Missing as string)) AS CommercialData_EstimatedHHIncome#24748, coalesce(CommercialData_ISPSA#357, cast(Missing as string)) AS CommercialData_ISPSA#24749, CommercialData_AreaMedianEducationYears#24401, CommercialData_AreaMedianHousingValue#24439, CommercialData_AreaPcntHHMarriedCoupleNoChild#24477, CommercialData_AreaPcntHHMarriedCoupleWithChild#24515, CommercialData_AreaPcntHHSpanishSpeaking#24553, CommercialData_AreaPcntHHWithChildren#24591, coalesce(CommercialData_StateIncomeDecile#377, cast(Missing as string)) AS CommercialData_StateIncomeDecile#24750, coalesce(EthnicGroups_EthnicGroup1Desc#72, cast(Missing as string)) AS EthnicGroups_EthnicGroup1Desc#24751, coalesce(CommercialData_DwellingType#342, cast(Missing as string)) AS CommercialData_DwellingType#24752, ... 12 more fields]\n                                                               +- Project [Voters_Gender#65, Voters_BirthDate#67, Residence_Families_HHCount#24287, Residence_HHGender_Description#45, Mailing_Families_HHCount#24325, Mailing_HHGender_Description#63, Parties_Description#69, CommercialData_PropertyType#374, AddressDistricts_Change_Changed_CD#84, AddressDistricts_Change_Changed_SD#86, AddressDistricts_Change_Changed_HD#88, AddressDistricts_Change_Changed_County#97, Residence_Addresses_Density#24363, CommercialData_EstimatedHHIncome#346, CommercialData_ISPSA#357, CommercialData_AreaMedianEducationYears#24401, CommercialData_AreaMedianHousingValue#24439, CommercialData_AreaPcntHHMarriedCoupleNoChild#24477, CommercialData_AreaPcntHHMarriedCoupleWithChild#24515, CommercialData_AreaPcntHHSpanishSpeaking#24553, CommercialData_AreaPcntHHWithChildren#24591, CommercialData_StateIncomeDecile#377, EthnicGroups_EthnicGroup1Desc#72, CommercialData_DwellingType#342, ... 12 more fields]\n                                                                  +- Project [Voters_Gender#65, Voters_BirthDate#67, Residence_Families_HHCount#24287, Residence_HHGender_Description#45, Mailing_Families_HHCount#24325, Mailing_HHGender_Description#63, Parties_Description#69, CommercialData_PropertyType#374, AddressDistricts_Change_Changed_CD#84, AddressDistricts_Change_Changed_SD#86, AddressDistricts_Change_Changed_HD#88, AddressDistricts_Change_Changed_County#97, Residence_Addresses_Density#24363, CommercialData_EstimatedHHIncome#346, CommercialData_ISPSA#357, CommercialData_AreaMedianEducationYears#24401, CommercialData_AreaMedianHousingValue#24439, CommercialData_AreaPcntHHMarriedCoupleNoChild#24477, CommercialData_AreaPcntHHMarriedCoupleWithChild#24515, CommercialData_AreaPcntHHSpanishSpeaking#24553, cast(CommercialData_AreaPcntHHWithChildren#24153 as float) AS CommercialData_AreaPcntHHWithChildren#24591, CommercialData_StateIncomeDecile#377, EthnicGroups_EthnicGroup1Desc#72, CommercialData_DwellingType#342, ... 12 more fields]\n                                                                     +- Project [Voters_Gender#65, Voters_BirthDate#67, Residence_Families_HHCount#24287, Residence_HHGender_Description#45, Mailing_Families_HHCount#24325, Mailing_HHGender_Description#63, Parties_Description#69, CommercialData_PropertyType#374, AddressDistricts_Change_Changed_CD#84, AddressDistricts_Change_Changed_SD#86, AddressDistricts_Change_Changed_HD#88, AddressDistricts_Change_Changed_County#97, Residence_Addresses_Density#24363, CommercialData_EstimatedHHIncome#346, CommercialData_ISPSA#357, CommercialData_AreaMedianEducationYears#24401, CommercialData_AreaMedianHousingValue#24439, CommercialData_AreaPcntHHMarriedCoupleNoChild#24477, CommercialData_AreaPcntHHMarriedCoupleWithChild#24515, cast(CommercialData_AreaPcntHHSpanishSpeaking#24116 as float) AS CommercialData_AreaPcntHHSpanishSpeaking#24553, CommercialData_AreaPcntHHWithChildren#24153, CommercialData_StateIncomeDecile#377, EthnicGroups_EthnicGroup1Desc#72, CommercialData_DwellingType#342, ... 12 more fields]\n                                                                        +- Project [Voters_Gender#65, Voters_BirthDate#67, Residence_Families_HHCount#24287, Residence_HHGender_Description#45, Mailing_Families_HHCount#24325, Mailing_HHGender_Description#63, Parties_Description#69, CommercialData_PropertyType#374, AddressDistricts_Change_Changed_CD#84, AddressDistricts_Change_Changed_SD#86, AddressDistricts_Change_Changed_HD#88, AddressDistricts_Change_Changed_County#97, Residence_Addresses_Density#24363, CommercialData_EstimatedHHIncome#346, CommercialData_ISPSA#357, CommercialData_AreaMedianEducationYears#24401, CommercialData_AreaMedianHousingValue#24439, CommercialData_AreaPcntHHMarriedCoupleNoChild#24477, cast(CommercialData_AreaPcntHHMarriedCoupleWithChild#24079 as float) AS CommercialData_AreaPcntHHMarriedCoupleWithChild#24515, CommercialData_AreaPcntHHSpanishSpeaking#24116, CommercialData_AreaPcntHHWithChildren#24153, CommercialData_StateIncomeDecile#377, EthnicGroups_EthnicGroup1Desc#72, CommercialData_DwellingType#342, ... 12 more fields]\n                                                                           +- Project [Voters_Gender#65, Voters_BirthDate#67, Residence_Families_HHCount#24287, Residence_HHGender_Description#45, Mailing_Families_HHCount#24325, Mailing_HHGender_Description#63, Parties_Description#69, CommercialData_PropertyType#374, AddressDistricts_Change_Changed_CD#84, AddressDistricts_Change_Changed_SD#86, AddressDistricts_Change_Changed_HD#88, AddressDistricts_Change_Changed_County#97, Residence_Addresses_Density#24363, CommercialData_EstimatedHHIncome#346, CommercialData_ISPSA#357, CommercialData_AreaMedianEducationYears#24401, CommercialData_AreaMedianHousingValue#24439, cast(CommercialData_AreaPcntHHMarriedCoupleNoChild#24042 as float) AS CommercialData_AreaPcntHHMarriedCoupleNoChild#24477, CommercialData_AreaPcntHHMarriedCoupleWithChild#24079, CommercialData_AreaPcntHHSpanishSpeaking#24116, CommercialData_AreaPcntHHWithChildren#24153, CommercialData_StateIncomeDecile#377, EthnicGroups_EthnicGroup1Desc#72, CommercialData_DwellingType#342, ... 12 more fields]\n                                                                              +- Project [Voters_Gender#65, Voters_BirthDate#67, Residence_Families_HHCount#24287, Residence_HHGender_Description#45, Mailing_Families_HHCount#24325, Mailing_HHGender_Description#63, Parties_Description#69, CommercialData_PropertyType#374, AddressDistricts_Change_Changed_CD#84, AddressDistricts_Change_Changed_SD#86, AddressDistricts_Change_Changed_HD#88, AddressDistricts_Change_Changed_County#97, Residence_Addresses_Density#24363, CommercialData_EstimatedHHIncome#346, CommercialData_ISPSA#357, CommercialData_AreaMedianEducationYears#24401, cast(CommercialData_AreaMedianHousingValue#24005 as float) AS CommercialData_AreaMedianHousingValue#24439, CommercialData_AreaPcntHHMarriedCoupleNoChild#24042, CommercialData_AreaPcntHHMarriedCoupleWithChild#24079, CommercialData_AreaPcntHHSpanishSpeaking#24116, CommercialData_AreaPcntHHWithChildren#24153, CommercialData_StateIncomeDecile#377, EthnicGroups_EthnicGroup1Desc#72, CommercialData_DwellingType#342, ... 12 more fields]\n                                                                                 +- Project [Voters_Gender#65, Voters_BirthDate#67, Residence_Families_HHCount#24287, Residence_HHGender_Description#45, Mailing_Families_HHCount#24325, Mailing_HHGender_Description#63, Parties_Description#69, CommercialData_PropertyType#374, AddressDistricts_Change_Changed_CD#84, AddressDistricts_Change_Changed_SD#86, AddressDistricts_Change_Changed_HD#88, AddressDistricts_Change_Changed_County#97, Residence_Addresses_Density#24363, CommercialData_EstimatedHHIncome#346, CommercialData_ISPSA#357, cast(CommercialData_AreaMedianEducationYears#360 as float) AS CommercialData_AreaMedianEducationYears#24401, CommercialData_AreaMedianHousingValue#24005, CommercialData_AreaPcntHHMarriedCoupleNoChild#24042, CommercialData_AreaPcntHHMarriedCoupleWithChild#24079, CommercialData_AreaPcntHHSpanishSpeaking#24116, CommercialData_AreaPcntHHWithChildren#24153, CommercialData_StateIncomeDecile#377, EthnicGroups_EthnicGroup1Desc#72, CommercialData_DwellingType#342, ... 12 more fields]\n                                                                                    +- Project [Voters_Gender#65, Voters_BirthDate#67, Residence_Families_HHCount#24287, Residence_HHGender_Description#45, Mailing_Families_HHCount#24325, Mailing_HHGender_Description#63, Parties_Description#69, CommercialData_PropertyType#374, AddressDistricts_Change_Changed_CD#84, AddressDistricts_Change_Changed_SD#86, AddressDistricts_Change_Changed_HD#88, AddressDistricts_Change_Changed_County#97, cast(Residence_Addresses_Density#42 as float) AS Residence_Addresses_Density#24363, CommercialData_EstimatedHHIncome#346, CommercialData_ISPSA#357, CommercialData_AreaMedianEducationYears#360, CommercialData_AreaMedianHousingValue#24005, CommercialData_AreaPcntHHMarriedCoupleNoChild#24042, CommercialData_AreaPcntHHMarriedCoupleWithChild#24079, CommercialData_AreaPcntHHSpanishSpeaking#24116, CommercialData_AreaPcntHHWithChildren#24153, CommercialData_StateIncomeDecile#377, EthnicGroups_EthnicGroup1Desc#72, CommercialData_DwellingType#342, ... 12 more fields]\n                                                                                       +- Project [Voters_Gender#65, Voters_BirthDate#67, Residence_Families_HHCount#24287, Residence_HHGender_Description#45, cast(Mailing_Families_HHCount#62 as float) AS Mailing_Families_HHCount#24325, Mailing_HHGender_Description#63, Parties_Description#69, CommercialData_PropertyType#374, AddressDistricts_Change_Changed_CD#84, AddressDistricts_Change_Changed_SD#86, AddressDistricts_Change_Changed_HD#88, AddressDistricts_Change_Changed_County#97, Residence_Addresses_Density#42, CommercialData_EstimatedHHIncome#346, CommercialData_ISPSA#357, CommercialData_AreaMedianEducationYears#360, CommercialData_AreaMedianHousingValue#24005, CommercialData_AreaPcntHHMarriedCoupleNoChild#24042, CommercialData_AreaPcntHHMarriedCoupleWithChild#24079, CommercialData_AreaPcntHHSpanishSpeaking#24116, CommercialData_AreaPcntHHWithChildren#24153, CommercialData_StateIncomeDecile#377, EthnicGroups_EthnicGroup1Desc#72, CommercialData_DwellingType#342, ... 12 more fields]\n                                                                                          +- Project [Voters_Gender#65, Voters_BirthDate#67, cast(Residence_Families_HHCount#44 as float) AS Residence_Families_HHCount#24287, Residence_HHGender_Description#45, Mailing_Families_HHCount#62, Mailing_HHGender_Description#63, Parties_Description#69, CommercialData_PropertyType#374, AddressDistricts_Change_Changed_CD#84, AddressDistricts_Change_Changed_SD#86, AddressDistricts_Change_Changed_HD#88, AddressDistricts_Change_Changed_County#97, Residence_Addresses_Density#42, CommercialData_EstimatedHHIncome#346, CommercialData_ISPSA#357, CommercialData_AreaMedianEducationYears#360, CommercialData_AreaMedianHousingValue#24005, CommercialData_AreaPcntHHMarriedCoupleNoChild#24042, CommercialData_AreaPcntHHMarriedCoupleWithChild#24079, CommercialData_AreaPcntHHSpanishSpeaking#24116, CommercialData_AreaPcntHHWithChildren#24153, CommercialData_StateIncomeDecile#377, EthnicGroups_EthnicGroup1Desc#72, CommercialData_DwellingType#342, ... 12 more fields]\n                                                                                             +- Project [Voters_Gender#65, Voters_BirthDate#67, Residence_Families_HHCount#44, Residence_HHGender_Description#45, Mailing_Families_HHCount#62, Mailing_HHGender_Description#63, Parties_Description#69, CommercialData_PropertyType#374, AddressDistricts_Change_Changed_CD#84, AddressDistricts_Change_Changed_SD#86, AddressDistricts_Change_Changed_HD#88, AddressDistricts_Change_Changed_County#97, Residence_Addresses_Density#42, CommercialData_EstimatedHHIncome#346, CommercialData_ISPSA#357, CommercialData_AreaMedianEducationYears#360, CommercialData_AreaMedianHousingValue#24005, CommercialData_AreaPcntHHMarriedCoupleNoChild#24042, CommercialData_AreaPcntHHMarriedCoupleWithChild#24079, CommercialData_AreaPcntHHSpanishSpeaking#24116, substring(CommercialData_AreaPcntHHWithChildren#370, 1, (length(CommercialData_AreaPcntHHWithChildren#370) - 1)) AS CommercialData_AreaPcntHHWithChildren#24153, CommercialData_StateIncomeDecile#377, EthnicGroups_EthnicGroup1Desc#72, CommercialData_DwellingType#342, ... 12 more fields]\n                                                                                                +- Project [Voters_Gender#65, Voters_BirthDate#67, Residence_Families_HHCount#44, Residence_HHGender_Description#45, Mailing_Families_HHCount#62, Mailing_HHGender_Description#63, Parties_Description#69, CommercialData_PropertyType#374, AddressDistricts_Change_Changed_CD#84, AddressDistricts_Change_Changed_SD#86, AddressDistricts_Change_Changed_HD#88, AddressDistricts_Change_Changed_County#97, Residence_Addresses_Density#42, CommercialData_EstimatedHHIncome#346, CommercialData_ISPSA#357, CommercialData_AreaMedianEducationYears#360, CommercialData_AreaMedianHousingValue#24005, CommercialData_AreaPcntHHMarriedCoupleNoChild#24042, CommercialData_AreaPcntHHMarriedCoupleWithChild#24079, substring(CommercialData_AreaPcntHHSpanishSpeaking#369, 1, (length(CommercialData_AreaPcntHHSpanishSpeaking#369) - 1)) AS CommercialData_AreaPcntHHSpanishSpeaking#24116, CommercialData_AreaPcntHHWithChildren#370, CommercialData_StateIncomeDecile#377, EthnicGroups_EthnicGroup1Desc#72, CommercialData_DwellingType#342, ... 12 more fields]\n                                                                                                   +- Project [Voters_Gender#65, Voters_BirthDate#67, Residence_Families_HHCount#44, Residence_HHGender_Description#45, Mailing_Families_HHCount#62, Mailing_HHGender_Description#63, Parties_Description#69, CommercialData_PropertyType#374, AddressDistricts_Change_Changed_CD#84, AddressDistricts_Change_Changed_SD#86, AddressDistricts_Change_Changed_HD#88, AddressDistricts_Change_Changed_County#97, Residence_Addresses_Density#42, CommercialData_EstimatedHHIncome#346, CommercialData_ISPSA#357, CommercialData_AreaMedianEducationYears#360, CommercialData_AreaMedianHousingValue#24005, CommercialData_AreaPcntHHMarriedCoupleNoChild#24042, substring(CommercialData_AreaPcntHHMarriedCoupleWithChild#368, 1, (length(CommercialData_AreaPcntHHMarriedCoupleWithChild#368) - 1)) AS CommercialData_AreaPcntHHMarriedCoupleWithChild#24079, CommercialData_AreaPcntHHSpanishSpeaking#369, CommercialData_AreaPcntHHWithChildren#370, CommercialData_StateIncomeDecile#377, EthnicGroups_EthnicGroup1Desc#72, CommercialData_DwellingType#342, ... 12 more fields]\n                                                                                                      +- Project [Voters_Gender#65, Voters_BirthDate#67, Residence_Families_HHCount#44, Residence_HHGender_Description#45, Mailing_Families_HHCount#62, Mailing_HHGender_Description#63, Parties_Description#69, CommercialData_PropertyType#374, AddressDistricts_Change_Changed_CD#84, AddressDistricts_Change_Changed_SD#86, AddressDistricts_Change_Changed_HD#88, AddressDistricts_Change_Changed_County#97, Residence_Addresses_Density#42, CommercialData_EstimatedHHIncome#346, CommercialData_ISPSA#357, CommercialData_AreaMedianEducationYears#360, CommercialData_AreaMedianHousingValue#24005, substring(CommercialData_AreaPcntHHMarriedCoupleNoChild#367, 1, (length(CommercialData_AreaPcntHHMarriedCoupleNoChild#367) - 1)) AS CommercialData_AreaPcntHHMarriedCoupleNoChild#24042, CommercialData_AreaPcntHHMarriedCoupleWithChild#368, CommercialData_AreaPcntHHSpanishSpeaking#369, CommercialData_AreaPcntHHWithChildren#370, CommercialData_StateIncomeDecile#377, EthnicGroups_EthnicGroup1Desc#72, CommercialData_DwellingType#342, ... 12 more fields]\n                                                                                                         +- Project [Voters_Gender#65, Voters_BirthDate#67, Residence_Families_HHCount#44, Residence_HHGender_Description#45, Mailing_Families_HHCount#62, Mailing_HHGender_Description#63, Parties_Description#69, CommercialData_PropertyType#374, AddressDistricts_Change_Changed_CD#84, AddressDistricts_Change_Changed_SD#86, AddressDistricts_Change_Changed_HD#88, AddressDistricts_Change_Changed_County#97, Residence_Addresses_Density#42, CommercialData_EstimatedHHIncome#346, CommercialData_ISPSA#357, CommercialData_AreaMedianEducationYears#360, substring(CommercialData_AreaMedianHousingValue#361, 2, length(CommercialData_AreaMedianHousingValue#361)) AS CommercialData_AreaMedianHousingValue#24005, CommercialData_AreaPcntHHMarriedCoupleNoChild#367, CommercialData_AreaPcntHHMarriedCoupleWithChild#368, CommercialData_AreaPcntHHSpanishSpeaking#369, CommercialData_AreaPcntHHWithChildren#370, CommercialData_StateIncomeDecile#377, EthnicGroups_EthnicGroup1Desc#72, CommercialData_DwellingType#342, ... 12 more fields]\n                                                                                                            +- Union false, false\n                                                                                                               :- Project [Voters_Gender#65, Voters_BirthDate#67, Residence_Families_HHCount#44, Residence_HHGender_Description#45, Mailing_Families_HHCount#62, Mailing_HHGender_Description#63, Parties_Description#69, CommercialData_PropertyType#374, AddressDistricts_Change_Changed_CD#84, AddressDistricts_Change_Changed_SD#86, AddressDistricts_Change_Changed_HD#88, AddressDistricts_Change_Changed_County#97, Residence_Addresses_Density#42, CommercialData_EstimatedHHIncome#346, CommercialData_ISPSA#357, CommercialData_AreaMedianEducationYears#360, CommercialData_AreaMedianHousingValue#361, CommercialData_AreaPcntHHMarriedCoupleNoChild#367, CommercialData_AreaPcntHHMarriedCoupleWithChild#368, CommercialData_AreaPcntHHSpanishSpeaking#369, CommercialData_AreaPcntHHWithChildren#370, CommercialData_StateIncomeDecile#377, EthnicGroups_EthnicGroup1Desc#72, CommercialData_DwellingType#342, ... 12 more fields]\n                                                                                                               :  +- Project [Voters_Gender#65, Voters_BirthDate#67, Residence_Families_HHCount#44, Residence_HHGender_Description#45, Mailing_Families_HHCount#62, Mailing_HHGender_Description#63, Parties_Description#69, CommercialData_PropertyType#374, AddressDistricts_Change_Changed_CD#84, AddressDistricts_Change_Changed_SD#86, AddressDistricts_Change_Changed_HD#88, AddressDistricts_Change_Changed_County#97, Residence_Addresses_Density#42, CommercialData_EstimatedHHIncome#346, CommercialData_ISPSA#357, CommercialData_AreaMedianEducationYears#360, CommercialData_AreaMedianHousingValue#361, CommercialData_AreaPcntHHMarriedCoupleNoChild#367, CommercialData_AreaPcntHHMarriedCoupleWithChild#368, CommercialData_AreaPcntHHSpanishSpeaking#369, CommercialData_AreaPcntHHWithChildren#370, CommercialData_StateIncomeDecile#377, EthnicGroups_EthnicGroup1Desc#72, CommercialData_DwellingType#342, ... 11 more fields]\n                                                                                                               :     +- Relation[SEQUENCE#0,LALVOTERID#1,Voters_Active#2,Voters_StateVoterID#3,Voters_CountyVoterID#4,VoterTelephones_LandlineAreaCode#5,VoterTelephones_Landline7Digit#6,VoterTelephones_LandlineFormatted#7,VoterTelephones_LandlineUnformatted#8,VoterTelephones_LandlineConfidenceCode#9,VoterTelephones_CellPhoneOnly#10,VoterTelephones_CellPhoneFormatted#11,VoterTelephones_CellPhoneUnformatted#12,VoterTelephones_CellConfidenceCode#13,Voters_FirstName#14,Voters_MiddleName#15,Voters_LastName#16,Voters_NameSuffix#17,Residence_Addresses_AddressLine#18,Residence_Addresses_ExtraAddressLine#19,Residence_Addresses_City#20,Residence_Addresses_State#21,Residence_Addresses_Zip#22,Residence_Addresses_ZipPlus4#23,... 702 more fields] parquet\n                                                                                                               :- Project [Voters_Gender#1629, Voters_BirthDate#1631, Residence_Families_HHCount#1608, Residence_HHGender_Description#1609, Mailing_Families_HHCount#1626, Mailing_HHGender_Description#1627, Parties_Description#1633, CommercialData_PropertyType#1938, AddressDistricts_Change_Changed_CD#1648, AddressDistricts_Change_Changed_SD#1650, AddressDistricts_Change_Changed_HD#1652, AddressDistricts_Change_Changed_County#1661, Residence_Addresses_Density#1606, CommercialData_EstimatedHHIncome#1910, CommercialData_ISPSA#1921, CommercialData_AreaMedianEducationYears#1924, CommercialData_AreaMedianHousingValue#1925, CommercialData_AreaPcntHHMarriedCoupleNoChild#1931, CommercialData_AreaPcntHHMarriedCoupleWithChild#1932, CommercialData_AreaPcntHHSpanishSpeaking#1933, CommercialData_AreaPcntHHWithChildren#1934, CommercialData_StateIncomeDecile#1941, EthnicGroups_EthnicGroup1Desc#1636, CommercialData_DwellingType#1906, ... 12 more fields]\n                                                                                                               :  +- Project [Voters_Gender#1629, Voters_BirthDate#1631, Residence_Families_HHCount#1608, Residence_HHGender_Description#1609, Mailing_Families_HHCount#1626, Mailing_HHGender_Description#1627, Parties_Description#1633, CommercialData_PropertyType#1938, AddressDistricts_Change_Changed_CD#1648, AddressDistricts_Change_Changed_SD#1650, AddressDistricts_Change_Changed_HD#1652, AddressDistricts_Change_Changed_County#1661, Residence_Addresses_Density#1606, CommercialData_EstimatedHHIncome#1910, CommercialData_ISPSA#1921, CommercialData_AreaMedianEducationYears#1924, CommercialData_AreaMedianHousingValue#1925, CommercialData_AreaPcntHHMarriedCoupleNoChild#1931, CommercialData_AreaPcntHHMarriedCoupleWithChild#1932, CommercialData_AreaPcntHHSpanishSpeaking#1933, CommercialData_AreaPcntHHWithChildren#1934, CommercialData_StateIncomeDecile#1941, EthnicGroups_EthnicGroup1Desc#1636, CommercialData_DwellingType#1906, ... 11 more fields]\n                                                                                                               :     +- Relation[SEQUENCE#1564,LALVOTERID#1565,Voters_Active#1566,Voters_StateVoterID#1567,Voters_CountyVoterID#1568,VoterTelephones_LandlineAreaCode#1569,VoterTelephones_Landline7Digit#1570,VoterTelephones_LandlineFormatted#1571,VoterTelephones_LandlineUnformatted#1572,VoterTelephones_LandlineConfidenceCode#1573,VoterTelephones_CellPhoneOnly#1574,VoterTelephones_CellPhoneFormatted#1575,VoterTelephones_CellPhoneUnformatted#1576,VoterTelephones_CellConfidenceCode#1577,Voters_FirstName#1578,Voters_MiddleName#1579,Voters_LastName#1580,Voters_NameSuffix#1581,Residence_Addresses_AddressLine#1582,Residence_Addresses_ExtraAddressLine#1583,Residence_Addresses_City#1584,Residence_Addresses_State#1585,Residence_Addresses_Zip#1586,Residence_Addresses_ZipPlus4#1587,... 702 more fields] parquet\n                                                                                                               :- Project [Voters_Gender#3229, Voters_BirthDate#3231, Residence_Families_HHCount#3208, Residence_HHGender_Description#3209, Mailing_Families_HHCount#3226, Mailing_HHGender_Description#3227, Parties_Description#3233, CommercialData_PropertyType#3538, AddressDistricts_Change_Changed_CD#3248, AddressDistricts_Change_Changed_SD#3250, AddressDistricts_Change_Changed_HD#3252, AddressDistricts_Change_Changed_County#3261, Residence_Addresses_Density#3206, CommercialData_EstimatedHHIncome#3510, CommercialData_ISPSA#3521, CommercialData_AreaMedianEducationYears#3524, CommercialData_AreaMedianHousingValue#3525, CommercialData_AreaPcntHHMarriedCoupleNoChild#3531, CommercialData_AreaPcntHHMarriedCoupleWithChild#3532, CommercialData_AreaPcntHHSpanishSpeaking#3533, CommercialData_AreaPcntHHWithChildren#3534, CommercialData_StateIncomeDecile#3541, EthnicGroups_EthnicGroup1Desc#3236, CommercialData_DwellingType#3506, ... 12 more fields]\n                                                                                                               :  +- Project [Voters_Gender#3229, Voters_BirthDate#3231, Residence_Families_HHCount#3208, Residence_HHGender_Description#3209, Mailing_Families_HHCount#3226, Mailing_HHGender_Description#3227, Parties_Description#3233, CommercialData_PropertyType#3538, AddressDistricts_Change_Changed_CD#3248, AddressDistricts_Change_Changed_SD#3250, AddressDistricts_Change_Changed_HD#3252, AddressDistricts_Change_Changed_County#3261, Residence_Addresses_Density#3206, CommercialData_EstimatedHHIncome#3510, CommercialData_ISPSA#3521, CommercialData_AreaMedianEducationYears#3524, CommercialData_AreaMedianHousingValue#3525, CommercialData_AreaPcntHHMarriedCoupleNoChild#3531, CommercialData_AreaPcntHHMarriedCoupleWithChild#3532, CommercialData_AreaPcntHHSpanishSpeaking#3533, CommercialData_AreaPcntHHWithChildren#3534, CommercialData_StateIncomeDecile#3541, EthnicGroups_EthnicGroup1Desc#3236, CommercialData_DwellingType#3506, ... 11 more fields]\n                                                                                                               :     +- Relation[SEQUENCE#3164,LALVOTERID#3165,Voters_Active#3166,Voters_StateVoterID#3167,Voters_CountyVoterID#3168,VoterTelephones_LandlineAreaCode#3169,VoterTelephones_Landline7Digit#3170,VoterTelephones_LandlineFormatted#3171,VoterTelephones_LandlineUnformatted#3172,VoterTelephones_LandlineConfidenceCode#3173,VoterTelephones_CellPhoneOnly#3174,VoterTelephones_CellPhoneFormatted#3175,VoterTelephones_CellPhoneUnformatted#3176,VoterTelephones_CellConfidenceCode#3177,Voters_FirstName#3178,Voters_MiddleName#3179,Voters_LastName#3180,Voters_NameSuffix#3181,Residence_Addresses_AddressLine#3182,Residence_Addresses_ExtraAddressLine#3183,Residence_Addresses_City#3184,Residence_Addresses_State#3185,Residence_Addresses_Zip#3186,Residence_Addresses_ZipPlus4#3187,... 702 more fields] parquet\n                                                                                                               :- Project [Voters_Gender#4829, Voters_BirthDate#4831, Residence_Families_HHCount#4808, Residence_HHGender_Description#4809, Mailing_Families_HHCount#4826, Mailing_HHGender_Description#4827, Parties_Description#4833, CommercialData_PropertyType#5138, AddressDistricts_Change_Changed_CD#4848, AddressDistricts_Change_Changed_SD#4850, AddressDistricts_Change_Changed_HD#4852, AddressDistricts_Change_Changed_County#4861, Residence_Addresses_Density#4806, CommercialData_EstimatedHHIncome#5110, CommercialData_ISPSA#5121, CommercialData_AreaMedianEducationYears#5124, CommercialData_AreaMedianHousingValue#5125, CommercialData_AreaPcntHHMarriedCoupleNoChild#5131, CommercialData_AreaPcntHHMarriedCoupleWithChild#5132, CommercialData_AreaPcntHHSpanishSpeaking#5133, CommercialData_AreaPcntHHWithChildren#5134, CommercialData_StateIncomeDecile#5141, EthnicGroups_EthnicGroup1Desc#4836, CommercialData_DwellingType#5106, ... 12 more fields]\n                                                                                                               :  +- Project [Voters_Gender#4829, Voters_BirthDate#4831, Residence_Families_HHCount#4808, Residence_HHGender_Description#4809, Mailing_Families_HHCount#4826, Mailing_HHGender_Description#4827, Parties_Description#4833, CommercialData_PropertyType#5138, AddressDistricts_Change_Changed_CD#4848, AddressDistricts_Change_Changed_SD#4850, AddressDistricts_Change_Changed_HD#4852, AddressDistricts_Change_Changed_County#4861, Residence_Addresses_Density#4806, CommercialData_EstimatedHHIncome#5110, CommercialData_ISPSA#5121, CommercialData_AreaMedianEducationYears#5124, CommercialData_AreaMedianHousingValue#5125, CommercialData_AreaPcntHHMarriedCoupleNoChild#5131, CommercialData_AreaPcntHHMarriedCoupleWithChild#5132, CommercialData_AreaPcntHHSpanishSpeaking#5133, CommercialData_AreaPcntHHWithChildren#5134, CommercialData_StateIncomeDecile#5141, EthnicGroups_EthnicGroup1Desc#4836, CommercialData_DwellingType#5106, ... 11 more fields]\n                                                                                                               :     +- Relation[SEQUENCE#4764,LALVOTERID#4765,Voters_Active#4766,Voters_StateVoterID#4767,Voters_CountyVoterID#4768,VoterTelephones_LandlineAreaCode#4769,VoterTelephones_Landline7Digit#4770,VoterTelephones_LandlineFormatted#4771,VoterTelephones_LandlineUnformatted#4772,VoterTelephones_LandlineConfidenceCode#4773,VoterTelephones_CellPhoneOnly#4774,VoterTelephones_CellPhoneFormatted#4775,VoterTelephones_CellPhoneUnformatted#4776,VoterTelephones_CellConfidenceCode#4777,Voters_FirstName#4778,Voters_MiddleName#4779,Voters_LastName#4780,Voters_NameSuffix#4781,Residence_Addresses_AddressLine#4782,Residence_Addresses_ExtraAddressLine#4783,Residence_Addresses_City#4784,Residence_Addresses_State#4785,Residence_Addresses_Zip#4786,Residence_Addresses_ZipPlus4#4787,... 702 more fields] parquet\n                                                                                                               :- Project [Voters_Gender#6429, Voters_BirthDate#6431, Residence_Families_HHCount#6408, Residence_HHGender_Description#6409, Mailing_Families_HHCount#6426, Mailing_HHGender_Description#6427, Parties_Description#6433, CommercialData_PropertyType#6738, AddressDistricts_Change_Changed_CD#6448, AddressDistricts_Change_Changed_SD#6450, AddressDistricts_Change_Changed_HD#6452, AddressDistricts_Change_Changed_County#6461, Residence_Addresses_Density#6406, CommercialData_EstimatedHHIncome#6710, CommercialData_ISPSA#6721, CommercialData_AreaMedianEducationYears#6724, CommercialData_AreaMedianHousingValue#6725, CommercialData_AreaPcntHHMarriedCoupleNoChild#6731, CommercialData_AreaPcntHHMarriedCoupleWithChild#6732, CommercialData_AreaPcntHHSpanishSpeaking#6733, CommercialData_AreaPcntHHWithChildren#6734, CommercialData_StateIncomeDecile#6741, EthnicGroups_EthnicGroup1Desc#6436, CommercialData_DwellingType#6706, ... 12 more fields]\n                                                                                                               :  +- Project [Voters_Gender#6429, Voters_BirthDate#6431, Residence_Families_HHCount#6408, Residence_HHGender_Description#6409, Mailing_Families_HHCount#6426, Mailing_HHGender_Description#6427, Parties_Description#6433, CommercialData_PropertyType#6738, AddressDistricts_Change_Changed_CD#6448, AddressDistricts_Change_Changed_SD#6450, AddressDistricts_Change_Changed_HD#6452, AddressDistricts_Change_Changed_County#6461, Residence_Addresses_Density#6406, CommercialData_EstimatedHHIncome#6710, CommercialData_ISPSA#6721, CommercialData_AreaMedianEducationYears#6724, CommercialData_AreaMedianHousingValue#6725, CommercialData_AreaPcntHHMarriedCoupleNoChild#6731, CommercialData_AreaPcntHHMarriedCoupleWithChild#6732, CommercialData_AreaPcntHHSpanishSpeaking#6733, CommercialData_AreaPcntHHWithChildren#6734, CommercialData_StateIncomeDecile#6741, EthnicGroups_EthnicGroup1Desc#6436, CommercialData_DwellingType#6706, ... 11 more fields]\n                                                                                                               :     +- Relation[SEQUENCE#6364,LALVOTERID#6365,Voters_Active#6366,Voters_StateVoterID#6367,Voters_CountyVoterID#6368,VoterTelephones_LandlineAreaCode#6369,VoterTelephones_Landline7Digit#6370,VoterTelephones_LandlineFormatted#6371,VoterTelephones_LandlineUnformatted#6372,VoterTelephones_LandlineConfidenceCode#6373,VoterTelephones_CellPhoneOnly#6374,VoterTelephones_CellPhoneFormatted#6375,VoterTelephones_CellPhoneUnformatted#6376,VoterTelephones_CellConfidenceCode#6377,Voters_FirstName#6378,Voters_MiddleName#6379,Voters_LastName#6380,Voters_NameSuffix#6381,Residence_Addresses_AddressLine#6382,Residence_Addresses_ExtraAddressLine#6383,Residence_Addresses_City#6384,Residence_Addresses_State#6385,Residence_Addresses_Zip#6386,Residence_Addresses_ZipPlus4#6387,... 702 more fields] parquet\n                                                                                                               :- Project [Voters_Gender#8029, Voters_BirthDate#8031, Residence_Families_HHCount#8008, Residence_HHGender_Description#8009, Mailing_Families_HHCount#8026, Mailing_HHGender_Description#8027, Parties_Description#8033, CommercialData_PropertyType#8338, AddressDistricts_Change_Changed_CD#8048, AddressDistricts_Change_Changed_SD#8050, AddressDistricts_Change_Changed_HD#8052, AddressDistricts_Change_Changed_County#8061, Residence_Addresses_Density#8006, CommercialData_EstimatedHHIncome#8310, CommercialData_ISPSA#8321, CommercialData_AreaMedianEducationYears#8324, CommercialData_AreaMedianHousingValue#8325, CommercialData_AreaPcntHHMarriedCoupleNoChild#8331, CommercialData_AreaPcntHHMarriedCoupleWithChild#8332, CommercialData_AreaPcntHHSpanishSpeaking#8333, CommercialData_AreaPcntHHWithChildren#8334, CommercialData_StateIncomeDecile#8341, EthnicGroups_EthnicGroup1Desc#8036, CommercialData_DwellingType#8306, ... 12 more fields]\n                                                                                                               :  +- Project [Voters_Gender#8029, Voters_BirthDate#8031, Residence_Families_HHCount#8008, Residence_HHGender_Description#8009, Mailing_Families_HHCount#8026, Mailing_HHGender_Description#8027, Parties_Description#8033, CommercialData_PropertyType#8338, AddressDistricts_Change_Changed_CD#8048, AddressDistricts_Change_Changed_SD#8050, AddressDistricts_Change_Changed_HD#8052, AddressDistricts_Change_Changed_County#8061, Residence_Addresses_Density#8006, CommercialData_EstimatedHHIncome#8310, CommercialData_ISPSA#8321, CommercialData_AreaMedianEducationYears#8324, CommercialData_AreaMedianHousingValue#8325, CommercialData_AreaPcntHHMarriedCoupleNoChild#8331, CommercialData_AreaPcntHHMarriedCoupleWithChild#8332, CommercialData_AreaPcntHHSpanishSpeaking#8333, CommercialData_AreaPcntHHWithChildren#8334, CommercialData_StateIncomeDecile#8341, EthnicGroups_EthnicGroup1Desc#8036, CommercialData_DwellingType#8306, ... 11 more fields]\n                                                                                                               :     +- Relation[SEQUENCE#7964,LALVOTERID#7965,Voters_Active#7966,Voters_StateVoterID#7967,Voters_CountyVoterID#7968,VoterTelephones_LandlineAreaCode#7969,VoterTelephones_Landline7Digit#7970,VoterTelephones_LandlineFormatted#7971,VoterTelephones_LandlineUnformatted#7972,VoterTelephones_LandlineConfidenceCode#7973,VoterTelephones_CellPhoneOnly#7974,VoterTelephones_CellPhoneFormatted#7975,VoterTelephones_CellPhoneUnformatted#7976,VoterTelephones_CellConfidenceCode#7977,Voters_FirstName#7978,Voters_MiddleName#7979,Voters_LastName#7980,Voters_NameSuffix#7981,Residence_Addresses_AddressLine#7982,Residence_Addresses_ExtraAddressLine#7983,Residence_Addresses_City#7984,Residence_Addresses_State#7985,Residence_Addresses_Zip#7986,Residence_Addresses_ZipPlus4#7987,... 702 more fields] parquet\n                                                                                                               :- Project [Voters_Gender#9629, Voters_BirthDate#9631, Residence_Families_HHCount#9608, Residence_HHGender_Description#9609, Mailing_Families_HHCount#9626, Mailing_HHGender_Description#9627, Parties_Description#9633, CommercialData_PropertyType#9938, AddressDistricts_Change_Changed_CD#9648, AddressDistricts_Change_Changed_SD#9650, AddressDistricts_Change_Changed_HD#9652, AddressDistricts_Change_Changed_County#9661, Residence_Addresses_Density#9606, CommercialData_EstimatedHHIncome#9910, CommercialData_ISPSA#9921, CommercialData_AreaMedianEducationYears#9924, CommercialData_AreaMedianHousingValue#9925, CommercialData_AreaPcntHHMarriedCoupleNoChild#9931, CommercialData_AreaPcntHHMarriedCoupleWithChild#9932, CommercialData_AreaPcntHHSpanishSpeaking#9933, CommercialData_AreaPcntHHWithChildren#9934, CommercialData_StateIncomeDecile#9941, EthnicGroups_EthnicGroup1Desc#9636, CommercialData_DwellingType#9906, ... 12 more fields]\n                                                                                                               :  +- Project [Voters_Gender#9629, Voters_BirthDate#9631, Residence_Families_HHCount#9608, Residence_HHGender_Description#9609, Mailing_Families_HHCount#9626, Mailing_HHGender_Description#9627, Parties_Description#9633, CommercialData_PropertyType#9938, AddressDistricts_Change_Changed_CD#9648, AddressDistricts_Change_Changed_SD#9650, AddressDistricts_Change_Changed_HD#9652, AddressDistricts_Change_Changed_County#9661, Residence_Addresses_Density#9606, CommercialData_EstimatedHHIncome#9910, CommercialData_ISPSA#9921, CommercialData_AreaMedianEducationYears#9924, CommercialData_AreaMedianHousingValue#9925, CommercialData_AreaPcntHHMarriedCoupleNoChild#9931, CommercialData_AreaPcntHHMarriedCoupleWithChild#9932, CommercialData_AreaPcntHHSpanishSpeaking#9933, CommercialData_AreaPcntHHWithChildren#9934, CommercialData_StateIncomeDecile#9941, EthnicGroups_EthnicGroup1Desc#9636, CommercialData_DwellingType#9906, ... 11 more fields]\n                                                                                                               :     +- Relation[SEQUENCE#9564,LALVOTERID#9565,Voters_Active#9566,Voters_StateVoterID#9567,Voters_CountyVoterID#9568,VoterTelephones_LandlineAreaCode#9569,VoterTelephones_Landline7Digit#9570,VoterTelephones_LandlineFormatted#9571,VoterTelephones_LandlineUnformatted#9572,VoterTelephones_LandlineConfidenceCode#9573,VoterTelephones_CellPhoneOnly#9574,VoterTelephones_CellPhoneFormatted#9575,VoterTelephones_CellPhoneUnformatted#9576,VoterTelephones_CellConfidenceCode#9577,Voters_FirstName#9578,Voters_MiddleName#9579,Voters_LastName#9580,Voters_NameSuffix#9581,Residence_Addresses_AddressLine#9582,Residence_Addresses_ExtraAddressLine#9583,Residence_Addresses_City#9584,Residence_Addresses_State#9585,Residence_Addresses_Zip#9586,Residence_Addresses_ZipPlus4#9587,... 702 more fields] parquet\n                                                                                                               :- Project [Voters_Gender#11229, Voters_BirthDate#11231, Residence_Families_HHCount#11208, Residence_HHGender_Description#11209, Mailing_Families_HHCount#11226, Mailing_HHGender_Description#11227, Parties_Description#11233, CommercialData_PropertyType#11538, AddressDistricts_Change_Changed_CD#11248, AddressDistricts_Change_Changed_SD#11250, AddressDistricts_Change_Changed_HD#11252, AddressDistricts_Change_Changed_County#11261, Residence_Addresses_Density#11206, CommercialData_EstimatedHHIncome#11510, CommercialData_ISPSA#11521, CommercialData_AreaMedianEducationYears#11524, CommercialData_AreaMedianHousingValue#11525, CommercialData_AreaPcntHHMarriedCoupleNoChild#11531, CommercialData_AreaPcntHHMarriedCoupleWithChild#11532, CommercialData_AreaPcntHHSpanishSpeaking#11533, CommercialData_AreaPcntHHWithChildren#11534, CommercialData_StateIncomeDecile#11541, EthnicGroups_EthnicGroup1Desc#11236, CommercialData_DwellingType#11506, ... 12 more fields]\n                                                                                                               :  +- Project [Voters_Gender#11229, Voters_BirthDate#11231, Residence_Families_HHCount#11208, Residence_HHGender_Description#11209, Mailing_Families_HHCount#11226, Mailing_HHGender_Description#11227, Parties_Description#11233, CommercialData_PropertyType#11538, AddressDistricts_Change_Changed_CD#11248, AddressDistricts_Change_Changed_SD#11250, AddressDistricts_Change_Changed_HD#11252, AddressDistricts_Change_Changed_County#11261, Residence_Addresses_Density#11206, CommercialData_EstimatedHHIncome#11510, CommercialData_ISPSA#11521, CommercialData_AreaMedianEducationYears#11524, CommercialData_AreaMedianHousingValue#11525, CommercialData_AreaPcntHHMarriedCoupleNoChild#11531, CommercialData_AreaPcntHHMarriedCoupleWithChild#11532, CommercialData_AreaPcntHHSpanishSpeaking#11533, CommercialData_AreaPcntHHWithChildren#11534, CommercialData_StateIncomeDecile#11541, EthnicGroups_EthnicGroup1Desc#11236, CommercialData_DwellingType#11506, ... 11 more fields]\n                                                                                                               :     +- Relation[SEQUENCE#11164,LALVOTERID#11165,Voters_Active#11166,Voters_StateVoterID#11167,Voters_CountyVoterID#11168,VoterTelephones_LandlineAreaCode#11169,VoterTelephones_Landline7Digit#11170,VoterTelephones_LandlineFormatted#11171,VoterTelephones_LandlineUnformatted#11172,VoterTelephones_LandlineConfidenceCode#11173,VoterTelephones_CellPhoneOnly#11174,VoterTelephones_CellPhoneFormatted#11175,VoterTelephones_CellPhoneUnformatted#11176,VoterTelephones_CellConfidenceCode#11177,Voters_FirstName#11178,Voters_MiddleName#11179,Voters_LastName#11180,Voters_NameSuffix#11181,Residence_Addresses_AddressLine#11182,Residence_Addresses_ExtraAddressLine#11183,Residence_Addresses_City#11184,Residence_Addresses_State#11185,Residence_Addresses_Zip#11186,Residence_Addresses_ZipPlus4#11187,... 702 more fields] parquet\n                                                                                                               :- Project [Voters_Gender#12829, Voters_BirthDate#12831, Residence_Families_HHCount#12808, Residence_HHGender_Description#12809, Mailing_Families_HHCount#12826, Mailing_HHGender_Description#12827, Parties_Description#12833, CommercialData_PropertyType#13138, AddressDistricts_Change_Changed_CD#12848, AddressDistricts_Change_Changed_SD#12850, AddressDistricts_Change_Changed_HD#12852, AddressDistricts_Change_Changed_County#12861, Residence_Addresses_Density#12806, CommercialData_EstimatedHHIncome#13110, CommercialData_ISPSA#13121, CommercialData_AreaMedianEducationYears#13124, CommercialData_AreaMedianHousingValue#13125, CommercialData_AreaPcntHHMarriedCoupleNoChild#13131, CommercialData_AreaPcntHHMarriedCoupleWithChild#13132, CommercialData_AreaPcntHHSpanishSpeaking#13133, CommercialData_AreaPcntHHWithChildren#13134, CommercialData_StateIncomeDecile#13141, EthnicGroups_EthnicGroup1Desc#12836, CommercialData_DwellingType#13106, ... 12 more fields]\n                                                                                                               :  +- Project [Voters_Gender#12829, Voters_BirthDate#12831, Residence_Families_HHCount#12808, Residence_HHGender_Description#12809, Mailing_Families_HHCount#12826, Mailing_HHGender_Description#12827, Parties_Description#12833, CommercialData_PropertyType#13138, AddressDistricts_Change_Changed_CD#12848, AddressDistricts_Change_Changed_SD#12850, AddressDistricts_Change_Changed_HD#12852, AddressDistricts_Change_Changed_County#12861, Residence_Addresses_Density#12806, CommercialData_EstimatedHHIncome#13110, CommercialData_ISPSA#13121, CommercialData_AreaMedianEducationYears#13124, CommercialData_AreaMedianHousingValue#13125, CommercialData_AreaPcntHHMarriedCoupleNoChild#13131, CommercialData_AreaPcntHHMarriedCoupleWithChild#13132, CommercialData_AreaPcntHHSpanishSpeaking#13133, CommercialData_AreaPcntHHWithChildren#13134, CommercialData_StateIncomeDecile#13141, EthnicGroups_EthnicGroup1Desc#12836, CommercialData_DwellingType#13106, ... 11 more fields]\n                                                                                                               :     +- Relation[SEQUENCE#12764,LALVOTERID#12765,Voters_Active#12766,Voters_StateVoterID#12767,Voters_CountyVoterID#12768,VoterTelephones_LandlineAreaCode#12769,VoterTelephones_Landline7Digit#12770,VoterTelephones_LandlineFormatted#12771,VoterTelephones_LandlineUnformatted#12772,VoterTelephones_LandlineConfidenceCode#12773,VoterTelephones_CellPhoneOnly#12774,VoterTelephones_CellPhoneFormatted#12775,VoterTelephones_CellPhoneUnformatted#12776,VoterTelephones_CellConfidenceCode#12777,Voters_FirstName#12778,Voters_MiddleName#12779,Voters_LastName#12780,Voters_NameSuffix#12781,Residence_Addresses_AddressLine#12782,Residence_Addresses_ExtraAddressLine#12783,Residence_Addresses_City#12784,Residence_Addresses_State#12785,Residence_Addresses_Zip#12786,Residence_Addresses_ZipPlus4#12787,... 702 more fields] parquet\n                                                                                                               :- Project [Voters_Gender#14429, Voters_BirthDate#14431, Residence_Families_HHCount#14408, Residence_HHGender_Description#14409, Mailing_Families_HHCount#14426, Mailing_HHGender_Description#14427, Parties_Description#14433, CommercialData_PropertyType#14738, AddressDistricts_Change_Changed_CD#14448, AddressDistricts_Change_Changed_SD#14450, AddressDistricts_Change_Changed_HD#14452, AddressDistricts_Change_Changed_County#14461, Residence_Addresses_Density#14406, CommercialData_EstimatedHHIncome#14710, CommercialData_ISPSA#14721, CommercialData_AreaMedianEducationYears#14724, CommercialData_AreaMedianHousingValue#14725, CommercialData_AreaPcntHHMarriedCoupleNoChild#14731, CommercialData_AreaPcntHHMarriedCoupleWithChild#14732, CommercialData_AreaPcntHHSpanishSpeaking#14733, CommercialData_AreaPcntHHWithChildren#14734, CommercialData_StateIncomeDecile#14741, EthnicGroups_EthnicGroup1Desc#14436, CommercialData_DwellingType#14706, ... 12 more fields]\n                                                                                                               :  +- Project [Voters_Gender#14429, Voters_BirthDate#14431, Residence_Families_HHCount#14408, Residence_HHGender_Description#14409, Mailing_Families_HHCount#14426, Mailing_HHGender_Description#14427, Parties_Description#14433, CommercialData_PropertyType#14738, AddressDistricts_Change_Changed_CD#14448, AddressDistricts_Change_Changed_SD#14450, AddressDistricts_Change_Changed_HD#14452, AddressDistricts_Change_Changed_County#14461, Residence_Addresses_Density#14406, CommercialData_EstimatedHHIncome#14710, CommercialData_ISPSA#14721, CommercialData_AreaMedianEducationYears#14724, CommercialData_AreaMedianHousingValue#14725, CommercialData_AreaPcntHHMarriedCoupleNoChild#14731, CommercialData_AreaPcntHHMarriedCoupleWithChild#14732, CommercialData_AreaPcntHHSpanishSpeaking#14733, CommercialData_AreaPcntHHWithChildren#14734, CommercialData_StateIncomeDecile#14741, EthnicGroups_EthnicGroup1Desc#14436, CommercialData_DwellingType#14706, ... 11 more fields]\n                                                                                                               :     +- Relation[SEQUENCE#14364,LALVOTERID#14365,Voters_Active#14366,Voters_StateVoterID#14367,Voters_CountyVoterID#14368,VoterTelephones_LandlineAreaCode#14369,VoterTelephones_Landline7Digit#14370,VoterTelephones_LandlineFormatted#14371,VoterTelephones_LandlineUnformatted#14372,VoterTelephones_LandlineConfidenceCode#14373,VoterTelephones_CellPhoneOnly#14374,VoterTelephones_CellPhoneFormatted#14375,VoterTelephones_CellPhoneUnformatted#14376,VoterTelephones_CellConfidenceCode#14377,Voters_FirstName#14378,Voters_MiddleName#14379,Voters_LastName#14380,Voters_NameSuffix#14381,Residence_Addresses_AddressLine#14382,Residence_Addresses_ExtraAddressLine#14383,Residence_Addresses_City#14384,Residence_Addresses_State#14385,Residence_Addresses_Zip#14386,Residence_Addresses_ZipPlus4#14387,... 702 more fields] parquet\n                                                                                                               :- Project [Voters_Gender#16029, Voters_BirthDate#16031, Residence_Families_HHCount#16008, Residence_HHGender_Description#16009, Mailing_Families_HHCount#16026, Mailing_HHGender_Description#16027, Parties_Description#16033, CommercialData_PropertyType#16338, AddressDistricts_Change_Changed_CD#16048, AddressDistricts_Change_Changed_SD#16050, AddressDistricts_Change_Changed_HD#16052, AddressDistricts_Change_Changed_County#16061, Residence_Addresses_Density#16006, CommercialData_EstimatedHHIncome#16310, CommercialData_ISPSA#16321, CommercialData_AreaMedianEducationYears#16324, CommercialData_AreaMedianHousingValue#16325, CommercialData_AreaPcntHHMarriedCoupleNoChild#16331, CommercialData_AreaPcntHHMarriedCoupleWithChild#16332, CommercialData_AreaPcntHHSpanishSpeaking#16333, CommercialData_AreaPcntHHWithChildren#16334, CommercialData_StateIncomeDecile#16341, EthnicGroups_EthnicGroup1Desc#16036, CommercialData_DwellingType#16306, ... 12 more fields]\n                                                                                                               :  +- Project [Voters_Gender#16029, Voters_BirthDate#16031, Residence_Families_HHCount#16008, Residence_HHGender_Description#16009, Mailing_Families_HHCount#16026, Mailing_HHGender_Description#16027, Parties_Description#16033, CommercialData_PropertyType#16338, AddressDistricts_Change_Changed_CD#16048, AddressDistricts_Change_Changed_SD#16050, AddressDistricts_Change_Changed_HD#16052, AddressDistricts_Change_Changed_County#16061, Residence_Addresses_Density#16006, CommercialData_EstimatedHHIncome#16310, CommercialData_ISPSA#16321, CommercialData_AreaMedianEducationYears#16324, CommercialData_AreaMedianHousingValue#16325, CommercialData_AreaPcntHHMarriedCoupleNoChild#16331, CommercialData_AreaPcntHHMarriedCoupleWithChild#16332, CommercialData_AreaPcntHHSpanishSpeaking#16333, CommercialData_AreaPcntHHWithChildren#16334, CommercialData_StateIncomeDecile#16341, EthnicGroups_EthnicGroup1Desc#16036, CommercialData_DwellingType#16306, ... 11 more fields]\n                                                                                                               :     +- Relation[SEQUENCE#15964,LALVOTERID#15965,Voters_Active#15966,Voters_StateVoterID#15967,Voters_CountyVoterID#15968,VoterTelephones_LandlineAreaCode#15969,VoterTelephones_Landline7Digit#15970,VoterTelephones_LandlineFormatted#15971,VoterTelephones_LandlineUnformatted#15972,VoterTelephones_LandlineConfidenceCode#15973,VoterTelephones_CellPhoneOnly#15974,VoterTelephones_CellPhoneFormatted#15975,VoterTelephones_CellPhoneUnformatted#15976,VoterTelephones_CellConfidenceCode#15977,Voters_FirstName#15978,Voters_MiddleName#15979,Voters_LastName#15980,Voters_NameSuffix#15981,Residence_Addresses_AddressLine#15982,Residence_Addresses_ExtraAddressLine#15983,Residence_Addresses_City#15984,Residence_Addresses_State#15985,Residence_Addresses_Zip#15986,Residence_Addresses_ZipPlus4#15987,... 702 more fields] parquet\n                                                                                                               :- Project [Voters_Gender#17629, Voters_BirthDate#17631, Residence_Families_HHCount#17608, Residence_HHGender_Description#17609, Mailing_Families_HHCount#17626, Mailing_HHGender_Description#17627, Parties_Description#17633, CommercialData_PropertyType#17938, AddressDistricts_Change_Changed_CD#17648, AddressDistricts_Change_Changed_SD#17650, AddressDistricts_Change_Changed_HD#17652, AddressDistricts_Change_Changed_County#17661, Residence_Addresses_Density#17606, CommercialData_EstimatedHHIncome#17910, CommercialData_ISPSA#17921, CommercialData_AreaMedianEducationYears#17924, CommercialData_AreaMedianHousingValue#17925, CommercialData_AreaPcntHHMarriedCoupleNoChild#17931, CommercialData_AreaPcntHHMarriedCoupleWithChild#17932, CommercialData_AreaPcntHHSpanishSpeaking#17933, CommercialData_AreaPcntHHWithChildren#17934, CommercialData_StateIncomeDecile#17941, EthnicGroups_EthnicGroup1Desc#17636, CommercialData_DwellingType#17906, ... 12 more fields]\n                                                                                                               :  +- Project [Voters_Gender#17629, Voters_BirthDate#17631, Residence_Families_HHCount#17608, Residence_HHGender_Description#17609, Mailing_Families_HHCount#17626, Mailing_HHGender_Description#17627, Parties_Description#17633, CommercialData_PropertyType#17938, AddressDistricts_Change_Changed_CD#17648, AddressDistricts_Change_Changed_SD#17650, AddressDistricts_Change_Changed_HD#17652, AddressDistricts_Change_Changed_County#17661, Residence_Addresses_Density#17606, CommercialData_EstimatedHHIncome#17910, CommercialData_ISPSA#17921, CommercialData_AreaMedianEducationYears#17924, CommercialData_AreaMedianHousingValue#17925, CommercialData_AreaPcntHHMarriedCoupleNoChild#17931, CommercialData_AreaPcntHHMarriedCoupleWithChild#17932, CommercialData_AreaPcntHHSpanishSpeaking#17933, CommercialData_AreaPcntHHWithChildren#17934, CommercialData_StateIncomeDecile#17941, EthnicGroups_EthnicGroup1Desc#17636, CommercialData_DwellingType#17906, ... 11 more fields]\n                                                                                                               :     +- Relation[SEQUENCE#17564,LALVOTERID#17565,Voters_Active#17566,Voters_StateVoterID#17567,Voters_CountyVoterID#17568,VoterTelephones_LandlineAreaCode#17569,VoterTelephones_Landline7Digit#17570,VoterTelephones_LandlineFormatted#17571,VoterTelephones_LandlineUnformatted#17572,VoterTelephones_LandlineConfidenceCode#17573,VoterTelephones_CellPhoneOnly#17574,VoterTelephones_CellPhoneFormatted#17575,VoterTelephones_CellPhoneUnformatted#17576,VoterTelephones_CellConfidenceCode#17577,Voters_FirstName#17578,Voters_MiddleName#17579,Voters_LastName#17580,Voters_NameSuffix#17581,Residence_Addresses_AddressLine#17582,Residence_Addresses_ExtraAddressLine#17583,Residence_Addresses_City#17584,Residence_Addresses_State#17585,Residence_Addresses_Zip#17586,Residence_Addresses_ZipPlus4#17587,... 702 more fields] parquet\n                                                                                                               :- Project [Voters_Gender#19229, Voters_BirthDate#19231, Residence_Families_HHCount#19208, Residence_HHGender_Description#19209, Mailing_Families_HHCount#19226, Mailing_HHGender_Description#19227, Parties_Description#19233, CommercialData_PropertyType#19538, AddressDistricts_Change_Changed_CD#19248, AddressDistricts_Change_Changed_SD#19250, AddressDistricts_Change_Changed_HD#19252, AddressDistricts_Change_Changed_County#19261, Residence_Addresses_Density#19206, CommercialData_EstimatedHHIncome#19510, CommercialData_ISPSA#19521, CommercialData_AreaMedianEducationYears#19524, CommercialData_AreaMedianHousingValue#19525, CommercialData_AreaPcntHHMarriedCoupleNoChild#19531, CommercialData_AreaPcntHHMarriedCoupleWithChild#19532, CommercialData_AreaPcntHHSpanishSpeaking#19533, CommercialData_AreaPcntHHWithChildren#19534, CommercialData_StateIncomeDecile#19541, EthnicGroups_EthnicGroup1Desc#19236, CommercialData_DwellingType#19506, ... 12 more fields]\n                                                                                                               :  +- Project [Voters_Gender#19229, Voters_BirthDate#19231, Residence_Families_HHCount#19208, Residence_HHGender_Description#19209, Mailing_Families_HHCount#19226, Mailing_HHGender_Description#19227, Parties_Description#19233, CommercialData_PropertyType#19538, AddressDistricts_Change_Changed_CD#19248, AddressDistricts_Change_Changed_SD#19250, AddressDistricts_Change_Changed_HD#19252, AddressDistricts_Change_Changed_County#19261, Residence_Addresses_Density#19206, CommercialData_EstimatedHHIncome#19510, CommercialData_ISPSA#19521, CommercialData_AreaMedianEducationYears#19524, CommercialData_AreaMedianHousingValue#19525, CommercialData_AreaPcntHHMarriedCoupleNoChild#19531, CommercialData_AreaPcntHHMarriedCoupleWithChild#19532, CommercialData_AreaPcntHHSpanishSpeaking#19533, CommercialData_AreaPcntHHWithChildren#19534, CommercialData_StateIncomeDecile#19541, EthnicGroups_EthnicGroup1Desc#19236, CommercialData_DwellingType#19506, ... 11 more fields]\n                                                                                                               :     +- Relation[SEQUENCE#19164,LALVOTERID#19165,Voters_Active#19166,Voters_StateVoterID#19167,Voters_CountyVoterID#19168,VoterTelephones_LandlineAreaCode#19169,VoterTelephones_Landline7Digit#19170,VoterTelephones_LandlineFormatted#19171,VoterTelephones_LandlineUnformatted#19172,VoterTelephones_LandlineConfidenceCode#19173,VoterTelephones_CellPhoneOnly#19174,VoterTelephones_CellPhoneFormatted#19175,VoterTelephones_CellPhoneUnformatted#19176,VoterTelephones_CellConfidenceCode#19177,Voters_FirstName#19178,Voters_MiddleName#19179,Voters_LastName#19180,Voters_NameSuffix#19181,Residence_Addresses_AddressLine#19182,Residence_Addresses_ExtraAddressLine#19183,Residence_Addresses_City#19184,Residence_Addresses_State#19185,Residence_Addresses_Zip#19186,Residence_Addresses_ZipPlus4#19187,... 702 more fields] parquet\n                                                                                                               :- Project [Voters_Gender#20829, Voters_BirthDate#20831, Residence_Families_HHCount#20808, Residence_HHGender_Description#20809, Mailing_Families_HHCount#20826, Mailing_HHGender_Description#20827, Parties_Description#20833, CommercialData_PropertyType#21138, AddressDistricts_Change_Changed_CD#20848, AddressDistricts_Change_Changed_SD#20850, AddressDistricts_Change_Changed_HD#20852, AddressDistricts_Change_Changed_County#20861, Residence_Addresses_Density#20806, CommercialData_EstimatedHHIncome#21110, CommercialData_ISPSA#21121, CommercialData_AreaMedianEducationYears#21124, CommercialData_AreaMedianHousingValue#21125, CommercialData_AreaPcntHHMarriedCoupleNoChild#21131, CommercialData_AreaPcntHHMarriedCoupleWithChild#21132, CommercialData_AreaPcntHHSpanishSpeaking#21133, CommercialData_AreaPcntHHWithChildren#21134, CommercialData_StateIncomeDecile#21141, EthnicGroups_EthnicGroup1Desc#20836, CommercialData_DwellingType#21106, ... 12 more fields]\n                                                                                                               :  +- Project [Voters_Gender#20829, Voters_BirthDate#20831, Residence_Families_HHCount#20808, Residence_HHGender_Description#20809, Mailing_Families_HHCount#20826, Mailing_HHGender_Description#20827, Parties_Description#20833, CommercialData_PropertyType#21138, AddressDistricts_Change_Changed_CD#20848, AddressDistricts_Change_Changed_SD#20850, AddressDistricts_Change_Changed_HD#20852, AddressDistricts_Change_Changed_County#20861, Residence_Addresses_Density#20806, CommercialData_EstimatedHHIncome#21110, CommercialData_ISPSA#21121, CommercialData_AreaMedianEducationYears#21124, CommercialData_AreaMedianHousingValue#21125, CommercialData_AreaPcntHHMarriedCoupleNoChild#21131, CommercialData_AreaPcntHHMarriedCoupleWithChild#21132, CommercialData_AreaPcntHHSpanishSpeaking#21133, CommercialData_AreaPcntHHWithChildren#21134, CommercialData_StateIncomeDecile#21141, EthnicGroups_EthnicGroup1Desc#20836, CommercialData_DwellingType#21106, ... 11 more fields]\n                                                                                                               :     +- Relation[SEQUENCE#20764,LALVOTERID#20765,Voters_Active#20766,Voters_StateVoterID#20767,Voters_CountyVoterID#20768,VoterTelephones_LandlineAreaCode#20769,VoterTelephones_Landline7Digit#20770,VoterTelephones_LandlineFormatted#20771,VoterTelephones_LandlineUnformatted#20772,VoterTelephones_LandlineConfidenceCode#20773,VoterTelephones_CellPhoneOnly#20774,VoterTelephones_CellPhoneFormatted#20775,VoterTelephones_CellPhoneUnformatted#20776,VoterTelephones_CellConfidenceCode#20777,Voters_FirstName#20778,Voters_MiddleName#20779,Voters_LastName#20780,Voters_NameSuffix#20781,Residence_Addresses_AddressLine#20782,Residence_Addresses_ExtraAddressLine#20783,Residence_Addresses_City#20784,Residence_Addresses_State#20785,Residence_Addresses_Zip#20786,Residence_Addresses_ZipPlus4#20787,... 702 more fields] parquet\n                                                                                                               +- Project [Voters_Gender#22429, Voters_BirthDate#22431, Residence_Families_HHCount#22408, Residence_HHGender_Description#22409, Mailing_Families_HHCount#22426, Mailing_HHGender_Description#22427, Parties_Description#22433, CommercialData_PropertyType#22738, AddressDistricts_Change_Changed_CD#22448, AddressDistricts_Change_Changed_SD#22450, AddressDistricts_Change_Changed_HD#22452, AddressDistricts_Change_Changed_County#22461, Residence_Addresses_Density#22406, CommercialData_EstimatedHHIncome#22710, CommercialData_ISPSA#22721, CommercialData_AreaMedianEducationYears#22724, CommercialData_AreaMedianHousingValue#22725, CommercialData_AreaPcntHHMarriedCoupleNoChild#22731, CommercialData_AreaPcntHHMarriedCoupleWithChild#22732, CommercialData_AreaPcntHHSpanishSpeaking#22733, CommercialData_AreaPcntHHWithChildren#22734, CommercialData_StateIncomeDecile#22741, EthnicGroups_EthnicGroup1Desc#22436, CommercialData_DwellingType#22706, ... 12 more fields]\n                                                                                                                  +- Project [Voters_Gender#22429, Voters_BirthDate#22431, Residence_Families_HHCount#22408, Residence_HHGender_Description#22409, Mailing_Families_HHCount#22426, Mailing_HHGender_Description#22427, Parties_Description#22433, CommercialData_PropertyType#22738, AddressDistricts_Change_Changed_CD#22448, AddressDistricts_Change_Changed_SD#22450, AddressDistricts_Change_Changed_HD#22452, AddressDistricts_Change_Changed_County#22461, Residence_Addresses_Density#22406, CommercialData_EstimatedHHIncome#22710, CommercialData_ISPSA#22721, CommercialData_AreaMedianEducationYears#22724, CommercialData_AreaMedianHousingValue#22725, CommercialData_AreaPcntHHMarriedCoupleNoChild#22731, CommercialData_AreaPcntHHMarriedCoupleWithChild#22732, CommercialData_AreaPcntHHSpanishSpeaking#22733, CommercialData_AreaPcntHHWithChildren#22734, CommercialData_StateIncomeDecile#22741, EthnicGroups_EthnicGroup1Desc#22436, CommercialData_DwellingType#22706, ... 11 more fields]\n                                                                                                                     +- Relation[SEQUENCE#22364,LALVOTERID#22365,Voters_Active#22366,Voters_StateVoterID#22367,Voters_CountyVoterID#22368,VoterTelephones_LandlineAreaCode#22369,VoterTelephones_Landline7Digit#22370,VoterTelephones_LandlineFormatted#22371,VoterTelephones_LandlineUnformatted#22372,VoterTelephones_LandlineConfidenceCode#22373,VoterTelephones_CellPhoneOnly#22374,VoterTelephones_CellPhoneFormatted#22375,VoterTelephones_CellPhoneUnformatted#22376,VoterTelephones_CellConfidenceCode#22377,Voters_FirstName#22378,Voters_MiddleName#22379,Voters_LastName#22380,Voters_NameSuffix#22381,Residence_Addresses_AddressLine#22382,Residence_Addresses_ExtraAddressLine#22383,Residence_Addresses_City#22384,Residence_Addresses_State#22385,Residence_Addresses_Zip#22386,Residence_Addresses_ZipPlus4#22387,... 702 more fields] parquet\n"
     ]
    }
   ],
   "source": [
    "# new_df.groupBy('General_2004').count().show()\n",
    "\n",
    "# indi_full = spark.read.parquet(\"gs://voter-project-235-25/VM2Uniform--IN--2021-01-15_parq\")\n",
    "# indi = indi_full.select('General_2004')\n",
    "\n",
    "# indi.groupBy(\"General_2004\").count().show()\n",
    "\n",
    "# new_df = new_df.fillna(\"N\", subset = \"General_2008\")\n",
    "indexed_cols = [f\"{c}_ind\" for c in categorical_cols]\n",
    "\n",
    "indexer = StringIndexer(inputCol = \"Voted_General_2008\", outputCol = \"label\")\n",
    "new_df = indexer.fit(new_df).transform(new_df)\n",
    "\n",
    "new_df.select(\n",
    "    [\"{}_imp\".format(c) for c in numeric_cols] + indexed_cols + [\"label\"]    \n",
    ").printSchema()\n",
    "\n",
    "new_df = new_df.select(\n",
    "    [\"{}_imp\".format(c) for c in numeric_cols] + indexed_cols + [\"label\"]    \n",
    ")\n",
    "\n",
    "from pyspark.ml.feature import RFormula\n",
    "supervised = RFormula(formula=\"label ~ .\")\n",
    "\n",
    "fittedRF = supervised.fit(new_df)\n",
    "\n",
    "preparedDF = fittedRF.transform(new_df)\n",
    "\n",
    "preparedDF.select(\"features\").show(n=10, truncate=False)\n",
    "\n",
    "train, test = new_df.randomSplit([0.7, 0.3], seed = 42069)\n",
    "\n",
    "from pyspark.ml.classification import LogisticRegression\n",
    "lr = LogisticRegression()\n",
    "\n",
    "lrModel = lr.fit(train)\n",
    "\n",
    "featureCols = pd.DataFrame(preparedDF.schema[\"features\"].metadata[\"ml_attr\"][\"attrs\"][\"nominal\"]+\n",
    "  preparedDF.schema[\"features\"].metadata[\"ml_attr\"][\"attrs\"][\"numeric\"]).sort_values(\"idx\")\n",
    "\n",
    "featureCols = featureCols.set_index('idx')\n",
    "featureCols.head()\n",
    "\n",
    "plt.rcParams[\"figure.figsize\"] = (8,6)\n",
    "\n",
    "beta = np.sort(lrModel.coefficients)\n",
    "plt.plot(beta)\n",
    "plt.ylabel('Beta Coefficients')"
   ]
  },
  {
   "cell_type": "code",
   "execution_count": null,
   "id": "33128fd2-42ec-40b6-a68f-20b8f9f57471",
   "metadata": {
    "tags": []
   },
   "outputs": [],
   "source": [
    "coefsArray = np.array(lrModel.coefficients)  # convert to np.array\n",
    "coefsDF = pd.DataFrame(coefsArray, columns=['coefs'])  # to pandas\n",
    "\n",
    "coefsDF = coefsDF.merge(featureCols, left_index=True, right_index=True)  # join it with featureCols we created above\n",
    "coefsDF.sort_values('coefs', inplace=True)  # Sort them\n",
    "coefsDF.head()\n",
    "\n",
    "plt.rcParams[\"figure.figsize\"] = (20,3)\n",
    "\n",
    "plt.xticks(rotation=90)\n",
    "plt.bar(coefsDF.name, coefsDF.coefs)\n",
    "plt.title('Ranked coefficients from the logistic regression model')\n",
    "plt.show()\n",
    "\n",
    "df_ref.write.format(\"parquet\").save(\"total_reference_sample\")\n",
    "df_ref = spark.read.parquet(\"total_reference_sample\")"
   ]
  },
  {
   "cell_type": "markdown",
   "id": "0aec9f61-168b-432a-8c90-d646e8fd7476",
   "metadata": {},
   "source": [
    "# Propensity score estimator"
   ]
  },
  {
   "cell_type": "code",
   "execution_count": null,
   "id": "cf8fa085-08a3-47ee-8af5-db25b4ea67e8",
   "metadata": {},
   "outputs": [
    {
     "name": "stderr",
     "output_type": "stream",
     "text": [
      "[Stage 132:============================================>        (144 + 4) / 171]\r"
     ]
    },
    {
     "ename": "KeyboardInterrupt",
     "evalue": "",
     "output_type": "error",
     "traceback": [
      "\u001b[0;31m---------------------------------------------------------------------------\u001b[0m",
      "\u001b[0;31mKeyboardInterrupt\u001b[0m                         Traceback (most recent call last)",
      "Cell \u001b[0;32mIn[16], line 60\u001b[0m\n\u001b[1;32m     58\u001b[0m df_input_logistic\u001b[38;5;241m.\u001b[39mcolumns\n\u001b[1;32m     59\u001b[0m supervised \u001b[38;5;241m=\u001b[39m RFormula(formula\u001b[38;5;241m=\u001b[39m\u001b[38;5;124m\"\u001b[39m\u001b[38;5;124mLAW ~ .\u001b[39m\u001b[38;5;124m\"\u001b[39m)\n\u001b[0;32m---> 60\u001b[0m fittedRF \u001b[38;5;241m=\u001b[39m \u001b[43msupervised\u001b[49m\u001b[38;5;241;43m.\u001b[39;49m\u001b[43mfit\u001b[49m\u001b[43m(\u001b[49m\u001b[43mdf_input_logistic\u001b[49m\u001b[43m)\u001b[49m \u001b[38;5;66;03m# inspect column types\u001b[39;00m\n\u001b[1;32m     61\u001b[0m prepareddf_input_logistic \u001b[38;5;241m=\u001b[39m fittedRF\u001b[38;5;241m.\u001b[39mtransform(df_input_logistic) \u001b[38;5;66;03m# create feature and label columns\u001b[39;00m\n\u001b[1;32m     62\u001b[0m prepareddf_input_logistic\u001b[38;5;241m.\u001b[39mshow(\u001b[38;5;241m5\u001b[39m, truncate \u001b[38;5;241m=\u001b[39m \u001b[38;5;28;01mFalse\u001b[39;00m)\n",
      "File \u001b[0;32m/usr/lib/spark/python/pyspark/ml/base.py:161\u001b[0m, in \u001b[0;36mEstimator.fit\u001b[0;34m(self, dataset, params)\u001b[0m\n\u001b[1;32m    159\u001b[0m         \u001b[38;5;28;01mreturn\u001b[39;00m \u001b[38;5;28mself\u001b[39m\u001b[38;5;241m.\u001b[39mcopy(params)\u001b[38;5;241m.\u001b[39m_fit(dataset)\n\u001b[1;32m    160\u001b[0m     \u001b[38;5;28;01melse\u001b[39;00m:\n\u001b[0;32m--> 161\u001b[0m         \u001b[38;5;28;01mreturn\u001b[39;00m \u001b[38;5;28;43mself\u001b[39;49m\u001b[38;5;241;43m.\u001b[39;49m\u001b[43m_fit\u001b[49m\u001b[43m(\u001b[49m\u001b[43mdataset\u001b[49m\u001b[43m)\u001b[49m\n\u001b[1;32m    162\u001b[0m \u001b[38;5;28;01melse\u001b[39;00m:\n\u001b[1;32m    163\u001b[0m     \u001b[38;5;28;01mraise\u001b[39;00m \u001b[38;5;167;01mValueError\u001b[39;00m(\u001b[38;5;124m\"\u001b[39m\u001b[38;5;124mParams must be either a param map or a list/tuple of param maps, \u001b[39m\u001b[38;5;124m\"\u001b[39m\n\u001b[1;32m    164\u001b[0m                      \u001b[38;5;124m\"\u001b[39m\u001b[38;5;124mbut got \u001b[39m\u001b[38;5;132;01m%s\u001b[39;00m\u001b[38;5;124m.\u001b[39m\u001b[38;5;124m\"\u001b[39m \u001b[38;5;241m%\u001b[39m \u001b[38;5;28mtype\u001b[39m(params))\n",
      "File \u001b[0;32m/usr/lib/spark/python/pyspark/ml/wrapper.py:335\u001b[0m, in \u001b[0;36mJavaEstimator._fit\u001b[0;34m(self, dataset)\u001b[0m\n\u001b[1;32m    334\u001b[0m \u001b[38;5;28;01mdef\u001b[39;00m \u001b[38;5;21m_fit\u001b[39m(\u001b[38;5;28mself\u001b[39m, dataset):\n\u001b[0;32m--> 335\u001b[0m     java_model \u001b[38;5;241m=\u001b[39m \u001b[38;5;28;43mself\u001b[39;49m\u001b[38;5;241;43m.\u001b[39;49m\u001b[43m_fit_java\u001b[49m\u001b[43m(\u001b[49m\u001b[43mdataset\u001b[49m\u001b[43m)\u001b[49m\n\u001b[1;32m    336\u001b[0m     model \u001b[38;5;241m=\u001b[39m \u001b[38;5;28mself\u001b[39m\u001b[38;5;241m.\u001b[39m_create_model(java_model)\n\u001b[1;32m    337\u001b[0m     \u001b[38;5;28;01mreturn\u001b[39;00m \u001b[38;5;28mself\u001b[39m\u001b[38;5;241m.\u001b[39m_copyValues(model)\n",
      "File \u001b[0;32m/usr/lib/spark/python/pyspark/ml/wrapper.py:332\u001b[0m, in \u001b[0;36mJavaEstimator._fit_java\u001b[0;34m(self, dataset)\u001b[0m\n\u001b[1;32m    318\u001b[0m \u001b[38;5;250m\u001b[39m\u001b[38;5;124;03m\"\"\"\u001b[39;00m\n\u001b[1;32m    319\u001b[0m \u001b[38;5;124;03mFits a Java model to the input dataset.\u001b[39;00m\n\u001b[1;32m    320\u001b[0m \n\u001b[0;32m   (...)\u001b[0m\n\u001b[1;32m    329\u001b[0m \u001b[38;5;124;03m    fitted Java model\u001b[39;00m\n\u001b[1;32m    330\u001b[0m \u001b[38;5;124;03m\"\"\"\u001b[39;00m\n\u001b[1;32m    331\u001b[0m \u001b[38;5;28mself\u001b[39m\u001b[38;5;241m.\u001b[39m_transfer_params_to_java()\n\u001b[0;32m--> 332\u001b[0m \u001b[38;5;28;01mreturn\u001b[39;00m \u001b[38;5;28;43mself\u001b[39;49m\u001b[38;5;241;43m.\u001b[39;49m\u001b[43m_java_obj\u001b[49m\u001b[38;5;241;43m.\u001b[39;49m\u001b[43mfit\u001b[49m\u001b[43m(\u001b[49m\u001b[43mdataset\u001b[49m\u001b[38;5;241;43m.\u001b[39;49m\u001b[43m_jdf\u001b[49m\u001b[43m)\u001b[49m\n",
      "File \u001b[0;32m/usr/lib/spark/python/lib/py4j-0.10.9-src.zip/py4j/java_gateway.py:1303\u001b[0m, in \u001b[0;36mJavaMember.__call__\u001b[0;34m(self, *args)\u001b[0m\n\u001b[1;32m   1296\u001b[0m args_command, temp_args \u001b[38;5;241m=\u001b[39m \u001b[38;5;28mself\u001b[39m\u001b[38;5;241m.\u001b[39m_build_args(\u001b[38;5;241m*\u001b[39margs)\n\u001b[1;32m   1298\u001b[0m command \u001b[38;5;241m=\u001b[39m proto\u001b[38;5;241m.\u001b[39mCALL_COMMAND_NAME \u001b[38;5;241m+\u001b[39m\\\n\u001b[1;32m   1299\u001b[0m     \u001b[38;5;28mself\u001b[39m\u001b[38;5;241m.\u001b[39mcommand_header \u001b[38;5;241m+\u001b[39m\\\n\u001b[1;32m   1300\u001b[0m     args_command \u001b[38;5;241m+\u001b[39m\\\n\u001b[1;32m   1301\u001b[0m     proto\u001b[38;5;241m.\u001b[39mEND_COMMAND_PART\n\u001b[0;32m-> 1303\u001b[0m answer \u001b[38;5;241m=\u001b[39m \u001b[38;5;28;43mself\u001b[39;49m\u001b[38;5;241;43m.\u001b[39;49m\u001b[43mgateway_client\u001b[49m\u001b[38;5;241;43m.\u001b[39;49m\u001b[43msend_command\u001b[49m\u001b[43m(\u001b[49m\u001b[43mcommand\u001b[49m\u001b[43m)\u001b[49m\n\u001b[1;32m   1304\u001b[0m return_value \u001b[38;5;241m=\u001b[39m get_return_value(\n\u001b[1;32m   1305\u001b[0m     answer, \u001b[38;5;28mself\u001b[39m\u001b[38;5;241m.\u001b[39mgateway_client, \u001b[38;5;28mself\u001b[39m\u001b[38;5;241m.\u001b[39mtarget_id, \u001b[38;5;28mself\u001b[39m\u001b[38;5;241m.\u001b[39mname)\n\u001b[1;32m   1307\u001b[0m \u001b[38;5;28;01mfor\u001b[39;00m temp_arg \u001b[38;5;129;01min\u001b[39;00m temp_args:\n",
      "File \u001b[0;32m/usr/lib/spark/python/lib/py4j-0.10.9-src.zip/py4j/java_gateway.py:1033\u001b[0m, in \u001b[0;36mGatewayClient.send_command\u001b[0;34m(self, command, retry, binary)\u001b[0m\n\u001b[1;32m   1031\u001b[0m connection \u001b[38;5;241m=\u001b[39m \u001b[38;5;28mself\u001b[39m\u001b[38;5;241m.\u001b[39m_get_connection()\n\u001b[1;32m   1032\u001b[0m \u001b[38;5;28;01mtry\u001b[39;00m:\n\u001b[0;32m-> 1033\u001b[0m     response \u001b[38;5;241m=\u001b[39m \u001b[43mconnection\u001b[49m\u001b[38;5;241;43m.\u001b[39;49m\u001b[43msend_command\u001b[49m\u001b[43m(\u001b[49m\u001b[43mcommand\u001b[49m\u001b[43m)\u001b[49m\n\u001b[1;32m   1034\u001b[0m     \u001b[38;5;28;01mif\u001b[39;00m binary:\n\u001b[1;32m   1035\u001b[0m         \u001b[38;5;28;01mreturn\u001b[39;00m response, \u001b[38;5;28mself\u001b[39m\u001b[38;5;241m.\u001b[39m_create_connection_guard(connection)\n",
      "File \u001b[0;32m/usr/lib/spark/python/lib/py4j-0.10.9-src.zip/py4j/java_gateway.py:1200\u001b[0m, in \u001b[0;36mGatewayConnection.send_command\u001b[0;34m(self, command)\u001b[0m\n\u001b[1;32m   1196\u001b[0m     \u001b[38;5;28;01mraise\u001b[39;00m Py4JNetworkError(\n\u001b[1;32m   1197\u001b[0m         \u001b[38;5;124m\"\u001b[39m\u001b[38;5;124mError while sending\u001b[39m\u001b[38;5;124m\"\u001b[39m, e, proto\u001b[38;5;241m.\u001b[39mERROR_ON_SEND)\n\u001b[1;32m   1199\u001b[0m \u001b[38;5;28;01mtry\u001b[39;00m:\n\u001b[0;32m-> 1200\u001b[0m     answer \u001b[38;5;241m=\u001b[39m smart_decode(\u001b[38;5;28;43mself\u001b[39;49m\u001b[38;5;241;43m.\u001b[39;49m\u001b[43mstream\u001b[49m\u001b[38;5;241;43m.\u001b[39;49m\u001b[43mreadline\u001b[49m\u001b[43m(\u001b[49m\u001b[43m)\u001b[49m[:\u001b[38;5;241m-\u001b[39m\u001b[38;5;241m1\u001b[39m])\n\u001b[1;32m   1201\u001b[0m     logger\u001b[38;5;241m.\u001b[39mdebug(\u001b[38;5;124m\"\u001b[39m\u001b[38;5;124mAnswer received: \u001b[39m\u001b[38;5;132;01m{0}\u001b[39;00m\u001b[38;5;124m\"\u001b[39m\u001b[38;5;241m.\u001b[39mformat(answer))\n\u001b[1;32m   1202\u001b[0m     \u001b[38;5;28;01mif\u001b[39;00m answer\u001b[38;5;241m.\u001b[39mstartswith(proto\u001b[38;5;241m.\u001b[39mRETURN_MESSAGE):\n",
      "File \u001b[0;32m/opt/conda/miniconda3/lib/python3.8/socket.py:669\u001b[0m, in \u001b[0;36mSocketIO.readinto\u001b[0;34m(self, b)\u001b[0m\n\u001b[1;32m    667\u001b[0m \u001b[38;5;28;01mwhile\u001b[39;00m \u001b[38;5;28;01mTrue\u001b[39;00m:\n\u001b[1;32m    668\u001b[0m     \u001b[38;5;28;01mtry\u001b[39;00m:\n\u001b[0;32m--> 669\u001b[0m         \u001b[38;5;28;01mreturn\u001b[39;00m \u001b[38;5;28;43mself\u001b[39;49m\u001b[38;5;241;43m.\u001b[39;49m\u001b[43m_sock\u001b[49m\u001b[38;5;241;43m.\u001b[39;49m\u001b[43mrecv_into\u001b[49m\u001b[43m(\u001b[49m\u001b[43mb\u001b[49m\u001b[43m)\u001b[49m\n\u001b[1;32m    670\u001b[0m     \u001b[38;5;28;01mexcept\u001b[39;00m timeout:\n\u001b[1;32m    671\u001b[0m         \u001b[38;5;28mself\u001b[39m\u001b[38;5;241m.\u001b[39m_timeout_occurred \u001b[38;5;241m=\u001b[39m \u001b[38;5;28;01mTrue\u001b[39;00m\n",
      "\u001b[0;31mKeyboardInterrupt\u001b[0m: "
     ]
    }
   ],
   "source": [
    "num_voters_indiana = indi.count()\n",
    "num_voters_not_indiana = df_ref.count()\n",
    "pct_sample = num_voters_indiana / num_voters_not_indiana\n",
    "\n",
    "# empty list to store the estimated average treatment effects:\n",
    "ATEs = []\n",
    "\n",
    "# empty dictionary to store output\n",
    "stored_DF = {}\n",
    "\n",
    "# start_time = time.time()\n",
    "\n",
    "for i in range(1):\n",
    "    i = i + 1 # from 1 - 100 rather than 0 to 100\n",
    "    \n",
    "    print(f\"iteration {i}\")\n",
    "\n",
    "    # take random sample of the total parquet file (equivalent to the size of indiana)\n",
    "    df_ref_sampled = df_ref.sample(True, pct_sample, seed = i)\n",
    "\n",
    "    # create dummy DATA:\n",
    "#     indi = indi.withColumn('Voters_Age', rand())\n",
    "#     df_ref = df_ref.withColumn('Voters_Age', rand())\n",
    "    \n",
    "#     indi = indi.select([\"Voters_Age\"])\n",
    "#     df_ref = df_ref.select([\"Voters_Age\"])\n",
    "\n",
    "#     indi = indi.withColumn('Voters_Age', col('Voters_Age').cast('double'))\n",
    "#     df_ref = df_ref.withColumn('Voters_Age', col('Voters_Age').cast('double'))\n",
    "\n",
    "#     indi = indi.withColumn('General_2008_RANDOM', when(rand() > 0.5, 1).otherwise(0))\n",
    "#     df_ref = df_ref.withColumn('General_2008_RANDOM', when(rand() > 0.5, 1).otherwise(0))\n",
    "\n",
    "    # create a column with \"LAW == 0\" for non-Indiana states\n",
    "    df_ref_sampled = df_ref_sampled.withColumn(\"LAW\", lit(0))\n",
    "\n",
    "    # create a column with \"LAW == 1\" for Indiana\n",
    "    indi = indi.withColumn(\"LAW\", lit(1))\n",
    "\n",
    "    # union the two together\n",
    "    df = df_ref_sampled.union(indi)\n",
    "\n",
    "    cols_excluded_from_regression = [\n",
    "        'Voters_BirthDate', # removed this, but KEPT the YEAR that the voter turned 18.\n",
    "        'STATE',\n",
    "        'STATE_ind',\n",
    "        'DATE_18',\n",
    "        'comparator_date_presidential',\n",
    "        'comparator_date_primary',\n",
    "        'YEAR_ELIGIBLE_TO_VOTE_PRESIDENTIAL',\n",
    "        'YEAR_ELIGIBLE_TO_VOTE_PRIMARY',\n",
    "        'Voted_General_2008'\n",
    "    ]\n",
    "    \n",
    "    df_input_logistic = df.drop(*cols_excluded_from_regression)\n",
    "\n",
    "    # fit logistic model on the intervention (variable Law)\n",
    "    nrow_df_input_logistic_start_check = df_input_logistic.count()\n",
    "#     df_input_logistic = df_input_logistic.fillna(0)\n",
    "    df_input_logistic.columns\n",
    "    supervised = RFormula(formula=\"LAW ~ .\")\n",
    "    fittedRF = supervised.fit(df_input_logistic) # inspect column types\n",
    "    prepareddf_input_logistic = fittedRF.transform(df_input_logistic) # create feature and label columns\n",
    "    prepareddf_input_logistic.show(5, truncate = False)\n",
    "    lr = LogisticRegression(labelCol=\"label\",featuresCol=\"features\")\n",
    "    print(lr.explainParams())\n",
    "    lrModel = lr.fit(prepareddf_input_logistic) # train model\n",
    "    lrModel.transform(prepareddf_input_logistic).select(\"label\", \"prediction\") # fitted values\n",
    "\n",
    "    # get a propensity score from the probability as a new column:\n",
    "    fitted = lrModel.transform(prepareddf_input_logistic)\n",
    "    fitted = fitted.withColumn('probability', vector_to_array('probability'))\n",
    "    array_mean = udf(lambda x: float(np.mean(x)), FloatType())\n",
    "    fitted = fitted.withColumn(\"propensity_score\", array_mean(\"probability\"))\n",
    "    try:\n",
    "        assert fitted.count() == nrow_df_input_logistic_start_check\n",
    "    except:\n",
    "        Exception(\"before and after don't have same number of columns\")\n",
    "\n",
    "    # new column that called weight that is T - PS / (PS * 1 - PS)\n",
    "    fitted = fitted.withColumn(\"weight\", (col(\"label\") - col(\"propensity_score\")) / (col(\"propensity_score\") * (1-col(\"propensity_score\"))))\n",
    "\n",
    "    # merge back in the 2008 general election OUTCOME data\n",
    "    fitted = fitted.withColumn(\"row_id\", monotonically_increasing_id())\n",
    "    df = df.withColumn(\"row_id\", monotonically_increasing_id())\n",
    "    num_row_df_prior = df.count()\n",
    "    df = df.join(fitted, [\"row_id\", \"Voters_Age\", \"LAW\"]).drop(\"row_id\")\n",
    "    \n",
    "    try:\n",
    "        assert num_row_df_prior == df.count()\n",
    "    except:\n",
    "        Exception(\"before and after don't have same number of columns\")\n",
    "\n",
    "    # calculate the weighted average\n",
    "    df = df.withColumn(\"weighted_outcome\", col(\"General_2008_RANDOM\") * col(\"weight\"))\n",
    "\n",
    "    # store weighted average into list\n",
    "    ATE_this_round = df.agg(avg(col(\"weighted_outcome\"))).collect()[0][0]\n",
    "    ATEs.append(ATE_this_round)\n",
    "\n",
    "    # store the DataFrame into a dictionary\n",
    "    stored_DF[f\"{i}\"] = df\n",
    "    \n",
    "# end_time = time.time()\n",
    "# print(\"Execution time: {:.2f} seconds\".format(end_time - start_time))"
   ]
  },
  {
   "cell_type": "code",
   "execution_count": null,
   "id": "74a1813c-fc52-481e-a87b-22eb67637825",
   "metadata": {},
   "outputs": [],
   "source": [
    "df.show(10)"
   ]
  },
  {
   "cell_type": "code",
   "execution_count": null,
   "id": "25100b03-b9a7-4c73-a73a-b9d12f281ac8",
   "metadata": {},
   "outputs": [],
   "source": [
    "ATEs"
   ]
  },
  {
   "cell_type": "code",
   "execution_count": 15,
   "id": "48471afe-455b-4d3b-9412-1a218db6eddb",
   "metadata": {},
   "outputs": [
    {
     "data": {
      "text/plain": [
       "range(0, 1)"
      ]
     },
     "execution_count": 15,
     "metadata": {},
     "output_type": "execute_result"
    }
   ],
   "source": [
    "range(1)"
   ]
  },
  {
   "cell_type": "code",
   "execution_count": null,
   "id": "af0cf4fb-db85-4954-bf02-cb3d169a5943",
   "metadata": {},
   "outputs": [],
   "source": [
    "start_time = time.time()\n",
    "end_time = time.time()\n",
    "print(\"Execution time: {:.2f} seconds\".format(end_time - start_time))"
   ]
  },
  {
   "cell_type": "code",
   "execution_count": null,
   "id": "ec9a3df5-6311-4694-8b6e-de843af44054",
   "metadata": {},
   "outputs": [],
   "source": []
  },
  {
   "cell_type": "code",
   "execution_count": null,
   "id": "67b9c5ac-e621-41ff-80b4-2569efdeaf0b",
   "metadata": {},
   "outputs": [],
   "source": []
  },
  {
   "cell_type": "code",
   "execution_count": null,
   "id": "ed973943-8854-42e3-89ab-56cf7fe03e2e",
   "metadata": {},
   "outputs": [],
   "source": []
  },
  {
   "cell_type": "code",
   "execution_count": null,
   "id": "7aec0404-e9ac-4bfb-8eb2-74ef9db8b87c",
   "metadata": {},
   "outputs": [],
   "source": []
  }
 ],
 "metadata": {
  "kernelspec": {
   "display_name": "PySpark",
   "language": "python",
   "name": "pyspark"
  },
  "language_info": {
   "codemirror_mode": {
    "name": "ipython",
    "version": 3
   },
   "file_extension": ".py",
   "mimetype": "text/x-python",
   "name": "python",
   "nbconvert_exporter": "python",
   "pygments_lexer": "ipython3",
   "version": "3.8.15"
  }
 },
 "nbformat": 4,
 "nbformat_minor": 5
}