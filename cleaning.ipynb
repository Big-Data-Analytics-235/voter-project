{
 "cells": [
  {
   "cell_type": "code",
   "execution_count": 1,
   "id": "7c68ff21-e7c7-4ec3-9ff2-685b9dc51049",
   "metadata": {},
   "outputs": [],
   "source": [
    "# various useful modules used in this report\n",
    "import seaborn as sns\n",
    "import pyspark.sql.functions as F\n",
    "import pandas as pd\n",
    "import matplotlib.pyplot as plt\n",
    "from operator import add\n",
    "from functools import reduce\n",
    "import numpy as np\n",
    "import re\n",
    "%matplotlib inline"
   ]
  },
  {
   "cell_type": "code",
   "execution_count": 15,
   "id": "d5929ec2-c109-452d-9526-54d1effaf42a",
   "metadata": {},
   "outputs": [],
   "source": [
    "indi_full = spark.read.parquet(\"gs://voter-project-235-25/VM2Uniform--IN--2021-01-15_parq\")"
   ]
  },
  {
   "cell_type": "code",
   "execution_count": 30,
   "id": "b89da364-ce3f-406d-8736-f1ba095f6eeb",
   "metadata": {},
   "outputs": [],
   "source": [
    "cols_to_keep = [\n",
    "    \"Residence_Families_HHCount\",\n",
    "    \"Residence_HHGender_Description\",\n",
    "    \"Mailing_Families_HHCount\",\n",
    "    \"Mailing_HHGender_Description\",\n",
    "    \"Parties_Description\",\n",
    "    \"CommercialData_PropertyType\",\n",
    "    \"Voters_VotingPerformanceEvenYearGeneral\",\n",
    "    \"Voters_VotingPerformanceEvenYearPrimary\",\n",
    "    \"Voters_VotingPerformanceEvenYearGeneralAndPrimary\",\n",
    "    \"Voters_VotingPerformanceMinorElection\",\n",
    "    \"AddressDistricts_Change_Changed_CD\",\n",
    "    \"AddressDistricts_Change_Changed_SD\",\n",
    "    \"AddressDistricts_Change_Changed_HD\",\n",
    "    \"AddressDistricts_Change_Changed_County\",\n",
    "    \"Residence_Addresses_Density\",\n",
    "    \"Voters_Gender\",\n",
    "    \"Voters_Age\",\n",
    "    \"CommercialData_EstimatedHHIncome\",\n",
    "    \"CommercialData_ISPSA\",\n",
    "    \"CommercialData_AreaMedianEducationYears\",\n",
    "    \"CommercialData_AreaMedianHousingValue\",\n",
    "    \"CommercialData_MosaicZ4Global\",\n",
    "    \"CommercialData_AreaPcntHHMarriedCoupleNoChild\",\n",
    "    \"CommercialData_AreaPcntHHMarriedCoupleWithChild\",\n",
    "    \"CommercialData_AreaPcntHHSpanishSpeaking\",\n",
    "    \"CommercialData_AreaPcntHHWithChildren\",\n",
    "    \"CommercialData_StateIncomeDecile\",\n",
    "    \"Ethnic_Description\",\n",
    "    \"EthnicGroups_EthnicGroup1Desc\",\n",
    "    \"CommercialData_DwellingType\",\n",
    "    \"CommercialData_PresenceOfChildrenCode\",\n",
    "    \"CommercialData_PresenceOfPremCredCrdInHome\",\n",
    "    \"CommercialData_DonatesToCharityInHome\",\n",
    "    \"CommercialData_DwellingUnitSize\",\n",
    "    \"CommercialData_ComputerOwnerInHome\",\n",
    "    \"CommercialData_DonatesEnvironmentCauseInHome\",\n",
    "    \"CommercialData_Education\"\n",
    "]\n"
   ]
  },
  {
   "cell_type": "code",
   "execution_count": 31,
   "id": "8c4c8aa6-e144-45c0-bc4f-3c91e30ee646",
   "metadata": {},
   "outputs": [
    {
     "name": "stdout",
     "output_type": "stream",
     "text": [
      "root\n",
      " |-- Residence_Families_HHCount: integer (nullable = true)\n",
      " |-- Residence_HHGender_Description: string (nullable = true)\n",
      " |-- Mailing_Families_HHCount: integer (nullable = true)\n",
      " |-- Mailing_HHGender_Description: string (nullable = true)\n",
      " |-- Parties_Description: string (nullable = true)\n",
      " |-- CommercialData_PropertyType: string (nullable = true)\n",
      " |-- Voters_VotingPerformanceEvenYearGeneral: string (nullable = true)\n",
      " |-- Voters_VotingPerformanceEvenYearPrimary: string (nullable = true)\n",
      " |-- Voters_VotingPerformanceEvenYearGeneralAndPrimary: string (nullable = true)\n",
      " |-- Voters_VotingPerformanceMinorElection: string (nullable = true)\n",
      " |-- AddressDistricts_Change_Changed_CD: string (nullable = true)\n",
      " |-- AddressDistricts_Change_Changed_SD: string (nullable = true)\n",
      " |-- AddressDistricts_Change_Changed_HD: string (nullable = true)\n",
      " |-- AddressDistricts_Change_Changed_County: string (nullable = true)\n",
      " |-- Residence_Addresses_Density: integer (nullable = true)\n",
      " |-- Voters_Gender: string (nullable = true)\n",
      " |-- Voters_Age: integer (nullable = true)\n",
      " |-- CommercialData_EstimatedHHIncome: string (nullable = true)\n",
      " |-- CommercialData_ISPSA: integer (nullable = true)\n",
      " |-- CommercialData_AreaMedianEducationYears: integer (nullable = true)\n",
      " |-- CommercialData_AreaMedianHousingValue: string (nullable = true)\n",
      " |-- CommercialData_MosaicZ4Global: string (nullable = true)\n",
      " |-- CommercialData_AreaPcntHHMarriedCoupleNoChild: string (nullable = true)\n",
      " |-- CommercialData_AreaPcntHHMarriedCoupleWithChild: string (nullable = true)\n",
      " |-- CommercialData_AreaPcntHHSpanishSpeaking: string (nullable = true)\n",
      " |-- CommercialData_AreaPcntHHWithChildren: string (nullable = true)\n",
      " |-- CommercialData_StateIncomeDecile: integer (nullable = true)\n",
      " |-- Ethnic_Description: string (nullable = true)\n",
      " |-- EthnicGroups_EthnicGroup1Desc: string (nullable = true)\n",
      " |-- CommercialData_DwellingType: string (nullable = true)\n",
      " |-- CommercialData_PresenceOfChildrenCode: string (nullable = true)\n",
      " |-- CommercialData_PresenceOfPremCredCrdInHome: string (nullable = true)\n",
      " |-- CommercialData_DonatesToCharityInHome: string (nullable = true)\n",
      " |-- CommercialData_DwellingUnitSize: string (nullable = true)\n",
      " |-- CommercialData_ComputerOwnerInHome: string (nullable = true)\n",
      " |-- CommercialData_DonatesEnvironmentCauseInHome: string (nullable = true)\n",
      " |-- CommercialData_Education: string (nullable = true)\n",
      "\n"
     ]
    }
   ],
   "source": [
    "indi.printSchema()"
   ]
  },
  {
   "cell_type": "code",
   "execution_count": 19,
   "id": "310b0c2d-7304-4aaf-937d-51e866149130",
   "metadata": {},
   "outputs": [],
   "source": [
    "indi = (indi_full\n",
    "        .select(cols_to_keep)\n",
    "        .filter(\"Voters_Age > 39\"))"
   ]
  },
  {
   "cell_type": "code",
   "execution_count": 20,
   "id": "36e2bb9d-2195-4a60-93bb-dabf18dd7cc6",
   "metadata": {},
   "outputs": [
    {
     "name": "stderr",
     "output_type": "stream",
     "text": [
      "                                                                                \r"
     ]
    },
    {
     "data": {
      "text/plain": [
       "2910248"
      ]
     },
     "execution_count": 20,
     "metadata": {},
     "output_type": "execute_result"
    }
   ],
   "source": [
    "indi.count()"
   ]
  },
  {
   "cell_type": "code",
   "execution_count": 27,
   "id": "fb7b768d-4ad9-4053-93db-24c4f93ab39e",
   "metadata": {},
   "outputs": [],
   "source": [
    "# subset columns by regular expression\n",
    "def select_matched(df, pattern, printSchema = False, void = False):\n",
    "    \"\"\"\n",
    "    Function that selects the columns of `df` that match the regular expression `pattern`.\n",
    "    Parameters:\n",
    "        df -- PySpark dataframe\n",
    "        pattern: string -- regular expression\n",
    "        printSchema: bool -- If True, print schema of resulting dataframe\n",
    "        void: bool -- If True, return None, otherwise, return resulting dataframe\n",
    "    \"\"\"\n",
    "    pattern = re.compile(pattern)\n",
    "    selected = [s for s in df.columns if pattern.match(s)]\n",
    "    if (printSchema) & (not void):\n",
    "        df = df.select(selected)\n",
    "        df.printSchema()\n",
    "        return df\n",
    "    elif printSchema:\n",
    "        df.select(selected).printSchema()\n",
    "    elif not void:\n",
    "        return df.select(selected)"
   ]
  },
  {
   "cell_type": "code",
   "execution_count": 34,
   "id": "1c6f4d7e-5ad8-42c0-aa75-96adaf29dc92",
   "metadata": {},
   "outputs": [
    {
     "name": "stdout",
     "output_type": "stream",
     "text": [
      "+-------------------------------------------------+\n",
      "|Voters_VotingPerformanceEvenYearGeneralAndPrimary|\n",
      "+-------------------------------------------------+\n",
      "|                                              64%|\n",
      "|                                              50%|\n",
      "|                                             100%|\n",
      "|                                              71%|\n",
      "|                                              78%|\n",
      "|                                              64%|\n",
      "|                                              71%|\n",
      "|                                              92%|\n",
      "|                                               0%|\n",
      "|                                               0%|\n",
      "|                                              78%|\n",
      "|                                              71%|\n",
      "|                                              92%|\n",
      "|                                              92%|\n",
      "|                                              21%|\n",
      "|                                               7%|\n",
      "|                                              42%|\n",
      "|                                               0%|\n",
      "|                                              35%|\n",
      "|                                              40%|\n",
      "+-------------------------------------------------+\n",
      "only showing top 20 rows\n",
      "\n"
     ]
    },
    {
     "name": "stderr",
     "output_type": "stream",
     "text": [
      "                                                                                \r"
     ]
    }
   ],
   "source": [
    "select_matched(indi, \"Voters\").select(\"Voters_VotingPerformanceEvenYearGeneralAndPrimary\").show()"
   ]
  },
  {
   "cell_type": "code",
   "execution_count": 41,
   "id": "f2ae1ff2-76b7-4a60-b3d8-5203ad0fef76",
   "metadata": {},
   "outputs": [
    {
     "data": {
      "text/plain": [
       "['Voters_VotingPerformanceEvenYearGeneral',\n",
       " 'Voters_VotingPerformanceEvenYearPrimary',\n",
       " 'Voters_VotingPerformanceEvenYearGeneralAndPrimary',\n",
       " 'Voters_VotingPerformanceMinorElection']"
      ]
     },
     "execution_count": 41,
     "metadata": {},
     "output_type": "execute_result"
    }
   ],
   "source": [
    "cs = select_matched(indi, \".*Performance.*\").columns\n",
    "cs"
   ]
  },
  {
   "cell_type": "code",
   "execution_count": 43,
   "id": "0be3a63a-9ddb-49db-a072-8a2a5486fbd4",
   "metadata": {},
   "outputs": [],
   "source": [
    "indi1 = indi.alias('indi1')\n",
    "for c in cs:\n",
    "    indi1.withColumn(c, F.regexp_replace(F.col(c), \"%\", \"\").cast(\"integer\"))\n"
   ]
  },
  {
   "cell_type": "code",
   "execution_count": 51,
   "id": "1816766b-572b-4f7b-a4ad-7a2b6e7dcd49",
   "metadata": {},
   "outputs": [
    {
     "ename": "ValueError",
     "evalue": "Cannot convert column into bool: please use '&' for 'and', '|' for 'or', '~' for 'not' when building DataFrame boolean expressions.",
     "output_type": "error",
     "traceback": [
      "\u001b[0;31m---------------------------------------------------------------------------\u001b[0m",
      "\u001b[0;31mValueError\u001b[0m                                Traceback (most recent call last)",
      "Cell \u001b[0;32mIn[51], line 1\u001b[0m\n\u001b[0;32m----> 1\u001b[0m indi\u001b[38;5;241m.\u001b[39mselect([F\u001b[38;5;241m.\u001b[39mcol(c) \u001b[38;5;28;01mfor\u001b[39;00m c \u001b[38;5;129;01min\u001b[39;00m indi\u001b[38;5;241m.\u001b[39mcolumns \u001b[38;5;28;01mif\u001b[39;00m F\u001b[38;5;241m.\u001b[39mlit(\u001b[38;5;124m'\u001b[39m\u001b[38;5;124m%\u001b[39m\u001b[38;5;124m'\u001b[39m)\u001b[38;5;241m.\u001b[39misin(F\u001b[38;5;241m.\u001b[39mcol(c))])\u001b[38;5;241m.\u001b[39mprintSchema()\n",
      "Cell \u001b[0;32mIn[51], line 1\u001b[0m, in \u001b[0;36m<listcomp>\u001b[0;34m(.0)\u001b[0m\n\u001b[0;32m----> 1\u001b[0m indi\u001b[38;5;241m.\u001b[39mselect([F\u001b[38;5;241m.\u001b[39mcol(c) \u001b[38;5;28;01mfor\u001b[39;00m c \u001b[38;5;129;01min\u001b[39;00m indi\u001b[38;5;241m.\u001b[39mcolumns \u001b[38;5;28;01mif\u001b[39;00m F\u001b[38;5;241m.\u001b[39mlit(\u001b[38;5;124m'\u001b[39m\u001b[38;5;124m%\u001b[39m\u001b[38;5;124m'\u001b[39m)\u001b[38;5;241m.\u001b[39misin(F\u001b[38;5;241m.\u001b[39mcol(c))])\u001b[38;5;241m.\u001b[39mprintSchema()\n",
      "File \u001b[0;32m/usr/lib/spark/python/pyspark/sql/column.py:905\u001b[0m, in \u001b[0;36mColumn.__nonzero__\u001b[0;34m(self)\u001b[0m\n\u001b[1;32m    904\u001b[0m \u001b[38;5;28;01mdef\u001b[39;00m \u001b[38;5;21m__nonzero__\u001b[39m(\u001b[38;5;28mself\u001b[39m):\n\u001b[0;32m--> 905\u001b[0m     \u001b[38;5;28;01mraise\u001b[39;00m \u001b[38;5;167;01mValueError\u001b[39;00m(\u001b[38;5;124m\"\u001b[39m\u001b[38;5;124mCannot convert column into bool: please use \u001b[39m\u001b[38;5;124m'\u001b[39m\u001b[38;5;124m&\u001b[39m\u001b[38;5;124m'\u001b[39m\u001b[38;5;124m for \u001b[39m\u001b[38;5;124m'\u001b[39m\u001b[38;5;124mand\u001b[39m\u001b[38;5;124m'\u001b[39m\u001b[38;5;124m, \u001b[39m\u001b[38;5;124m'\u001b[39m\u001b[38;5;124m|\u001b[39m\u001b[38;5;124m'\u001b[39m\u001b[38;5;124m for \u001b[39m\u001b[38;5;124m'\u001b[39m\u001b[38;5;124mor\u001b[39m\u001b[38;5;124m'\u001b[39m\u001b[38;5;124m, \u001b[39m\u001b[38;5;124m\"\u001b[39m\n\u001b[1;32m    906\u001b[0m                      \u001b[38;5;124m\"\u001b[39m\u001b[38;5;124m'\u001b[39m\u001b[38;5;124m~\u001b[39m\u001b[38;5;124m'\u001b[39m\u001b[38;5;124m for \u001b[39m\u001b[38;5;124m'\u001b[39m\u001b[38;5;124mnot\u001b[39m\u001b[38;5;124m'\u001b[39m\u001b[38;5;124m when building DataFrame boolean expressions.\u001b[39m\u001b[38;5;124m\"\u001b[39m)\n",
      "\u001b[0;31mValueError\u001b[0m: Cannot convert column into bool: please use '&' for 'and', '|' for 'or', '~' for 'not' when building DataFrame boolean expressions."
     ]
    }
   ],
   "source": [
    "indi.select([F.col(c) for c in indi.columns if F.lit('%').isin(F.col(c))]).printSchema()"
   ]
  },
  {
   "cell_type": "code",
   "execution_count": null,
   "id": "fc828806-8043-4a7c-96e1-6e3ab4b1fdde",
   "metadata": {},
   "outputs": [],
   "source": []
  }
 ],
 "metadata": {
  "kernelspec": {
   "display_name": "PySpark",
   "language": "python",
   "name": "pyspark"
  },
  "language_info": {
   "codemirror_mode": {
    "name": "ipython",
    "version": 3
   },
   "file_extension": ".py",
   "mimetype": "text/x-python",
   "name": "python",
   "nbconvert_exporter": "python",
   "pygments_lexer": "ipython3",
   "version": "3.8.15"
  }
 },
 "nbformat": 4,
 "nbformat_minor": 5
}