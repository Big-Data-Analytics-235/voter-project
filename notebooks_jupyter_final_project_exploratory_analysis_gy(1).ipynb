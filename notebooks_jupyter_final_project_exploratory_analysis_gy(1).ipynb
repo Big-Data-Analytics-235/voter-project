{
 "cells": [
  {
   "cell_type": "code",
   "execution_count": 1,
   "id": "dc6b649d-2001-47f9-b7e2-5cc100e002a1",
   "metadata": {},
   "outputs": [],
   "source": [
    "import os\n",
    "from pyspark.sql.types import StructField, StructType, StringType, LongType\n",
    "# from pyspark.sql.functions import to_date, col, year, concat, lit, when, date_add, to_date, add_months, month\n",
    "from pyspark.sql.functions import *\n",
    "import random\n",
    "from pyspark.sql.functions import when, avg\n",
    "import pyspark.sql.functions as F\n",
    "import matplotlib.pyplot as plt\n",
    "import pandas as pd"
   ]
  },
  {
   "cell_type": "code",
   "execution_count": 2,
   "id": "52e47ccb-c723-409f-bb2b-f60c3dd0ad84",
   "metadata": {},
   "outputs": [],
   "source": [
    "# Load Tennessee data\n",
    "datapath = \"gs://pstat235-gy/notebooks/jupyter/final_project/VM2Uniform/VM2Uniform--TN--2021-03-29/VM2Uniform--TN--2021-03-29.tab\""
   ]
  },
  {
   "cell_type": "code",
   "execution_count": 3,
   "id": "fbd40969-f00f-45f7-8457-1d492ec077ca",
   "metadata": {},
   "outputs": [
    {
     "name": "stderr",
     "output_type": "stream",
     "text": [
      "                                                                                \r"
     ]
    }
   ],
   "source": [
    "ct_data = spark.read.format(\"csv\")\\\n",
    ".option(\"inferSchema\", \"true\")\\\n",
    ".option(\"header\", \"true\")\\\n",
    ".option(\"delimiter\", \"\\t\")\\\n",
    ".csv(datapath)"
   ]
  },
  {
   "cell_type": "code",
   "execution_count": 4,
   "id": "969ae364-b7b8-4551-933a-4b43026400b3",
   "metadata": {},
   "outputs": [],
   "source": [
    "from pyspark.sql.functions import col, count, when\n",
    "def drop_null_columns(df, return_dropped_names = False, threshold = 0):\n",
    "    \"\"\"\n",
    "    Function that drops the columns of a dataframe that contain with only a low number of non-null values.\n",
    "    This number is specified by `threshold`. `threshold = 0` means columns with entirely null values get dropped.\n",
    "    Optionally returns a list of column names that get dropped.\n",
    "    \"\"\"\n",
    "    not_null_cnt = df.select([count(when(col(c).isNotNull(), c)).alias(c) for c in df.columns]).collect()[0].asDict()\n",
    "    to_drop = [k for k, v in not_null_cnt.items() if v <= threshold]\n",
    "    if return_dropped_names:\n",
    "        return df.drop(*to_drop), to_drop\n",
    "    else:\n",
    "        return df.drop(*to_drop)"
   ]
  },
  {
   "cell_type": "code",
   "execution_count": 5,
   "id": "385977bd-eb53-4837-928c-a36dff460833",
   "metadata": {},
   "outputs": [
    {
     "name": "stderr",
     "output_type": "stream",
     "text": [
      "                                                                                \r"
     ]
    },
    {
     "data": {
      "text/plain": [
       "[Row(General_2012=None), Row(General_2012='Y')]"
      ]
     },
     "execution_count": 5,
     "metadata": {},
     "output_type": "execute_result"
    }
   ],
   "source": [
    "# # for i in [\"AnyElection_2010\", \"AnyElection_2011\", \"AnyElection_2012\"]:\n",
    "# #     print(ct_data.select(i).distinct().collect())\n",
    "# # #     print(i)\n",
    "# # #     print(ct_data.groupBy(i).agg(count(\"*\").alias(\"count\"), (count(\"*\")/ct_data.count()).alias(\"proportion\")))\n",
    "\n",
    "# for i in [\"AnyElection_2010\", \"AnyElection_2011\", \"AnyElection_2012\"]:\n",
    "#     ct_data.select([i]).show(10)\n",
    "i = \"General_2012\"\n",
    "ct_data.select(i).distinct().collect()"
   ]
  },
  {
   "cell_type": "markdown",
   "id": "22220777-6dba-4f55-8dc1-d26fda48c6d4",
   "metadata": {},
   "source": [
    "Compare proportion voted via manual calculation VS OFFICIAL voter turnout figures by county:"
   ]
  },
  {
   "cell_type": "code",
   "execution_count": 6,
   "id": "86d26e76-b3ac-45a6-b738-477dee1de8d4",
   "metadata": {},
   "outputs": [
    {
     "name": "stderr",
     "output_type": "stream",
     "text": [
      "                                                                                \r"
     ]
    },
    {
     "name": "stdout",
     "output_type": "stream",
     "text": [
      "+----------+---------------------------------------------------+----------------+\n",
      "|    County|ElectionReturns_G12CountyTurnoutAllRegisteredVoters|proportion_voted|\n",
      "+----------+---------------------------------------------------+----------------+\n",
      "|    WILSON|                                                68%|         0.48472|\n",
      "|WILLIAMSON|                                                72%|         0.49474|\n",
      "|     WHITE|                                                56%|         0.47764|\n",
      "|   WEAKLEY|                                                59%|         0.53515|\n",
      "|     WAYNE|                                                52%|         0.48623|\n",
      "|WASHINGTON|                                                63%|         0.48377|\n",
      "|    WARREN|                                                57%|         0.48877|\n",
      "| VAN BUREN|                                                50%|          0.4344|\n",
      "|     UNION|                                                53%|         0.41367|\n",
      "|    UNICOI|                                                62%|         0.52109|\n",
      "| TROUSDALE|                                                54%|         0.45632|\n",
      "|    TIPTON|                                                60%|         0.51929|\n",
      "|    SUMNER|                                                64%|         0.47454|\n",
      "|  SULLIVAN|                                                68%|         0.49516|\n",
      "|   STEWART|                                                59%|         0.46589|\n",
      "|     SMITH|                                                56%|         0.49209|\n",
      "|    SHELBY|                                                62%|         0.53343|\n",
      "|    SEVIER|                                                59%|         0.41459|\n",
      "|SEQUATCHIE|                                                60%|          0.4173|\n",
      "|     SCOTT|                                                46%|         0.40989|\n",
      "|RUTHERFORD|                                                64%|         0.44791|\n",
      "| ROBERTSON|                                                65%|         0.50276|\n",
      "|     ROANE|                                                60%|         0.51307|\n",
      "|      RHEA|                                                54%|         0.44805|\n",
      "|    PUTNAM|                                                58%|         0.46216|\n",
      "|      POLK|                                                54%|         0.39291|\n",
      "|   PICKETT|                                                60%|         0.50809|\n",
      "|     PERRY|                                                48%|          0.4201|\n",
      "|   OVERTON|                                                54%|         0.46058|\n",
      "|     OBION|                                                59%|         0.54585|\n",
      "|    MORGAN|                                                56%|         0.46989|\n",
      "|     MOORE|                                                61%|         0.48463|\n",
      "|MONTGOMERY|                                                55%|         0.38006|\n",
      "|    MONROE|                                                53%|          0.4393|\n",
      "|     MEIGS|                                                52%|         0.43102|\n",
      "|   MCNAIRY|                                                63%|         0.52347|\n",
      "|    MCMINN|                                                59%|         0.48005|\n",
      "|     MAURY|                                                73%|         0.46301|\n",
      "|  MARSHALL|                                                59%|         0.47065|\n",
      "|    MARION|                                                53%|         0.48035|\n",
      "|   MADISON|                                                63%|         0.56138|\n",
      "|     MACON|                                                52%|         0.43682|\n",
      "|    LOUDON|                                                67%|         0.49938|\n",
      "|   LINCOLN|                                                65%|         0.51979|\n",
      "|     LEWIS|                                                58%|         0.48456|\n",
      "|  LAWRENCE|                                                59%|         0.54125|\n",
      "|LAUDERDALE|                                                61%|         0.52867|\n",
      "|      LAKE|                                                50%|         0.48922|\n",
      "|      KNOX|                                                61%|         0.49518|\n",
      "|   JOHNSON|                                                55%|         0.47603|\n",
      "+----------+---------------------------------------------------+----------------+\n",
      "only showing top 50 rows\n",
      "\n"
     ]
    }
   ],
   "source": [
    "# OK, these don't match\n",
    "\n",
    "ct_data_temp = ct_data.fillna(\"N\", subset = [\"General_2012\"])\n",
    "ct_data_temp = ct_data_temp.withColumn(\"voted_general_2012\", when(ct_data_temp.General_2012 == \"Y\",1)\n",
    "                             .otherwise(0))\n",
    "# ct_data_2012_gen = ct_data.select([\"ElectionReturns_G12CountyTurnoutAllRegisteredVoters\", \"voted_general_2012\", \"County\"])\n",
    "voting_proportion = ct_data_temp.groupBy(['County', \"ElectionReturns_G12CountyTurnoutAllRegisteredVoters\"])\\\n",
    "    .agg(F.round(F.avg(\"voted_general_2012\"),5)\\\n",
    "    .alias(\"proportion_voted\")).sort(['County'], ascending = False)\n",
    "voting_proportion.show(50)"
   ]
  },
  {
   "cell_type": "code",
   "execution_count": 7,
   "id": "283381c6-b95e-4be0-a88a-5d25590c2ee5",
   "metadata": {},
   "outputs": [
    {
     "name": "stderr",
     "output_type": "stream",
     "text": [
      "23/02/22 00:04:17 WARN org.apache.spark.sql.catalyst.util.package: Truncated the string representation of a plan since it was too large. This behavior can be adjusted by setting 'spark.sql.debug.maxToStringFields'.\n",
      "                                                                                \r"
     ]
    },
    {
     "data": {
      "image/png": "[encoded data removed]",
      "text/plain": [
       "<Figure size 640x480 with 1 Axes>"
      ]
     },
     "metadata": {},
     "output_type": "display_data"
    },
    {
     "data": {
      "text/html": [
       "<div>\n",
       "<style scoped>\n",
       "    .dataframe tbody tr th:only-of-type {\n",
       "        vertical-align: middle;\n",
       "    }\n",
       "\n",
       "    .dataframe tbody tr th {\n",
       "        vertical-align: top;\n",
       "    }\n",
       "\n",
       "    .dataframe thead th {\n",
       "        text-align: right;\n",
       "    }\n",
       "</style>\n",
       "<table border=\"1\" class=\"dataframe\">\n",
       "  <thead>\n",
       "    <tr style=\"text-align: right;\">\n",
       "      <th></th>\n",
       "      <th>Voters_BirthDate</th>\n",
       "      <th>year_birth</th>\n",
       "    </tr>\n",
       "  </thead>\n",
       "  <tbody>\n",
       "    <tr>\n",
       "      <th>0</th>\n",
       "      <td>09/02/1960</td>\n",
       "      <td>1960.0</td>\n",
       "    </tr>\n",
       "    <tr>\n",
       "      <th>1</th>\n",
       "      <td>09/02/1960</td>\n",
       "      <td>1960.0</td>\n",
       "    </tr>\n",
       "    <tr>\n",
       "      <th>2</th>\n",
       "      <td>10/30/1931</td>\n",
       "      <td>1931.0</td>\n",
       "    </tr>\n",
       "    <tr>\n",
       "      <th>3</th>\n",
       "      <td>07/19/1986</td>\n",
       "      <td>1986.0</td>\n",
       "    </tr>\n",
       "    <tr>\n",
       "      <th>4</th>\n",
       "      <td>11/27/1955</td>\n",
       "      <td>1955.0</td>\n",
       "    </tr>\n",
       "  </tbody>\n",
       "</table>\n",
       "</div>"
      ],
      "text/plain": [
       "  Voters_BirthDate  year_birth\n",
       "0       09/02/1960      1960.0\n",
       "1       09/02/1960      1960.0\n",
       "2       10/30/1931      1931.0\n",
       "3       07/19/1986      1986.0\n",
       "4       11/27/1955      1955.0"
      ]
     },
     "execution_count": 7,
     "metadata": {},
     "output_type": "execute_result"
    }
   ],
   "source": [
    "# PERHAPS IT'S BECAUSE WE HAVE SURVIVORSHIP BIAS?\n",
    "# check out the AGE range of the voters\n",
    "\n",
    "data_pandas = ct_data.sample(True, 0.05, seed = 19480384).toPandas()\n",
    "\n",
    "data_pandas[[\"Voters_Age\"]].plot(kind = \"hist\", bins = 50, edgecolor = \"black\")\n",
    "plt.xlabel(\"Age\")\n",
    "plt.ylabel(\"Frequency\")\n",
    "plt.title(\"Presence of Survivorship Bias?\")\n",
    "plt.show()\n",
    "\n",
    "data_pandas[\"year_birth\"] = pd.to_datetime(data_pandas[\"Voters_BirthDate\"]).dt.year\n",
    "\n",
    "data_pandas[[\"Voters_BirthDate\", \"year_birth\"]].head()"
   ]
  },
  {
   "cell_type": "markdown",
   "id": "9c0d0469-4674-47dd-b9d5-9b85322bb49f",
   "metadata": {},
   "source": [
    "ok, YES. there IS survivorship bias (i.e. the data captures the voters that are CURRENTLY alive, not all previous voters. \n",
    "that explains in part the mismatch between the official county level voter participation rates and the manually computed ones."
   ]
  },
  {
   "cell_type": "code",
   "execution_count": 8,
   "id": "509130ca-2762-4ceb-997c-fe8b0a986544",
   "metadata": {},
   "outputs": [
    {
     "data": {
      "image/png": "[encoded data removed]",
      "text/plain": [
       "<Figure size 640x480 with 1 Axes>"
      ]
     },
     "metadata": {},
     "output_type": "display_data"
    }
   ],
   "source": [
    "data_pandas[[\"year_birth\"]].plot(kind = \"hist\", bins = 50, edgecolor = \"black\")\n",
    "plt.xlabel(\"YOB\")\n",
    "plt.ylabel(\"Frequency\")\n",
    "plt.title(\"Presence of Survivorship Bias?\")\n",
    "plt.show()"
   ]
  },
  {
   "cell_type": "markdown",
   "id": "db37958e-9950-4de0-93c1-40ff59db2588",
   "metadata": {},
   "source": [
    "IMPORTANT here to note that we have people BORN in 2000 in this dataset, with \"NONE\" as their voting behavior\n",
    "in years 2000 - 2021. We cannot just FILL in \"Not voted\" for these people."
   ]
  },
  {
   "cell_type": "code",
   "execution_count": 9,
   "id": "3f0c4075-7fdc-4f2c-b93f-2fb806c0ffe1",
   "metadata": {},
   "outputs": [
    {
     "data": {
      "text/html": [
       "<div>\n",
       "<style scoped>\n",
       "    .dataframe tbody tr th:only-of-type {\n",
       "        vertical-align: middle;\n",
       "    }\n",
       "\n",
       "    .dataframe tbody tr th {\n",
       "        vertical-align: top;\n",
       "    }\n",
       "\n",
       "    .dataframe thead th {\n",
       "        text-align: right;\n",
       "    }\n",
       "</style>\n",
       "<table border=\"1\" class=\"dataframe\">\n",
       "  <thead>\n",
       "    <tr style=\"text-align: right;\">\n",
       "      <th></th>\n",
       "      <th>SEQUENCE</th>\n",
       "      <th>LALVOTERID</th>\n",
       "      <th>Voters_Active</th>\n",
       "      <th>Voters_StateVoterID</th>\n",
       "      <th>Voters_CountyVoterID</th>\n",
       "      <th>VoterTelephones_LandlineAreaCode</th>\n",
       "      <th>VoterTelephones_Landline7Digit</th>\n",
       "      <th>VoterTelephones_LandlineFormatted</th>\n",
       "      <th>VoterTelephones_LandlineUnformatted</th>\n",
       "      <th>VoterTelephones_LandlineConfidenceCode</th>\n",
       "      <th>...</th>\n",
       "      <th>PRI_BLT_2008</th>\n",
       "      <th>PRI_BLT_2007</th>\n",
       "      <th>PRI_BLT_2006</th>\n",
       "      <th>PRI_BLT_2005</th>\n",
       "      <th>PRI_BLT_2004</th>\n",
       "      <th>PRI_BLT_2003</th>\n",
       "      <th>PRI_BLT_2002</th>\n",
       "      <th>PRI_BLT_2001</th>\n",
       "      <th>PRI_BLT_2000</th>\n",
       "      <th>year_birth</th>\n",
       "    </tr>\n",
       "  </thead>\n",
       "  <tbody>\n",
       "    <tr>\n",
       "      <th>37</th>\n",
       "      <td>778</td>\n",
       "      <td>LALTN605880844</td>\n",
       "      <td>A</td>\n",
       "      <td>None</td>\n",
       "      <td>1000116730</td>\n",
       "      <td>865.0</td>\n",
       "      <td>494-4099</td>\n",
       "      <td>(865) 494-4099</td>\n",
       "      <td>8.654944e+09</td>\n",
       "      <td>2.0</td>\n",
       "      <td>...</td>\n",
       "      <td>None</td>\n",
       "      <td>None</td>\n",
       "      <td>None</td>\n",
       "      <td>None</td>\n",
       "      <td>None</td>\n",
       "      <td>None</td>\n",
       "      <td>None</td>\n",
       "      <td>None</td>\n",
       "      <td>None</td>\n",
       "      <td>2001.0</td>\n",
       "    </tr>\n",
       "    <tr>\n",
       "      <th>111</th>\n",
       "      <td>2705</td>\n",
       "      <td>LALTN540701972</td>\n",
       "      <td>A</td>\n",
       "      <td>None</td>\n",
       "      <td>1000105354</td>\n",
       "      <td>NaN</td>\n",
       "      <td>None</td>\n",
       "      <td>None</td>\n",
       "      <td>NaN</td>\n",
       "      <td>NaN</td>\n",
       "      <td>...</td>\n",
       "      <td>None</td>\n",
       "      <td>None</td>\n",
       "      <td>None</td>\n",
       "      <td>None</td>\n",
       "      <td>None</td>\n",
       "      <td>None</td>\n",
       "      <td>None</td>\n",
       "      <td>None</td>\n",
       "      <td>None</td>\n",
       "      <td>2000.0</td>\n",
       "    </tr>\n",
       "    <tr>\n",
       "      <th>123</th>\n",
       "      <td>3040</td>\n",
       "      <td>LALTN605879876</td>\n",
       "      <td>A</td>\n",
       "      <td>None</td>\n",
       "      <td>1000115216</td>\n",
       "      <td>NaN</td>\n",
       "      <td>None</td>\n",
       "      <td>None</td>\n",
       "      <td>NaN</td>\n",
       "      <td>NaN</td>\n",
       "      <td>...</td>\n",
       "      <td>None</td>\n",
       "      <td>None</td>\n",
       "      <td>None</td>\n",
       "      <td>None</td>\n",
       "      <td>None</td>\n",
       "      <td>None</td>\n",
       "      <td>None</td>\n",
       "      <td>None</td>\n",
       "      <td>None</td>\n",
       "      <td>2002.0</td>\n",
       "    </tr>\n",
       "    <tr>\n",
       "      <th>178</th>\n",
       "      <td>3969</td>\n",
       "      <td>LALTN551578829</td>\n",
       "      <td>A</td>\n",
       "      <td>None</td>\n",
       "      <td>1000107621</td>\n",
       "      <td>NaN</td>\n",
       "      <td>None</td>\n",
       "      <td>None</td>\n",
       "      <td>NaN</td>\n",
       "      <td>NaN</td>\n",
       "      <td>...</td>\n",
       "      <td>None</td>\n",
       "      <td>None</td>\n",
       "      <td>None</td>\n",
       "      <td>None</td>\n",
       "      <td>None</td>\n",
       "      <td>None</td>\n",
       "      <td>None</td>\n",
       "      <td>None</td>\n",
       "      <td>None</td>\n",
       "      <td>2000.0</td>\n",
       "    </tr>\n",
       "    <tr>\n",
       "      <th>245</th>\n",
       "      <td>5263</td>\n",
       "      <td>LALTN572442449</td>\n",
       "      <td>A</td>\n",
       "      <td>None</td>\n",
       "      <td>1000109487</td>\n",
       "      <td>NaN</td>\n",
       "      <td>None</td>\n",
       "      <td>None</td>\n",
       "      <td>NaN</td>\n",
       "      <td>NaN</td>\n",
       "      <td>...</td>\n",
       "      <td>None</td>\n",
       "      <td>None</td>\n",
       "      <td>None</td>\n",
       "      <td>None</td>\n",
       "      <td>None</td>\n",
       "      <td>None</td>\n",
       "      <td>None</td>\n",
       "      <td>None</td>\n",
       "      <td>None</td>\n",
       "      <td>2001.0</td>\n",
       "    </tr>\n",
       "    <tr>\n",
       "      <th>...</th>\n",
       "      <td>...</td>\n",
       "      <td>...</td>\n",
       "      <td>...</td>\n",
       "      <td>...</td>\n",
       "      <td>...</td>\n",
       "      <td>...</td>\n",
       "      <td>...</td>\n",
       "      <td>...</td>\n",
       "      <td>...</td>\n",
       "      <td>...</td>\n",
       "      <td>...</td>\n",
       "      <td>...</td>\n",
       "      <td>...</td>\n",
       "      <td>...</td>\n",
       "      <td>...</td>\n",
       "      <td>...</td>\n",
       "      <td>...</td>\n",
       "      <td>...</td>\n",
       "      <td>...</td>\n",
       "      <td>...</td>\n",
       "      <td>...</td>\n",
       "    </tr>\n",
       "    <tr>\n",
       "      <th>203359</th>\n",
       "      <td>4074158</td>\n",
       "      <td>LALTN593914314</td>\n",
       "      <td>A</td>\n",
       "      <td>None</td>\n",
       "      <td>189000175623</td>\n",
       "      <td>615.0</td>\n",
       "      <td>754-9633</td>\n",
       "      <td>(615) 754-9633</td>\n",
       "      <td>6.157550e+09</td>\n",
       "      <td>2.0</td>\n",
       "      <td>...</td>\n",
       "      <td>None</td>\n",
       "      <td>None</td>\n",
       "      <td>None</td>\n",
       "      <td>None</td>\n",
       "      <td>None</td>\n",
       "      <td>None</td>\n",
       "      <td>None</td>\n",
       "      <td>None</td>\n",
       "      <td>None</td>\n",
       "      <td>2002.0</td>\n",
       "    </tr>\n",
       "    <tr>\n",
       "      <th>203437</th>\n",
       "      <td>4075941</td>\n",
       "      <td>LALTN551772826</td>\n",
       "      <td>A</td>\n",
       "      <td>None</td>\n",
       "      <td>189000192582</td>\n",
       "      <td>NaN</td>\n",
       "      <td>None</td>\n",
       "      <td>None</td>\n",
       "      <td>NaN</td>\n",
       "      <td>NaN</td>\n",
       "      <td>...</td>\n",
       "      <td>None</td>\n",
       "      <td>None</td>\n",
       "      <td>None</td>\n",
       "      <td>None</td>\n",
       "      <td>None</td>\n",
       "      <td>None</td>\n",
       "      <td>None</td>\n",
       "      <td>None</td>\n",
       "      <td>None</td>\n",
       "      <td>2000.0</td>\n",
       "    </tr>\n",
       "    <tr>\n",
       "      <th>203445</th>\n",
       "      <td>4076093</td>\n",
       "      <td>LALTN584139083</td>\n",
       "      <td>A</td>\n",
       "      <td>None</td>\n",
       "      <td>189000175041</td>\n",
       "      <td>615.0</td>\n",
       "      <td>773-8487</td>\n",
       "      <td>(615) 773-8487</td>\n",
       "      <td>6.157738e+09</td>\n",
       "      <td>2.0</td>\n",
       "      <td>...</td>\n",
       "      <td>None</td>\n",
       "      <td>None</td>\n",
       "      <td>None</td>\n",
       "      <td>None</td>\n",
       "      <td>None</td>\n",
       "      <td>None</td>\n",
       "      <td>None</td>\n",
       "      <td>None</td>\n",
       "      <td>None</td>\n",
       "      <td>2001.0</td>\n",
       "    </tr>\n",
       "    <tr>\n",
       "      <th>203453</th>\n",
       "      <td>4076193</td>\n",
       "      <td>LALTN551783321</td>\n",
       "      <td>A</td>\n",
       "      <td>None</td>\n",
       "      <td>189000166209</td>\n",
       "      <td>NaN</td>\n",
       "      <td>None</td>\n",
       "      <td>None</td>\n",
       "      <td>NaN</td>\n",
       "      <td>NaN</td>\n",
       "      <td>...</td>\n",
       "      <td>None</td>\n",
       "      <td>None</td>\n",
       "      <td>None</td>\n",
       "      <td>None</td>\n",
       "      <td>None</td>\n",
       "      <td>None</td>\n",
       "      <td>None</td>\n",
       "      <td>None</td>\n",
       "      <td>None</td>\n",
       "      <td>2000.0</td>\n",
       "    </tr>\n",
       "    <tr>\n",
       "      <th>203474</th>\n",
       "      <td>4076575</td>\n",
       "      <td>LALTN606117119</td>\n",
       "      <td>A</td>\n",
       "      <td>None</td>\n",
       "      <td>189000179123</td>\n",
       "      <td>NaN</td>\n",
       "      <td>None</td>\n",
       "      <td>None</td>\n",
       "      <td>NaN</td>\n",
       "      <td>NaN</td>\n",
       "      <td>...</td>\n",
       "      <td>None</td>\n",
       "      <td>None</td>\n",
       "      <td>None</td>\n",
       "      <td>None</td>\n",
       "      <td>None</td>\n",
       "      <td>None</td>\n",
       "      <td>None</td>\n",
       "      <td>None</td>\n",
       "      <td>None</td>\n",
       "      <td>2002.0</td>\n",
       "    </tr>\n",
       "  </tbody>\n",
       "</table>\n",
       "<p>7852 rows × 727 columns</p>\n",
       "</div>"
      ],
      "text/plain": [
       "        SEQUENCE      LALVOTERID Voters_Active Voters_StateVoterID  \\\n",
       "37           778  LALTN605880844             A                None   \n",
       "111         2705  LALTN540701972             A                None   \n",
       "123         3040  LALTN605879876             A                None   \n",
       "178         3969  LALTN551578829             A                None   \n",
       "245         5263  LALTN572442449             A                None   \n",
       "...          ...             ...           ...                 ...   \n",
       "203359   4074158  LALTN593914314             A                None   \n",
       "203437   4075941  LALTN551772826             A                None   \n",
       "203445   4076093  LALTN584139083             A                None   \n",
       "203453   4076193  LALTN551783321             A                None   \n",
       "203474   4076575  LALTN606117119             A                None   \n",
       "\n",
       "        Voters_CountyVoterID  VoterTelephones_LandlineAreaCode  \\\n",
       "37                1000116730                             865.0   \n",
       "111               1000105354                               NaN   \n",
       "123               1000115216                               NaN   \n",
       "178               1000107621                               NaN   \n",
       "245               1000109487                               NaN   \n",
       "...                      ...                               ...   \n",
       "203359          189000175623                             615.0   \n",
       "203437          189000192582                               NaN   \n",
       "203445          189000175041                             615.0   \n",
       "203453          189000166209                               NaN   \n",
       "203474          189000179123                               NaN   \n",
       "\n",
       "       VoterTelephones_Landline7Digit VoterTelephones_LandlineFormatted  \\\n",
       "37                           494-4099                    (865) 494-4099   \n",
       "111                              None                              None   \n",
       "123                              None                              None   \n",
       "178                              None                              None   \n",
       "245                              None                              None   \n",
       "...                               ...                               ...   \n",
       "203359                       754-9633                    (615) 754-9633   \n",
       "203437                           None                              None   \n",
       "203445                       773-8487                    (615) 773-8487   \n",
       "203453                           None                              None   \n",
       "203474                           None                              None   \n",
       "\n",
       "        VoterTelephones_LandlineUnformatted  \\\n",
       "37                             8.654944e+09   \n",
       "111                                     NaN   \n",
       "123                                     NaN   \n",
       "178                                     NaN   \n",
       "245                                     NaN   \n",
       "...                                     ...   \n",
       "203359                         6.157550e+09   \n",
       "203437                                  NaN   \n",
       "203445                         6.157738e+09   \n",
       "203453                                  NaN   \n",
       "203474                                  NaN   \n",
       "\n",
       "        VoterTelephones_LandlineConfidenceCode  ... PRI_BLT_2008 PRI_BLT_2007  \\\n",
       "37                                         2.0  ...         None         None   \n",
       "111                                        NaN  ...         None         None   \n",
       "123                                        NaN  ...         None         None   \n",
       "178                                        NaN  ...         None         None   \n",
       "245                                        NaN  ...         None         None   \n",
       "...                                        ...  ...          ...          ...   \n",
       "203359                                     2.0  ...         None         None   \n",
       "203437                                     NaN  ...         None         None   \n",
       "203445                                     2.0  ...         None         None   \n",
       "203453                                     NaN  ...         None         None   \n",
       "203474                                     NaN  ...         None         None   \n",
       "\n",
       "        PRI_BLT_2006  PRI_BLT_2005 PRI_BLT_2004 PRI_BLT_2003 PRI_BLT_2002  \\\n",
       "37              None          None         None         None         None   \n",
       "111             None          None         None         None         None   \n",
       "123             None          None         None         None         None   \n",
       "178             None          None         None         None         None   \n",
       "245             None          None         None         None         None   \n",
       "...              ...           ...          ...          ...          ...   \n",
       "203359          None          None         None         None         None   \n",
       "203437          None          None         None         None         None   \n",
       "203445          None          None         None         None         None   \n",
       "203453          None          None         None         None         None   \n",
       "203474          None          None         None         None         None   \n",
       "\n",
       "       PRI_BLT_2001 PRI_BLT_2000 year_birth  \n",
       "37             None         None     2001.0  \n",
       "111            None         None     2000.0  \n",
       "123            None         None     2002.0  \n",
       "178            None         None     2000.0  \n",
       "245            None         None     2001.0  \n",
       "...             ...          ...        ...  \n",
       "203359         None         None     2002.0  \n",
       "203437         None         None     2000.0  \n",
       "203445         None         None     2001.0  \n",
       "203453         None         None     2000.0  \n",
       "203474         None         None     2002.0  \n",
       "\n",
       "[7852 rows x 727 columns]"
      ]
     },
     "execution_count": 9,
     "metadata": {},
     "output_type": "execute_result"
    }
   ],
   "source": [
    "data_pandas[data_pandas[\"year_birth\"] >= 2000]"
   ]
  },
  {
   "cell_type": "code",
   "execution_count": null,
   "id": "967d0b8d-6c01-4d9d-ae75-e18666c6dac4",
   "metadata": {},
   "outputs": [],
   "source": [
    "# drop anything >30% missing & save parquet. \n",
    "# NOTE THAT MISSING HERE ALSO SOMETIMES MEANS \"no\"\n",
    "\n",
    "# ct, d_cols = drop_null_columns(ct_data, Tdf = spark.read.parquet(\"TN_parquet\")rue, threshold = 0.3)\n",
    "ct_data.write.format(\"parquet\").save(\"TN_parquet\")"
   ]
  },
  {
   "cell_type": "code",
   "execution_count": 3,
   "id": "0eb7b671-8eb1-4444-985f-ced8486e0d58",
   "metadata": {},
   "outputs": [
    {
     "name": "stderr",
     "output_type": "stream",
     "text": [
      "                                                                                \r"
     ]
    }
   ],
   "source": [
    "ct_data = spark.read.parquet(\"TN_parquet\")"
   ]
  },
  {
   "cell_type": "markdown",
   "id": "d0c2aa19-7f8a-4563-a5b5-261b4f096691",
   "metadata": {},
   "source": [
    "based on the voter AGE, calculate the DATE at which they turn 18.\n",
    "make a new variable that is the YEAR of the earliest election that someone COULD participate in\n",
    "IF the DATE is less than Nov 3rd, take the year at which they turn 18. If the date is greater than Nov 3rd,\n",
    "get the year afterwards."
   ]
  },
  {
   "cell_type": "code",
   "execution_count": 10,
   "id": "b3284d35-62c3-4e3b-99f5-dd01a3963984",
   "metadata": {},
   "outputs": [
    {
     "name": "stdout",
     "output_type": "stream",
     "text": [
      "+----------------+----------+\n",
      "|Voters_BirthDate|   DATE_18|\n",
      "+----------------+----------+\n",
      "|      09/02/1960|1978-09-02|\n",
      "|      01/24/1977|1995-01-24|\n",
      "|      08/13/1935|1953-08-13|\n",
      "|      10/30/1931|1949-10-30|\n",
      "|      02/01/1926|1944-02-01|\n",
      "|      05/12/1929|1947-05-12|\n",
      "|      12/13/1939|1957-12-13|\n",
      "|      04/10/1929|1947-04-10|\n",
      "|      06/04/1967|1985-06-04|\n",
      "|      10/10/1968|1986-10-10|\n",
      "+----------------+----------+\n",
      "only showing top 10 rows\n",
      "\n"
     ]
    }
   ],
   "source": [
    "yrs_add = 18\n",
    "months_add = 18*12\n",
    "\n",
    "# ct_data.withColumn(\"DATE_18\", add_months(to_date(col(\"Voters_BirthDate\")), months_add)).select([\"DATE_18\"]).show(10)\n",
    "ct_data = ct_data.withColumn(\"DATE_18\", add_months(to_date(col(\"Voters_BirthDate\"),\"MM/dd/yyyy\"), months_add))\n",
    "\n",
    "ct_data.select([\"Voters_BirthDate\", \"DATE_18\"]).show(10)"
   ]
  },
  {
   "cell_type": "markdown",
   "id": "e96ace63-7c24-44a5-b025-963c1780622e",
   "metadata": {},
   "source": [
    "Check the number of people in our dataset that don't have a birthdate. See if it'll affect our end calculation. Nope."
   ]
  },
  {
   "cell_type": "code",
   "execution_count": 11,
   "id": "3a52dee1-3203-4af7-8c75-de00a6886e50",
   "metadata": {},
   "outputs": [
    {
     "name": "stderr",
     "output_type": "stream",
     "text": [
      "[Stage 13:=======================================================>(67 + 1) / 68]\r"
     ]
    },
    {
     "name": "stdout",
     "output_type": "stream",
     "text": [
      "0.00023425833076584635\n"
     ]
    },
    {
     "name": "stderr",
     "output_type": "stream",
     "text": [
      "                                                                                \r"
     ]
    }
   ],
   "source": [
    "bday_subset = ct_data.select([\"Voters_BirthDate\"])\n",
    "total_count = bday_subset.count()\n",
    "not_nan_count = bday_subset.dropna().count()\n",
    "nan_proportion = 1 - not_nan_count / total_count\n",
    "print(nan_proportion)"
   ]
  },
  {
   "cell_type": "code",
   "execution_count": 12,
   "id": "53653a3f-b788-49dd-8e8c-002dcac05d97",
   "metadata": {},
   "outputs": [
    {
     "name": "stderr",
     "output_type": "stream",
     "text": [
      "[Stage 19:=====================================================>  (41 + 2) / 43]\r"
     ]
    },
    {
     "name": "stdout",
     "output_type": "stream",
     "text": [
      "+-------+\n",
      "|YEAR_18|\n",
      "+-------+\n",
      "+-------+\n",
      "\n"
     ]
    },
    {
     "name": "stderr",
     "output_type": "stream",
     "text": [
      "                                                                                \r"
     ]
    }
   ],
   "source": [
    "ct_data = ct_data.dropna(subset = \"Voters_BirthDate\")\n",
    "ct_data = ct_data.withColumn(\"YEAR_18\", year(\"DATE_18\"))\n",
    "target_month_day = \"11-03\"\n",
    "ct_data = ct_data.withColumn(\"comparator_date\", to_date(concat(col(\"YEAR_18\"), lit(\"-\"), lit(target_month_day))))\n",
    "ct_data = ct_data.withColumn(\"YEAR_ELIGIBLE_TO_VOTE\", \\\n",
    "                             when(col(\"DATE_18\")<=col(\"comparator_date\"), col(\"YEAR_18\")) \\\n",
    "                             .otherwise(col(\"YEAR_18\") + 1)\n",
    "                            )\n",
    "\n",
    "# check no missing vals:\n",
    "ct_data.where(col(\"YEAR_18\").isNull()).select(\"YEAR_18\").show(10)"
   ]
  },
  {
   "cell_type": "code",
   "execution_count": 13,
   "id": "619d3f9e-fef7-40e9-991c-3d911bef1910",
   "metadata": {},
   "outputs": [
    {
     "name": "stderr",
     "output_type": "stream",
     "text": [
      "[Stage 23:=======================================================>(67 + 1) / 68]\r"
     ]
    },
    {
     "name": "stdout",
     "output_type": "stream",
     "text": [
      "0.5166285100059106\n"
     ]
    },
    {
     "name": "stderr",
     "output_type": "stream",
     "text": [
      "                                                                                \r"
     ]
    }
   ],
   "source": [
    "bday_subset = ct_data.select([\"General_2012\"])\n",
    "total_count = bday_subset.count()\n",
    "not_nan_count = bday_subset.dropna().count()\n",
    "nan_proportion = 1 - not_nan_count / total_count\n",
    "print(nan_proportion)"
   ]
  },
  {
   "cell_type": "markdown",
   "id": "ca511f88-052d-4bab-bd3a-86327e253934",
   "metadata": {},
   "source": [
    "Recompute the general election voter turnout based on those that were ELIGIBLE to vote at the time:"
   ]
  },
  {
   "cell_type": "code",
   "execution_count": 17,
   "id": "ea2f18e3-8bf2-41bf-af6f-ce89b86564bc",
   "metadata": {},
   "outputs": [
    {
     "name": "stderr",
     "output_type": "stream",
     "text": [
      "[Stage 37:=======================================================>(67 + 1) / 68]\r"
     ]
    },
    {
     "name": "stdout",
     "output_type": "stream",
     "text": [
      "+----------+---------------------------------------------------+----------------+\n",
      "|    County|ElectionReturns_G12CountyTurnoutAllRegisteredVoters|proportion_voted|\n",
      "+----------+---------------------------------------------------+----------------+\n",
      "|    WILSON|                                                68%|          0.5451|\n",
      "|WILLIAMSON|                                                72%|         0.56744|\n",
      "|     WHITE|                                                56%|         0.53194|\n",
      "|   WEAKLEY|                                                59%|         0.62311|\n",
      "|     WAYNE|                                                52%|         0.56215|\n",
      "|WASHINGTON|                                                63%|         0.55126|\n",
      "|    WARREN|                                                57%|         0.55578|\n",
      "| VAN BUREN|                                                50%|         0.47384|\n",
      "|     UNION|                                                53%|         0.45972|\n",
      "|    UNICOI|                                                62%|          0.5773|\n",
      "| TROUSDALE|                                                54%|         0.51388|\n",
      "|    TIPTON|                                                60%|         0.59299|\n",
      "|    SUMNER|                                                64%|         0.53808|\n",
      "|  SULLIVAN|                                                68%|         0.55122|\n",
      "|   STEWART|                                                59%|         0.52594|\n",
      "|     SMITH|                                                56%|         0.55789|\n",
      "|    SHELBY|                                                62%|         0.61136|\n",
      "|    SEVIER|                                                59%|         0.46059|\n",
      "|SEQUATCHIE|                                                60%|         0.46198|\n",
      "|     SCOTT|                                                46%|         0.46466|\n",
      "|RUTHERFORD|                                                64%|         0.52627|\n",
      "| ROBERTSON|                                                65%|         0.56747|\n",
      "|     ROANE|                                                60%|         0.57219|\n",
      "|      RHEA|                                                54%|         0.49985|\n",
      "|    PUTNAM|                                                58%|         0.53868|\n",
      "|      POLK|                                                54%|         0.43346|\n",
      "|   PICKETT|                                                60%|         0.56108|\n",
      "|     PERRY|                                                48%|         0.47245|\n",
      "|   OVERTON|                                                54%|         0.51765|\n",
      "|     OBION|                                                59%|         0.61439|\n",
      "|    MORGAN|                                                56%|         0.52933|\n",
      "|     MOORE|                                                61%|         0.54112|\n",
      "|MONTGOMERY|                                                55%|         0.44669|\n",
      "|    MONROE|                                                53%|         0.49214|\n",
      "|     MEIGS|                                                52%|         0.48015|\n",
      "|   MCNAIRY|                                                63%|         0.58429|\n",
      "|    MCMINN|                                                59%|         0.54047|\n",
      "|     MAURY|                                                73%|         0.52262|\n",
      "|  MARSHALL|                                                59%|         0.52783|\n",
      "|    MARION|                                                53%|         0.54212|\n",
      "|   MADISON|                                                63%|         0.63818|\n",
      "|     MACON|                                                52%|         0.50929|\n",
      "|    LOUDON|                                                67%|         0.55043|\n",
      "|   LINCOLN|                                                65%|         0.58444|\n",
      "|     LEWIS|                                                58%|         0.53949|\n",
      "|  LAWRENCE|                                                59%|         0.61074|\n",
      "|LAUDERDALE|                                                61%|         0.59795|\n",
      "|      LAKE|                                                50%|           0.558|\n",
      "|      KNOX|                                                61%|         0.56854|\n",
      "|   JOHNSON|                                                55%|         0.51924|\n",
      "+----------+---------------------------------------------------+----------------+\n",
      "only showing top 50 rows\n",
      "\n"
     ]
    },
    {
     "name": "stderr",
     "output_type": "stream",
     "text": [
      "                                                                                \r"
     ]
    }
   ],
   "source": [
    "ct_data_temp = ct_data.filter(col(\"YEAR_18\")<=2012).fillna(\"N\", subset = [\"General_2012\"])\n",
    "ct_data_temp = ct_data_temp.select([\"General_2012\", \"ElectionReturns_G12CountyTurnoutAllRegisteredVoters\", \"County\"])\n",
    "ct_data_temp = ct_data_temp.dropna()\n",
    "ct_data_temp = ct_data_temp.withColumn(\"voted_general_2012\", when(ct_data_temp.General_2012 == \"Y\",1).otherwise(0))\n",
    "voting_proportion = ct_data_temp.groupBy(['County', \"ElectionReturns_G12CountyTurnoutAllRegisteredVoters\"])\\\n",
    "    .agg(F.round(F.avg(\"voted_general_2012\"),5)\\\n",
    "    .alias(\"proportion_voted\")).sort(['County'], ascending = False)\n",
    "voting_proportion.show(50)"
   ]
  },
  {
   "cell_type": "code",
   "execution_count": 16,
   "id": "901f3791-83a5-4790-91b0-8af5e97cd031",
   "metadata": {},
   "outputs": [
    {
     "name": "stderr",
     "output_type": "stream",
     "text": [
      "                                                                                \r"
     ]
    },
    {
     "data": {
      "image/png": "[encoded data removed]",
      "text/plain": [
       "<Figure size 640x480 with 1 Axes>"
      ]
     },
     "metadata": {},
     "output_type": "display_data"
    }
   ],
   "source": [
    "voting_proportion = voting_proportion.toPandas()\n",
    "plt.scatter(voting_proportion['proportion_voted'], voting_proportion['ElectionReturns_G12CountyTurnoutAllRegisteredVoters'])\n",
    "plt.xlabel('Proportion Voted')\n",
    "plt.ylabel('Election Returns (G12 County Turnout All Registered Voters)')\n",
    "plt.title('Scatterplot of Election Returns vs. Proportion Voted')\n",
    "plt.show()"
   ]
  },
  {
   "cell_type": "markdown",
   "id": "bd65300f-9616-4feb-aff5-05616cfd584b",
   "metadata": {},
   "source": [
    "Ok, now that we know that, let's continue..."
   ]
  },
  {
   "cell_type": "markdown",
   "id": "349556b6-340c-4780-aa75-1dd245a701bf",
   "metadata": {},
   "source": [
    "# READ IN FILE"
   ]
  },
  {
   "cell_type": "code",
   "execution_count": 44,
   "id": "960404af-81cd-4471-bc24-296ee739b8e0",
   "metadata": {},
   "outputs": [],
   "source": [
    "from pyspark.sql import SparkSession\n",
    "\n",
    "spark = SparkSession.builder.appName(\"ReadParquet\").getOrCreate()\n",
    "\n",
    "df = spark.read.parquet(\"TN_parquet\")"
   ]
  },
  {
   "cell_type": "code",
   "execution_count": 45,
   "id": "1b48e83d-7350-4a21-aa57-5c14a69c69ad",
   "metadata": {},
   "outputs": [],
   "source": [
    "# df = drop_null_columns(df, False, threshold = 0.3)"
   ]
  },
  {
   "cell_type": "markdown",
   "id": "f5aca69c-a3c6-40ca-9201-d89a839d3d30",
   "metadata": {},
   "source": [
    "Get a subset of columns and rows."
   ]
  },
  {
   "cell_type": "code",
   "execution_count": 46,
   "id": "d9b7ad89-1af3-4cf0-8fb4-073967f4a3c4",
   "metadata": {},
   "outputs": [],
   "source": [
    "# random.seed(78340)\n",
    "# rand_cols = random.sample(df.columns, k = 30)\n",
    "# dt = df.select(rand_cols)"
   ]
  },
  {
   "cell_type": "code",
   "execution_count": 47,
   "id": "ae9bfc46-a3ec-4d12-b124-3f6e72cfbb96",
   "metadata": {},
   "outputs": [
    {
     "name": "stdout",
     "output_type": "stream",
     "text": [
      "+-------------------------------+\n",
      "|CommercialData_HomePurchaseDate|\n",
      "+-------------------------------+\n",
      "|                           null|\n",
      "|                           null|\n",
      "|                           null|\n",
      "|                           null|\n",
      "|                           null|\n",
      "|                     04/26/2017|\n",
      "|                     04/26/2017|\n",
      "|                     12/03/2012|\n",
      "|                     08/03/2009|\n",
      "|                           null|\n",
      "+-------------------------------+\n",
      "only showing top 10 rows\n",
      "\n"
     ]
    }
   ],
   "source": [
    "columns_starting_with_any_election = [col for col in df.columns if col.startswith(\"AnyElection\")]\n",
    "columns_starting_with_any_election\n",
    "\n",
    "bob = df.select([\"CommercialData_HomePurchaseDate\", \n",
    "                 \"CommercialData_HomePurchasePrice\", \n",
    "                 \"CommercialDataLL_Interest_in_Tennis_In_Household\", \n",
    "                 \"Residence_HHGender_Description\", \n",
    "                 \"MilitaryStatus_Description\", \n",
    "                 *columns_starting_with_any_election])\n",
    "\n",
    "bob.select(\"CommercialData_HomePurchaseDate\").show(10)"
   ]
  },
  {
   "cell_type": "code",
   "execution_count": 48,
   "id": "c429864c-be81-4864-845b-02eec4c35d2a",
   "metadata": {},
   "outputs": [
    {
     "name": "stdout",
     "output_type": "stream",
     "text": [
      "+-------------------------------+--------------------------------+------------------------------------------------+------------------------------+--------------------------+----------------+----------------+----------------+----------------+----------------+----------------+----------------+----------------+----------------+----------------+----------------+\n",
      "|CommercialData_HomePurchaseDate|CommercialData_HomePurchasePrice|CommercialDataLL_Interest_in_Tennis_In_Household|Residence_HHGender_Description|MilitaryStatus_Description|AnyElection_2021|AnyElection_2019|AnyElection_2017|AnyElection_2015|AnyElection_2013|AnyElection_2011|AnyElection_2009|AnyElection_2007|AnyElection_2005|AnyElection_2003|AnyElection_2001|\n",
      "+-------------------------------+--------------------------------+------------------------------------------------+------------------------------+--------------------------+----------------+----------------+----------------+----------------+----------------+----------------+----------------+----------------+----------------+----------------+----------------+\n",
      "|                           null|                            null|                                            null|          Mixed Gender Hous...|                      null|            null|            null|            null|            null|            null|            null|            null|            null|            null|            null|            null|\n",
      "|                           null|                            null|                                            null|          Mixed Gender Hous...|                      null|            null|            null|            null|            null|            null|            null|            null|            null|            null|            null|            null|\n",
      "|                           null|                            null|                                            null|          Mixed Gender Hous...|                      null|            null|            null|            null|            null|            null|            null|            null|            null|            null|            null|            null|\n",
      "|                     08/31/2001|                            null|                                            null|          Mixed Gender Hous...|                      null|            null|            null|            null|            null|            null|            null|            null|            null|            null|            null|            null|\n",
      "|                     09/09/2009|                            null|                                            null|          Mixed Gender Hous...|                      null|            null|            null|            null|            null|            null|            null|            null|            null|            null|            null|            null|\n",
      "|                     05/10/2004|                            null|                                            null|          Mixed Gender Hous...|                      null|            null|            null|            null|            null|            null|            null|            null|            null|            null|            null|            null|\n",
      "|                           null|                            null|                                            null|          Female Only House...|                      null|            null|            null|            null|            null|            null|            null|            null|            null|            null|            null|            null|\n",
      "|                     05/25/2012|                         $149000|                                            null|           Male Only Household|                      null|            null|            null|            null|            null|            null|            null|            null|            null|            null|            null|            null|\n",
      "|                     02/22/2017|                          $58000|                                            null|          Mixed Gender Hous...|                      null|            null|            null|            null|            null|            null|            null|            null|            null|            null|            null|            null|\n",
      "|                           null|                            null|                                            null|          Mixed Gender Hous...|                      null|            null|            null|            null|            null|            null|            null|            null|            null|            null|            null|            null|\n",
      "+-------------------------------+--------------------------------+------------------------------------------------+------------------------------+--------------------------+----------------+----------------+----------------+----------------+----------------+----------------+----------------+----------------+----------------+----------------+----------------+\n",
      "only showing top 10 rows\n",
      "\n"
     ]
    }
   ],
   "source": [
    "sal = bob.sample(True, 0.1, seed = 19480384)\n",
    "sal.show(10)"
   ]
  },
  {
   "cell_type": "code",
   "execution_count": 49,
   "id": "bae883b7-62c6-4629-809d-24365007ce5e",
   "metadata": {},
   "outputs": [
    {
     "name": "stderr",
     "output_type": "stream",
     "text": [
      "                                                                                \r"
     ]
    }
   ],
   "source": [
    "sal.write.format(\"parquet\").save(\"TN_parquet_subset\")"
   ]
  },
  {
   "cell_type": "code",
   "execution_count": 50,
   "id": "2ef0246e-1765-46b3-85a9-516e398a80bc",
   "metadata": {},
   "outputs": [],
   "source": [
    "sal = spark.read.parquet(\"TN_parquet_subset\")"
   ]
  },
  {
   "cell_type": "code",
   "execution_count": null,
   "id": "4b3b70a5-3b0c-4bcc-8e80-3696936b19ed",
   "metadata": {},
   "outputs": [],
   "source": [
    "for i in sal.columns:\n",
    "    print(sal.select(i).distinct().collect())"
   ]
  },
  {
   "cell_type": "markdown",
   "id": "4f6b1672-5a76-482b-ae8c-eacc283108a6",
   "metadata": {},
   "source": [
    "Replace NULL/EMPTY values with \"N\""
   ]
  },
  {
   "cell_type": "code",
   "execution_count": 52,
   "id": "a1f19293-2369-4255-8c64-a9ef0f4302b5",
   "metadata": {},
   "outputs": [],
   "source": [
    "sal = sal.fillna(\"N\", subset = [col for col in sal.columns if sal.select(col).dtypes[0][1] == \"string\"])"
   ]
  },
  {
   "cell_type": "code",
   "execution_count": 53,
   "id": "13825e0b-e81a-4e3d-b5b4-c47dbf861c56",
   "metadata": {},
   "outputs": [
    {
     "name": "stdout",
     "output_type": "stream",
     "text": [
      "root\n",
      " |-- CommercialData_HomePurchaseDate: string (nullable = false)\n",
      " |-- CommercialData_HomePurchasePrice: string (nullable = false)\n",
      " |-- CommercialDataLL_Interest_in_Tennis_In_Household: string (nullable = false)\n",
      " |-- Residence_HHGender_Description: string (nullable = false)\n",
      " |-- MilitaryStatus_Description: string (nullable = false)\n",
      " |-- AnyElection_2021: string (nullable = false)\n",
      " |-- AnyElection_2019: string (nullable = false)\n",
      " |-- AnyElection_2017: string (nullable = false)\n",
      " |-- AnyElection_2015: string (nullable = false)\n",
      " |-- AnyElection_2013: string (nullable = false)\n",
      " |-- AnyElection_2011: string (nullable = false)\n",
      " |-- AnyElection_2009: string (nullable = false)\n",
      " |-- AnyElection_2007: string (nullable = false)\n",
      " |-- AnyElection_2005: string (nullable = false)\n",
      " |-- AnyElection_2003: string (nullable = false)\n",
      " |-- AnyElection_2001: string (nullable = false)\n",
      "\n"
     ]
    }
   ],
   "source": [
    "sal.printSchema()"
   ]
  },
  {
   "cell_type": "code",
   "execution_count": 54,
   "id": "207ff872-2918-4ef1-97dc-834a8d5ac344",
   "metadata": {},
   "outputs": [
    {
     "data": {
      "text/plain": [
       "[Row(CommercialData_HomePurchasePrice='$345000'),\n",
       " Row(CommercialData_HomePurchasePrice='$453000'),\n",
       " Row(CommercialData_HomePurchasePrice='$453000'),\n",
       " Row(CommercialData_HomePurchasePrice='$306000'),\n",
       " Row(CommercialData_HomePurchasePrice='$363000'),\n",
       " Row(CommercialData_HomePurchasePrice='$165000'),\n",
       " Row(CommercialData_HomePurchasePrice='$275000'),\n",
       " Row(CommercialData_HomePurchasePrice='N'),\n",
       " Row(CommercialData_HomePurchasePrice='$355000'),\n",
       " Row(CommercialData_HomePurchasePrice='$355000'),\n",
       " Row(CommercialData_HomePurchasePrice='$441000'),\n",
       " Row(CommercialData_HomePurchasePrice='$78000'),\n",
       " Row(CommercialData_HomePurchasePrice='$325000'),\n",
       " Row(CommercialData_HomePurchasePrice='N'),\n",
       " Row(CommercialData_HomePurchasePrice='N'),\n",
       " Row(CommercialData_HomePurchasePrice='N'),\n",
       " Row(CommercialData_HomePurchasePrice='N'),\n",
       " Row(CommercialData_HomePurchasePrice='N'),\n",
       " Row(CommercialData_HomePurchasePrice='N'),\n",
       " Row(CommercialData_HomePurchasePrice='N'),\n",
       " Row(CommercialData_HomePurchasePrice='N'),\n",
       " Row(CommercialData_HomePurchasePrice='N'),\n",
       " Row(CommercialData_HomePurchasePrice='N'),\n",
       " Row(CommercialData_HomePurchasePrice='N'),\n",
       " Row(CommercialData_HomePurchasePrice='N'),\n",
       " Row(CommercialData_HomePurchasePrice='N'),\n",
       " Row(CommercialData_HomePurchasePrice='N'),\n",
       " Row(CommercialData_HomePurchasePrice='N'),\n",
       " Row(CommercialData_HomePurchasePrice='N'),\n",
       " Row(CommercialData_HomePurchasePrice='N')]"
      ]
     },
     "execution_count": 54,
     "metadata": {},
     "output_type": "execute_result"
    }
   ],
   "source": [
    "sal.select(\"CommercialData_HomePurchasePrice\").head(30)"
   ]
  },
  {
   "cell_type": "code",
   "execution_count": 55,
   "id": "9c715a9c-b3d5-466b-8802-5eb50bbf59cc",
   "metadata": {},
   "outputs": [],
   "source": [
    "sal = sal.withColumn(\"CommercialData_HomePurchasePrice\", \n",
    "                   F.when(F.col(\"CommercialData_HomePurchasePrice\").isin(\"N\", \"\"), F.lit(None)).otherwise(\n",
    "                   F.regexp_replace(F.col(\"CommercialData_HomePurchasePrice\"), \"\\$\", \"\").cast(\"double\")))"
   ]
  },
  {
   "cell_type": "code",
   "execution_count": 56,
   "id": "8126cf40-2205-4444-8c98-b608b946209d",
   "metadata": {},
   "outputs": [
    {
     "name": "stderr",
     "output_type": "stream",
     "text": [
      "                                                                                \r"
     ]
    },
    {
     "name": "stdout",
     "output_type": "stream",
     "text": [
      "+----------------+-------------------+\n",
      "|AnyElection_2001|Home Purchase Price|\n",
      "+----------------+-------------------+\n",
      "|               Y|           151235.8|\n",
      "|               N|           207151.8|\n",
      "+----------------+-------------------+\n",
      "\n"
     ]
    },
    {
     "name": "stderr",
     "output_type": "stream",
     "text": [
      "                                                                                \r"
     ]
    },
    {
     "name": "stdout",
     "output_type": "stream",
     "text": [
      "+----------------+-------------------+\n",
      "|AnyElection_2003|Home Purchase Price|\n",
      "+----------------+-------------------+\n",
      "|               Y|           181859.3|\n",
      "|               N|           207077.7|\n",
      "+----------------+-------------------+\n",
      "\n",
      "+----------------+-------------------+\n",
      "|AnyElection_2005|Home Purchase Price|\n",
      "+----------------+-------------------+\n",
      "|               Y|           186745.5|\n",
      "|               N|           206713.2|\n",
      "+----------------+-------------------+\n",
      "\n"
     ]
    },
    {
     "name": "stderr",
     "output_type": "stream",
     "text": [
      "                                                                                \r"
     ]
    },
    {
     "name": "stdout",
     "output_type": "stream",
     "text": [
      "+----------------+-------------------+\n",
      "|AnyElection_2007|Home Purchase Price|\n",
      "+----------------+-------------------+\n",
      "|               Y|           201393.7|\n",
      "|               N|           206419.6|\n",
      "+----------------+-------------------+\n",
      "\n",
      "+----------------+-------------------+\n",
      "|AnyElection_2009|Home Purchase Price|\n",
      "+----------------+-------------------+\n",
      "|               Y|           199424.0|\n",
      "|               N|           206503.2|\n",
      "+----------------+-------------------+\n",
      "\n",
      "+----------------+-------------------+\n",
      "|AnyElection_2011|Home Purchase Price|\n",
      "+----------------+-------------------+\n",
      "|               Y|           192994.1|\n",
      "|               N|           206766.9|\n",
      "+----------------+-------------------+\n",
      "\n",
      "+----------------+-------------------+\n",
      "|AnyElection_2013|Home Purchase Price|\n",
      "+----------------+-------------------+\n",
      "|               Y|           206807.1|\n",
      "|               N|           206081.9|\n",
      "+----------------+-------------------+\n",
      "\n",
      "+----------------+-------------------+\n",
      "|AnyElection_2015|Home Purchase Price|\n",
      "+----------------+-------------------+\n",
      "|               Y|           233995.9|\n",
      "|               N|           204053.4|\n",
      "+----------------+-------------------+\n",
      "\n",
      "+----------------+-------------------+\n",
      "|AnyElection_2017|Home Purchase Price|\n",
      "+----------------+-------------------+\n",
      "|               Y|           226182.8|\n",
      "|               N|           205650.9|\n",
      "+----------------+-------------------+\n",
      "\n",
      "+----------------+-------------------+\n",
      "|AnyElection_2019|Home Purchase Price|\n",
      "+----------------+-------------------+\n",
      "|               Y|           225373.3|\n",
      "|               N|           204246.2|\n",
      "+----------------+-------------------+\n",
      "\n",
      "+----------------+-------------------+\n",
      "|AnyElection_2021|Home Purchase Price|\n",
      "+----------------+-------------------+\n",
      "|               N|           206104.1|\n",
      "+----------------+-------------------+\n",
      "\n"
     ]
    }
   ],
   "source": [
    "for yr in list(range(2001,2023,2)):\n",
    "    sal.filter(col(\"CommercialData_HomePurchasePrice\").isNotNull())\\\n",
    "    .groupBy(f'AnyElection_{yr}')\\\n",
    "    .agg(F.round(F.avg(\"CommercialData_HomePurchasePrice\"),1)\\\n",
    "    .alias(\"Home Purchase Price\")).show()"
   ]
  },
  {
   "cell_type": "code",
   "execution_count": 57,
   "id": "dbea8dff-3659-43a8-92cd-e0371cf73852",
   "metadata": {},
   "outputs": [],
   "source": [
    "sal = sal.withColumn(\"CommercialData_HomePurchaseDate\", to_date(col(\"CommercialData_HomePurchaseDate\"), \"MM/dd/yyy\"))"
   ]
  },
  {
   "cell_type": "code",
   "execution_count": 58,
   "id": "1d50e6ea-de7b-4a1c-8664-a7f4c575d9a7",
   "metadata": {},
   "outputs": [],
   "source": [
    "sal = sal.withColumn(\"year_bought_house\", year(col(\"CommercialData_HomePurchaseDate\")))"
   ]
  },
  {
   "cell_type": "code",
   "execution_count": 59,
   "id": "17d74d2a-e2c0-49fa-903b-e0aac0141f38",
   "metadata": {},
   "outputs": [
    {
     "name": "stdout",
     "output_type": "stream",
     "text": [
      "root\n",
      " |-- CommercialData_HomePurchaseDate: date (nullable = true)\n",
      " |-- CommercialData_HomePurchasePrice: double (nullable = true)\n",
      " |-- CommercialDataLL_Interest_in_Tennis_In_Household: string (nullable = false)\n",
      " |-- Residence_HHGender_Description: string (nullable = false)\n",
      " |-- MilitaryStatus_Description: string (nullable = false)\n",
      " |-- AnyElection_2021: string (nullable = false)\n",
      " |-- AnyElection_2019: string (nullable = false)\n",
      " |-- AnyElection_2017: string (nullable = false)\n",
      " |-- AnyElection_2015: string (nullable = false)\n",
      " |-- AnyElection_2013: string (nullable = false)\n",
      " |-- AnyElection_2011: string (nullable = false)\n",
      " |-- AnyElection_2009: string (nullable = false)\n",
      " |-- AnyElection_2007: string (nullable = false)\n",
      " |-- AnyElection_2005: string (nullable = false)\n",
      " |-- AnyElection_2003: string (nullable = false)\n",
      " |-- AnyElection_2001: string (nullable = false)\n",
      " |-- year_bought_house: integer (nullable = true)\n",
      "\n"
     ]
    }
   ],
   "source": [
    "sal.printSchema()"
   ]
  },
  {
   "cell_type": "code",
   "execution_count": 60,
   "id": "e4899159-6e0f-47ff-8714-33124f66cf7c",
   "metadata": {},
   "outputs": [
    {
     "name": "stdout",
     "output_type": "stream",
     "text": [
      "+----+-----+-----------------+--------------+------+--------------------+--------+\n",
      "|year|voted|year_bought_house|purchase_price|tennis|           hh_gender|military|\n",
      "+----+-----+-----------------+--------------+------+--------------------+--------+\n",
      "|2021|    N|             2016|      345000.0|     N|Mixed Gender Hous...|       N|\n",
      "|2019|    Y|             2016|      345000.0|     N|Mixed Gender Hous...|       N|\n",
      "|2017|    N|             2016|      345000.0|     N|Mixed Gender Hous...|       N|\n",
      "|2015|    N|             2016|      345000.0|     N|Mixed Gender Hous...|       N|\n",
      "|2013|    Y|             2016|      345000.0|     N|Mixed Gender Hous...|       N|\n",
      "|2011|    N|             2016|      345000.0|     N|Mixed Gender Hous...|       N|\n",
      "|2009|    Y|             2016|      345000.0|     N|Mixed Gender Hous...|       N|\n",
      "|2007|    N|             2016|      345000.0|     N|Mixed Gender Hous...|       N|\n",
      "|2005|    N|             2016|      345000.0|     N|Mixed Gender Hous...|       N|\n",
      "|2003|    N|             2016|      345000.0|     N|Mixed Gender Hous...|       N|\n",
      "+----+-----+-----------------+--------------+------+--------------------+--------+\n",
      "only showing top 10 rows\n",
      "\n"
     ]
    }
   ],
   "source": [
    "from pyspark.sql.functions import col, expr\n",
    "\n",
    "# Select the necessary columns\n",
    "df_selected = sal.select(col(\"year_bought_house\"), \n",
    "                col(\"CommercialData_HomePurchasePrice\"), \n",
    "                col(\"CommercialDataLL_Interest_in_Tennis_In_Household\"),\n",
    "                col(\"Residence_HHGender_Description\"),\n",
    "                col(\"MilitaryStatus_Description\"),\n",
    "                col(\"AnyElection_2021\"), col(\"AnyElection_2019\"), \n",
    "                col(\"AnyElection_2017\"), col(\"AnyElection_2015\"), \n",
    "                col(\"AnyElection_2013\"), col(\"AnyElection_2011\"), \n",
    "                col(\"AnyElection_2009\"), col(\"AnyElection_2007\"), \n",
    "                col(\"AnyElection_2005\"), col(\"AnyElection_2003\"), \n",
    "                col(\"AnyElection_2001\"))\n",
    "\n",
    "df_long = df_selected.select(\n",
    "    expr(\"\"\"stack(11, \n",
    "                2021, AnyElection_2021,\n",
    "                2019, AnyElection_2019,\n",
    "                2017, AnyElection_2017,\n",
    "                2015, AnyElection_2015,\n",
    "                2013, AnyElection_2013,\n",
    "                2011, AnyElection_2011,\n",
    "                2009, AnyElection_2009,\n",
    "                2007, AnyElection_2007,\n",
    "                2005, AnyElection_2005,\n",
    "                2003, AnyElection_2003,\n",
    "                2001, AnyElection_2001)\n",
    "                as (year, voted)\"\"\"),\n",
    "            col(\"year_bought_house\"),\n",
    "            col(\"CommercialData_HomePurchasePrice\").alias(\"purchase_price\"),\n",
    "            col(\"CommercialDataLL_Interest_in_Tennis_In_Household\").alias(\"tennis\"),\n",
    "            col(\"Residence_HHGender_Description\").alias(\"hh_gender\"),\n",
    "            col(\"MilitaryStatus_Description\").alias(\"military\"))\n",
    "df_long.show(10)"
   ]
  },
  {
   "cell_type": "code",
   "execution_count": 61,
   "id": "292cd9be-342c-48f7-9bf9-9d8569a32819",
   "metadata": {},
   "outputs": [
    {
     "name": "stdout",
     "output_type": "stream",
     "text": [
      "+----+-----+-----------------+--------------+------+--------------------+--------+----------------------+\n",
      "|year|voted|year_bought_house|purchase_price|tennis|           hh_gender|military|contemp_home_ownership|\n",
      "+----+-----+-----------------+--------------+------+--------------------+--------+----------------------+\n",
      "|2021|    N|             2016|      345000.0|     N|Mixed Gender Hous...|       N|                  true|\n",
      "|2019|    Y|             2016|      345000.0|     N|Mixed Gender Hous...|       N|                  true|\n",
      "|2017|    N|             2016|      345000.0|     N|Mixed Gender Hous...|       N|                  true|\n",
      "|2015|    N|             2016|      345000.0|     N|Mixed Gender Hous...|       N|                 false|\n",
      "|2013|    Y|             2016|      345000.0|     N|Mixed Gender Hous...|       N|                 false|\n",
      "|2011|    N|             2016|      345000.0|     N|Mixed Gender Hous...|       N|                 false|\n",
      "|2009|    Y|             2016|      345000.0|     N|Mixed Gender Hous...|       N|                 false|\n",
      "|2007|    N|             2016|      345000.0|     N|Mixed Gender Hous...|       N|                 false|\n",
      "|2005|    N|             2016|      345000.0|     N|Mixed Gender Hous...|       N|                 false|\n",
      "|2003|    N|             2016|      345000.0|     N|Mixed Gender Hous...|       N|                 false|\n",
      "+----+-----+-----------------+--------------+------+--------------------+--------+----------------------+\n",
      "only showing top 10 rows\n",
      "\n"
     ]
    }
   ],
   "source": [
    "df_long = df_long.withColumn(\"contemp_home_ownership\", col(\"year_bought_house\")<=col(\"year\"))\n",
    "df_long.filter(col(\"contemp_home_ownership\").isNotNull()).show(10)"
   ]
  },
  {
   "cell_type": "code",
   "execution_count": 62,
   "id": "de7c1aad-f7f1-418b-8f0f-3989f8d542ce",
   "metadata": {},
   "outputs": [],
   "source": [
    "# voter turnout across time (proportion of those who vote) by household composition, and at-the-time home ownership:\n",
    "\n",
    "df_long = df_long.fillna(False, subset = [\"contemp_home_ownership\"])\n",
    "df_long = df_long.withColumn(\"voted_numeric\", when(df_long.voted == \"Y\",1)\n",
    "                             .otherwise(0))"
   ]
  },
  {
   "cell_type": "code",
   "execution_count": 63,
   "id": "b73bee4a-8e4a-4fdb-954e-02c4031d273c",
   "metadata": {},
   "outputs": [
    {
     "name": "stderr",
     "output_type": "stream",
     "text": [
      "[Stage 319:==========================================>              (3 + 1) / 4]\r"
     ]
    },
    {
     "name": "stdout",
     "output_type": "stream",
     "text": [
      "+----+--------------------+----------------------+----------------+\n",
      "|year|           hh_gender|contemp_home_ownership|proportion_voted|\n",
      "+----+--------------------+----------------------+----------------+\n",
      "|2021|Mixed Gender Hous...|                  true|             0.0|\n",
      "|2021| Male Only Household|                  true|             0.0|\n",
      "|2021|Female Only House...|                  true|             0.0|\n",
      "|2021|    Cannot Determine|                  true|             0.0|\n",
      "|2021|Mixed Gender Hous...|                 false|             0.0|\n",
      "|2021| Male Only Household|                 false|             0.0|\n",
      "|2021|Female Only House...|                 false|             0.0|\n",
      "|2021|    Cannot Determine|                 false|             0.0|\n",
      "|2019|Mixed Gender Hous...|                  true|         0.08378|\n",
      "|2019| Male Only Household|                  true|         0.08227|\n",
      "|2019|Female Only House...|                  true|         0.09783|\n",
      "|2019|    Cannot Determine|                  true|         0.13793|\n",
      "|2019|Mixed Gender Hous...|                 false|         0.07907|\n",
      "|2019| Male Only Household|                 false|         0.05775|\n",
      "|2019|Female Only House...|                 false|         0.07127|\n",
      "|2019|    Cannot Determine|                 false|         0.04918|\n",
      "|2017|Mixed Gender Hous...|                  true|         0.02621|\n",
      "|2017| Male Only Household|                  true|         0.01986|\n",
      "|2017|Female Only House...|                  true|         0.02122|\n",
      "|2017|    Cannot Determine|                  true|             0.0|\n",
      "|2017|Mixed Gender Hous...|                 false|         0.01882|\n",
      "|2017| Male Only Household|                 false|         0.01147|\n",
      "|2017|Female Only House...|                 false|         0.01321|\n",
      "|2017|    Cannot Determine|                 false|         0.03175|\n",
      "|2015|Mixed Gender Hous...|                  true|          0.0724|\n",
      "|2015| Male Only Household|                  true|         0.07021|\n",
      "|2015|Female Only House...|                  true|         0.09331|\n",
      "|2015|    Cannot Determine|                  true|         0.08696|\n",
      "|2015|Mixed Gender Hous...|                 false|         0.05886|\n",
      "|2015| Male Only Household|                 false|         0.04476|\n",
      "|2015|Female Only House...|                 false|         0.05898|\n",
      "|2015|    Cannot Determine|                 false|         0.04478|\n",
      "|2013|Mixed Gender Hous...|                  true|         0.04252|\n",
      "|2013| Male Only Household|                  true|         0.03049|\n",
      "|2013|Female Only House...|                  true|         0.03912|\n",
      "|2013|    Cannot Determine|                  true|             0.0|\n",
      "|2013|Mixed Gender Hous...|                 false|         0.02783|\n",
      "|2013| Male Only Household|                 false|         0.01835|\n",
      "|2013|Female Only House...|                 false|         0.02244|\n",
      "|2013|    Cannot Determine|                 false|         0.01471|\n",
      "|2011|Mixed Gender Hous...|                  true|         0.05807|\n",
      "|2011| Male Only Household|                  true|         0.06152|\n",
      "|2011|Female Only House...|                  true|         0.08051|\n",
      "|2011|    Cannot Determine|                  true|         0.09524|\n",
      "|2011|Mixed Gender Hous...|                 false|         0.04483|\n",
      "|2011| Male Only Household|                 false|         0.03593|\n",
      "|2011|Female Only House...|                 false|         0.04923|\n",
      "|2011|    Cannot Determine|                 false|         0.15942|\n",
      "|2009|Mixed Gender Hous...|                  true|          0.0759|\n",
      "|2009| Male Only Household|                  true|         0.07427|\n",
      "|2009|Female Only House...|                  true|         0.08916|\n",
      "|2009|    Cannot Determine|                  true|             0.0|\n",
      "|2009|Mixed Gender Hous...|                 false|         0.05255|\n",
      "|2009| Male Only Household|                 false|         0.04148|\n",
      "|2009|Female Only House...|                 false|         0.05241|\n",
      "|2009|    Cannot Determine|                 false|         0.08571|\n",
      "|2007|Mixed Gender Hous...|                  true|          0.0822|\n",
      "|2007| Male Only Household|                  true|         0.07901|\n",
      "|2007|Female Only House...|                  true|         0.11509|\n",
      "|2007|    Cannot Determine|                  true|         0.15789|\n",
      "|2007|Mixed Gender Hous...|                 false|          0.0577|\n",
      "|2007| Male Only Household|                 false|         0.04806|\n",
      "|2007|Female Only House...|                 false|         0.06819|\n",
      "|2007|    Cannot Determine|                 false|         0.02817|\n",
      "|2005|Mixed Gender Hous...|                  true|         0.05187|\n",
      "|2005| Male Only Household|                  true|         0.04836|\n",
      "|2005|Female Only House...|                  true|         0.05625|\n",
      "|2005|    Cannot Determine|                  true|             0.0|\n",
      "|2005|Mixed Gender Hous...|                 false|         0.02861|\n",
      "|2005| Male Only Household|                 false|         0.02164|\n",
      "|2005|Female Only House...|                 false|         0.02788|\n",
      "|2005|    Cannot Determine|                 false|         0.07042|\n",
      "|2003|Mixed Gender Hous...|                  true|         0.06692|\n",
      "|2003| Male Only Household|                  true|         0.06581|\n",
      "|2003|Female Only House...|                  true|         0.08987|\n",
      "|2003|    Cannot Determine|                  true|         0.05556|\n",
      "|2003|Mixed Gender Hous...|                 false|          0.0371|\n",
      "|2003| Male Only Household|                 false|         0.03184|\n",
      "|2003|Female Only House...|                 false|          0.0444|\n",
      "|2003|    Cannot Determine|                 false|         0.11111|\n",
      "|2001|Mixed Gender Hous...|                  true|         0.04286|\n",
      "|2001| Male Only Household|                  true|         0.03853|\n",
      "|2001|Female Only House...|                  true|         0.05129|\n",
      "|2001|    Cannot Determine|                  true|          0.1875|\n",
      "|2001|Mixed Gender Hous...|                 false|         0.01896|\n",
      "|2001| Male Only Household|                 false|         0.01435|\n",
      "|2001|Female Only House...|                 false|         0.01738|\n",
      "|2001|    Cannot Determine|                 false|         0.02703|\n",
      "+----+--------------------+----------------------+----------------+\n",
      "\n"
     ]
    },
    {
     "name": "stderr",
     "output_type": "stream",
     "text": [
      "                                                                                \r"
     ]
    }
   ],
   "source": [
    "tab_voter_turnout_home_ownership_proportion = df_long.groupBy(['year','hh_gender','contemp_home_ownership'])\\\n",
    "    .agg(F.round(F.avg(\"voted_numeric\"),5)\\\n",
    "    .alias(\"proportion_voted\")).sort(['year','contemp_home_ownership','hh_gender'], ascending = False)\n",
    "\n",
    "tab_voter_turnout_home_ownership_proportion.show(500)"
   ]
  },
  {
   "cell_type": "code",
   "execution_count": 64,
   "id": "9500c4ee-7da1-4a3e-b68a-830258f2fc99",
   "metadata": {},
   "outputs": [
    {
     "name": "stdout",
     "output_type": "stream",
     "text": [
      "+----+-----+-----------------+--------------+------+---------+--------+----------------------+-------------+\n",
      "|year|voted|year_bought_house|purchase_price|tennis|hh_gender|military|contemp_home_ownership|voted_numeric|\n",
      "+----+-----+-----------------+--------------+------+---------+--------+----------------------+-------------+\n",
      "+----+-----+-----------------+--------------+------+---------+--------+----------------------+-------------+\n",
      "\n"
     ]
    },
    {
     "name": "stderr",
     "output_type": "stream",
     "text": [
      "                                                                                \r"
     ]
    },
    {
     "data": {
      "text/plain": [
       "2772"
      ]
     },
     "execution_count": 64,
     "metadata": {},
     "output_type": "execute_result"
    }
   ],
   "source": [
    "df_long.filter((col(\"tennis\") == \"Yes\") & (col(\"military\") == \"Military\")).show(100)\n",
    "df.filter((col(\"CommercialDataLL_Interest_in_Tennis_In_Household\") == \"Yes\") & (col(\"MilitaryStatus_Description\") == \"Military\")).count()\n",
    "df.filter((col(\"CommercialDataLL_Interest_in_Fishing_In_Household\") == \"Yes\") & (col(\"MilitaryStatus_Description\") == \"Military\")).count()\n",
    "df.filter((col(\"CommercialDataLL_Investor\") == \"Yes\") & (col(\"CommercialDataLL_Veteran\") == \"Yes\")).count()\n",
    "df.filter((col(\"CommercialDataLL_Interest_in_Tennis_In_Household\") == \"Yes\") & (col(\"CommercialDataLL_Veteran\") == \"Yes\")).count()"
   ]
  },
  {
   "cell_type": "code",
   "execution_count": 65,
   "id": "ee14dbe7-5635-4565-808e-32a08fa739df",
   "metadata": {},
   "outputs": [
    {
     "name": "stderr",
     "output_type": "stream",
     "text": [
      "                                                                                \r"
     ]
    },
    {
     "name": "stdout",
     "output_type": "stream",
     "text": [
      "+----+------+--------+----------------+\n",
      "|year|tennis|military|proportion_voted|\n",
      "+----+------+--------+----------------+\n",
      "|2021|   Yes|Civilian|             0.0|\n",
      "|2021|    No|Civilian|             0.0|\n",
      "|2019|   Yes|Civilian|         0.10233|\n",
      "|2019|    No|Civilian|         0.07795|\n",
      "|2017|   Yes|Civilian|         0.03315|\n",
      "|2017|    No|Civilian|         0.01899|\n",
      "|2015|   Yes|Civilian|         0.08994|\n",
      "|2015|    No|Civilian|         0.06195|\n",
      "|2013|   Yes|Civilian|         0.04728|\n",
      "|2013|    No|Civilian|         0.02892|\n",
      "|2011|   Yes|Civilian|         0.07408|\n",
      "|2011|    No|Civilian|         0.04842|\n",
      "|2009|   Yes|Civilian|         0.08792|\n",
      "|2009|    No|Civilian|         0.05629|\n",
      "|2007|   Yes|Civilian|         0.09743|\n",
      "|2007|    No|Civilian|         0.06393|\n",
      "|2005|   Yes|Civilian|         0.05477|\n",
      "|2005|    No|Civilian|         0.03112|\n",
      "|2003|   Yes|Civilian|         0.06601|\n",
      "|2003|    No|Civilian|         0.04201|\n",
      "|2001|   Yes|Civilian|         0.03805|\n",
      "|2001|    No|Civilian|         0.02037|\n",
      "+----+------+--------+----------------+\n",
      "\n"
     ]
    },
    {
     "name": "stderr",
     "output_type": "stream",
     "text": [
      "                                                                                \r"
     ]
    },
    {
     "data": {
      "image/png": "[encoded data removed]",
      "text/plain": [
       "<Figure size 1500x500 with 2 Axes>"
      ]
     },
     "metadata": {},
     "output_type": "display_data"
    }
   ],
   "source": [
    "tab_tennis_military = df_long.groupBy(['year','tennis','military'])\\\n",
    "    .agg(F.round(F.avg(\"voted_numeric\"),5)\\\n",
    "    .alias(\"proportion_voted\")).sort(['year','tennis','military'], ascending = False)\n",
    "\n",
    "tab_tennis_military = tab_tennis_military.withColumn(\"military\", when(tab_tennis_military.military == \"N\", \"Civilian\").otherwise(tab_tennis_military.military))\n",
    "tab_tennis_military = tab_tennis_military.withColumn(\"tennis\", when(tab_tennis_military.tennis == \"N\", \"No\").otherwise(tab_tennis_military.tennis))\n",
    "\n",
    "tab_tennis_military.show(500)\n",
    "\n",
    "data_pandas = tab_tennis_military.toPandas()\n",
    "\n",
    "fig, axs = plt.subplots(nrows = 1, ncols = 2, figsize = (15, 5), sharey = True)\n",
    "\n",
    "for i, gender in enumerate(data_pandas[\"military\"].unique()):\n",
    "    data_pandas[data_pandas[\"military\"] == gender].pivot_table(index = [\"year\"], columns = \"tennis\", values = \"proportion_voted\").plot(kind = \"barh\", ax = axs[i])\n",
    "    axs[i].set_xlabel(\"Proportion\")\n",
    "    axs[i].set_ylabel(\"Year\")\n",
    "    axs[i].set_title(f\"{gender}\")\n",
    "    axs[i].set_xlim([0, 0.4])\n",
    "    \n",
    "plt.suptitle(\"Proportion of Voters by Year, Tennis Interest, and Military Status\")\n",
    "plt.show()\n",
    "\n",
    "# seems like commercial data doesn't sample those actively in the military:"
   ]
  },
  {
   "cell_type": "code",
   "execution_count": 66,
   "id": "e5252c4b-2425-4471-ac88-64641d6463c6",
   "metadata": {},
   "outputs": [
    {
     "name": "stderr",
     "output_type": "stream",
     "text": [
      "                                                                                \r"
     ]
    },
    {
     "data": {
      "image/png": "[encoded data removed]",
      "text/plain": [
       "<Figure size 1500x500 with 4 Axes>"
      ]
     },
     "metadata": {},
     "output_type": "display_data"
    }
   ],
   "source": [
    "data_pandas = tab_voter_turnout_home_ownership_proportion.toPandas()\n",
    "\n",
    "fig, axs = plt.subplots(nrows = 1, ncols = 4, figsize = (15, 5), sharey = True)\n",
    "\n",
    "for i, gender in enumerate(data_pandas[\"hh_gender\"].unique()):\n",
    "    data_pandas[data_pandas[\"hh_gender\"] == gender].pivot_table(index = [\"year\"], columns = \"contemp_home_ownership\", values = \"proportion_voted\").plot(kind = \"barh\", ax = axs[i])\n",
    "    axs[i].set_xlabel(\"Proportion\")\n",
    "    axs[i].set_ylabel(\"Year\")\n",
    "    axs[i].set_title(f\"{gender}\")\n",
    "    axs[i].set_xlim([0, 0.4])\n",
    "    \n",
    "plt.suptitle(\"Proportion of Voters by Year, Household Gender, and Contemporary Home Ownership\")\n",
    "plt.show()\n",
    "    \n",
    "# ENTIRE PLOT\n",
    "# data_pandas.pivot_table(index=[\"year\", \"hh_gender\"], columns=\"contemp_home_ownership\", values=\"proportion_voted\").plot(kind=\"barh\", figsize = (8,12))\n",
    "# plt.xlabel(\"Proportion\")\n",
    "# plt.title(\"Proportion of Voters by Year, Household Gender, and Contemporary Home Ownership\")\n",
    "# plt.show()\n",
    "\n",
    "# perhaps I'm just capturing the effect of age here?\n",
    "# secular trend of increased voter turnout across time\n",
    "# the GAP in voter turnout among mixed gender households by contemporary home ownership (presumably married) has decreased"
   ]
  },
  {
   "cell_type": "code",
   "execution_count": 67,
   "id": "24311197-2f88-448b-95f7-d8406ec69023",
   "metadata": {},
   "outputs": [
    {
     "name": "stderr",
     "output_type": "stream",
     "text": [
      "                                                                                \r"
     ]
    },
    {
     "name": "stdout",
     "output_type": "stream",
     "text": [
      "+----+------+----------------------+----------------+\n",
      "|year|tennis|contemp_home_ownership|proportion_voted|\n",
      "+----+------+----------------------+----------------+\n",
      "|2021|   Yes|                  true|             0.0|\n",
      "|2021|   Yes|                 false|             0.0|\n",
      "|2021|    No|                  true|             0.0|\n",
      "|2021|    No|                 false|             0.0|\n",
      "|2019|   Yes|                  true|         0.09814|\n",
      "|2019|   Yes|                 false|         0.10623|\n",
      "|2019|    No|                  true|         0.08561|\n",
      "|2019|    No|                 false|         0.07266|\n",
      "|2017|   Yes|                  true|         0.03373|\n",
      "|2017|   Yes|                 false|          0.0327|\n",
      "|2017|    No|                  true|         0.02477|\n",
      "|2017|    No|                 false|         0.01584|\n",
      "|2015|   Yes|                  true|         0.08951|\n",
      "|2015|   Yes|                 false|         0.09022|\n",
      "|2015|    No|                  true|         0.07515|\n",
      "|2015|    No|                 false|         0.05625|\n",
      "|2013|   Yes|                  true|         0.04281|\n",
      "|2013|   Yes|                 false|         0.04975|\n",
      "|2013|    No|                  true|         0.04083|\n",
      "|2013|    No|                 false|         0.02466|\n",
      "|2011|   Yes|                  true|         0.07231|\n",
      "|2011|   Yes|                 false|         0.07495|\n",
      "|2011|    No|                  true|         0.06172|\n",
      "|2011|    No|                 false|         0.04432|\n",
      "|2009|   Yes|                  true|         0.08467|\n",
      "|2009|   Yes|                 false|         0.08936|\n",
      "|2009|    No|                  true|         0.07767|\n",
      "|2009|    No|                 false|         0.05045|\n",
      "|2007|   Yes|                  true|         0.09192|\n",
      "|2007|   Yes|                 false|         0.09964|\n",
      "|2007|    No|                  true|         0.08688|\n",
      "|2007|    No|                 false|          0.0585|\n",
      "|2005|   Yes|                  true|         0.05505|\n",
      "|2005|   Yes|                 false|         0.05468|\n",
      "|2005|    No|                  true|         0.05216|\n",
      "|2005|    No|                 false|         0.02714|\n",
      "|2003|   Yes|                  true|         0.07461|\n",
      "|2003|   Yes|                 false|         0.06385|\n",
      "|2003|    No|                  true|          0.0703|\n",
      "|2003|    No|                 false|         0.03789|\n",
      "|2001|   Yes|                  true|         0.05115|\n",
      "|2001|   Yes|                 false|         0.03549|\n",
      "|2001|    No|                  true|         0.04372|\n",
      "|2001|    No|                 false|         0.01774|\n",
      "+----+------+----------------------+----------------+\n",
      "\n"
     ]
    },
    {
     "name": "stderr",
     "output_type": "stream",
     "text": [
      "                                                                                \r"
     ]
    },
    {
     "data": {
      "image/png": "[encoded data removed]",
      "text/plain": [
       "<Figure size 1500x500 with 2 Axes>"
      ]
     },
     "metadata": {},
     "output_type": "display_data"
    }
   ],
   "source": [
    "tab_tennis_home = df_long.groupBy(['year','tennis','contemp_home_ownership'])\\\n",
    "    .agg(F.round(F.avg(\"voted_numeric\"),5)\\\n",
    "    .alias(\"proportion_voted\")).sort(['year','tennis','contemp_home_ownership'], ascending = False)\n",
    "\n",
    "tab_tennis_home = tab_tennis_home.withColumn(\"tennis\", when(tab_tennis_home.tennis == \"N\", \"No\").otherwise(tab_tennis_home.tennis))\n",
    "\n",
    "tab_tennis_home.show(500)\n",
    "\n",
    "data_pandas = tab_tennis_home.toPandas()\n",
    "\n",
    "fig, axs = plt.subplots(nrows = 1, ncols = 2, figsize = (15, 5), sharey = True)\n",
    "\n",
    "for i, gender in enumerate(data_pandas[\"contemp_home_ownership\"].unique()):\n",
    "    data_pandas[data_pandas[\"contemp_home_ownership\"] == gender].pivot_table(index = [\"year\"], columns = \"tennis\", values = \"proportion_voted\").plot(kind = \"barh\", ax = axs[i])\n",
    "    axs[i].set_xlabel(\"Proportion\")\n",
    "    axs[i].set_ylabel(\"Year\")\n",
    "    axs[i].set_title(f\"{gender}\")\n",
    "    axs[i].set_xlim([0, 0.4])\n",
    "    \n",
    "plt.suptitle(\"Proportion of Voters by Year, Tennis Interest, and Home Ownership Status\")\n",
    "plt.show()"
   ]
  },
  {
   "cell_type": "code",
   "execution_count": 68,
   "id": "511da9cb-9aae-4e34-8e75-7d44cf41664b",
   "metadata": {},
   "outputs": [
    {
     "name": "stderr",
     "output_type": "stream",
     "text": [
      "                                                                                \r"
     ]
    },
    {
     "name": "stdout",
     "output_type": "stream",
     "text": [
      "+----+--------+----------------------+----------------+\n",
      "|year|military|contemp_home_ownership|proportion_voted|\n",
      "+----+--------+----------------------+----------------+\n",
      "|2021|Civilian|                  true|             0.0|\n",
      "|2021|Civilian|                 false|             0.0|\n",
      "|2019|Civilian|                  true|         0.08573|\n",
      "|2019|Civilian|                 false|         0.07291|\n",
      "|2017|Civilian|                  true|         0.02487|\n",
      "|2017|Civilian|                 false|         0.01597|\n",
      "|2015|Civilian|                  true|         0.07531|\n",
      "|2015|Civilian|                 false|          0.0565|\n",
      "|2013|Civilian|                  true|         0.04085|\n",
      "|2013|Civilian|                 false|         0.02484|\n",
      "|2011|Civilian|                  true|         0.06184|\n",
      "|2011|Civilian|                 false|         0.04455|\n",
      "|2009|Civilian|                  true|         0.07776|\n",
      "|2009|Civilian|                 false|         0.05075|\n",
      "|2007|Civilian|                  true|         0.08694|\n",
      "|2007|Civilian|                 false|         0.05881|\n",
      "|2005|Civilian|                  true|         0.05219|\n",
      "|2005|Civilian|                 false|         0.02735|\n",
      "|2003|Civilian|                  true|         0.07035|\n",
      "|2003|Civilian|                 false|         0.03809|\n",
      "|2001|Civilian|                  true|         0.04382|\n",
      "|2001|Civilian|                 false|         0.01788|\n",
      "+----+--------+----------------------+----------------+\n",
      "\n"
     ]
    },
    {
     "name": "stderr",
     "output_type": "stream",
     "text": [
      "                                                                                \r"
     ]
    },
    {
     "data": {
      "image/png": "[encoded data removed]",
      "text/plain": [
       "<Figure size 1500x500 with 2 Axes>"
      ]
     },
     "metadata": {},
     "output_type": "display_data"
    }
   ],
   "source": [
    "tab_military_home = df_long.groupBy(['year','military','contemp_home_ownership'])\\\n",
    "    .agg(F.round(F.avg(\"voted_numeric\"),5)\\\n",
    "    .alias(\"proportion_voted\")).sort(['year','military','contemp_home_ownership'], ascending = False)\n",
    "\n",
    "tab_military_home = tab_military_home.withColumn(\"military\", when(tab_military_home.military == \"N\", \"Civilian\").otherwise(tab_military_home.military))\n",
    "\n",
    "tab_military_home.show(500)\n",
    "\n",
    "data_pandas = tab_military_home.toPandas()\n",
    "\n",
    "fig, axs = plt.subplots(nrows = 1, ncols = 2, figsize = (15, 5), sharey = True)\n",
    "\n",
    "for i, gender in enumerate(data_pandas[\"contemp_home_ownership\"].unique()):\n",
    "    data_pandas[data_pandas[\"contemp_home_ownership\"] == gender].pivot_table(index = [\"year\"], columns = \"military\", values = \"proportion_voted\").plot(kind = \"barh\", ax = axs[i])\n",
    "    axs[i].set_xlabel(\"Proportion\")\n",
    "    axs[i].set_ylabel(\"Year\")\n",
    "    axs[i].set_title(f\"{gender}\")\n",
    "    axs[i].set_xlim([0, 0.4])\n",
    "    \n",
    "plt.suptitle(\"Proportion of Voters by Year, Military Status, and Home Ownership Status\")\n",
    "plt.show()"
   ]
  },
  {
   "cell_type": "code",
   "execution_count": 69,
   "id": "e28fc5cb-265a-4db1-a44d-39a14c2f50e1",
   "metadata": {},
   "outputs": [
    {
     "name": "stderr",
     "output_type": "stream",
     "text": [
      "[Stage 377:==========================================>              (3 + 1) / 4]\r"
     ]
    },
    {
     "name": "stdout",
     "output_type": "stream",
     "text": [
      "+-----------------+-------------------+\n",
      "|year_bought_house|avg(purchase_price)|\n",
      "+-----------------+-------------------+\n",
      "|             1900|           317000.0|\n",
      "|             1965|            20000.0|\n",
      "|             1966|            20000.0|\n",
      "|             1969|            28000.0|\n",
      "|             1971|            46000.0|\n",
      "|             1972| 23333.333333333332|\n",
      "|             1973|            24000.0|\n",
      "|             1974|            33750.0|\n",
      "|             1975| 32222.222222222223|\n",
      "|             1976| 27916.666666666668|\n",
      "|             1977|  45423.07692307692|\n",
      "|             1978|            36375.0|\n",
      "|             1979|  48861.11111111111|\n",
      "|             1980|  52151.51515151515|\n",
      "|             1981|            59400.0|\n",
      "|             1982|  52837.20930232558|\n",
      "|             1983|  46890.90909090909|\n",
      "|             1984|            50000.0|\n",
      "|             1985|         57007.8125|\n",
      "|             1986|  54848.31460674157|\n",
      "|             1987|  72670.78189300411|\n",
      "|             1988|   68486.8154158215|\n",
      "|             1989|  71258.58951175406|\n",
      "|             1990|  68601.30718954248|\n",
      "|             1991|   71826.2910798122|\n",
      "|             1992|    80646.998982706|\n",
      "|             1993|  80859.60960960962|\n",
      "|             1994|            96875.0|\n",
      "|             1995|  96753.39728217426|\n",
      "|             1996|  106605.8802940147|\n",
      "|             1997| 115198.94771456758|\n",
      "|             1998| 120829.69311584186|\n",
      "|             1999| 128433.69734789392|\n",
      "|             2000| 129775.82951173456|\n",
      "|             2001| 142486.38931689778|\n",
      "|             2002| 145121.05751391465|\n",
      "|             2003| 157938.88672635268|\n",
      "|             2004| 164886.30446103108|\n",
      "|             2005| 178419.91753885188|\n",
      "|             2006|   188746.707356248|\n",
      "|             2007|  199570.1861193251|\n",
      "|             2008| 194258.16216216216|\n",
      "|             2009|  186226.2021589794|\n",
      "|             2010| 192458.27372436813|\n",
      "|             2011| 193005.56496491653|\n",
      "|             2012|  203498.1506715982|\n",
      "|             2013| 212599.47255645294|\n",
      "|             2014|  224427.8342692366|\n",
      "|             2015| 228949.66639353856|\n",
      "|             2016|  242174.3281104078|\n",
      "+-----------------+-------------------+\n",
      "only showing top 50 rows\n",
      "\n"
     ]
    },
    {
     "name": "stderr",
     "output_type": "stream",
     "text": [
      "                                                                                \r"
     ]
    }
   ],
   "source": [
    "# see if purchase price is inflation adjusted (NOT INFLATION ADJUSTED):\n",
    "\n",
    "df_long.filter(col(\"purchase_price\").isNotNull()).groupBy(\"year_bought_house\").agg(F.avg(\"purchase_price\")).sort(\"year_bought_house\").show(50)"
   ]
  },
  {
   "cell_type": "code",
   "execution_count": 70,
   "id": "81fca694-9a37-4add-aa74-eb63b961c7c1",
   "metadata": {},
   "outputs": [
    {
     "name": "stdout",
     "output_type": "stream",
     "text": [
      "+----+-----+-----------------+--------------+------+--------------------+--------+----------------------+-------------+\n",
      "|year|voted|year_bought_house|purchase_price|tennis|           hh_gender|military|contemp_home_ownership|voted_numeric|\n",
      "+----+-----+-----------------+--------------+------+--------------------+--------+----------------------+-------------+\n",
      "|2021|    N|             2016|      345000.0|     N|Mixed Gender Hous...|       N|                  true|            0|\n",
      "|2019|    Y|             2016|      345000.0|     N|Mixed Gender Hous...|       N|                  true|            1|\n",
      "|2017|    N|             2016|      345000.0|     N|Mixed Gender Hous...|       N|                  true|            0|\n",
      "|2015|    N|             2016|      345000.0|     N|Mixed Gender Hous...|       N|                 false|            0|\n",
      "|2013|    Y|             2016|      345000.0|     N|Mixed Gender Hous...|       N|                 false|            1|\n",
      "|2011|    N|             2016|      345000.0|     N|Mixed Gender Hous...|       N|                 false|            0|\n",
      "|2009|    Y|             2016|      345000.0|     N|Mixed Gender Hous...|       N|                 false|            1|\n",
      "|2007|    N|             2016|      345000.0|     N|Mixed Gender Hous...|       N|                 false|            0|\n",
      "|2005|    N|             2016|      345000.0|     N|Mixed Gender Hous...|       N|                 false|            0|\n",
      "|2003|    N|             2016|      345000.0|     N|Mixed Gender Hous...|       N|                 false|            0|\n",
      "+----+-----+-----------------+--------------+------+--------------------+--------+----------------------+-------------+\n",
      "only showing top 10 rows\n",
      "\n"
     ]
    }
   ],
   "source": [
    "df_long.show(10)"
   ]
  },
  {
   "cell_type": "code",
   "execution_count": null,
   "id": "eaf701e7-cee3-485f-9c36-b6809f640262",
   "metadata": {},
   "outputs": [],
   "source": []
  }
 ],
 "metadata": {
  "kernelspec": {
   "display_name": "PySpark",
   "language": "python",
   "name": "pyspark"
  },
  "language_info": {
   "codemirror_mode": {
    "name": "ipython",
    "version": 3
   },
   "file_extension": ".py",
   "mimetype": "text/x-python",
   "name": "python",
   "nbconvert_exporter": "python",
   "pygments_lexer": "ipython3",
   "version": "3.8.15"
  }
 },
 "nbformat": 4,
 "nbformat_minor": 5
}